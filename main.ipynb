{
  "nbformat": 4,
  "nbformat_minor": 0,
  "metadata": {
    "colab": {
      "name": "text2poem.ipynb",
      "provenance": [],
      "collapsed_sections": [
        "jMy7DpOtax_8",
        "hBESXajW16Wr",
        "E9VKz7VtakGc",
        "W0LdG06NjwTL"
      ],
      "toc_visible": true
    },
    "kernelspec": {
      "name": "python3",
      "display_name": "Python 3"
    },
    "language_info": {
      "name": "python"
    },
    "widgets": {
      "application/vnd.jupyter.widget-state+json": {
        "f12645d238b34b2fa91591d762b86286": {
          "model_module": "@jupyter-widgets/controls",
          "model_name": "HBoxModel",
          "state": {
            "_view_name": "HBoxView",
            "_dom_classes": [],
            "_model_name": "HBoxModel",
            "_view_module": "@jupyter-widgets/controls",
            "_model_module_version": "1.5.0",
            "_view_count": null,
            "_view_module_version": "1.5.0",
            "box_style": "",
            "layout": "IPY_MODEL_fab9ca06e87f428d9d2e71400a8abc35",
            "_model_module": "@jupyter-widgets/controls",
            "children": [
              "IPY_MODEL_20bcb8e16ce54e4b909109766c6c63ef",
              "IPY_MODEL_37c578d2f7984e46b75d8ebfcb280455"
            ]
          }
        },
        "fab9ca06e87f428d9d2e71400a8abc35": {
          "model_module": "@jupyter-widgets/base",
          "model_name": "LayoutModel",
          "state": {
            "_view_name": "LayoutView",
            "grid_template_rows": null,
            "right": null,
            "justify_content": null,
            "_view_module": "@jupyter-widgets/base",
            "overflow": null,
            "_model_module_version": "1.2.0",
            "_view_count": null,
            "flex_flow": null,
            "width": null,
            "min_width": null,
            "border": null,
            "align_items": null,
            "bottom": null,
            "_model_module": "@jupyter-widgets/base",
            "top": null,
            "grid_column": null,
            "overflow_y": null,
            "overflow_x": null,
            "grid_auto_flow": null,
            "grid_area": null,
            "grid_template_columns": null,
            "flex": null,
            "_model_name": "LayoutModel",
            "justify_items": null,
            "grid_row": null,
            "max_height": null,
            "align_content": null,
            "visibility": null,
            "align_self": null,
            "height": null,
            "min_height": null,
            "padding": null,
            "grid_auto_rows": null,
            "grid_gap": null,
            "max_width": null,
            "order": null,
            "_view_module_version": "1.2.0",
            "grid_template_areas": null,
            "object_position": null,
            "object_fit": null,
            "grid_auto_columns": null,
            "margin": null,
            "display": null,
            "left": null
          }
        },
        "20bcb8e16ce54e4b909109766c6c63ef": {
          "model_module": "@jupyter-widgets/controls",
          "model_name": "FloatProgressModel",
          "state": {
            "_view_name": "ProgressView",
            "style": "IPY_MODEL_e1f2d293b0614881a8058dc4ceebb3d2",
            "_dom_classes": [],
            "description": "100%",
            "_model_name": "FloatProgressModel",
            "bar_style": "success",
            "max": 2250,
            "_view_module": "@jupyter-widgets/controls",
            "_model_module_version": "1.5.0",
            "value": 2250,
            "_view_count": null,
            "_view_module_version": "1.5.0",
            "orientation": "horizontal",
            "min": 0,
            "description_tooltip": null,
            "_model_module": "@jupyter-widgets/controls",
            "layout": "IPY_MODEL_bce75be016324a3fb7cad6d9329f3d0e"
          }
        },
        "37c578d2f7984e46b75d8ebfcb280455": {
          "model_module": "@jupyter-widgets/controls",
          "model_name": "HTMLModel",
          "state": {
            "_view_name": "HTMLView",
            "style": "IPY_MODEL_aeeac91270874051946090d64064c2ca",
            "_dom_classes": [],
            "description": "",
            "_model_name": "HTMLModel",
            "placeholder": "​",
            "_view_module": "@jupyter-widgets/controls",
            "_model_module_version": "1.5.0",
            "value": " 2250/2250 [14:09&lt;00:00,  2.65it/s]",
            "_view_count": null,
            "_view_module_version": "1.5.0",
            "description_tooltip": null,
            "_model_module": "@jupyter-widgets/controls",
            "layout": "IPY_MODEL_a77a37c5653c4b5197a436abd1f71cda"
          }
        },
        "e1f2d293b0614881a8058dc4ceebb3d2": {
          "model_module": "@jupyter-widgets/controls",
          "model_name": "ProgressStyleModel",
          "state": {
            "_view_name": "StyleView",
            "_model_name": "ProgressStyleModel",
            "description_width": "initial",
            "_view_module": "@jupyter-widgets/base",
            "_model_module_version": "1.5.0",
            "_view_count": null,
            "_view_module_version": "1.2.0",
            "bar_color": null,
            "_model_module": "@jupyter-widgets/controls"
          }
        },
        "bce75be016324a3fb7cad6d9329f3d0e": {
          "model_module": "@jupyter-widgets/base",
          "model_name": "LayoutModel",
          "state": {
            "_view_name": "LayoutView",
            "grid_template_rows": null,
            "right": null,
            "justify_content": null,
            "_view_module": "@jupyter-widgets/base",
            "overflow": null,
            "_model_module_version": "1.2.0",
            "_view_count": null,
            "flex_flow": null,
            "width": null,
            "min_width": null,
            "border": null,
            "align_items": null,
            "bottom": null,
            "_model_module": "@jupyter-widgets/base",
            "top": null,
            "grid_column": null,
            "overflow_y": null,
            "overflow_x": null,
            "grid_auto_flow": null,
            "grid_area": null,
            "grid_template_columns": null,
            "flex": null,
            "_model_name": "LayoutModel",
            "justify_items": null,
            "grid_row": null,
            "max_height": null,
            "align_content": null,
            "visibility": null,
            "align_self": null,
            "height": null,
            "min_height": null,
            "padding": null,
            "grid_auto_rows": null,
            "grid_gap": null,
            "max_width": null,
            "order": null,
            "_view_module_version": "1.2.0",
            "grid_template_areas": null,
            "object_position": null,
            "object_fit": null,
            "grid_auto_columns": null,
            "margin": null,
            "display": null,
            "left": null
          }
        },
        "aeeac91270874051946090d64064c2ca": {
          "model_module": "@jupyter-widgets/controls",
          "model_name": "DescriptionStyleModel",
          "state": {
            "_view_name": "StyleView",
            "_model_name": "DescriptionStyleModel",
            "description_width": "",
            "_view_module": "@jupyter-widgets/base",
            "_model_module_version": "1.5.0",
            "_view_count": null,
            "_view_module_version": "1.2.0",
            "_model_module": "@jupyter-widgets/controls"
          }
        },
        "a77a37c5653c4b5197a436abd1f71cda": {
          "model_module": "@jupyter-widgets/base",
          "model_name": "LayoutModel",
          "state": {
            "_view_name": "LayoutView",
            "grid_template_rows": null,
            "right": null,
            "justify_content": null,
            "_view_module": "@jupyter-widgets/base",
            "overflow": null,
            "_model_module_version": "1.2.0",
            "_view_count": null,
            "flex_flow": null,
            "width": null,
            "min_width": null,
            "border": null,
            "align_items": null,
            "bottom": null,
            "_model_module": "@jupyter-widgets/base",
            "top": null,
            "grid_column": null,
            "overflow_y": null,
            "overflow_x": null,
            "grid_auto_flow": null,
            "grid_area": null,
            "grid_template_columns": null,
            "flex": null,
            "_model_name": "LayoutModel",
            "justify_items": null,
            "grid_row": null,
            "max_height": null,
            "align_content": null,
            "visibility": null,
            "align_self": null,
            "height": null,
            "min_height": null,
            "padding": null,
            "grid_auto_rows": null,
            "grid_gap": null,
            "max_width": null,
            "order": null,
            "_view_module_version": "1.2.0",
            "grid_template_areas": null,
            "object_position": null,
            "object_fit": null,
            "grid_auto_columns": null,
            "margin": null,
            "display": null,
            "left": null
          }
        },
        "59ebb19d3c674b7da0ca2a4f76ea9260": {
          "model_module": "@jupyter-widgets/controls",
          "model_name": "HBoxModel",
          "state": {
            "_view_name": "HBoxView",
            "_dom_classes": [],
            "_model_name": "HBoxModel",
            "_view_module": "@jupyter-widgets/controls",
            "_model_module_version": "1.5.0",
            "_view_count": null,
            "_view_module_version": "1.5.0",
            "box_style": "",
            "layout": "IPY_MODEL_e049fd7f7b0040c0949c56120fe1aae2",
            "_model_module": "@jupyter-widgets/controls",
            "children": [
              "IPY_MODEL_01f39faee45244ce93c637bae00b5f87",
              "IPY_MODEL_69f9b2e295cc4affb4de2e6b8c4b71b3"
            ]
          }
        },
        "e049fd7f7b0040c0949c56120fe1aae2": {
          "model_module": "@jupyter-widgets/base",
          "model_name": "LayoutModel",
          "state": {
            "_view_name": "LayoutView",
            "grid_template_rows": null,
            "right": null,
            "justify_content": null,
            "_view_module": "@jupyter-widgets/base",
            "overflow": null,
            "_model_module_version": "1.2.0",
            "_view_count": null,
            "flex_flow": null,
            "width": null,
            "min_width": null,
            "border": null,
            "align_items": null,
            "bottom": null,
            "_model_module": "@jupyter-widgets/base",
            "top": null,
            "grid_column": null,
            "overflow_y": null,
            "overflow_x": null,
            "grid_auto_flow": null,
            "grid_area": null,
            "grid_template_columns": null,
            "flex": null,
            "_model_name": "LayoutModel",
            "justify_items": null,
            "grid_row": null,
            "max_height": null,
            "align_content": null,
            "visibility": null,
            "align_self": null,
            "height": null,
            "min_height": null,
            "padding": null,
            "grid_auto_rows": null,
            "grid_gap": null,
            "max_width": null,
            "order": null,
            "_view_module_version": "1.2.0",
            "grid_template_areas": null,
            "object_position": null,
            "object_fit": null,
            "grid_auto_columns": null,
            "margin": null,
            "display": null,
            "left": null
          }
        },
        "01f39faee45244ce93c637bae00b5f87": {
          "model_module": "@jupyter-widgets/controls",
          "model_name": "FloatProgressModel",
          "state": {
            "_view_name": "ProgressView",
            "style": "IPY_MODEL_e77bcd00a46f45019fca4e3408997e2e",
            "_dom_classes": [],
            "description": "100%",
            "_model_name": "FloatProgressModel",
            "bar_style": "success",
            "max": 2250,
            "_view_module": "@jupyter-widgets/controls",
            "_model_module_version": "1.5.0",
            "value": 2250,
            "_view_count": null,
            "_view_module_version": "1.5.0",
            "orientation": "horizontal",
            "min": 0,
            "description_tooltip": null,
            "_model_module": "@jupyter-widgets/controls",
            "layout": "IPY_MODEL_616b075bab494e77812eb2bc9823d98c"
          }
        },
        "69f9b2e295cc4affb4de2e6b8c4b71b3": {
          "model_module": "@jupyter-widgets/controls",
          "model_name": "HTMLModel",
          "state": {
            "_view_name": "HTMLView",
            "style": "IPY_MODEL_555995894a7944fb832cc6cbe3ea9357",
            "_dom_classes": [],
            "description": "",
            "_model_name": "HTMLModel",
            "placeholder": "​",
            "_view_module": "@jupyter-widgets/controls",
            "_model_module_version": "1.5.0",
            "value": " 2250/2250 [56:27&lt;00:00,  1.51s/it]",
            "_view_count": null,
            "_view_module_version": "1.5.0",
            "description_tooltip": null,
            "_model_module": "@jupyter-widgets/controls",
            "layout": "IPY_MODEL_76d6d7f38b8346d79d7f6b894f0c0e4a"
          }
        },
        "e77bcd00a46f45019fca4e3408997e2e": {
          "model_module": "@jupyter-widgets/controls",
          "model_name": "ProgressStyleModel",
          "state": {
            "_view_name": "StyleView",
            "_model_name": "ProgressStyleModel",
            "description_width": "initial",
            "_view_module": "@jupyter-widgets/base",
            "_model_module_version": "1.5.0",
            "_view_count": null,
            "_view_module_version": "1.2.0",
            "bar_color": null,
            "_model_module": "@jupyter-widgets/controls"
          }
        },
        "616b075bab494e77812eb2bc9823d98c": {
          "model_module": "@jupyter-widgets/base",
          "model_name": "LayoutModel",
          "state": {
            "_view_name": "LayoutView",
            "grid_template_rows": null,
            "right": null,
            "justify_content": null,
            "_view_module": "@jupyter-widgets/base",
            "overflow": null,
            "_model_module_version": "1.2.0",
            "_view_count": null,
            "flex_flow": null,
            "width": null,
            "min_width": null,
            "border": null,
            "align_items": null,
            "bottom": null,
            "_model_module": "@jupyter-widgets/base",
            "top": null,
            "grid_column": null,
            "overflow_y": null,
            "overflow_x": null,
            "grid_auto_flow": null,
            "grid_area": null,
            "grid_template_columns": null,
            "flex": null,
            "_model_name": "LayoutModel",
            "justify_items": null,
            "grid_row": null,
            "max_height": null,
            "align_content": null,
            "visibility": null,
            "align_self": null,
            "height": null,
            "min_height": null,
            "padding": null,
            "grid_auto_rows": null,
            "grid_gap": null,
            "max_width": null,
            "order": null,
            "_view_module_version": "1.2.0",
            "grid_template_areas": null,
            "object_position": null,
            "object_fit": null,
            "grid_auto_columns": null,
            "margin": null,
            "display": null,
            "left": null
          }
        },
        "555995894a7944fb832cc6cbe3ea9357": {
          "model_module": "@jupyter-widgets/controls",
          "model_name": "DescriptionStyleModel",
          "state": {
            "_view_name": "StyleView",
            "_model_name": "DescriptionStyleModel",
            "description_width": "",
            "_view_module": "@jupyter-widgets/base",
            "_model_module_version": "1.5.0",
            "_view_count": null,
            "_view_module_version": "1.2.0",
            "_model_module": "@jupyter-widgets/controls"
          }
        },
        "76d6d7f38b8346d79d7f6b894f0c0e4a": {
          "model_module": "@jupyter-widgets/base",
          "model_name": "LayoutModel",
          "state": {
            "_view_name": "LayoutView",
            "grid_template_rows": null,
            "right": null,
            "justify_content": null,
            "_view_module": "@jupyter-widgets/base",
            "overflow": null,
            "_model_module_version": "1.2.0",
            "_view_count": null,
            "flex_flow": null,
            "width": null,
            "min_width": null,
            "border": null,
            "align_items": null,
            "bottom": null,
            "_model_module": "@jupyter-widgets/base",
            "top": null,
            "grid_column": null,
            "overflow_y": null,
            "overflow_x": null,
            "grid_auto_flow": null,
            "grid_area": null,
            "grid_template_columns": null,
            "flex": null,
            "_model_name": "LayoutModel",
            "justify_items": null,
            "grid_row": null,
            "max_height": null,
            "align_content": null,
            "visibility": null,
            "align_self": null,
            "height": null,
            "min_height": null,
            "padding": null,
            "grid_auto_rows": null,
            "grid_gap": null,
            "max_width": null,
            "order": null,
            "_view_module_version": "1.2.0",
            "grid_template_areas": null,
            "object_position": null,
            "object_fit": null,
            "grid_auto_columns": null,
            "margin": null,
            "display": null,
            "left": null
          }
        },
        "2f9a2b7074944a6eb100cd0aca51c7ca": {
          "model_module": "@jupyter-widgets/controls",
          "model_name": "HBoxModel",
          "state": {
            "_view_name": "HBoxView",
            "_dom_classes": [],
            "_model_name": "HBoxModel",
            "_view_module": "@jupyter-widgets/controls",
            "_model_module_version": "1.5.0",
            "_view_count": null,
            "_view_module_version": "1.5.0",
            "box_style": "",
            "layout": "IPY_MODEL_13dc039563a549b79a8bf6600d0e2b4e",
            "_model_module": "@jupyter-widgets/controls",
            "children": [
              "IPY_MODEL_2530104dd80649ebaac8ceac235663fc",
              "IPY_MODEL_6f2cda96971e4c17b9bd14c90d55ffcb"
            ]
          }
        },
        "13dc039563a549b79a8bf6600d0e2b4e": {
          "model_module": "@jupyter-widgets/base",
          "model_name": "LayoutModel",
          "state": {
            "_view_name": "LayoutView",
            "grid_template_rows": null,
            "right": null,
            "justify_content": null,
            "_view_module": "@jupyter-widgets/base",
            "overflow": null,
            "_model_module_version": "1.2.0",
            "_view_count": null,
            "flex_flow": null,
            "width": null,
            "min_width": null,
            "border": null,
            "align_items": null,
            "bottom": null,
            "_model_module": "@jupyter-widgets/base",
            "top": null,
            "grid_column": null,
            "overflow_y": null,
            "overflow_x": null,
            "grid_auto_flow": null,
            "grid_area": null,
            "grid_template_columns": null,
            "flex": null,
            "_model_name": "LayoutModel",
            "justify_items": null,
            "grid_row": null,
            "max_height": null,
            "align_content": null,
            "visibility": null,
            "align_self": null,
            "height": null,
            "min_height": null,
            "padding": null,
            "grid_auto_rows": null,
            "grid_gap": null,
            "max_width": null,
            "order": null,
            "_view_module_version": "1.2.0",
            "grid_template_areas": null,
            "object_position": null,
            "object_fit": null,
            "grid_auto_columns": null,
            "margin": null,
            "display": null,
            "left": null
          }
        },
        "2530104dd80649ebaac8ceac235663fc": {
          "model_module": "@jupyter-widgets/controls",
          "model_name": "FloatProgressModel",
          "state": {
            "_view_name": "ProgressView",
            "style": "IPY_MODEL_cd363e9588d94ff9b03d2ed1903b9c83",
            "_dom_classes": [],
            "description": "100%",
            "_model_name": "FloatProgressModel",
            "bar_style": "success",
            "max": 2250,
            "_view_module": "@jupyter-widgets/controls",
            "_model_module_version": "1.5.0",
            "value": 2250,
            "_view_count": null,
            "_view_module_version": "1.5.0",
            "orientation": "horizontal",
            "min": 0,
            "description_tooltip": null,
            "_model_module": "@jupyter-widgets/controls",
            "layout": "IPY_MODEL_e286e6a2d3fa4c56997087977308ff4b"
          }
        },
        "6f2cda96971e4c17b9bd14c90d55ffcb": {
          "model_module": "@jupyter-widgets/controls",
          "model_name": "HTMLModel",
          "state": {
            "_view_name": "HTMLView",
            "style": "IPY_MODEL_a73d664fb293455c98fa976f32403a99",
            "_dom_classes": [],
            "description": "",
            "_model_name": "HTMLModel",
            "placeholder": "​",
            "_view_module": "@jupyter-widgets/controls",
            "_model_module_version": "1.5.0",
            "value": " 2250/2250 [28:13&lt;00:00,  1.33it/s]",
            "_view_count": null,
            "_view_module_version": "1.5.0",
            "description_tooltip": null,
            "_model_module": "@jupyter-widgets/controls",
            "layout": "IPY_MODEL_b3c58ba9173f41d4ace048c9b85013bb"
          }
        },
        "cd363e9588d94ff9b03d2ed1903b9c83": {
          "model_module": "@jupyter-widgets/controls",
          "model_name": "ProgressStyleModel",
          "state": {
            "_view_name": "StyleView",
            "_model_name": "ProgressStyleModel",
            "description_width": "initial",
            "_view_module": "@jupyter-widgets/base",
            "_model_module_version": "1.5.0",
            "_view_count": null,
            "_view_module_version": "1.2.0",
            "bar_color": null,
            "_model_module": "@jupyter-widgets/controls"
          }
        },
        "e286e6a2d3fa4c56997087977308ff4b": {
          "model_module": "@jupyter-widgets/base",
          "model_name": "LayoutModel",
          "state": {
            "_view_name": "LayoutView",
            "grid_template_rows": null,
            "right": null,
            "justify_content": null,
            "_view_module": "@jupyter-widgets/base",
            "overflow": null,
            "_model_module_version": "1.2.0",
            "_view_count": null,
            "flex_flow": null,
            "width": null,
            "min_width": null,
            "border": null,
            "align_items": null,
            "bottom": null,
            "_model_module": "@jupyter-widgets/base",
            "top": null,
            "grid_column": null,
            "overflow_y": null,
            "overflow_x": null,
            "grid_auto_flow": null,
            "grid_area": null,
            "grid_template_columns": null,
            "flex": null,
            "_model_name": "LayoutModel",
            "justify_items": null,
            "grid_row": null,
            "max_height": null,
            "align_content": null,
            "visibility": null,
            "align_self": null,
            "height": null,
            "min_height": null,
            "padding": null,
            "grid_auto_rows": null,
            "grid_gap": null,
            "max_width": null,
            "order": null,
            "_view_module_version": "1.2.0",
            "grid_template_areas": null,
            "object_position": null,
            "object_fit": null,
            "grid_auto_columns": null,
            "margin": null,
            "display": null,
            "left": null
          }
        },
        "a73d664fb293455c98fa976f32403a99": {
          "model_module": "@jupyter-widgets/controls",
          "model_name": "DescriptionStyleModel",
          "state": {
            "_view_name": "StyleView",
            "_model_name": "DescriptionStyleModel",
            "description_width": "",
            "_view_module": "@jupyter-widgets/base",
            "_model_module_version": "1.5.0",
            "_view_count": null,
            "_view_module_version": "1.2.0",
            "_model_module": "@jupyter-widgets/controls"
          }
        },
        "b3c58ba9173f41d4ace048c9b85013bb": {
          "model_module": "@jupyter-widgets/base",
          "model_name": "LayoutModel",
          "state": {
            "_view_name": "LayoutView",
            "grid_template_rows": null,
            "right": null,
            "justify_content": null,
            "_view_module": "@jupyter-widgets/base",
            "overflow": null,
            "_model_module_version": "1.2.0",
            "_view_count": null,
            "flex_flow": null,
            "width": null,
            "min_width": null,
            "border": null,
            "align_items": null,
            "bottom": null,
            "_model_module": "@jupyter-widgets/base",
            "top": null,
            "grid_column": null,
            "overflow_y": null,
            "overflow_x": null,
            "grid_auto_flow": null,
            "grid_area": null,
            "grid_template_columns": null,
            "flex": null,
            "_model_name": "LayoutModel",
            "justify_items": null,
            "grid_row": null,
            "max_height": null,
            "align_content": null,
            "visibility": null,
            "align_self": null,
            "height": null,
            "min_height": null,
            "padding": null,
            "grid_auto_rows": null,
            "grid_gap": null,
            "max_width": null,
            "order": null,
            "_view_module_version": "1.2.0",
            "grid_template_areas": null,
            "object_position": null,
            "object_fit": null,
            "grid_auto_columns": null,
            "margin": null,
            "display": null,
            "left": null
          }
        },
        "c66bae88da6046c7816d7f2659288e07": {
          "model_module": "@jupyter-widgets/controls",
          "model_name": "HBoxModel",
          "state": {
            "_view_name": "HBoxView",
            "_dom_classes": [],
            "_model_name": "HBoxModel",
            "_view_module": "@jupyter-widgets/controls",
            "_model_module_version": "1.5.0",
            "_view_count": null,
            "_view_module_version": "1.5.0",
            "box_style": "",
            "layout": "IPY_MODEL_50f1922dd9534c3ba33db73de1f0a4b0",
            "_model_module": "@jupyter-widgets/controls",
            "children": [
              "IPY_MODEL_c8080e85fd3b492bb4728425ff02be29",
              "IPY_MODEL_c17856bc26cf46cbbdc6d7fd12829ff0"
            ]
          }
        },
        "50f1922dd9534c3ba33db73de1f0a4b0": {
          "model_module": "@jupyter-widgets/base",
          "model_name": "LayoutModel",
          "state": {
            "_view_name": "LayoutView",
            "grid_template_rows": null,
            "right": null,
            "justify_content": null,
            "_view_module": "@jupyter-widgets/base",
            "overflow": null,
            "_model_module_version": "1.2.0",
            "_view_count": null,
            "flex_flow": null,
            "width": null,
            "min_width": null,
            "border": null,
            "align_items": null,
            "bottom": null,
            "_model_module": "@jupyter-widgets/base",
            "top": null,
            "grid_column": null,
            "overflow_y": null,
            "overflow_x": null,
            "grid_auto_flow": null,
            "grid_area": null,
            "grid_template_columns": null,
            "flex": null,
            "_model_name": "LayoutModel",
            "justify_items": null,
            "grid_row": null,
            "max_height": null,
            "align_content": null,
            "visibility": null,
            "align_self": null,
            "height": null,
            "min_height": null,
            "padding": null,
            "grid_auto_rows": null,
            "grid_gap": null,
            "max_width": null,
            "order": null,
            "_view_module_version": "1.2.0",
            "grid_template_areas": null,
            "object_position": null,
            "object_fit": null,
            "grid_auto_columns": null,
            "margin": null,
            "display": null,
            "left": null
          }
        },
        "c8080e85fd3b492bb4728425ff02be29": {
          "model_module": "@jupyter-widgets/controls",
          "model_name": "FloatProgressModel",
          "state": {
            "_view_name": "ProgressView",
            "style": "IPY_MODEL_82b5f66f160f41e4ad6e3520941954f8",
            "_dom_classes": [],
            "description": "100%",
            "_model_name": "FloatProgressModel",
            "bar_style": "success",
            "max": 2250,
            "_view_module": "@jupyter-widgets/controls",
            "_model_module_version": "1.5.0",
            "value": 2250,
            "_view_count": null,
            "_view_module_version": "1.5.0",
            "orientation": "horizontal",
            "min": 0,
            "description_tooltip": null,
            "_model_module": "@jupyter-widgets/controls",
            "layout": "IPY_MODEL_a0433ee7285247a8bb3838954e6c2f74"
          }
        },
        "c17856bc26cf46cbbdc6d7fd12829ff0": {
          "model_module": "@jupyter-widgets/controls",
          "model_name": "HTMLModel",
          "state": {
            "_view_name": "HTMLView",
            "style": "IPY_MODEL_22ebe217cf104030848acf3370623fb8",
            "_dom_classes": [],
            "description": "",
            "_model_name": "HTMLModel",
            "placeholder": "​",
            "_view_module": "@jupyter-widgets/controls",
            "_model_module_version": "1.5.0",
            "value": " 2250/2250 [14:06&lt;00:00,  2.66it/s]",
            "_view_count": null,
            "_view_module_version": "1.5.0",
            "description_tooltip": null,
            "_model_module": "@jupyter-widgets/controls",
            "layout": "IPY_MODEL_20d3b342d53b4f57959e791d074c01f1"
          }
        },
        "82b5f66f160f41e4ad6e3520941954f8": {
          "model_module": "@jupyter-widgets/controls",
          "model_name": "ProgressStyleModel",
          "state": {
            "_view_name": "StyleView",
            "_model_name": "ProgressStyleModel",
            "description_width": "initial",
            "_view_module": "@jupyter-widgets/base",
            "_model_module_version": "1.5.0",
            "_view_count": null,
            "_view_module_version": "1.2.0",
            "bar_color": null,
            "_model_module": "@jupyter-widgets/controls"
          }
        },
        "a0433ee7285247a8bb3838954e6c2f74": {
          "model_module": "@jupyter-widgets/base",
          "model_name": "LayoutModel",
          "state": {
            "_view_name": "LayoutView",
            "grid_template_rows": null,
            "right": null,
            "justify_content": null,
            "_view_module": "@jupyter-widgets/base",
            "overflow": null,
            "_model_module_version": "1.2.0",
            "_view_count": null,
            "flex_flow": null,
            "width": null,
            "min_width": null,
            "border": null,
            "align_items": null,
            "bottom": null,
            "_model_module": "@jupyter-widgets/base",
            "top": null,
            "grid_column": null,
            "overflow_y": null,
            "overflow_x": null,
            "grid_auto_flow": null,
            "grid_area": null,
            "grid_template_columns": null,
            "flex": null,
            "_model_name": "LayoutModel",
            "justify_items": null,
            "grid_row": null,
            "max_height": null,
            "align_content": null,
            "visibility": null,
            "align_self": null,
            "height": null,
            "min_height": null,
            "padding": null,
            "grid_auto_rows": null,
            "grid_gap": null,
            "max_width": null,
            "order": null,
            "_view_module_version": "1.2.0",
            "grid_template_areas": null,
            "object_position": null,
            "object_fit": null,
            "grid_auto_columns": null,
            "margin": null,
            "display": null,
            "left": null
          }
        },
        "22ebe217cf104030848acf3370623fb8": {
          "model_module": "@jupyter-widgets/controls",
          "model_name": "DescriptionStyleModel",
          "state": {
            "_view_name": "StyleView",
            "_model_name": "DescriptionStyleModel",
            "description_width": "",
            "_view_module": "@jupyter-widgets/base",
            "_model_module_version": "1.5.0",
            "_view_count": null,
            "_view_module_version": "1.2.0",
            "_model_module": "@jupyter-widgets/controls"
          }
        },
        "20d3b342d53b4f57959e791d074c01f1": {
          "model_module": "@jupyter-widgets/base",
          "model_name": "LayoutModel",
          "state": {
            "_view_name": "LayoutView",
            "grid_template_rows": null,
            "right": null,
            "justify_content": null,
            "_view_module": "@jupyter-widgets/base",
            "overflow": null,
            "_model_module_version": "1.2.0",
            "_view_count": null,
            "flex_flow": null,
            "width": null,
            "min_width": null,
            "border": null,
            "align_items": null,
            "bottom": null,
            "_model_module": "@jupyter-widgets/base",
            "top": null,
            "grid_column": null,
            "overflow_y": null,
            "overflow_x": null,
            "grid_auto_flow": null,
            "grid_area": null,
            "grid_template_columns": null,
            "flex": null,
            "_model_name": "LayoutModel",
            "justify_items": null,
            "grid_row": null,
            "max_height": null,
            "align_content": null,
            "visibility": null,
            "align_self": null,
            "height": null,
            "min_height": null,
            "padding": null,
            "grid_auto_rows": null,
            "grid_gap": null,
            "max_width": null,
            "order": null,
            "_view_module_version": "1.2.0",
            "grid_template_areas": null,
            "object_position": null,
            "object_fit": null,
            "grid_auto_columns": null,
            "margin": null,
            "display": null,
            "left": null
          }
        },
        "f5a0df5a026a44a4aba66a0612288510": {
          "model_module": "@jupyter-widgets/controls",
          "model_name": "HBoxModel",
          "state": {
            "_view_name": "HBoxView",
            "_dom_classes": [],
            "_model_name": "HBoxModel",
            "_view_module": "@jupyter-widgets/controls",
            "_model_module_version": "1.5.0",
            "_view_count": null,
            "_view_module_version": "1.5.0",
            "box_style": "",
            "layout": "IPY_MODEL_9269e2763a144b2e8c0f1055da673d30",
            "_model_module": "@jupyter-widgets/controls",
            "children": [
              "IPY_MODEL_39be769e9cf6422ab5b08bc036fc4ae1",
              "IPY_MODEL_4877f7f1ebb74713a6d7d714b6de3ea2"
            ]
          }
        },
        "9269e2763a144b2e8c0f1055da673d30": {
          "model_module": "@jupyter-widgets/base",
          "model_name": "LayoutModel",
          "state": {
            "_view_name": "LayoutView",
            "grid_template_rows": null,
            "right": null,
            "justify_content": null,
            "_view_module": "@jupyter-widgets/base",
            "overflow": null,
            "_model_module_version": "1.2.0",
            "_view_count": null,
            "flex_flow": null,
            "width": null,
            "min_width": null,
            "border": null,
            "align_items": null,
            "bottom": null,
            "_model_module": "@jupyter-widgets/base",
            "top": null,
            "grid_column": null,
            "overflow_y": null,
            "overflow_x": null,
            "grid_auto_flow": null,
            "grid_area": null,
            "grid_template_columns": null,
            "flex": null,
            "_model_name": "LayoutModel",
            "justify_items": null,
            "grid_row": null,
            "max_height": null,
            "align_content": null,
            "visibility": null,
            "align_self": null,
            "height": null,
            "min_height": null,
            "padding": null,
            "grid_auto_rows": null,
            "grid_gap": null,
            "max_width": null,
            "order": null,
            "_view_module_version": "1.2.0",
            "grid_template_areas": null,
            "object_position": null,
            "object_fit": null,
            "grid_auto_columns": null,
            "margin": null,
            "display": null,
            "left": null
          }
        },
        "39be769e9cf6422ab5b08bc036fc4ae1": {
          "model_module": "@jupyter-widgets/controls",
          "model_name": "FloatProgressModel",
          "state": {
            "_view_name": "ProgressView",
            "style": "IPY_MODEL_52c19051d55a470597c629bcd1e02969",
            "_dom_classes": [],
            "description": "100%",
            "_model_name": "FloatProgressModel",
            "bar_style": "success",
            "max": 2250,
            "_view_module": "@jupyter-widgets/controls",
            "_model_module_version": "1.5.0",
            "value": 2250,
            "_view_count": null,
            "_view_module_version": "1.5.0",
            "orientation": "horizontal",
            "min": 0,
            "description_tooltip": null,
            "_model_module": "@jupyter-widgets/controls",
            "layout": "IPY_MODEL_066591a1a85a4662b575b039bc567dac"
          }
        },
        "4877f7f1ebb74713a6d7d714b6de3ea2": {
          "model_module": "@jupyter-widgets/controls",
          "model_name": "HTMLModel",
          "state": {
            "_view_name": "HTMLView",
            "style": "IPY_MODEL_ccbfb837be8c4521bf56e12d21a8366a",
            "_dom_classes": [],
            "description": "",
            "_model_name": "HTMLModel",
            "placeholder": "​",
            "_view_module": "@jupyter-widgets/controls",
            "_model_module_version": "1.5.0",
            "value": " 2250/2250 [14:07&lt;00:00,  2.66it/s]",
            "_view_count": null,
            "_view_module_version": "1.5.0",
            "description_tooltip": null,
            "_model_module": "@jupyter-widgets/controls",
            "layout": "IPY_MODEL_7512f092855e462b9d1f858d7a523333"
          }
        },
        "52c19051d55a470597c629bcd1e02969": {
          "model_module": "@jupyter-widgets/controls",
          "model_name": "ProgressStyleModel",
          "state": {
            "_view_name": "StyleView",
            "_model_name": "ProgressStyleModel",
            "description_width": "initial",
            "_view_module": "@jupyter-widgets/base",
            "_model_module_version": "1.5.0",
            "_view_count": null,
            "_view_module_version": "1.2.0",
            "bar_color": null,
            "_model_module": "@jupyter-widgets/controls"
          }
        },
        "066591a1a85a4662b575b039bc567dac": {
          "model_module": "@jupyter-widgets/base",
          "model_name": "LayoutModel",
          "state": {
            "_view_name": "LayoutView",
            "grid_template_rows": null,
            "right": null,
            "justify_content": null,
            "_view_module": "@jupyter-widgets/base",
            "overflow": null,
            "_model_module_version": "1.2.0",
            "_view_count": null,
            "flex_flow": null,
            "width": null,
            "min_width": null,
            "border": null,
            "align_items": null,
            "bottom": null,
            "_model_module": "@jupyter-widgets/base",
            "top": null,
            "grid_column": null,
            "overflow_y": null,
            "overflow_x": null,
            "grid_auto_flow": null,
            "grid_area": null,
            "grid_template_columns": null,
            "flex": null,
            "_model_name": "LayoutModel",
            "justify_items": null,
            "grid_row": null,
            "max_height": null,
            "align_content": null,
            "visibility": null,
            "align_self": null,
            "height": null,
            "min_height": null,
            "padding": null,
            "grid_auto_rows": null,
            "grid_gap": null,
            "max_width": null,
            "order": null,
            "_view_module_version": "1.2.0",
            "grid_template_areas": null,
            "object_position": null,
            "object_fit": null,
            "grid_auto_columns": null,
            "margin": null,
            "display": null,
            "left": null
          }
        },
        "ccbfb837be8c4521bf56e12d21a8366a": {
          "model_module": "@jupyter-widgets/controls",
          "model_name": "DescriptionStyleModel",
          "state": {
            "_view_name": "StyleView",
            "_model_name": "DescriptionStyleModel",
            "description_width": "",
            "_view_module": "@jupyter-widgets/base",
            "_model_module_version": "1.5.0",
            "_view_count": null,
            "_view_module_version": "1.2.0",
            "_model_module": "@jupyter-widgets/controls"
          }
        },
        "7512f092855e462b9d1f858d7a523333": {
          "model_module": "@jupyter-widgets/base",
          "model_name": "LayoutModel",
          "state": {
            "_view_name": "LayoutView",
            "grid_template_rows": null,
            "right": null,
            "justify_content": null,
            "_view_module": "@jupyter-widgets/base",
            "overflow": null,
            "_model_module_version": "1.2.0",
            "_view_count": null,
            "flex_flow": null,
            "width": null,
            "min_width": null,
            "border": null,
            "align_items": null,
            "bottom": null,
            "_model_module": "@jupyter-widgets/base",
            "top": null,
            "grid_column": null,
            "overflow_y": null,
            "overflow_x": null,
            "grid_auto_flow": null,
            "grid_area": null,
            "grid_template_columns": null,
            "flex": null,
            "_model_name": "LayoutModel",
            "justify_items": null,
            "grid_row": null,
            "max_height": null,
            "align_content": null,
            "visibility": null,
            "align_self": null,
            "height": null,
            "min_height": null,
            "padding": null,
            "grid_auto_rows": null,
            "grid_gap": null,
            "max_width": null,
            "order": null,
            "_view_module_version": "1.2.0",
            "grid_template_areas": null,
            "object_position": null,
            "object_fit": null,
            "grid_auto_columns": null,
            "margin": null,
            "display": null,
            "left": null
          }
        },
        "ef61cb01bbef47a89effe030ba0eae01": {
          "model_module": "@jupyter-widgets/controls",
          "model_name": "HBoxModel",
          "state": {
            "_view_name": "HBoxView",
            "_dom_classes": [],
            "_model_name": "HBoxModel",
            "_view_module": "@jupyter-widgets/controls",
            "_model_module_version": "1.5.0",
            "_view_count": null,
            "_view_module_version": "1.5.0",
            "box_style": "",
            "layout": "IPY_MODEL_6ee0598ad4c64abd8f4a295196a1ce21",
            "_model_module": "@jupyter-widgets/controls",
            "children": [
              "IPY_MODEL_a2831d84f74b4c13a75f8d17cd3c0a32",
              "IPY_MODEL_cb6bd82f58f04be3a1c4681c149f2308"
            ]
          }
        },
        "6ee0598ad4c64abd8f4a295196a1ce21": {
          "model_module": "@jupyter-widgets/base",
          "model_name": "LayoutModel",
          "state": {
            "_view_name": "LayoutView",
            "grid_template_rows": null,
            "right": null,
            "justify_content": null,
            "_view_module": "@jupyter-widgets/base",
            "overflow": null,
            "_model_module_version": "1.2.0",
            "_view_count": null,
            "flex_flow": null,
            "width": null,
            "min_width": null,
            "border": null,
            "align_items": null,
            "bottom": null,
            "_model_module": "@jupyter-widgets/base",
            "top": null,
            "grid_column": null,
            "overflow_y": null,
            "overflow_x": null,
            "grid_auto_flow": null,
            "grid_area": null,
            "grid_template_columns": null,
            "flex": null,
            "_model_name": "LayoutModel",
            "justify_items": null,
            "grid_row": null,
            "max_height": null,
            "align_content": null,
            "visibility": null,
            "align_self": null,
            "height": null,
            "min_height": null,
            "padding": null,
            "grid_auto_rows": null,
            "grid_gap": null,
            "max_width": null,
            "order": null,
            "_view_module_version": "1.2.0",
            "grid_template_areas": null,
            "object_position": null,
            "object_fit": null,
            "grid_auto_columns": null,
            "margin": null,
            "display": null,
            "left": null
          }
        },
        "a2831d84f74b4c13a75f8d17cd3c0a32": {
          "model_module": "@jupyter-widgets/controls",
          "model_name": "FloatProgressModel",
          "state": {
            "_view_name": "ProgressView",
            "style": "IPY_MODEL_2931f163d2d342d695722277e25090b6",
            "_dom_classes": [],
            "description": "100%",
            "_model_name": "FloatProgressModel",
            "bar_style": "success",
            "max": 3,
            "_view_module": "@jupyter-widgets/controls",
            "_model_module_version": "1.5.0",
            "value": 3,
            "_view_count": null,
            "_view_module_version": "1.5.0",
            "orientation": "horizontal",
            "min": 0,
            "description_tooltip": null,
            "_model_module": "@jupyter-widgets/controls",
            "layout": "IPY_MODEL_2c55870c4d6f42d2832f67e5c1e70f51"
          }
        },
        "cb6bd82f58f04be3a1c4681c149f2308": {
          "model_module": "@jupyter-widgets/controls",
          "model_name": "HTMLModel",
          "state": {
            "_view_name": "HTMLView",
            "style": "IPY_MODEL_03c77446f53a40b89bbaca31495ea5fb",
            "_dom_classes": [],
            "description": "",
            "_model_name": "HTMLModel",
            "placeholder": "​",
            "_view_module": "@jupyter-widgets/controls",
            "_model_module_version": "1.5.0",
            "value": " 3/3 [00:06&lt;00:00,  2.01s/it]",
            "_view_count": null,
            "_view_module_version": "1.5.0",
            "description_tooltip": null,
            "_model_module": "@jupyter-widgets/controls",
            "layout": "IPY_MODEL_e0e6d4c51a624d2196cd087f702bae8f"
          }
        },
        "2931f163d2d342d695722277e25090b6": {
          "model_module": "@jupyter-widgets/controls",
          "model_name": "ProgressStyleModel",
          "state": {
            "_view_name": "StyleView",
            "_model_name": "ProgressStyleModel",
            "description_width": "initial",
            "_view_module": "@jupyter-widgets/base",
            "_model_module_version": "1.5.0",
            "_view_count": null,
            "_view_module_version": "1.2.0",
            "bar_color": null,
            "_model_module": "@jupyter-widgets/controls"
          }
        },
        "2c55870c4d6f42d2832f67e5c1e70f51": {
          "model_module": "@jupyter-widgets/base",
          "model_name": "LayoutModel",
          "state": {
            "_view_name": "LayoutView",
            "grid_template_rows": null,
            "right": null,
            "justify_content": null,
            "_view_module": "@jupyter-widgets/base",
            "overflow": null,
            "_model_module_version": "1.2.0",
            "_view_count": null,
            "flex_flow": null,
            "width": null,
            "min_width": null,
            "border": null,
            "align_items": null,
            "bottom": null,
            "_model_module": "@jupyter-widgets/base",
            "top": null,
            "grid_column": null,
            "overflow_y": null,
            "overflow_x": null,
            "grid_auto_flow": null,
            "grid_area": null,
            "grid_template_columns": null,
            "flex": null,
            "_model_name": "LayoutModel",
            "justify_items": null,
            "grid_row": null,
            "max_height": null,
            "align_content": null,
            "visibility": null,
            "align_self": null,
            "height": null,
            "min_height": null,
            "padding": null,
            "grid_auto_rows": null,
            "grid_gap": null,
            "max_width": null,
            "order": null,
            "_view_module_version": "1.2.0",
            "grid_template_areas": null,
            "object_position": null,
            "object_fit": null,
            "grid_auto_columns": null,
            "margin": null,
            "display": null,
            "left": null
          }
        },
        "03c77446f53a40b89bbaca31495ea5fb": {
          "model_module": "@jupyter-widgets/controls",
          "model_name": "DescriptionStyleModel",
          "state": {
            "_view_name": "StyleView",
            "_model_name": "DescriptionStyleModel",
            "description_width": "",
            "_view_module": "@jupyter-widgets/base",
            "_model_module_version": "1.5.0",
            "_view_count": null,
            "_view_module_version": "1.2.0",
            "_model_module": "@jupyter-widgets/controls"
          }
        },
        "e0e6d4c51a624d2196cd087f702bae8f": {
          "model_module": "@jupyter-widgets/base",
          "model_name": "LayoutModel",
          "state": {
            "_view_name": "LayoutView",
            "grid_template_rows": null,
            "right": null,
            "justify_content": null,
            "_view_module": "@jupyter-widgets/base",
            "overflow": null,
            "_model_module_version": "1.2.0",
            "_view_count": null,
            "flex_flow": null,
            "width": null,
            "min_width": null,
            "border": null,
            "align_items": null,
            "bottom": null,
            "_model_module": "@jupyter-widgets/base",
            "top": null,
            "grid_column": null,
            "overflow_y": null,
            "overflow_x": null,
            "grid_auto_flow": null,
            "grid_area": null,
            "grid_template_columns": null,
            "flex": null,
            "_model_name": "LayoutModel",
            "justify_items": null,
            "grid_row": null,
            "max_height": null,
            "align_content": null,
            "visibility": null,
            "align_self": null,
            "height": null,
            "min_height": null,
            "padding": null,
            "grid_auto_rows": null,
            "grid_gap": null,
            "max_width": null,
            "order": null,
            "_view_module_version": "1.2.0",
            "grid_template_areas": null,
            "object_position": null,
            "object_fit": null,
            "grid_auto_columns": null,
            "margin": null,
            "display": null,
            "left": null
          }
        }
      }
    },
    "accelerator": "GPU"
  },
  "cells": [
    {
      "cell_type": "markdown",
      "metadata": {
        "id": "yYi56HsL0Fff"
      },
      "source": [
        "# text2poem\n",
        "\n",
        "### Aim\n",
        "Given a textual description, generate a poem from it. \n",
        "\n",
        "### To-Do\n",
        "- [ ] Clean up the variable names, etc\n",
        "- [ ] Understand the T5 architecture and freeze the base layers if needed\n",
        "- [ ] Create the $(\\text{summary}, \\ \\text{poem})$ dataset using sites like [Poem Analysis](https://poemanalysis.com/). Ideally, smaller poems would be preffered. Might need to create manually, as scraping is not only difficult, but also lead to bad data. Stanza-by-Stanza is too detailed, and some summaries barely contain any information about the poem. Thus, data samples may need to be manually checked. Need to select famous poems that have good quality summaries available.\n",
        "    - Doesn't work properly when tested with training set of $9$ poems, will need to try with more data\n",
        "    - Another alternative, $(\\text{topic}, \\ \\text{poem})$ dataset. Given a set of keywords, generate a poem. Dataset creation would be simple using LDA topic modelling etc.\n",
        "        - [Topic Idenitification NLP 1](https://www.pluralsight.com/guides/topic-identification-nlp)\n",
        "        - [Topic Idenitification NLP 2](https://towardsdatascience.com/nlp-extracting-the-main-topics-from-your-dataset-using-lda-in-minutes-21486f5aa925)\n",
        "        - [Example](https://monkeylearn.com/keyword-extractor-online/)\n",
        "- [ ] Clean the dataset, remove very long poems, if possible select by prominent authors, remove poems with no rhyming scheme.\n",
        "- [ ] Change the RAKE algorithm\n",
        "- [ ] Check whether tokenizer preserves \"\\n\" else replace by some other token\n",
        "- [ ] Calculate lengths of poems after data cleaning\n",
        "### Ideas\n",
        "- [ ] Rhyming scheme as T5 prefix\n",
        "\n",
        "### References\n",
        "- [Base code for this notebook](https://github.com/abhimishra91/transformers-tutorials/blob/master/transformers_summarization_wandb.ipynb) (This had quite a few bugs) \n",
        "- [T5 finetuning tips](https://discuss.huggingface.co/t/t5-finetuning-tips/684/2)\n",
        "- [T5 Docs](https://huggingface.co/transformers/model_doc/t5.html)\n",
        "- [Training T5](https://huggingface.co/transformers/model_doc/t5.html#training) (Not detailed enough)\n",
        "- [Finetuning T5](https://colab.research.google.com/github/patil-suraj/exploring-T5/blob/master/t5_fine_tuning.ipynb) (Probably the most extensive tutorial)\n",
        "- [Few Shot Learning with T5](https://towardsdatascience.com/poor-mans-gpt-3-few-shot-text-generation-with-t5-transformer-51f1b01f843e)\n",
        "- [Some Famous Poetry](https://medium.com/@EmEmbarty/31-of-the-best-and-most-famous-short-classic-poems-of-all-time-e445986e6df)\n",
        "- [Poetry Summaries](https://www.litcharts.com/poetry/)\n"
      ]
    },
    {
      "cell_type": "markdown",
      "metadata": {
        "id": "jMy7DpOtax_8"
      },
      "source": [
        "## Install Dependencies"
      ]
    },
    {
      "cell_type": "code",
      "metadata": {
        "colab": {
          "base_uri": "https://localhost:8080/"
        },
        "id": "8bXCqW6Y134M",
        "outputId": "98f692b5-8a8c-4faa-c51e-5223b4c63c85"
      },
      "source": [
        "# Transformer changes very frequently, thus the version is important\n",
        "! pip install transformers==4.5.1\n",
        "! pip install sentencepiece==0.1.94 # Version is important as T5's tokenizer has this version as a dependency "
      ],
      "execution_count": 1,
      "outputs": [
        {
          "output_type": "stream",
          "text": [
            "Collecting transformers==4.5.1\n",
            "\u001b[?25l  Downloading https://files.pythonhosted.org/packages/d8/b2/57495b5309f09fa501866e225c84532d1fd89536ea62406b2181933fb418/transformers-4.5.1-py3-none-any.whl (2.1MB)\n",
            "\u001b[K     |████████████████████████████████| 2.1MB 7.9MB/s \n",
            "\u001b[?25hRequirement already satisfied: importlib-metadata; python_version < \"3.8\" in /usr/local/lib/python3.7/dist-packages (from transformers==4.5.1) (3.10.1)\n",
            "Requirement already satisfied: regex!=2019.12.17 in /usr/local/lib/python3.7/dist-packages (from transformers==4.5.1) (2019.12.20)\n",
            "Requirement already satisfied: numpy>=1.17 in /usr/local/lib/python3.7/dist-packages (from transformers==4.5.1) (1.19.5)\n",
            "Collecting tokenizers<0.11,>=0.10.1\n",
            "\u001b[?25l  Downloading https://files.pythonhosted.org/packages/ae/04/5b870f26a858552025a62f1649c20d29d2672c02ff3c3fb4c688ca46467a/tokenizers-0.10.2-cp37-cp37m-manylinux2010_x86_64.whl (3.3MB)\n",
            "\u001b[K     |████████████████████████████████| 3.3MB 55.5MB/s \n",
            "\u001b[?25hRequirement already satisfied: requests in /usr/local/lib/python3.7/dist-packages (from transformers==4.5.1) (2.23.0)\n",
            "Requirement already satisfied: filelock in /usr/local/lib/python3.7/dist-packages (from transformers==4.5.1) (3.0.12)\n",
            "Requirement already satisfied: packaging in /usr/local/lib/python3.7/dist-packages (from transformers==4.5.1) (20.9)\n",
            "Requirement already satisfied: tqdm>=4.27 in /usr/local/lib/python3.7/dist-packages (from transformers==4.5.1) (4.41.1)\n",
            "Collecting sacremoses\n",
            "\u001b[?25l  Downloading https://files.pythonhosted.org/packages/75/ee/67241dc87f266093c533a2d4d3d69438e57d7a90abb216fa076e7d475d4a/sacremoses-0.0.45-py3-none-any.whl (895kB)\n",
            "\u001b[K     |████████████████████████████████| 901kB 36.5MB/s \n",
            "\u001b[?25hRequirement already satisfied: zipp>=0.5 in /usr/local/lib/python3.7/dist-packages (from importlib-metadata; python_version < \"3.8\"->transformers==4.5.1) (3.4.1)\n",
            "Requirement already satisfied: typing-extensions>=3.6.4; python_version < \"3.8\" in /usr/local/lib/python3.7/dist-packages (from importlib-metadata; python_version < \"3.8\"->transformers==4.5.1) (3.7.4.3)\n",
            "Requirement already satisfied: idna<3,>=2.5 in /usr/local/lib/python3.7/dist-packages (from requests->transformers==4.5.1) (2.10)\n",
            "Requirement already satisfied: certifi>=2017.4.17 in /usr/local/lib/python3.7/dist-packages (from requests->transformers==4.5.1) (2020.12.5)\n",
            "Requirement already satisfied: chardet<4,>=3.0.2 in /usr/local/lib/python3.7/dist-packages (from requests->transformers==4.5.1) (3.0.4)\n",
            "Requirement already satisfied: urllib3!=1.25.0,!=1.25.1,<1.26,>=1.21.1 in /usr/local/lib/python3.7/dist-packages (from requests->transformers==4.5.1) (1.24.3)\n",
            "Requirement already satisfied: pyparsing>=2.0.2 in /usr/local/lib/python3.7/dist-packages (from packaging->transformers==4.5.1) (2.4.7)\n",
            "Requirement already satisfied: six in /usr/local/lib/python3.7/dist-packages (from sacremoses->transformers==4.5.1) (1.15.0)\n",
            "Requirement already satisfied: joblib in /usr/local/lib/python3.7/dist-packages (from sacremoses->transformers==4.5.1) (1.0.1)\n",
            "Requirement already satisfied: click in /usr/local/lib/python3.7/dist-packages (from sacremoses->transformers==4.5.1) (7.1.2)\n",
            "Installing collected packages: tokenizers, sacremoses, transformers\n",
            "Successfully installed sacremoses-0.0.45 tokenizers-0.10.2 transformers-4.5.1\n",
            "Collecting sentencepiece==0.1.94\n",
            "\u001b[?25l  Downloading https://files.pythonhosted.org/packages/6e/f0/7614029138ec9422f1a3ed3cd82c3bfc0821157e8032ca1828cee6b198bb/sentencepiece-0.1.94-cp37-cp37m-manylinux2014_x86_64.whl (1.1MB)\n",
            "\u001b[K     |████████████████████████████████| 1.1MB 8.2MB/s \n",
            "\u001b[?25hInstalling collected packages: sentencepiece\n",
            "Successfully installed sentencepiece-0.1.94\n"
          ],
          "name": "stdout"
        }
      ]
    },
    {
      "cell_type": "markdown",
      "metadata": {
        "id": "U9kTPMNaaawb"
      },
      "source": [
        "## Connect to GDrive"
      ]
    },
    {
      "cell_type": "code",
      "metadata": {
        "colab": {
          "base_uri": "https://localhost:8080/"
        },
        "id": "X_tqFFHIXgKU",
        "outputId": "2cbc474e-99f9-4231-c60b-1e5fa05e3705"
      },
      "source": [
        "from google.colab import drive\n",
        "drive.mount(\"/content/gdrive\")"
      ],
      "execution_count": 2,
      "outputs": [
        {
          "output_type": "stream",
          "text": [
            "Mounted at /content/gdrive\n"
          ],
          "name": "stdout"
        }
      ]
    },
    {
      "cell_type": "markdown",
      "metadata": {
        "id": "j4DgXBPfh8UX"
      },
      "source": [
        "## Start\n",
        "To restart the notebook, do so from this point"
      ]
    },
    {
      "cell_type": "code",
      "metadata": {
        "id": "A9L1H5KRh1b3"
      },
      "source": [
        "%reset -f"
      ],
      "execution_count": 29,
      "outputs": []
    },
    {
      "cell_type": "markdown",
      "metadata": {
        "id": "hBESXajW16Wr"
      },
      "source": [
        "## Import Libraries"
      ]
    },
    {
      "cell_type": "code",
      "metadata": {
        "id": "PM0-5Wb17h5Z"
      },
      "source": [
        "# General libraries\n",
        "import numpy as np\n",
        "import pandas as pd\n",
        "from tqdm.notebook import tqdm\n",
        "from matplotlib import pyplot as plt\n",
        "from sklearn.model_selection import train_test_split as tts\n",
        "\n",
        "# The general framework used\n",
        "import torch\n",
        "from torch.utils.data import Dataset, DataLoader\n",
        "\n",
        "# The T5 specific libraries\n",
        "from transformers.optimization import Adafactor\n",
        "from transformers import T5Tokenizer, T5ForConditionalGeneration"
      ],
      "execution_count": 30,
      "outputs": []
    },
    {
      "cell_type": "markdown",
      "metadata": {
        "id": "E9VKz7VtakGc"
      },
      "source": [
        "## Connecting to the GPU"
      ]
    },
    {
      "cell_type": "code",
      "metadata": {
        "id": "aG1o2WAn7lDU",
        "colab": {
          "base_uri": "https://localhost:8080/"
        },
        "outputId": "9b883ad8-492f-43d4-c7b8-65b72778d626"
      },
      "source": [
        "DEVICE = \"cuda\" if torch.cuda.is_available() else \"cpu\"\n",
        "# See which GPU has been allotted \n",
        "print(torch.cuda.get_device_name(torch.cuda.current_device()))"
      ],
      "execution_count": 31,
      "outputs": [
        {
          "output_type": "stream",
          "text": [
            "Tesla P100-PCIE-16GB\n"
          ],
          "name": "stdout"
        }
      ]
    },
    {
      "cell_type": "markdown",
      "metadata": {
        "id": "47aBe_jBgron"
      },
      "source": [
        "## Constants"
      ]
    },
    {
      "cell_type": "code",
      "metadata": {
        "id": "w_JANVmEgrPK"
      },
      "source": [
        "PATH_DATA = \"/content/gdrive/MyDrive/text2poem/poem_topics.csv\"\n",
        "MODEL_NAME = \"t5-small\"\n",
        "\n",
        "SEED = 42 \n",
        "\n",
        "# Specified in the number of tokens\n",
        "MAX_LEN = 1024\n",
        "SUMMARY_LEN = 1024\n",
        "\n",
        "TRAIN_BATCH_SIZE = 2\n",
        "VALID_BATCH_SIZE = 2\n",
        "\n",
        "N_EPOCHS = 1 # 5 is good enough for 5k samples in data\n",
        "LR = 3e-4"
      ],
      "execution_count": 32,
      "outputs": []
    },
    {
      "cell_type": "code",
      "metadata": {
        "id": "JHE1N438hG6s"
      },
      "source": [
        "# Set random seeds and make pytorch deterministic for reproducibility\n",
        "torch.manual_seed(SEED)\n",
        "np.random.seed(SEED)\n",
        "torch.backends.cudnn.deterministic = True"
      ],
      "execution_count": 33,
      "outputs": []
    },
    {
      "cell_type": "markdown",
      "metadata": {
        "id": "W0LdG06NjwTL"
      },
      "source": [
        "## Helper Functions"
      ]
    },
    {
      "cell_type": "code",
      "metadata": {
        "id": "TQV3fIt2jyC5"
      },
      "source": [
        "def countParameters(model):\n",
        "    \"\"\" Counts the total number of trainable and frozen parameters in the model \"\"\"\n",
        "    trainable = sum(p.numel() for p in model.parameters() if p.requires_grad)\n",
        "    frozen = sum(p.numel() for p in model.parameters() if not p.requires_grad)\n",
        "    return trainable, frozen"
      ],
      "execution_count": 34,
      "outputs": []
    },
    {
      "cell_type": "markdown",
      "metadata": {
        "id": "J6ZsKUfBgehV"
      },
      "source": [
        "## Data Handlers"
      ]
    },
    {
      "cell_type": "code",
      "metadata": {
        "id": "lY2yEu-uggQe"
      },
      "source": [
        "def loadDF(path, n_rows = None, split = 0.9,  prefix = \"summarize: \"):\n",
        "    \"\"\" Loads the CSV data and splits it into training and validation sets \"\"\"\n",
        "\n",
        "    # Read the CSV file\n",
        "    df = pd.read_csv(PATH_DATA, encoding = \"latin-1\")\n",
        "    # Choose the approproate columns containing the text input and the text output\n",
        "    df = df[[\"Content\", \"Topics\"]]\n",
        "    # Rename the columns appropriately (dataset specific)\n",
        "    df.rename(columns={\"Content\" : \"output\", \"Topics\" : \"input\"}, inplace=True)\n",
        "    # Add a suitable prefix to the text input\n",
        "    df.input = prefix + df.input\n",
        "    # Truncate the dataset if required\n",
        "    if n_rows is not None:\n",
        "        df = df.sample(n = n_rows, random_state = SEED)\n",
        "\n",
        "    # Train-Test Split\n",
        "    df_train, df_val = tts(df, train_size = split, random_state = SEED, shuffle = True)\n",
        "    \n",
        "    if len(df_val) > 5:\n",
        "        df_val = df_val[:5]\n",
        "\n",
        "    # Reset indices\n",
        "    df_train.reset_index(drop = True, inplace = True)\n",
        "    df_val.reset_index(drop = True, inplace = True)\n",
        "\n",
        "    return df, df_train, df_val"
      ],
      "execution_count": 35,
      "outputs": []
    },
    {
      "cell_type": "code",
      "metadata": {
        "id": "C0SLaw-VgkcE"
      },
      "source": [
        "def getDataLoaders(df_train, df_val, tokenizer):\n",
        "    \"\"\" Returns the torch DataLoaders for the training and validation DFs \"\"\"\n",
        "\n",
        "    # Create Datasets\n",
        "    ds_train = CustomDataset(df_train, tokenizer, MAX_LEN, SUMMARY_LEN)\n",
        "    ds_val   = CustomDataset(df_val, tokenizer, MAX_LEN, SUMMARY_LEN)\n",
        "\n",
        "    # Create Dataloaders, shuffle = False since we already shuffled once while creating the train-test split\n",
        "    dl_train = DataLoader(ds_train, batch_size = TRAIN_BATCH_SIZE, shuffle = False, num_workers = 0)\n",
        "    dl_val   = DataLoader(ds_val, batch_size = TRAIN_BATCH_SIZE, shuffle = False, num_workers = 0)\n",
        "\n",
        "    return dl_train, dl_val"
      ],
      "execution_count": 36,
      "outputs": []
    },
    {
      "cell_type": "markdown",
      "metadata": {
        "id": "FEDFEI9vama_"
      },
      "source": [
        "## Custom Dataset"
      ]
    },
    {
      "cell_type": "code",
      "metadata": {
        "id": "EsnA1sL17o3v"
      },
      "source": [
        "class CustomDataset(Dataset):\n",
        "\n",
        "    def __init__(self, df, tokenizer, inp_len, out_len):\n",
        "\n",
        "        self.tokenizer = tokenizer\n",
        "        self.df = df\n",
        "\n",
        "        self.inp_len = inp_len\n",
        "        self.out_len = out_len\n",
        "\n",
        "        self.inp_txt = self.df.input\n",
        "        self.out_txt = self.df.output\n",
        "\n",
        "    def __len__(self):\n",
        "        return len(self.out_txt)\n",
        "\n",
        "    def __getitem__(self, index):\n",
        "\n",
        "        inp_txt = str(self.inp_txt[index])\n",
        "        out_txt = str(self.out_txt[index])\n",
        "\n",
        "        # Encode the input and output texts\n",
        "        source = self.tokenizer(\n",
        "            [inp_txt],\n",
        "            max_length = self.inp_len, \n",
        "            padding = \"max_length\", \n",
        "            truncation = True,\n",
        "            return_tensors = \"pt\"\n",
        "        )\n",
        "        target = self.tokenizer(\n",
        "            [out_txt],\n",
        "            max_length = self.out_len, \n",
        "            padding = \"max_length\", \n",
        "            truncation = True,\n",
        "            return_tensors = \"pt\"\n",
        "        )\n",
        "\n",
        "        # Input IDs and Masks\n",
        "        source_ids = source['input_ids'].squeeze()\n",
        "        source_mask = source['attention_mask'].squeeze()\n",
        "        target_ids = target['input_ids'].squeeze()\n",
        "        target_mask = target['attention_mask'].squeeze()\n",
        "\n",
        "        return {\n",
        "            'source_ids'  : source_ids.to(dtype = torch.long), \n",
        "            'source_mask' : source_mask.to(dtype = torch.long), \n",
        "            'target_ids'  : target_ids.to(dtype = torch.long),\n",
        "            'target_mask' : target_mask.to(dtype = torch.long)\n",
        "        }"
      ],
      "execution_count": 37,
      "outputs": []
    },
    {
      "cell_type": "code",
      "metadata": {
        "id": "1cT_8ofOMgZ0"
      },
      "source": [
        "# ds_train = CustomDataset(df_train, tokenizer, MAX_LEN, SUMMARY_LEN)\n",
        "# ds_train[0] # For quickly testing the data format"
      ],
      "execution_count": 38,
      "outputs": []
    },
    {
      "cell_type": "markdown",
      "metadata": {
        "id": "LH0lVDRBarUJ"
      },
      "source": [
        "## Train and Validate Functions:"
      ]
    },
    {
      "cell_type": "code",
      "metadata": {
        "id": "KriqdJrh7-ST"
      },
      "source": [
        "def train(epoch, tokenizer, model, loader, optimizer):\n",
        "    \"\"\" A single epoch \"\"\"\n",
        "\n",
        "    model.train()\n",
        "\n",
        "    loss_batches = []\n",
        "\n",
        "    for iter, batch in enumerate(tqdm(loader)):\n",
        "\n",
        "        # Reset gradients\n",
        "        optimizer.zero_grad()\n",
        "\n",
        "        source_ids  = batch[\"source_ids\"].to(DEVICE, dtype = torch.long)\n",
        "        source_mask = batch[\"source_mask\"].to(DEVICE, dtype = torch.long)\n",
        "        target_mask = batch[\"target_mask\"].to(DEVICE, dtype = torch.long)\n",
        "\n",
        "        labels = batch[\"target_ids\"]\n",
        "        labels[labels[:, :] == tokenizer.pad_token_id] = -100\n",
        "        labels = labels.to(DEVICE)\n",
        "\n",
        "        outputs = model(\n",
        "            input_ids = source_ids, \n",
        "            attention_mask = source_mask, \n",
        "            labels = labels,\n",
        "            decoder_attention_mask = target_mask\n",
        "        ) # Of type Seq2SeqLMOutput\n",
        "\n",
        "        loss = outputs.loss\n",
        "                \n",
        "        loss_batches.append(loss.item())\n",
        "        \n",
        "        # Compute gradients\n",
        "        loss.backward()\n",
        "        # Update parameters\n",
        "        optimizer.step()\n",
        "\n",
        "    return loss_batches"
      ],
      "execution_count": 39,
      "outputs": []
    },
    {
      "cell_type": "code",
      "metadata": {
        "id": "vfI_aA8e8N2c"
      },
      "source": [
        "def validate(epoch, tokenizer, model, loader):\n",
        "\n",
        "    model.eval()\n",
        "\n",
        "    y_pred = []\n",
        "    y_true = []\n",
        "\n",
        "    with torch.no_grad():\n",
        "\n",
        "        for iter, data in enumerate(tqdm(loader)) :\n",
        "\n",
        "            source_ids  = data['source_ids'].to(DEVICE, dtype = torch.long)\n",
        "            source_mask = data['source_mask'].to(DEVICE, dtype = torch.long)\n",
        "\n",
        "            generated_ids = model.generate(\n",
        "                input_ids = source_ids,\n",
        "                attention_mask = source_mask,\n",
        "                max_length = SUMMARY_LEN,\n",
        "                num_beams = 1,\n",
        "                repetition_penalty = 2.5, \n",
        "                # early_stopping = True\n",
        "            )\n",
        "            predicted_output = [tokenizer.decode(g, skip_special_tokens = True, clean_up_tokenization_spaces = True) for g in generated_ids]\n",
        "\n",
        "            target_ids  = data['target_ids'].to(DEVICE, dtype = torch.long)\n",
        "            true_output = [tokenizer.decode(t, skip_special_tokens=True, clean_up_tokenization_spaces=True) for t in target_ids]\n",
        "\n",
        "            y_pred.extend(predicted_output)\n",
        "            y_true.extend(true_output)\n",
        "\n",
        "            if (iter > 5):\n",
        "                break\n",
        "\n",
        "    return y_pred, y_true"
      ],
      "execution_count": 40,
      "outputs": []
    },
    {
      "cell_type": "markdown",
      "metadata": {
        "id": "HNuoht-9bVw0"
      },
      "source": [
        "## Main"
      ]
    },
    {
      "cell_type": "code",
      "metadata": {
        "id": "ZtECaqjG9K6R"
      },
      "source": [
        "# T5's Tokenzier for encoding the text\n",
        "tokenizer = T5Tokenizer.from_pretrained(MODEL_NAME)"
      ],
      "execution_count": 41,
      "outputs": []
    },
    {
      "cell_type": "markdown",
      "metadata": {
        "id": "Ad5BHSxYhRYn"
      },
      "source": [
        "### Loading the Data"
      ]
    },
    {
      "cell_type": "code",
      "metadata": {
        "colab": {
          "base_uri": "https://localhost:8080/"
        },
        "id": "M0PVHWdkdb-t",
        "outputId": "0cff310b-ffbc-4d64-8f40-08784b67b1ee"
      },
      "source": [
        "df, df_train, df_val = loadDF(PATH_DATA, n_rows = 5000, prefix = \"poemify: \")\n",
        "print(len(df), len(df_train), len(df_val))"
      ],
      "execution_count": 42,
      "outputs": [
        {
          "output_type": "stream",
          "text": [
            "5000 4500 5\n"
          ],
          "name": "stdout"
        }
      ]
    },
    {
      "cell_type": "code",
      "metadata": {
        "colab": {
          "base_uri": "https://localhost:8080/",
          "height": 402
        },
        "id": "8sWEt8WjwcG5",
        "outputId": "e78b3762-599c-4002-92d8-967179026e15"
      },
      "source": [
        "display(df)"
      ],
      "execution_count": 43,
      "outputs": [
        {
          "output_type": "display_data",
          "data": {
            "text/html": [
              "<div>\n",
              "<style scoped>\n",
              "    .dataframe tbody tr th:only-of-type {\n",
              "        vertical-align: middle;\n",
              "    }\n",
              "\n",
              "    .dataframe tbody tr th {\n",
              "        vertical-align: top;\n",
              "    }\n",
              "\n",
              "    .dataframe thead th {\n",
              "        text-align: right;\n",
              "    }\n",
              "</style>\n",
              "<table border=\"1\" class=\"dataframe\">\n",
              "  <thead>\n",
              "    <tr style=\"text-align: right;\">\n",
              "      <th></th>\n",
              "      <th>output</th>\n",
              "      <th>input</th>\n",
              "    </tr>\n",
              "  </thead>\n",
              "  <tbody>\n",
              "    <tr>\n",
              "      <th>12267</th>\n",
              "      <td>I summon up Panofskv from his bed\\nAmong the f...</td>\n",
              "      <td>poemify: elephants like quarks ape mother mule...</td>\n",
              "    </tr>\n",
              "    <tr>\n",
              "      <th>1011</th>\n",
              "      <td>The climate thinks with its knees.\\nWhen the w...</td>\n",
              "      <td>poemify: perhaps twelve years old\\nmany new bu...</td>\n",
              "    </tr>\n",
              "    <tr>\n",
              "      <th>8753</th>\n",
              "      <td>The Bone-man lives in a stucco\\nhouse. He tick...</td>\n",
              "      <td>poemify: cold terrazzo floor\\ncapped hunter be...</td>\n",
              "    </tr>\n",
              "    <tr>\n",
              "      <th>3668</th>\n",
              "      <td>The old Roman sow\\nBears a new litter now\\nTo ...</td>\n",
              "      <td>poemify: old roman sow bears\\ncrows ate roman ...</td>\n",
              "    </tr>\n",
              "    <tr>\n",
              "      <th>12096</th>\n",
              "      <td>The screamer sleeps, inside.\\nThe desert's wid...</td>\n",
              "      <td>poemify: rincons seep like\\nnights men run\\nto...</td>\n",
              "    </tr>\n",
              "    <tr>\n",
              "      <th>...</th>\n",
              "      <td>...</td>\n",
              "      <td>...</td>\n",
              "    </tr>\n",
              "    <tr>\n",
              "      <th>9628</th>\n",
              "      <td>In the aftermath of calculus\\nyour toast fell ...</td>\n",
              "      <td>poemify: toast fell butter\\nnext week â\\ncc ...</td>\n",
              "    </tr>\n",
              "    <tr>\n",
              "      <th>295</th>\n",
              "      <td>âfor Patrick Rosal\\nBecause I must not\\nget ...</td>\n",
              "      <td>poemify: toe heart ooh ooh ooh\\njuggernaut swe...</td>\n",
              "    </tr>\n",
              "    <tr>\n",
              "      <th>8409</th>\n",
              "      <td>it doesnât matter when I cross.\\ntwo seconds...</td>\n",
              "      <td>poemify: human body sweats\\nferry facing ulus\\...</td>\n",
              "    </tr>\n",
              "    <tr>\n",
              "      <th>5135</th>\n",
              "      <td>We watched from the house\\nas the river grew, ...</td>\n",
              "      <td>poemify: tree people moving among us\\nwater wr...</td>\n",
              "    </tr>\n",
              "    <tr>\n",
              "      <th>1785</th>\n",
              "      <td>First, Beulah has no idea where the damn grape...</td>\n",
              "      <td>poemify: spanish republicans fight black clad ...</td>\n",
              "    </tr>\n",
              "  </tbody>\n",
              "</table>\n",
              "<p>5000 rows × 2 columns</p>\n",
              "</div>"
            ],
            "text/plain": [
              "                                                  output                                              input\n",
              "12267  I summon up Panofskv from his bed\\nAmong the f...  poemify: elephants like quarks ape mother mule...\n",
              "1011   The climate thinks with its knees.\\nWhen the w...  poemify: perhaps twelve years old\\nmany new bu...\n",
              "8753   The Bone-man lives in a stucco\\nhouse. He tick...  poemify: cold terrazzo floor\\ncapped hunter be...\n",
              "3668   The old Roman sow\\nBears a new litter now\\nTo ...  poemify: old roman sow bears\\ncrows ate roman ...\n",
              "12096  The screamer sleeps, inside.\\nThe desert's wid...  poemify: rincons seep like\\nnights men run\\nto...\n",
              "...                                                  ...                                                ...\n",
              "9628   In the aftermath of calculus\\nyour toast fell ...  poemify: toast fell butter\\nnext week â\\ncc ...\n",
              "295    âfor Patrick Rosal\\nBecause I must not\\nget ...  poemify: toe heart ooh ooh ooh\\njuggernaut swe...\n",
              "8409   it doesnât matter when I cross.\\ntwo seconds...  poemify: human body sweats\\nferry facing ulus\\...\n",
              "5135   We watched from the house\\nas the river grew, ...  poemify: tree people moving among us\\nwater wr...\n",
              "1785   First, Beulah has no idea where the damn grape...  poemify: spanish republicans fight black clad ...\n",
              "\n",
              "[5000 rows x 2 columns]"
            ]
          },
          "metadata": {
            "tags": []
          }
        }
      ]
    },
    {
      "cell_type": "code",
      "metadata": {
        "id": "ib-Ry03k9d4K",
        "colab": {
          "base_uri": "https://localhost:8080/"
        },
        "outputId": "80e4eb93-a3c9-40c7-cae5-fefcf87b249f"
      },
      "source": [
        "dl_train, dl_val = getDataLoaders(df_train, df_val, tokenizer)\n",
        "print(len(dl_train), len(dl_val))"
      ],
      "execution_count": 44,
      "outputs": [
        {
          "output_type": "stream",
          "text": [
            "2250 3\n"
          ],
          "name": "stdout"
        }
      ]
    },
    {
      "cell_type": "markdown",
      "metadata": {
        "id": "IJ_eZh1Pb6PX"
      },
      "source": [
        "### Loading the Model"
      ]
    },
    {
      "cell_type": "code",
      "metadata": {
        "id": "dzmQMOyK9loF"
      },
      "source": [
        "model = T5ForConditionalGeneration.from_pretrained(MODEL_NAME)\n",
        "model = model.to(DEVICE)"
      ],
      "execution_count": 45,
      "outputs": []
    },
    {
      "cell_type": "code",
      "metadata": {
        "colab": {
          "base_uri": "https://localhost:8080/"
        },
        "id": "AFVcPJ5pkLeS",
        "outputId": "2d2ae614-5ddf-46c6-c377-f14f82ce8000"
      },
      "source": [
        "p_train, p_frozen = countParameters(model)\n",
        "print(f\"The model has {p_train:,} trainable and {p_frozen:,} frozen parameters\")"
      ],
      "execution_count": 46,
      "outputs": [
        {
          "output_type": "stream",
          "text": [
            "The model has 60,506,624 trainable and 0 frozen parameters\n"
          ],
          "name": "stdout"
        }
      ]
    },
    {
      "cell_type": "markdown",
      "metadata": {
        "id": "fCqxnQ53b88I"
      },
      "source": [
        "### Optimization"
      ]
    },
    {
      "cell_type": "code",
      "metadata": {
        "id": "JcjV5lqi9o47"
      },
      "source": [
        "optimizer = Adafactor(\n",
        "    params = model.parameters(), \n",
        "    lr = LR, \n",
        "    scale_parameter = False, \n",
        "    relative_step = False\n",
        ")"
      ],
      "execution_count": 47,
      "outputs": []
    },
    {
      "cell_type": "code",
      "metadata": {
        "colab": {
          "base_uri": "https://localhost:8080/",
          "height": 345,
          "referenced_widgets": [
            "f12645d238b34b2fa91591d762b86286",
            "fab9ca06e87f428d9d2e71400a8abc35",
            "20bcb8e16ce54e4b909109766c6c63ef",
            "37c578d2f7984e46b75d8ebfcb280455",
            "e1f2d293b0614881a8058dc4ceebb3d2",
            "bce75be016324a3fb7cad6d9329f3d0e",
            "aeeac91270874051946090d64064c2ca",
            "a77a37c5653c4b5197a436abd1f71cda",
            "59ebb19d3c674b7da0ca2a4f76ea9260",
            "e049fd7f7b0040c0949c56120fe1aae2",
            "01f39faee45244ce93c637bae00b5f87",
            "69f9b2e295cc4affb4de2e6b8c4b71b3",
            "e77bcd00a46f45019fca4e3408997e2e",
            "616b075bab494e77812eb2bc9823d98c",
            "555995894a7944fb832cc6cbe3ea9357",
            "76d6d7f38b8346d79d7f6b894f0c0e4a",
            "2f9a2b7074944a6eb100cd0aca51c7ca",
            "13dc039563a549b79a8bf6600d0e2b4e",
            "2530104dd80649ebaac8ceac235663fc",
            "6f2cda96971e4c17b9bd14c90d55ffcb",
            "cd363e9588d94ff9b03d2ed1903b9c83",
            "e286e6a2d3fa4c56997087977308ff4b",
            "a73d664fb293455c98fa976f32403a99",
            "b3c58ba9173f41d4ace048c9b85013bb",
            "c66bae88da6046c7816d7f2659288e07",
            "50f1922dd9534c3ba33db73de1f0a4b0",
            "c8080e85fd3b492bb4728425ff02be29",
            "c17856bc26cf46cbbdc6d7fd12829ff0",
            "82b5f66f160f41e4ad6e3520941954f8",
            "a0433ee7285247a8bb3838954e6c2f74",
            "22ebe217cf104030848acf3370623fb8",
            "20d3b342d53b4f57959e791d074c01f1",
            "f5a0df5a026a44a4aba66a0612288510",
            "9269e2763a144b2e8c0f1055da673d30",
            "39be769e9cf6422ab5b08bc036fc4ae1",
            "4877f7f1ebb74713a6d7d714b6de3ea2",
            "52c19051d55a470597c629bcd1e02969",
            "066591a1a85a4662b575b039bc567dac",
            "ccbfb837be8c4521bf56e12d21a8366a",
            "7512f092855e462b9d1f858d7a523333"
          ]
        },
        "id": "kQZzlebv9te6",
        "outputId": "3196a1ce-18ec-4654-cc06-a2ed4a9223d8"
      },
      "source": [
        "losses = []\n",
        "for e in range(N_EPOCHS):\n",
        "    print(f\"Epoch {e}\")\n",
        "    loss_batches = train(e, tokenizer, model, dl_train, optimizer)\n",
        "    losses += loss_batches"
      ],
      "execution_count": 48,
      "outputs": [
        {
          "output_type": "stream",
          "text": [
            "Epoch 0\n"
          ],
          "name": "stdout"
        },
        {
          "output_type": "display_data",
          "data": {
            "application/vnd.jupyter.widget-view+json": {
              "model_id": "f12645d238b34b2fa91591d762b86286",
              "version_minor": 0,
              "version_major": 2
            },
            "text/plain": [
              "HBox(children=(FloatProgress(value=0.0, max=2250.0), HTML(value='')))"
            ]
          },
          "metadata": {
            "tags": []
          }
        },
        {
          "output_type": "stream",
          "text": [
            "\n",
            "Epoch 1\n"
          ],
          "name": "stdout"
        },
        {
          "output_type": "display_data",
          "data": {
            "application/vnd.jupyter.widget-view+json": {
              "model_id": "59ebb19d3c674b7da0ca2a4f76ea9260",
              "version_minor": 0,
              "version_major": 2
            },
            "text/plain": [
              "HBox(children=(FloatProgress(value=0.0, max=2250.0), HTML(value='')))"
            ]
          },
          "metadata": {
            "tags": []
          }
        },
        {
          "output_type": "stream",
          "text": [
            "\n",
            "Epoch 2\n"
          ],
          "name": "stdout"
        },
        {
          "output_type": "display_data",
          "data": {
            "application/vnd.jupyter.widget-view+json": {
              "model_id": "2f9a2b7074944a6eb100cd0aca51c7ca",
              "version_minor": 0,
              "version_major": 2
            },
            "text/plain": [
              "HBox(children=(FloatProgress(value=0.0, max=2250.0), HTML(value='')))"
            ]
          },
          "metadata": {
            "tags": []
          }
        },
        {
          "output_type": "stream",
          "text": [
            "\n",
            "Epoch 3\n"
          ],
          "name": "stdout"
        },
        {
          "output_type": "display_data",
          "data": {
            "application/vnd.jupyter.widget-view+json": {
              "model_id": "c66bae88da6046c7816d7f2659288e07",
              "version_minor": 0,
              "version_major": 2
            },
            "text/plain": [
              "HBox(children=(FloatProgress(value=0.0, max=2250.0), HTML(value='')))"
            ]
          },
          "metadata": {
            "tags": []
          }
        },
        {
          "output_type": "stream",
          "text": [
            "\n",
            "Epoch 4\n"
          ],
          "name": "stdout"
        },
        {
          "output_type": "display_data",
          "data": {
            "application/vnd.jupyter.widget-view+json": {
              "model_id": "f5a0df5a026a44a4aba66a0612288510",
              "version_minor": 0,
              "version_major": 2
            },
            "text/plain": [
              "HBox(children=(FloatProgress(value=0.0, max=2250.0), HTML(value='')))"
            ]
          },
          "metadata": {
            "tags": []
          }
        },
        {
          "output_type": "stream",
          "text": [
            "\n"
          ],
          "name": "stdout"
        }
      ]
    },
    {
      "cell_type": "code",
      "metadata": {
        "colab": {
          "base_uri": "https://localhost:8080/",
          "height": 265
        },
        "id": "EJ3NFbCoUcNZ",
        "outputId": "64325a7b-ebcf-4d32-f245-9a41dba79463"
      },
      "source": [
        "plt.plot(range(len(losses)), losses)\n",
        "plt.show()"
      ],
      "execution_count": 49,
      "outputs": [
        {
          "output_type": "display_data",
          "data": {
            "image/png": "[encoded data removed]",
            "text/plain": [
              "<Figure size 432x288 with 1 Axes>"
            ]
          },
          "metadata": {
            "tags": [],
            "needs_background": "light"
          }
        }
      ]
    },
    {
      "cell_type": "code",
      "metadata": {
        "colab": {
          "base_uri": "https://localhost:8080/",
          "height": 66,
          "referenced_widgets": [
            "ef61cb01bbef47a89effe030ba0eae01",
            "6ee0598ad4c64abd8f4a295196a1ce21",
            "a2831d84f74b4c13a75f8d17cd3c0a32",
            "cb6bd82f58f04be3a1c4681c149f2308",
            "2931f163d2d342d695722277e25090b6",
            "2c55870c4d6f42d2832f67e5c1e70f51",
            "03c77446f53a40b89bbaca31495ea5fb",
            "e0e6d4c51a624d2196cd087f702bae8f"
          ]
        },
        "id": "peMxy-iB9wOc",
        "outputId": "6c9be79f-d6be-4dc9-b9a3-a6aa7955a300"
      },
      "source": [
        "predictions, actuals = validate(0, tokenizer, model, dl_val)\n",
        "results = pd.DataFrame({'Generated Text' : predictions, 'Actual Text' : actuals})"
      ],
      "execution_count": 50,
      "outputs": [
        {
          "output_type": "display_data",
          "data": {
            "application/vnd.jupyter.widget-view+json": {
              "model_id": "ef61cb01bbef47a89effe030ba0eae01",
              "version_minor": 0,
              "version_major": 2
            },
            "text/plain": [
              "HBox(children=(FloatProgress(value=0.0, max=3.0), HTML(value='')))"
            ]
          },
          "metadata": {
            "tags": []
          }
        },
        {
          "output_type": "stream",
          "text": [
            "\n"
          ],
          "name": "stdout"
        }
      ]
    },
    {
      "cell_type": "code",
      "metadata": {
        "colab": {
          "base_uri": "https://localhost:8080/",
          "height": 195
        },
        "id": "IbE4ox5iIv82",
        "outputId": "cccfd04c-9ab7-45a8-9c36-d38a53480923"
      },
      "source": [
        "display(results)"
      ],
      "execution_count": 51,
      "outputs": [
        {
          "output_type": "display_data",
          "data": {
            "text/html": [
              "<div>\n",
              "<style scoped>\n",
              "    .dataframe tbody tr th:only-of-type {\n",
              "        vertical-align: middle;\n",
              "    }\n",
              "\n",
              "    .dataframe tbody tr th {\n",
              "        vertical-align: top;\n",
              "    }\n",
              "\n",
              "    .dataframe thead th {\n",
              "        text-align: right;\n",
              "    }\n",
              "</style>\n",
              "<table border=\"1\" class=\"dataframe\">\n",
              "  <thead>\n",
              "    <tr style=\"text-align: right;\">\n",
              "      <th></th>\n",
              "      <th>Generated Text</th>\n",
              "      <th>Actual Text</th>\n",
              "    </tr>\n",
              "  </thead>\n",
              "  <tbody>\n",
              "    <tr>\n",
              "      <th>0</th>\n",
              "      <td>I am not alone, but a violent voice John Garel...</td>\n",
              "      <td>I leaned against the mantel, sick, sick, Think...</td>\n",
              "    </tr>\n",
              "    <tr>\n",
              "      <th>1</th>\n",
              "      <td>Is it a tree that is not the solemn oak? The w...</td>\n",
              "      <td>Where Claribel low-lieth The breezes pause and...</td>\n",
              "    </tr>\n",
              "    <tr>\n",
              "      <th>2</th>\n",
              "      <td>Iâm a creature Whose claw is the body of an an...</td>\n",
              "      <td>When the eye When the edgeless screen receivin...</td>\n",
              "    </tr>\n",
              "    <tr>\n",
              "      <th>3</th>\n",
              "      <td>Iâm a single segment behind the world, two wan...</td>\n",
              "      <td>Two wandering across the porcelain Siberia, on...</td>\n",
              "    </tr>\n",
              "    <tr>\n",
              "      <th>4</th>\n",
              "      <td>I would propose a red unruly seat, and then th...</td>\n",
              "      <td>(1) Nothing that exists can be temporal; still...</td>\n",
              "    </tr>\n",
              "  </tbody>\n",
              "</table>\n",
              "</div>"
            ],
            "text/plain": [
              "                                      Generated Text                                        Actual Text\n",
              "0  I am not alone, but a violent voice John Garel...  I leaned against the mantel, sick, sick, Think...\n",
              "1  Is it a tree that is not the solemn oak? The w...  Where Claribel low-lieth The breezes pause and...\n",
              "2  Iâm a creature Whose claw is the body of an an...  When the eye When the edgeless screen receivin...\n",
              "3  Iâm a single segment behind the world, two wan...  Two wandering across the porcelain Siberia, on...\n",
              "4  I would propose a red unruly seat, and then th...  (1) Nothing that exists can be temporal; still..."
            ]
          },
          "metadata": {
            "tags": []
          }
        }
      ]
    },
    {
      "cell_type": "code",
      "metadata": {
        "colab": {
          "base_uri": "https://localhost:8080/"
        },
        "id": "sphdNhRdIxtp",
        "outputId": "e5c78794-55e6-4369-8e59-bfe4bdea31ef"
      },
      "source": [
        "print(results.iloc[2][\"Generated Text\"], \"\\n\")\n",
        "print(results.iloc[2][\"Actual Text\"])"
      ],
      "execution_count": 54,
      "outputs": [
        {
          "output_type": "stream",
          "text": [
            "Iâm a creature Whose claw is the body of an animal, And in his mouth it was not. He had to be fed Bendetto da Foiano less than one or two successive popels recognized Life protected by God and all its own laws; But now there are no other things: Then we can see him as well As you know that this life has been made Of what they have done To do with their lives? A man who could kill himself In her face That she would never die Forever but for me Like my mother at first thought about death when your father died! His heart will rise from heaven where blood still spurtes My mind so much It must come back again With such love-feeding Eternity on earthly planet Earth'd world Were born alive through our eyes Or those words which were untruther Than any human being There should always be some kindled thing About how far away She knows why So many times before Her birth Was given up against them All these days \n",
            "\n",
            "When the eye When the edgeless screen receiving light from the edgeless universe When the eye first When the edgeless screen facing outward as if hypnotized by the edgeless universe When the eye first saw that it Hungry for more light resistlessly began to fold back upon itself     TWIST As if a dog sniffing Ignorant of origins familiar with hunger As if a dog sniffing a dead dog Before nervous like itself but now weird inert cold nerveless Twisting in panic had abruptly sniffed itself When the eye first saw that it must die      When the eye first Brooding on our origins you ask When and I say Then â wound-dresser     let us call the creature driven again and again to dress with fresh bandages and a pail of disinfectant suppurations that cannot heal for the wound that confers existence is mortal wound-dresser what wound is dressed the wound of being â Understand that it can drink till it is sick, but cannot drink till it is satisfied. It alone knows you. It does not wish you well. Understand that when your mother, in her only pregnancy, gave birth to twins painfully stitched into the flesh, the bone of one child was the impossible-to-remove cloak that confers invisibility. The cloak that maimed it gave it power. Painfully stitched into the flesh, the bone of the other child was the impossible-to-remove cloak that confers visibility. The cloak that maimed it gave it power. Envying the other, of course each twin tried to punish and become the other. Understand that when the beast within you succeeds again in paralyzing into unending incompletion whatever you again had the temerity to try to make its triumph is made sweeter by confirmation of its rectitude. It knows that it alone knows you. It alone remembers your motherâs motherâs grasping immigrant bewildered stroke-filled slide-to-the-grave you wiped from your adolescent American feet. Your hick purer-than-thou overreaching veiling mediocrity. Understand that you can delude others but not what you more and more now call the beast within you. Understand the cloak that maimed each gave each power. Understand that there is a beast within you that can drink till it is sick, but cannot drink till it is satisfied. Understand that it will use the conventions of the visible world to turn your tongue to stone. It alone knows you. It does not wish you well.These are instructions for the wrangler. II Three Fates. One fate, with three faces. Clotho     Lachesis      Atropos Thread spun by one from all those forever unspun. Thread touched by one and in touching twisted into something forever unlike all others spun. Thread touched by one and in touching withered to nothing. Atropos     Lachesis     Clotho Three, who gave us in recompense for death the first alphabet, to engrave in stone what is most evanescent, the mind.According to Hesiod, daughters of Night. â Unless teeth devour it it rots: now is its season. My teeth have sunk into firm-skinned pears so succulent time stopped. When my wife, dead now ten years, pulls her dress over her petticoats and hair, the air crackles, her hair rising tangles in ecstasy. We are electric ghosts. â You hear the strange cricket in the oven sing, and ask what it sings. This is what it sings. Because Benvenuto in my native tongue means welcome, write here lies an artist who did not recoil from residence on earth â but, truly named, welcomed it. But I mis-spoke: not wife. Servant: model: mother of my child, also now dead. â In prison, immured in the black pit where the Pope once fed Benedetto da Foiano less and less each day until Godâs will, not the Popeâs own hand, killed him, â where outside my door each day the castellan repeated that darkness will teach me I am a counterfeit bat, and he a\n"
          ],
          "name": "stdout"
        }
      ]
    },
    {
      "cell_type": "markdown",
      "metadata": {
        "id": "yfaNKFrtQ7bs"
      },
      "source": [
        "## Dummy cells added by the script\n",
        "After setting the model on training, use inject the following JS code into the console to prevent losing connection after 90 mins. This code keeps adding new cells every 30 mins, so make sure to select the last cell before injection, after training, delete all these cells manually.\n",
        "```javascript\n",
        "var t_interval = 1800; // In seconds, 30 mins\n",
        "function AddCell(){\n",
        "    console.log(\"Added cell\"); \n",
        "    document.querySelector(\"#toolbar-add-code\").click() \n",
        "}\n",
        "setInterval(AddCell, t_interval*1000); // this is in ms, thus multiplied by 1000 \n",
        "```"
      ]
    },
    {
      "cell_type": "code",
      "metadata": {
        "id": "enRScr9Bg-L6"
      },
      "source": [
        ""
      ],
      "execution_count": 52,
      "outputs": []
    },
    {
      "cell_type": "code",
      "metadata": {
        "id": "WwtXgyNFoDaH"
      },
      "source": [
        ""
      ],
      "execution_count": 52,
      "outputs": []
    },
    {
      "cell_type": "code",
      "metadata": {
        "id": "KwbwhQ_ckG5b"
      },
      "source": [
        ""
      ],
      "execution_count": 52,
      "outputs": []
    },
    {
      "cell_type": "code",
      "metadata": {
        "id": "w4OngRv3hL9c"
      },
      "source": [
        ""
      ],
      "execution_count": 52,
      "outputs": []
    },
    {
      "cell_type": "code",
      "metadata": {
        "id": "Skgn-tjF1ygu"
      },
      "source": [
        ""
      ],
      "execution_count": 52,
      "outputs": []
    },
    {
      "cell_type": "code",
      "metadata": {
        "id": "IduYQ4L08251"
      },
      "source": [
        ""
      ],
      "execution_count": 52,
      "outputs": []
    },
    {
      "cell_type": "code",
      "metadata": {
        "id": "4nRfWczJutVf"
      },
      "source": [
        ""
      ],
      "execution_count": null,
      "outputs": []
    }
  ]
}