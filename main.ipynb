{
  "nbformat": 4,
  "nbformat_minor": 0,
  "metadata": {
    "colab": {
      "name": "text2poem.ipynb",
      "provenance": [],
      "collapsed_sections": [
        "jMy7DpOtax_8",
        "j4DgXBPfh8UX",
        "hBESXajW16Wr",
        "E9VKz7VtakGc",
        "W0LdG06NjwTL"
      ]
    },
    "kernelspec": {
      "name": "python3",
      "display_name": "Python 3"
    },
    "language_info": {
      "name": "python"
    },
    "widgets": {
      "application/vnd.jupyter.widget-state+json": {
        "f256abef791049f49b1da8cb0b9c0418": {
          "model_module": "@jupyter-widgets/controls",
          "model_name": "HBoxModel",
          "state": {
            "_view_name": "HBoxView",
            "_dom_classes": [],
            "_model_name": "HBoxModel",
            "_view_module": "@jupyter-widgets/controls",
            "_model_module_version": "1.5.0",
            "_view_count": null,
            "_view_module_version": "1.5.0",
            "box_style": "",
            "layout": "IPY_MODEL_6a3a48ef13d04604bd0deb6b0b9ea2b4",
            "_model_module": "@jupyter-widgets/controls",
            "children": [
              "IPY_MODEL_79309ee080824ac7a036084f9fb9b6c8",
              "IPY_MODEL_834f6f5fac5b4f44b8df21476334899a"
            ]
          }
        },
        "6a3a48ef13d04604bd0deb6b0b9ea2b4": {
          "model_module": "@jupyter-widgets/base",
          "model_name": "LayoutModel",
          "state": {
            "_view_name": "LayoutView",
            "grid_template_rows": null,
            "right": null,
            "justify_content": null,
            "_view_module": "@jupyter-widgets/base",
            "overflow": null,
            "_model_module_version": "1.2.0",
            "_view_count": null,
            "flex_flow": null,
            "width": null,
            "min_width": null,
            "border": null,
            "align_items": null,
            "bottom": null,
            "_model_module": "@jupyter-widgets/base",
            "top": null,
            "grid_column": null,
            "overflow_y": null,
            "overflow_x": null,
            "grid_auto_flow": null,
            "grid_area": null,
            "grid_template_columns": null,
            "flex": null,
            "_model_name": "LayoutModel",
            "justify_items": null,
            "grid_row": null,
            "max_height": null,
            "align_content": null,
            "visibility": null,
            "align_self": null,
            "height": null,
            "min_height": null,
            "padding": null,
            "grid_auto_rows": null,
            "grid_gap": null,
            "max_width": null,
            "order": null,
            "_view_module_version": "1.2.0",
            "grid_template_areas": null,
            "object_position": null,
            "object_fit": null,
            "grid_auto_columns": null,
            "margin": null,
            "display": null,
            "left": null
          }
        },
        "79309ee080824ac7a036084f9fb9b6c8": {
          "model_module": "@jupyter-widgets/controls",
          "model_name": "FloatProgressModel",
          "state": {
            "_view_name": "ProgressView",
            "style": "IPY_MODEL_0d598922707f47d3af3aaf0e148d2066",
            "_dom_classes": [],
            "description": "Downloading: 100%",
            "_model_name": "FloatProgressModel",
            "bar_style": "success",
            "max": 791656,
            "_view_module": "@jupyter-widgets/controls",
            "_model_module_version": "1.5.0",
            "value": 791656,
            "_view_count": null,
            "_view_module_version": "1.5.0",
            "orientation": "horizontal",
            "min": 0,
            "description_tooltip": null,
            "_model_module": "@jupyter-widgets/controls",
            "layout": "IPY_MODEL_3a304d8c0b9a4316803b1165fb7f2eb8"
          }
        },
        "834f6f5fac5b4f44b8df21476334899a": {
          "model_module": "@jupyter-widgets/controls",
          "model_name": "HTMLModel",
          "state": {
            "_view_name": "HTMLView",
            "style": "IPY_MODEL_da20122bdb7644f9a8026db213bb7169",
            "_dom_classes": [],
            "description": "",
            "_model_name": "HTMLModel",
            "placeholder": "​",
            "_view_module": "@jupyter-widgets/controls",
            "_model_module_version": "1.5.0",
            "value": " 792k/792k [1:11:25&lt;00:00, 185B/s]",
            "_view_count": null,
            "_view_module_version": "1.5.0",
            "description_tooltip": null,
            "_model_module": "@jupyter-widgets/controls",
            "layout": "IPY_MODEL_456bafda0f0c4f4d82af8b21edd5b63d"
          }
        },
        "0d598922707f47d3af3aaf0e148d2066": {
          "model_module": "@jupyter-widgets/controls",
          "model_name": "ProgressStyleModel",
          "state": {
            "_view_name": "StyleView",
            "_model_name": "ProgressStyleModel",
            "description_width": "initial",
            "_view_module": "@jupyter-widgets/base",
            "_model_module_version": "1.5.0",
            "_view_count": null,
            "_view_module_version": "1.2.0",
            "bar_color": null,
            "_model_module": "@jupyter-widgets/controls"
          }
        },
        "3a304d8c0b9a4316803b1165fb7f2eb8": {
          "model_module": "@jupyter-widgets/base",
          "model_name": "LayoutModel",
          "state": {
            "_view_name": "LayoutView",
            "grid_template_rows": null,
            "right": null,
            "justify_content": null,
            "_view_module": "@jupyter-widgets/base",
            "overflow": null,
            "_model_module_version": "1.2.0",
            "_view_count": null,
            "flex_flow": null,
            "width": null,
            "min_width": null,
            "border": null,
            "align_items": null,
            "bottom": null,
            "_model_module": "@jupyter-widgets/base",
            "top": null,
            "grid_column": null,
            "overflow_y": null,
            "overflow_x": null,
            "grid_auto_flow": null,
            "grid_area": null,
            "grid_template_columns": null,
            "flex": null,
            "_model_name": "LayoutModel",
            "justify_items": null,
            "grid_row": null,
            "max_height": null,
            "align_content": null,
            "visibility": null,
            "align_self": null,
            "height": null,
            "min_height": null,
            "padding": null,
            "grid_auto_rows": null,
            "grid_gap": null,
            "max_width": null,
            "order": null,
            "_view_module_version": "1.2.0",
            "grid_template_areas": null,
            "object_position": null,
            "object_fit": null,
            "grid_auto_columns": null,
            "margin": null,
            "display": null,
            "left": null
          }
        },
        "da20122bdb7644f9a8026db213bb7169": {
          "model_module": "@jupyter-widgets/controls",
          "model_name": "DescriptionStyleModel",
          "state": {
            "_view_name": "StyleView",
            "_model_name": "DescriptionStyleModel",
            "description_width": "",
            "_view_module": "@jupyter-widgets/base",
            "_model_module_version": "1.5.0",
            "_view_count": null,
            "_view_module_version": "1.2.0",
            "_model_module": "@jupyter-widgets/controls"
          }
        },
        "456bafda0f0c4f4d82af8b21edd5b63d": {
          "model_module": "@jupyter-widgets/base",
          "model_name": "LayoutModel",
          "state": {
            "_view_name": "LayoutView",
            "grid_template_rows": null,
            "right": null,
            "justify_content": null,
            "_view_module": "@jupyter-widgets/base",
            "overflow": null,
            "_model_module_version": "1.2.0",
            "_view_count": null,
            "flex_flow": null,
            "width": null,
            "min_width": null,
            "border": null,
            "align_items": null,
            "bottom": null,
            "_model_module": "@jupyter-widgets/base",
            "top": null,
            "grid_column": null,
            "overflow_y": null,
            "overflow_x": null,
            "grid_auto_flow": null,
            "grid_area": null,
            "grid_template_columns": null,
            "flex": null,
            "_model_name": "LayoutModel",
            "justify_items": null,
            "grid_row": null,
            "max_height": null,
            "align_content": null,
            "visibility": null,
            "align_self": null,
            "height": null,
            "min_height": null,
            "padding": null,
            "grid_auto_rows": null,
            "grid_gap": null,
            "max_width": null,
            "order": null,
            "_view_module_version": "1.2.0",
            "grid_template_areas": null,
            "object_position": null,
            "object_fit": null,
            "grid_auto_columns": null,
            "margin": null,
            "display": null,
            "left": null
          }
        },
        "040baf4abafe45de85db4961581faaf6": {
          "model_module": "@jupyter-widgets/controls",
          "model_name": "HBoxModel",
          "state": {
            "_view_name": "HBoxView",
            "_dom_classes": [],
            "_model_name": "HBoxModel",
            "_view_module": "@jupyter-widgets/controls",
            "_model_module_version": "1.5.0",
            "_view_count": null,
            "_view_module_version": "1.5.0",
            "box_style": "",
            "layout": "IPY_MODEL_64fa5752a12b416b81f4bf8a365ce57a",
            "_model_module": "@jupyter-widgets/controls",
            "children": [
              "IPY_MODEL_eed426eab51a435c9d83f523d2448dc4",
              "IPY_MODEL_56061ded34584c0083f60463de3c6c08"
            ]
          }
        },
        "64fa5752a12b416b81f4bf8a365ce57a": {
          "model_module": "@jupyter-widgets/base",
          "model_name": "LayoutModel",
          "state": {
            "_view_name": "LayoutView",
            "grid_template_rows": null,
            "right": null,
            "justify_content": null,
            "_view_module": "@jupyter-widgets/base",
            "overflow": null,
            "_model_module_version": "1.2.0",
            "_view_count": null,
            "flex_flow": null,
            "width": null,
            "min_width": null,
            "border": null,
            "align_items": null,
            "bottom": null,
            "_model_module": "@jupyter-widgets/base",
            "top": null,
            "grid_column": null,
            "overflow_y": null,
            "overflow_x": null,
            "grid_auto_flow": null,
            "grid_area": null,
            "grid_template_columns": null,
            "flex": null,
            "_model_name": "LayoutModel",
            "justify_items": null,
            "grid_row": null,
            "max_height": null,
            "align_content": null,
            "visibility": null,
            "align_self": null,
            "height": null,
            "min_height": null,
            "padding": null,
            "grid_auto_rows": null,
            "grid_gap": null,
            "max_width": null,
            "order": null,
            "_view_module_version": "1.2.0",
            "grid_template_areas": null,
            "object_position": null,
            "object_fit": null,
            "grid_auto_columns": null,
            "margin": null,
            "display": null,
            "left": null
          }
        },
        "eed426eab51a435c9d83f523d2448dc4": {
          "model_module": "@jupyter-widgets/controls",
          "model_name": "FloatProgressModel",
          "state": {
            "_view_name": "ProgressView",
            "style": "IPY_MODEL_17d695fce22c4b2da7b3f013c332b483",
            "_dom_classes": [],
            "description": "Downloading: 100%",
            "_model_name": "FloatProgressModel",
            "bar_style": "success",
            "max": 1389353,
            "_view_module": "@jupyter-widgets/controls",
            "_model_module_version": "1.5.0",
            "value": 1389353,
            "_view_count": null,
            "_view_module_version": "1.5.0",
            "orientation": "horizontal",
            "min": 0,
            "description_tooltip": null,
            "_model_module": "@jupyter-widgets/controls",
            "layout": "IPY_MODEL_39dabfb4497a4713843abf771e5d1358"
          }
        },
        "56061ded34584c0083f60463de3c6c08": {
          "model_module": "@jupyter-widgets/controls",
          "model_name": "HTMLModel",
          "state": {
            "_view_name": "HTMLView",
            "style": "IPY_MODEL_d5ce54a0e2954d7980883fbb9ea3071a",
            "_dom_classes": [],
            "description": "",
            "_model_name": "HTMLModel",
            "placeholder": "​",
            "_view_module": "@jupyter-widgets/controls",
            "_model_module_version": "1.5.0",
            "value": " 1.39M/1.39M [00:02&lt;00:00, 640kB/s]",
            "_view_count": null,
            "_view_module_version": "1.5.0",
            "description_tooltip": null,
            "_model_module": "@jupyter-widgets/controls",
            "layout": "IPY_MODEL_64092125664b489794857bc65547ba55"
          }
        },
        "17d695fce22c4b2da7b3f013c332b483": {
          "model_module": "@jupyter-widgets/controls",
          "model_name": "ProgressStyleModel",
          "state": {
            "_view_name": "StyleView",
            "_model_name": "ProgressStyleModel",
            "description_width": "initial",
            "_view_module": "@jupyter-widgets/base",
            "_model_module_version": "1.5.0",
            "_view_count": null,
            "_view_module_version": "1.2.0",
            "bar_color": null,
            "_model_module": "@jupyter-widgets/controls"
          }
        },
        "39dabfb4497a4713843abf771e5d1358": {
          "model_module": "@jupyter-widgets/base",
          "model_name": "LayoutModel",
          "state": {
            "_view_name": "LayoutView",
            "grid_template_rows": null,
            "right": null,
            "justify_content": null,
            "_view_module": "@jupyter-widgets/base",
            "overflow": null,
            "_model_module_version": "1.2.0",
            "_view_count": null,
            "flex_flow": null,
            "width": null,
            "min_width": null,
            "border": null,
            "align_items": null,
            "bottom": null,
            "_model_module": "@jupyter-widgets/base",
            "top": null,
            "grid_column": null,
            "overflow_y": null,
            "overflow_x": null,
            "grid_auto_flow": null,
            "grid_area": null,
            "grid_template_columns": null,
            "flex": null,
            "_model_name": "LayoutModel",
            "justify_items": null,
            "grid_row": null,
            "max_height": null,
            "align_content": null,
            "visibility": null,
            "align_self": null,
            "height": null,
            "min_height": null,
            "padding": null,
            "grid_auto_rows": null,
            "grid_gap": null,
            "max_width": null,
            "order": null,
            "_view_module_version": "1.2.0",
            "grid_template_areas": null,
            "object_position": null,
            "object_fit": null,
            "grid_auto_columns": null,
            "margin": null,
            "display": null,
            "left": null
          }
        },
        "d5ce54a0e2954d7980883fbb9ea3071a": {
          "model_module": "@jupyter-widgets/controls",
          "model_name": "DescriptionStyleModel",
          "state": {
            "_view_name": "StyleView",
            "_model_name": "DescriptionStyleModel",
            "description_width": "",
            "_view_module": "@jupyter-widgets/base",
            "_model_module_version": "1.5.0",
            "_view_count": null,
            "_view_module_version": "1.2.0",
            "_model_module": "@jupyter-widgets/controls"
          }
        },
        "64092125664b489794857bc65547ba55": {
          "model_module": "@jupyter-widgets/base",
          "model_name": "LayoutModel",
          "state": {
            "_view_name": "LayoutView",
            "grid_template_rows": null,
            "right": null,
            "justify_content": null,
            "_view_module": "@jupyter-widgets/base",
            "overflow": null,
            "_model_module_version": "1.2.0",
            "_view_count": null,
            "flex_flow": null,
            "width": null,
            "min_width": null,
            "border": null,
            "align_items": null,
            "bottom": null,
            "_model_module": "@jupyter-widgets/base",
            "top": null,
            "grid_column": null,
            "overflow_y": null,
            "overflow_x": null,
            "grid_auto_flow": null,
            "grid_area": null,
            "grid_template_columns": null,
            "flex": null,
            "_model_name": "LayoutModel",
            "justify_items": null,
            "grid_row": null,
            "max_height": null,
            "align_content": null,
            "visibility": null,
            "align_self": null,
            "height": null,
            "min_height": null,
            "padding": null,
            "grid_auto_rows": null,
            "grid_gap": null,
            "max_width": null,
            "order": null,
            "_view_module_version": "1.2.0",
            "grid_template_areas": null,
            "object_position": null,
            "object_fit": null,
            "grid_auto_columns": null,
            "margin": null,
            "display": null,
            "left": null
          }
        },
        "9c983f0756574a3a90d6c3393e3b0a3a": {
          "model_module": "@jupyter-widgets/controls",
          "model_name": "HBoxModel",
          "state": {
            "_view_name": "HBoxView",
            "_dom_classes": [],
            "_model_name": "HBoxModel",
            "_view_module": "@jupyter-widgets/controls",
            "_model_module_version": "1.5.0",
            "_view_count": null,
            "_view_module_version": "1.5.0",
            "box_style": "",
            "layout": "IPY_MODEL_0ae74a1a094b4befbba59177d5b68218",
            "_model_module": "@jupyter-widgets/controls",
            "children": [
              "IPY_MODEL_c3440d0eaffe4bf6b797cea3e9b61e95",
              "IPY_MODEL_3b6f3561e65349fb90f2db8c3eeb847a"
            ]
          }
        },
        "0ae74a1a094b4befbba59177d5b68218": {
          "model_module": "@jupyter-widgets/base",
          "model_name": "LayoutModel",
          "state": {
            "_view_name": "LayoutView",
            "grid_template_rows": null,
            "right": null,
            "justify_content": null,
            "_view_module": "@jupyter-widgets/base",
            "overflow": null,
            "_model_module_version": "1.2.0",
            "_view_count": null,
            "flex_flow": null,
            "width": null,
            "min_width": null,
            "border": null,
            "align_items": null,
            "bottom": null,
            "_model_module": "@jupyter-widgets/base",
            "top": null,
            "grid_column": null,
            "overflow_y": null,
            "overflow_x": null,
            "grid_auto_flow": null,
            "grid_area": null,
            "grid_template_columns": null,
            "flex": null,
            "_model_name": "LayoutModel",
            "justify_items": null,
            "grid_row": null,
            "max_height": null,
            "align_content": null,
            "visibility": null,
            "align_self": null,
            "height": null,
            "min_height": null,
            "padding": null,
            "grid_auto_rows": null,
            "grid_gap": null,
            "max_width": null,
            "order": null,
            "_view_module_version": "1.2.0",
            "grid_template_areas": null,
            "object_position": null,
            "object_fit": null,
            "grid_auto_columns": null,
            "margin": null,
            "display": null,
            "left": null
          }
        },
        "c3440d0eaffe4bf6b797cea3e9b61e95": {
          "model_module": "@jupyter-widgets/controls",
          "model_name": "FloatProgressModel",
          "state": {
            "_view_name": "ProgressView",
            "style": "IPY_MODEL_517b062b627441a0aca592719e28dbd0",
            "_dom_classes": [],
            "description": "Downloading: 100%",
            "_model_name": "FloatProgressModel",
            "bar_style": "success",
            "max": 1197,
            "_view_module": "@jupyter-widgets/controls",
            "_model_module_version": "1.5.0",
            "value": 1197,
            "_view_count": null,
            "_view_module_version": "1.5.0",
            "orientation": "horizontal",
            "min": 0,
            "description_tooltip": null,
            "_model_module": "@jupyter-widgets/controls",
            "layout": "IPY_MODEL_816e066f107548dfa8f4b18ceb34785c"
          }
        },
        "3b6f3561e65349fb90f2db8c3eeb847a": {
          "model_module": "@jupyter-widgets/controls",
          "model_name": "HTMLModel",
          "state": {
            "_view_name": "HTMLView",
            "style": "IPY_MODEL_f72315229c3c4e818b6e2d266ca97a2f",
            "_dom_classes": [],
            "description": "",
            "_model_name": "HTMLModel",
            "placeholder": "​",
            "_view_module": "@jupyter-widgets/controls",
            "_model_module_version": "1.5.0",
            "value": " 1.20k/1.20k [00:10&lt;00:00, 110B/s]",
            "_view_count": null,
            "_view_module_version": "1.5.0",
            "description_tooltip": null,
            "_model_module": "@jupyter-widgets/controls",
            "layout": "IPY_MODEL_4a56238d4dd140e8b1b6ea01c0212406"
          }
        },
        "517b062b627441a0aca592719e28dbd0": {
          "model_module": "@jupyter-widgets/controls",
          "model_name": "ProgressStyleModel",
          "state": {
            "_view_name": "StyleView",
            "_model_name": "ProgressStyleModel",
            "description_width": "initial",
            "_view_module": "@jupyter-widgets/base",
            "_model_module_version": "1.5.0",
            "_view_count": null,
            "_view_module_version": "1.2.0",
            "bar_color": null,
            "_model_module": "@jupyter-widgets/controls"
          }
        },
        "816e066f107548dfa8f4b18ceb34785c": {
          "model_module": "@jupyter-widgets/base",
          "model_name": "LayoutModel",
          "state": {
            "_view_name": "LayoutView",
            "grid_template_rows": null,
            "right": null,
            "justify_content": null,
            "_view_module": "@jupyter-widgets/base",
            "overflow": null,
            "_model_module_version": "1.2.0",
            "_view_count": null,
            "flex_flow": null,
            "width": null,
            "min_width": null,
            "border": null,
            "align_items": null,
            "bottom": null,
            "_model_module": "@jupyter-widgets/base",
            "top": null,
            "grid_column": null,
            "overflow_y": null,
            "overflow_x": null,
            "grid_auto_flow": null,
            "grid_area": null,
            "grid_template_columns": null,
            "flex": null,
            "_model_name": "LayoutModel",
            "justify_items": null,
            "grid_row": null,
            "max_height": null,
            "align_content": null,
            "visibility": null,
            "align_self": null,
            "height": null,
            "min_height": null,
            "padding": null,
            "grid_auto_rows": null,
            "grid_gap": null,
            "max_width": null,
            "order": null,
            "_view_module_version": "1.2.0",
            "grid_template_areas": null,
            "object_position": null,
            "object_fit": null,
            "grid_auto_columns": null,
            "margin": null,
            "display": null,
            "left": null
          }
        },
        "f72315229c3c4e818b6e2d266ca97a2f": {
          "model_module": "@jupyter-widgets/controls",
          "model_name": "DescriptionStyleModel",
          "state": {
            "_view_name": "StyleView",
            "_model_name": "DescriptionStyleModel",
            "description_width": "",
            "_view_module": "@jupyter-widgets/base",
            "_model_module_version": "1.5.0",
            "_view_count": null,
            "_view_module_version": "1.2.0",
            "_model_module": "@jupyter-widgets/controls"
          }
        },
        "4a56238d4dd140e8b1b6ea01c0212406": {
          "model_module": "@jupyter-widgets/base",
          "model_name": "LayoutModel",
          "state": {
            "_view_name": "LayoutView",
            "grid_template_rows": null,
            "right": null,
            "justify_content": null,
            "_view_module": "@jupyter-widgets/base",
            "overflow": null,
            "_model_module_version": "1.2.0",
            "_view_count": null,
            "flex_flow": null,
            "width": null,
            "min_width": null,
            "border": null,
            "align_items": null,
            "bottom": null,
            "_model_module": "@jupyter-widgets/base",
            "top": null,
            "grid_column": null,
            "overflow_y": null,
            "overflow_x": null,
            "grid_auto_flow": null,
            "grid_area": null,
            "grid_template_columns": null,
            "flex": null,
            "_model_name": "LayoutModel",
            "justify_items": null,
            "grid_row": null,
            "max_height": null,
            "align_content": null,
            "visibility": null,
            "align_self": null,
            "height": null,
            "min_height": null,
            "padding": null,
            "grid_auto_rows": null,
            "grid_gap": null,
            "max_width": null,
            "order": null,
            "_view_module_version": "1.2.0",
            "grid_template_areas": null,
            "object_position": null,
            "object_fit": null,
            "grid_auto_columns": null,
            "margin": null,
            "display": null,
            "left": null
          }
        },
        "32d217a7df9441efa6281295303ac4c6": {
          "model_module": "@jupyter-widgets/controls",
          "model_name": "HBoxModel",
          "state": {
            "_view_name": "HBoxView",
            "_dom_classes": [],
            "_model_name": "HBoxModel",
            "_view_module": "@jupyter-widgets/controls",
            "_model_module_version": "1.5.0",
            "_view_count": null,
            "_view_module_version": "1.5.0",
            "box_style": "",
            "layout": "IPY_MODEL_1d79784ed7eb45c48701e2543593e02b",
            "_model_module": "@jupyter-widgets/controls",
            "children": [
              "IPY_MODEL_366cfb81b60849b582b52a9a8fc108d3",
              "IPY_MODEL_1baf774254954f198804f536a2e8dee2"
            ]
          }
        },
        "1d79784ed7eb45c48701e2543593e02b": {
          "model_module": "@jupyter-widgets/base",
          "model_name": "LayoutModel",
          "state": {
            "_view_name": "LayoutView",
            "grid_template_rows": null,
            "right": null,
            "justify_content": null,
            "_view_module": "@jupyter-widgets/base",
            "overflow": null,
            "_model_module_version": "1.2.0",
            "_view_count": null,
            "flex_flow": null,
            "width": null,
            "min_width": null,
            "border": null,
            "align_items": null,
            "bottom": null,
            "_model_module": "@jupyter-widgets/base",
            "top": null,
            "grid_column": null,
            "overflow_y": null,
            "overflow_x": null,
            "grid_auto_flow": null,
            "grid_area": null,
            "grid_template_columns": null,
            "flex": null,
            "_model_name": "LayoutModel",
            "justify_items": null,
            "grid_row": null,
            "max_height": null,
            "align_content": null,
            "visibility": null,
            "align_self": null,
            "height": null,
            "min_height": null,
            "padding": null,
            "grid_auto_rows": null,
            "grid_gap": null,
            "max_width": null,
            "order": null,
            "_view_module_version": "1.2.0",
            "grid_template_areas": null,
            "object_position": null,
            "object_fit": null,
            "grid_auto_columns": null,
            "margin": null,
            "display": null,
            "left": null
          }
        },
        "366cfb81b60849b582b52a9a8fc108d3": {
          "model_module": "@jupyter-widgets/controls",
          "model_name": "FloatProgressModel",
          "state": {
            "_view_name": "ProgressView",
            "style": "IPY_MODEL_099da5c667af4adda0a22c39a53b4e14",
            "_dom_classes": [],
            "description": "Downloading: 100%",
            "_model_name": "FloatProgressModel",
            "bar_style": "success",
            "max": 242065649,
            "_view_module": "@jupyter-widgets/controls",
            "_model_module_version": "1.5.0",
            "value": 242065649,
            "_view_count": null,
            "_view_module_version": "1.5.0",
            "orientation": "horizontal",
            "min": 0,
            "description_tooltip": null,
            "_model_module": "@jupyter-widgets/controls",
            "layout": "IPY_MODEL_6a02591a6ff2412295268c4c7d97f8e5"
          }
        },
        "1baf774254954f198804f536a2e8dee2": {
          "model_module": "@jupyter-widgets/controls",
          "model_name": "HTMLModel",
          "state": {
            "_view_name": "HTMLView",
            "style": "IPY_MODEL_5e80830864874daa90db2a48b7537e7d",
            "_dom_classes": [],
            "description": "",
            "_model_name": "HTMLModel",
            "placeholder": "​",
            "_view_module": "@jupyter-widgets/controls",
            "_model_module_version": "1.5.0",
            "value": " 242M/242M [00:08&lt;00:00, 28.2MB/s]",
            "_view_count": null,
            "_view_module_version": "1.5.0",
            "description_tooltip": null,
            "_model_module": "@jupyter-widgets/controls",
            "layout": "IPY_MODEL_4a2b53b33f1f4fe3bbb25710d9517e13"
          }
        },
        "099da5c667af4adda0a22c39a53b4e14": {
          "model_module": "@jupyter-widgets/controls",
          "model_name": "ProgressStyleModel",
          "state": {
            "_view_name": "StyleView",
            "_model_name": "ProgressStyleModel",
            "description_width": "initial",
            "_view_module": "@jupyter-widgets/base",
            "_model_module_version": "1.5.0",
            "_view_count": null,
            "_view_module_version": "1.2.0",
            "bar_color": null,
            "_model_module": "@jupyter-widgets/controls"
          }
        },
        "6a02591a6ff2412295268c4c7d97f8e5": {
          "model_module": "@jupyter-widgets/base",
          "model_name": "LayoutModel",
          "state": {
            "_view_name": "LayoutView",
            "grid_template_rows": null,
            "right": null,
            "justify_content": null,
            "_view_module": "@jupyter-widgets/base",
            "overflow": null,
            "_model_module_version": "1.2.0",
            "_view_count": null,
            "flex_flow": null,
            "width": null,
            "min_width": null,
            "border": null,
            "align_items": null,
            "bottom": null,
            "_model_module": "@jupyter-widgets/base",
            "top": null,
            "grid_column": null,
            "overflow_y": null,
            "overflow_x": null,
            "grid_auto_flow": null,
            "grid_area": null,
            "grid_template_columns": null,
            "flex": null,
            "_model_name": "LayoutModel",
            "justify_items": null,
            "grid_row": null,
            "max_height": null,
            "align_content": null,
            "visibility": null,
            "align_self": null,
            "height": null,
            "min_height": null,
            "padding": null,
            "grid_auto_rows": null,
            "grid_gap": null,
            "max_width": null,
            "order": null,
            "_view_module_version": "1.2.0",
            "grid_template_areas": null,
            "object_position": null,
            "object_fit": null,
            "grid_auto_columns": null,
            "margin": null,
            "display": null,
            "left": null
          }
        },
        "5e80830864874daa90db2a48b7537e7d": {
          "model_module": "@jupyter-widgets/controls",
          "model_name": "DescriptionStyleModel",
          "state": {
            "_view_name": "StyleView",
            "_model_name": "DescriptionStyleModel",
            "description_width": "",
            "_view_module": "@jupyter-widgets/base",
            "_model_module_version": "1.5.0",
            "_view_count": null,
            "_view_module_version": "1.2.0",
            "_model_module": "@jupyter-widgets/controls"
          }
        },
        "4a2b53b33f1f4fe3bbb25710d9517e13": {
          "model_module": "@jupyter-widgets/base",
          "model_name": "LayoutModel",
          "state": {
            "_view_name": "LayoutView",
            "grid_template_rows": null,
            "right": null,
            "justify_content": null,
            "_view_module": "@jupyter-widgets/base",
            "overflow": null,
            "_model_module_version": "1.2.0",
            "_view_count": null,
            "flex_flow": null,
            "width": null,
            "min_width": null,
            "border": null,
            "align_items": null,
            "bottom": null,
            "_model_module": "@jupyter-widgets/base",
            "top": null,
            "grid_column": null,
            "overflow_y": null,
            "overflow_x": null,
            "grid_auto_flow": null,
            "grid_area": null,
            "grid_template_columns": null,
            "flex": null,
            "_model_name": "LayoutModel",
            "justify_items": null,
            "grid_row": null,
            "max_height": null,
            "align_content": null,
            "visibility": null,
            "align_self": null,
            "height": null,
            "min_height": null,
            "padding": null,
            "grid_auto_rows": null,
            "grid_gap": null,
            "max_width": null,
            "order": null,
            "_view_module_version": "1.2.0",
            "grid_template_areas": null,
            "object_position": null,
            "object_fit": null,
            "grid_auto_columns": null,
            "margin": null,
            "display": null,
            "left": null
          }
        },
        "d03d7365aef74d2f8a91935301efefa8": {
          "model_module": "@jupyter-widgets/controls",
          "model_name": "HBoxModel",
          "state": {
            "_view_name": "HBoxView",
            "_dom_classes": [],
            "_model_name": "HBoxModel",
            "_view_module": "@jupyter-widgets/controls",
            "_model_module_version": "1.5.0",
            "_view_count": null,
            "_view_module_version": "1.5.0",
            "box_style": "",
            "layout": "IPY_MODEL_e172539604fb4ecc81e39fb5b5c39609",
            "_model_module": "@jupyter-widgets/controls",
            "children": [
              "IPY_MODEL_cdfd0ecab3ed42d8b5bce5badd10c2da",
              "IPY_MODEL_5f2704cf30cf4582b2be6a5cc38923db"
            ]
          }
        },
        "e172539604fb4ecc81e39fb5b5c39609": {
          "model_module": "@jupyter-widgets/base",
          "model_name": "LayoutModel",
          "state": {
            "_view_name": "LayoutView",
            "grid_template_rows": null,
            "right": null,
            "justify_content": null,
            "_view_module": "@jupyter-widgets/base",
            "overflow": null,
            "_model_module_version": "1.2.0",
            "_view_count": null,
            "flex_flow": null,
            "width": null,
            "min_width": null,
            "border": null,
            "align_items": null,
            "bottom": null,
            "_model_module": "@jupyter-widgets/base",
            "top": null,
            "grid_column": null,
            "overflow_y": null,
            "overflow_x": null,
            "grid_auto_flow": null,
            "grid_area": null,
            "grid_template_columns": null,
            "flex": null,
            "_model_name": "LayoutModel",
            "justify_items": null,
            "grid_row": null,
            "max_height": null,
            "align_content": null,
            "visibility": null,
            "align_self": null,
            "height": null,
            "min_height": null,
            "padding": null,
            "grid_auto_rows": null,
            "grid_gap": null,
            "max_width": null,
            "order": null,
            "_view_module_version": "1.2.0",
            "grid_template_areas": null,
            "object_position": null,
            "object_fit": null,
            "grid_auto_columns": null,
            "margin": null,
            "display": null,
            "left": null
          }
        },
        "cdfd0ecab3ed42d8b5bce5badd10c2da": {
          "model_module": "@jupyter-widgets/controls",
          "model_name": "FloatProgressModel",
          "state": {
            "_view_name": "ProgressView",
            "style": "IPY_MODEL_803d1bb6c7874c8aab15c79a54cf0119",
            "_dom_classes": [],
            "description": "100%",
            "_model_name": "FloatProgressModel",
            "bar_style": "success",
            "max": 3266,
            "_view_module": "@jupyter-widgets/controls",
            "_model_module_version": "1.5.0",
            "value": 3266,
            "_view_count": null,
            "_view_module_version": "1.5.0",
            "orientation": "horizontal",
            "min": 0,
            "description_tooltip": null,
            "_model_module": "@jupyter-widgets/controls",
            "layout": "IPY_MODEL_70344488336d411aa890132ac40469ea"
          }
        },
        "5f2704cf30cf4582b2be6a5cc38923db": {
          "model_module": "@jupyter-widgets/controls",
          "model_name": "HTMLModel",
          "state": {
            "_view_name": "HTMLView",
            "style": "IPY_MODEL_0338c3852ba94d6388a3b35d69db5c94",
            "_dom_classes": [],
            "description": "",
            "_model_name": "HTMLModel",
            "placeholder": "​",
            "_view_module": "@jupyter-widgets/controls",
            "_model_module_version": "1.5.0",
            "value": " 3266/3266 [1:11:00&lt;00:00,  1.30s/it]",
            "_view_count": null,
            "_view_module_version": "1.5.0",
            "description_tooltip": null,
            "_model_module": "@jupyter-widgets/controls",
            "layout": "IPY_MODEL_11451955c32b4eceac72992376f07a06"
          }
        },
        "803d1bb6c7874c8aab15c79a54cf0119": {
          "model_module": "@jupyter-widgets/controls",
          "model_name": "ProgressStyleModel",
          "state": {
            "_view_name": "StyleView",
            "_model_name": "ProgressStyleModel",
            "description_width": "initial",
            "_view_module": "@jupyter-widgets/base",
            "_model_module_version": "1.5.0",
            "_view_count": null,
            "_view_module_version": "1.2.0",
            "bar_color": null,
            "_model_module": "@jupyter-widgets/controls"
          }
        },
        "70344488336d411aa890132ac40469ea": {
          "model_module": "@jupyter-widgets/base",
          "model_name": "LayoutModel",
          "state": {
            "_view_name": "LayoutView",
            "grid_template_rows": null,
            "right": null,
            "justify_content": null,
            "_view_module": "@jupyter-widgets/base",
            "overflow": null,
            "_model_module_version": "1.2.0",
            "_view_count": null,
            "flex_flow": null,
            "width": null,
            "min_width": null,
            "border": null,
            "align_items": null,
            "bottom": null,
            "_model_module": "@jupyter-widgets/base",
            "top": null,
            "grid_column": null,
            "overflow_y": null,
            "overflow_x": null,
            "grid_auto_flow": null,
            "grid_area": null,
            "grid_template_columns": null,
            "flex": null,
            "_model_name": "LayoutModel",
            "justify_items": null,
            "grid_row": null,
            "max_height": null,
            "align_content": null,
            "visibility": null,
            "align_self": null,
            "height": null,
            "min_height": null,
            "padding": null,
            "grid_auto_rows": null,
            "grid_gap": null,
            "max_width": null,
            "order": null,
            "_view_module_version": "1.2.0",
            "grid_template_areas": null,
            "object_position": null,
            "object_fit": null,
            "grid_auto_columns": null,
            "margin": null,
            "display": null,
            "left": null
          }
        },
        "0338c3852ba94d6388a3b35d69db5c94": {
          "model_module": "@jupyter-widgets/controls",
          "model_name": "DescriptionStyleModel",
          "state": {
            "_view_name": "StyleView",
            "_model_name": "DescriptionStyleModel",
            "description_width": "",
            "_view_module": "@jupyter-widgets/base",
            "_model_module_version": "1.5.0",
            "_view_count": null,
            "_view_module_version": "1.2.0",
            "_model_module": "@jupyter-widgets/controls"
          }
        },
        "11451955c32b4eceac72992376f07a06": {
          "model_module": "@jupyter-widgets/base",
          "model_name": "LayoutModel",
          "state": {
            "_view_name": "LayoutView",
            "grid_template_rows": null,
            "right": null,
            "justify_content": null,
            "_view_module": "@jupyter-widgets/base",
            "overflow": null,
            "_model_module_version": "1.2.0",
            "_view_count": null,
            "flex_flow": null,
            "width": null,
            "min_width": null,
            "border": null,
            "align_items": null,
            "bottom": null,
            "_model_module": "@jupyter-widgets/base",
            "top": null,
            "grid_column": null,
            "overflow_y": null,
            "overflow_x": null,
            "grid_auto_flow": null,
            "grid_area": null,
            "grid_template_columns": null,
            "flex": null,
            "_model_name": "LayoutModel",
            "justify_items": null,
            "grid_row": null,
            "max_height": null,
            "align_content": null,
            "visibility": null,
            "align_self": null,
            "height": null,
            "min_height": null,
            "padding": null,
            "grid_auto_rows": null,
            "grid_gap": null,
            "max_width": null,
            "order": null,
            "_view_module_version": "1.2.0",
            "grid_template_areas": null,
            "object_position": null,
            "object_fit": null,
            "grid_auto_columns": null,
            "margin": null,
            "display": null,
            "left": null
          }
        },
        "10772da756b14d1793d88b880bac3aff": {
          "model_module": "@jupyter-widgets/controls",
          "model_name": "HBoxModel",
          "state": {
            "_view_name": "HBoxView",
            "_dom_classes": [],
            "_model_name": "HBoxModel",
            "_view_module": "@jupyter-widgets/controls",
            "_model_module_version": "1.5.0",
            "_view_count": null,
            "_view_module_version": "1.5.0",
            "box_style": "",
            "layout": "IPY_MODEL_1b3ae71fc9bf43a1a5098bcea630704d",
            "_model_module": "@jupyter-widgets/controls",
            "children": [
              "IPY_MODEL_c61262d00696451cb3d77964f46785b1",
              "IPY_MODEL_2026d9785d494974b64a50fc5a7fbd30"
            ]
          }
        },
        "1b3ae71fc9bf43a1a5098bcea630704d": {
          "model_module": "@jupyter-widgets/base",
          "model_name": "LayoutModel",
          "state": {
            "_view_name": "LayoutView",
            "grid_template_rows": null,
            "right": null,
            "justify_content": null,
            "_view_module": "@jupyter-widgets/base",
            "overflow": null,
            "_model_module_version": "1.2.0",
            "_view_count": null,
            "flex_flow": null,
            "width": null,
            "min_width": null,
            "border": null,
            "align_items": null,
            "bottom": null,
            "_model_module": "@jupyter-widgets/base",
            "top": null,
            "grid_column": null,
            "overflow_y": null,
            "overflow_x": null,
            "grid_auto_flow": null,
            "grid_area": null,
            "grid_template_columns": null,
            "flex": null,
            "_model_name": "LayoutModel",
            "justify_items": null,
            "grid_row": null,
            "max_height": null,
            "align_content": null,
            "visibility": null,
            "align_self": null,
            "height": null,
            "min_height": null,
            "padding": null,
            "grid_auto_rows": null,
            "grid_gap": null,
            "max_width": null,
            "order": null,
            "_view_module_version": "1.2.0",
            "grid_template_areas": null,
            "object_position": null,
            "object_fit": null,
            "grid_auto_columns": null,
            "margin": null,
            "display": null,
            "left": null
          }
        },
        "c61262d00696451cb3d77964f46785b1": {
          "model_module": "@jupyter-widgets/controls",
          "model_name": "FloatProgressModel",
          "state": {
            "_view_name": "ProgressView",
            "style": "IPY_MODEL_3a4fcbd3df0a4243a21bfd95c9f35bd6",
            "_dom_classes": [],
            "description": "100%",
            "_model_name": "FloatProgressModel",
            "bar_style": "success",
            "max": 3266,
            "_view_module": "@jupyter-widgets/controls",
            "_model_module_version": "1.5.0",
            "value": 3266,
            "_view_count": null,
            "_view_module_version": "1.5.0",
            "orientation": "horizontal",
            "min": 0,
            "description_tooltip": null,
            "_model_module": "@jupyter-widgets/controls",
            "layout": "IPY_MODEL_d45c5318dcf341e1af8efcf9d4752b4e"
          }
        },
        "2026d9785d494974b64a50fc5a7fbd30": {
          "model_module": "@jupyter-widgets/controls",
          "model_name": "HTMLModel",
          "state": {
            "_view_name": "HTMLView",
            "style": "IPY_MODEL_be3ae0e150004071868a47955d970e89",
            "_dom_classes": [],
            "description": "",
            "_model_name": "HTMLModel",
            "placeholder": "​",
            "_view_module": "@jupyter-widgets/controls",
            "_model_module_version": "1.5.0",
            "value": " 3266/3266 [14:14&lt;00:00,  3.82it/s]",
            "_view_count": null,
            "_view_module_version": "1.5.0",
            "description_tooltip": null,
            "_model_module": "@jupyter-widgets/controls",
            "layout": "IPY_MODEL_74d80e850e10484a9b9e838c2acadd54"
          }
        },
        "3a4fcbd3df0a4243a21bfd95c9f35bd6": {
          "model_module": "@jupyter-widgets/controls",
          "model_name": "ProgressStyleModel",
          "state": {
            "_view_name": "StyleView",
            "_model_name": "ProgressStyleModel",
            "description_width": "initial",
            "_view_module": "@jupyter-widgets/base",
            "_model_module_version": "1.5.0",
            "_view_count": null,
            "_view_module_version": "1.2.0",
            "bar_color": null,
            "_model_module": "@jupyter-widgets/controls"
          }
        },
        "d45c5318dcf341e1af8efcf9d4752b4e": {
          "model_module": "@jupyter-widgets/base",
          "model_name": "LayoutModel",
          "state": {
            "_view_name": "LayoutView",
            "grid_template_rows": null,
            "right": null,
            "justify_content": null,
            "_view_module": "@jupyter-widgets/base",
            "overflow": null,
            "_model_module_version": "1.2.0",
            "_view_count": null,
            "flex_flow": null,
            "width": null,
            "min_width": null,
            "border": null,
            "align_items": null,
            "bottom": null,
            "_model_module": "@jupyter-widgets/base",
            "top": null,
            "grid_column": null,
            "overflow_y": null,
            "overflow_x": null,
            "grid_auto_flow": null,
            "grid_area": null,
            "grid_template_columns": null,
            "flex": null,
            "_model_name": "LayoutModel",
            "justify_items": null,
            "grid_row": null,
            "max_height": null,
            "align_content": null,
            "visibility": null,
            "align_self": null,
            "height": null,
            "min_height": null,
            "padding": null,
            "grid_auto_rows": null,
            "grid_gap": null,
            "max_width": null,
            "order": null,
            "_view_module_version": "1.2.0",
            "grid_template_areas": null,
            "object_position": null,
            "object_fit": null,
            "grid_auto_columns": null,
            "margin": null,
            "display": null,
            "left": null
          }
        },
        "be3ae0e150004071868a47955d970e89": {
          "model_module": "@jupyter-widgets/controls",
          "model_name": "DescriptionStyleModel",
          "state": {
            "_view_name": "StyleView",
            "_model_name": "DescriptionStyleModel",
            "description_width": "",
            "_view_module": "@jupyter-widgets/base",
            "_model_module_version": "1.5.0",
            "_view_count": null,
            "_view_module_version": "1.2.0",
            "_model_module": "@jupyter-widgets/controls"
          }
        },
        "74d80e850e10484a9b9e838c2acadd54": {
          "model_module": "@jupyter-widgets/base",
          "model_name": "LayoutModel",
          "state": {
            "_view_name": "LayoutView",
            "grid_template_rows": null,
            "right": null,
            "justify_content": null,
            "_view_module": "@jupyter-widgets/base",
            "overflow": null,
            "_model_module_version": "1.2.0",
            "_view_count": null,
            "flex_flow": null,
            "width": null,
            "min_width": null,
            "border": null,
            "align_items": null,
            "bottom": null,
            "_model_module": "@jupyter-widgets/base",
            "top": null,
            "grid_column": null,
            "overflow_y": null,
            "overflow_x": null,
            "grid_auto_flow": null,
            "grid_area": null,
            "grid_template_columns": null,
            "flex": null,
            "_model_name": "LayoutModel",
            "justify_items": null,
            "grid_row": null,
            "max_height": null,
            "align_content": null,
            "visibility": null,
            "align_self": null,
            "height": null,
            "min_height": null,
            "padding": null,
            "grid_auto_rows": null,
            "grid_gap": null,
            "max_width": null,
            "order": null,
            "_view_module_version": "1.2.0",
            "grid_template_areas": null,
            "object_position": null,
            "object_fit": null,
            "grid_auto_columns": null,
            "margin": null,
            "display": null,
            "left": null
          }
        },
        "69f2c6be71544740926b9750020f7296": {
          "model_module": "@jupyter-widgets/controls",
          "model_name": "HBoxModel",
          "state": {
            "_view_name": "HBoxView",
            "_dom_classes": [],
            "_model_name": "HBoxModel",
            "_view_module": "@jupyter-widgets/controls",
            "_model_module_version": "1.5.0",
            "_view_count": null,
            "_view_module_version": "1.5.0",
            "box_style": "",
            "layout": "IPY_MODEL_01ad6e4cbf05434db82799791b0e45c5",
            "_model_module": "@jupyter-widgets/controls",
            "children": [
              "IPY_MODEL_9edfa97e6e6e478382e67557115e83b8",
              "IPY_MODEL_0ebd4800811245738b1b0a97d74b37ea"
            ]
          }
        },
        "01ad6e4cbf05434db82799791b0e45c5": {
          "model_module": "@jupyter-widgets/base",
          "model_name": "LayoutModel",
          "state": {
            "_view_name": "LayoutView",
            "grid_template_rows": null,
            "right": null,
            "justify_content": null,
            "_view_module": "@jupyter-widgets/base",
            "overflow": null,
            "_model_module_version": "1.2.0",
            "_view_count": null,
            "flex_flow": null,
            "width": null,
            "min_width": null,
            "border": null,
            "align_items": null,
            "bottom": null,
            "_model_module": "@jupyter-widgets/base",
            "top": null,
            "grid_column": null,
            "overflow_y": null,
            "overflow_x": null,
            "grid_auto_flow": null,
            "grid_area": null,
            "grid_template_columns": null,
            "flex": null,
            "_model_name": "LayoutModel",
            "justify_items": null,
            "grid_row": null,
            "max_height": null,
            "align_content": null,
            "visibility": null,
            "align_self": null,
            "height": null,
            "min_height": null,
            "padding": null,
            "grid_auto_rows": null,
            "grid_gap": null,
            "max_width": null,
            "order": null,
            "_view_module_version": "1.2.0",
            "grid_template_areas": null,
            "object_position": null,
            "object_fit": null,
            "grid_auto_columns": null,
            "margin": null,
            "display": null,
            "left": null
          }
        },
        "9edfa97e6e6e478382e67557115e83b8": {
          "model_module": "@jupyter-widgets/controls",
          "model_name": "FloatProgressModel",
          "state": {
            "_view_name": "ProgressView",
            "style": "IPY_MODEL_e62ba3e7c42f45c4bae454324056525a",
            "_dom_classes": [],
            "description": "100%",
            "_model_name": "FloatProgressModel",
            "bar_style": "success",
            "max": 3266,
            "_view_module": "@jupyter-widgets/controls",
            "_model_module_version": "1.5.0",
            "value": 3266,
            "_view_count": null,
            "_view_module_version": "1.5.0",
            "orientation": "horizontal",
            "min": 0,
            "description_tooltip": null,
            "_model_module": "@jupyter-widgets/controls",
            "layout": "IPY_MODEL_182ed860c8c34751ba9e947f5f5a0733"
          }
        },
        "0ebd4800811245738b1b0a97d74b37ea": {
          "model_module": "@jupyter-widgets/controls",
          "model_name": "HTMLModel",
          "state": {
            "_view_name": "HTMLView",
            "style": "IPY_MODEL_79291a7ce68648d88ef9cb0d716096b0",
            "_dom_classes": [],
            "description": "",
            "_model_name": "HTMLModel",
            "placeholder": "​",
            "_view_module": "@jupyter-widgets/controls",
            "_model_module_version": "1.5.0",
            "value": " 3266/3266 [42:26&lt;00:00,  1.28it/s]",
            "_view_count": null,
            "_view_module_version": "1.5.0",
            "description_tooltip": null,
            "_model_module": "@jupyter-widgets/controls",
            "layout": "IPY_MODEL_3078744a485d400782ff50ed69a4eec2"
          }
        },
        "e62ba3e7c42f45c4bae454324056525a": {
          "model_module": "@jupyter-widgets/controls",
          "model_name": "ProgressStyleModel",
          "state": {
            "_view_name": "StyleView",
            "_model_name": "ProgressStyleModel",
            "description_width": "initial",
            "_view_module": "@jupyter-widgets/base",
            "_model_module_version": "1.5.0",
            "_view_count": null,
            "_view_module_version": "1.2.0",
            "bar_color": null,
            "_model_module": "@jupyter-widgets/controls"
          }
        },
        "182ed860c8c34751ba9e947f5f5a0733": {
          "model_module": "@jupyter-widgets/base",
          "model_name": "LayoutModel",
          "state": {
            "_view_name": "LayoutView",
            "grid_template_rows": null,
            "right": null,
            "justify_content": null,
            "_view_module": "@jupyter-widgets/base",
            "overflow": null,
            "_model_module_version": "1.2.0",
            "_view_count": null,
            "flex_flow": null,
            "width": null,
            "min_width": null,
            "border": null,
            "align_items": null,
            "bottom": null,
            "_model_module": "@jupyter-widgets/base",
            "top": null,
            "grid_column": null,
            "overflow_y": null,
            "overflow_x": null,
            "grid_auto_flow": null,
            "grid_area": null,
            "grid_template_columns": null,
            "flex": null,
            "_model_name": "LayoutModel",
            "justify_items": null,
            "grid_row": null,
            "max_height": null,
            "align_content": null,
            "visibility": null,
            "align_self": null,
            "height": null,
            "min_height": null,
            "padding": null,
            "grid_auto_rows": null,
            "grid_gap": null,
            "max_width": null,
            "order": null,
            "_view_module_version": "1.2.0",
            "grid_template_areas": null,
            "object_position": null,
            "object_fit": null,
            "grid_auto_columns": null,
            "margin": null,
            "display": null,
            "left": null
          }
        },
        "79291a7ce68648d88ef9cb0d716096b0": {
          "model_module": "@jupyter-widgets/controls",
          "model_name": "DescriptionStyleModel",
          "state": {
            "_view_name": "StyleView",
            "_model_name": "DescriptionStyleModel",
            "description_width": "",
            "_view_module": "@jupyter-widgets/base",
            "_model_module_version": "1.5.0",
            "_view_count": null,
            "_view_module_version": "1.2.0",
            "_model_module": "@jupyter-widgets/controls"
          }
        },
        "3078744a485d400782ff50ed69a4eec2": {
          "model_module": "@jupyter-widgets/base",
          "model_name": "LayoutModel",
          "state": {
            "_view_name": "LayoutView",
            "grid_template_rows": null,
            "right": null,
            "justify_content": null,
            "_view_module": "@jupyter-widgets/base",
            "overflow": null,
            "_model_module_version": "1.2.0",
            "_view_count": null,
            "flex_flow": null,
            "width": null,
            "min_width": null,
            "border": null,
            "align_items": null,
            "bottom": null,
            "_model_module": "@jupyter-widgets/base",
            "top": null,
            "grid_column": null,
            "overflow_y": null,
            "overflow_x": null,
            "grid_auto_flow": null,
            "grid_area": null,
            "grid_template_columns": null,
            "flex": null,
            "_model_name": "LayoutModel",
            "justify_items": null,
            "grid_row": null,
            "max_height": null,
            "align_content": null,
            "visibility": null,
            "align_self": null,
            "height": null,
            "min_height": null,
            "padding": null,
            "grid_auto_rows": null,
            "grid_gap": null,
            "max_width": null,
            "order": null,
            "_view_module_version": "1.2.0",
            "grid_template_areas": null,
            "object_position": null,
            "object_fit": null,
            "grid_auto_columns": null,
            "margin": null,
            "display": null,
            "left": null
          }
        },
        "f133b8370dad45bd9a8b102619664e22": {
          "model_module": "@jupyter-widgets/controls",
          "model_name": "HBoxModel",
          "state": {
            "_view_name": "HBoxView",
            "_dom_classes": [],
            "_model_name": "HBoxModel",
            "_view_module": "@jupyter-widgets/controls",
            "_model_module_version": "1.5.0",
            "_view_count": null,
            "_view_module_version": "1.5.0",
            "box_style": "",
            "layout": "IPY_MODEL_235d887546c740b49c1203e32c3a74c1",
            "_model_module": "@jupyter-widgets/controls",
            "children": [
              "IPY_MODEL_707bcb1a7427437ab76a95f53a0cf8c4",
              "IPY_MODEL_42a03ad25c3345d6adc4c41ca9952fa7"
            ]
          }
        },
        "235d887546c740b49c1203e32c3a74c1": {
          "model_module": "@jupyter-widgets/base",
          "model_name": "LayoutModel",
          "state": {
            "_view_name": "LayoutView",
            "grid_template_rows": null,
            "right": null,
            "justify_content": null,
            "_view_module": "@jupyter-widgets/base",
            "overflow": null,
            "_model_module_version": "1.2.0",
            "_view_count": null,
            "flex_flow": null,
            "width": null,
            "min_width": null,
            "border": null,
            "align_items": null,
            "bottom": null,
            "_model_module": "@jupyter-widgets/base",
            "top": null,
            "grid_column": null,
            "overflow_y": null,
            "overflow_x": null,
            "grid_auto_flow": null,
            "grid_area": null,
            "grid_template_columns": null,
            "flex": null,
            "_model_name": "LayoutModel",
            "justify_items": null,
            "grid_row": null,
            "max_height": null,
            "align_content": null,
            "visibility": null,
            "align_self": null,
            "height": null,
            "min_height": null,
            "padding": null,
            "grid_auto_rows": null,
            "grid_gap": null,
            "max_width": null,
            "order": null,
            "_view_module_version": "1.2.0",
            "grid_template_areas": null,
            "object_position": null,
            "object_fit": null,
            "grid_auto_columns": null,
            "margin": null,
            "display": null,
            "left": null
          }
        },
        "707bcb1a7427437ab76a95f53a0cf8c4": {
          "model_module": "@jupyter-widgets/controls",
          "model_name": "FloatProgressModel",
          "state": {
            "_view_name": "ProgressView",
            "style": "IPY_MODEL_0a092716466944dc9c288e650f55441b",
            "_dom_classes": [],
            "description": "100%",
            "_model_name": "FloatProgressModel",
            "bar_style": "success",
            "max": 3266,
            "_view_module": "@jupyter-widgets/controls",
            "_model_module_version": "1.5.0",
            "value": 3266,
            "_view_count": null,
            "_view_module_version": "1.5.0",
            "orientation": "horizontal",
            "min": 0,
            "description_tooltip": null,
            "_model_module": "@jupyter-widgets/controls",
            "layout": "IPY_MODEL_50a837bb7bcd45bd90f546b999d65c68"
          }
        },
        "42a03ad25c3345d6adc4c41ca9952fa7": {
          "model_module": "@jupyter-widgets/controls",
          "model_name": "HTMLModel",
          "state": {
            "_view_name": "HTMLView",
            "style": "IPY_MODEL_60ccb7ccae494cbfa04837ca2fdfb63f",
            "_dom_classes": [],
            "description": "",
            "_model_name": "HTMLModel",
            "placeholder": "​",
            "_view_module": "@jupyter-widgets/controls",
            "_model_module_version": "1.5.0",
            "value": " 3266/3266 [28:09&lt;00:00,  1.93it/s]",
            "_view_count": null,
            "_view_module_version": "1.5.0",
            "description_tooltip": null,
            "_model_module": "@jupyter-widgets/controls",
            "layout": "IPY_MODEL_9b9000788e9a4490b1cf817ecacd14be"
          }
        },
        "0a092716466944dc9c288e650f55441b": {
          "model_module": "@jupyter-widgets/controls",
          "model_name": "ProgressStyleModel",
          "state": {
            "_view_name": "StyleView",
            "_model_name": "ProgressStyleModel",
            "description_width": "initial",
            "_view_module": "@jupyter-widgets/base",
            "_model_module_version": "1.5.0",
            "_view_count": null,
            "_view_module_version": "1.2.0",
            "bar_color": null,
            "_model_module": "@jupyter-widgets/controls"
          }
        },
        "50a837bb7bcd45bd90f546b999d65c68": {
          "model_module": "@jupyter-widgets/base",
          "model_name": "LayoutModel",
          "state": {
            "_view_name": "LayoutView",
            "grid_template_rows": null,
            "right": null,
            "justify_content": null,
            "_view_module": "@jupyter-widgets/base",
            "overflow": null,
            "_model_module_version": "1.2.0",
            "_view_count": null,
            "flex_flow": null,
            "width": null,
            "min_width": null,
            "border": null,
            "align_items": null,
            "bottom": null,
            "_model_module": "@jupyter-widgets/base",
            "top": null,
            "grid_column": null,
            "overflow_y": null,
            "overflow_x": null,
            "grid_auto_flow": null,
            "grid_area": null,
            "grid_template_columns": null,
            "flex": null,
            "_model_name": "LayoutModel",
            "justify_items": null,
            "grid_row": null,
            "max_height": null,
            "align_content": null,
            "visibility": null,
            "align_self": null,
            "height": null,
            "min_height": null,
            "padding": null,
            "grid_auto_rows": null,
            "grid_gap": null,
            "max_width": null,
            "order": null,
            "_view_module_version": "1.2.0",
            "grid_template_areas": null,
            "object_position": null,
            "object_fit": null,
            "grid_auto_columns": null,
            "margin": null,
            "display": null,
            "left": null
          }
        },
        "60ccb7ccae494cbfa04837ca2fdfb63f": {
          "model_module": "@jupyter-widgets/controls",
          "model_name": "DescriptionStyleModel",
          "state": {
            "_view_name": "StyleView",
            "_model_name": "DescriptionStyleModel",
            "description_width": "",
            "_view_module": "@jupyter-widgets/base",
            "_model_module_version": "1.5.0",
            "_view_count": null,
            "_view_module_version": "1.2.0",
            "_model_module": "@jupyter-widgets/controls"
          }
        },
        "9b9000788e9a4490b1cf817ecacd14be": {
          "model_module": "@jupyter-widgets/base",
          "model_name": "LayoutModel",
          "state": {
            "_view_name": "LayoutView",
            "grid_template_rows": null,
            "right": null,
            "justify_content": null,
            "_view_module": "@jupyter-widgets/base",
            "overflow": null,
            "_model_module_version": "1.2.0",
            "_view_count": null,
            "flex_flow": null,
            "width": null,
            "min_width": null,
            "border": null,
            "align_items": null,
            "bottom": null,
            "_model_module": "@jupyter-widgets/base",
            "top": null,
            "grid_column": null,
            "overflow_y": null,
            "overflow_x": null,
            "grid_auto_flow": null,
            "grid_area": null,
            "grid_template_columns": null,
            "flex": null,
            "_model_name": "LayoutModel",
            "justify_items": null,
            "grid_row": null,
            "max_height": null,
            "align_content": null,
            "visibility": null,
            "align_self": null,
            "height": null,
            "min_height": null,
            "padding": null,
            "grid_auto_rows": null,
            "grid_gap": null,
            "max_width": null,
            "order": null,
            "_view_module_version": "1.2.0",
            "grid_template_areas": null,
            "object_position": null,
            "object_fit": null,
            "grid_auto_columns": null,
            "margin": null,
            "display": null,
            "left": null
          }
        },
        "e16069f37a2342cabc1ec7c87bd101ca": {
          "model_module": "@jupyter-widgets/controls",
          "model_name": "HBoxModel",
          "state": {
            "_view_name": "HBoxView",
            "_dom_classes": [],
            "_model_name": "HBoxModel",
            "_view_module": "@jupyter-widgets/controls",
            "_model_module_version": "1.5.0",
            "_view_count": null,
            "_view_module_version": "1.5.0",
            "box_style": "",
            "layout": "IPY_MODEL_ca236afa01b84ae08f9fa87de09ed35e",
            "_model_module": "@jupyter-widgets/controls",
            "children": [
              "IPY_MODEL_4b815bf339984995a6e3d69ef992ace8",
              "IPY_MODEL_511f61d443984555a4b2456a5dde62c4"
            ]
          }
        },
        "ca236afa01b84ae08f9fa87de09ed35e": {
          "model_module": "@jupyter-widgets/base",
          "model_name": "LayoutModel",
          "state": {
            "_view_name": "LayoutView",
            "grid_template_rows": null,
            "right": null,
            "justify_content": null,
            "_view_module": "@jupyter-widgets/base",
            "overflow": null,
            "_model_module_version": "1.2.0",
            "_view_count": null,
            "flex_flow": null,
            "width": null,
            "min_width": null,
            "border": null,
            "align_items": null,
            "bottom": null,
            "_model_module": "@jupyter-widgets/base",
            "top": null,
            "grid_column": null,
            "overflow_y": null,
            "overflow_x": null,
            "grid_auto_flow": null,
            "grid_area": null,
            "grid_template_columns": null,
            "flex": null,
            "_model_name": "LayoutModel",
            "justify_items": null,
            "grid_row": null,
            "max_height": null,
            "align_content": null,
            "visibility": null,
            "align_self": null,
            "height": null,
            "min_height": null,
            "padding": null,
            "grid_auto_rows": null,
            "grid_gap": null,
            "max_width": null,
            "order": null,
            "_view_module_version": "1.2.0",
            "grid_template_areas": null,
            "object_position": null,
            "object_fit": null,
            "grid_auto_columns": null,
            "margin": null,
            "display": null,
            "left": null
          }
        },
        "4b815bf339984995a6e3d69ef992ace8": {
          "model_module": "@jupyter-widgets/controls",
          "model_name": "FloatProgressModel",
          "state": {
            "_view_name": "ProgressView",
            "style": "IPY_MODEL_9c3cd2335a6f4c56a3ba138db538a5a0",
            "_dom_classes": [],
            "description": "100%",
            "_model_name": "FloatProgressModel",
            "bar_style": "success",
            "max": 3266,
            "_view_module": "@jupyter-widgets/controls",
            "_model_module_version": "1.5.0",
            "value": 3266,
            "_view_count": null,
            "_view_module_version": "1.5.0",
            "orientation": "horizontal",
            "min": 0,
            "description_tooltip": null,
            "_model_module": "@jupyter-widgets/controls",
            "layout": "IPY_MODEL_8c7a9a9565e544a293d495714938c763"
          }
        },
        "511f61d443984555a4b2456a5dde62c4": {
          "model_module": "@jupyter-widgets/controls",
          "model_name": "HTMLModel",
          "state": {
            "_view_name": "HTMLView",
            "style": "IPY_MODEL_0271d339b5494f009f57a4805b19d442",
            "_dom_classes": [],
            "description": "",
            "_model_name": "HTMLModel",
            "placeholder": "​",
            "_view_module": "@jupyter-widgets/controls",
            "_model_module_version": "1.5.0",
            "value": " 3266/3266 [13:57&lt;00:00,  3.90it/s]",
            "_view_count": null,
            "_view_module_version": "1.5.0",
            "description_tooltip": null,
            "_model_module": "@jupyter-widgets/controls",
            "layout": "IPY_MODEL_bc7c9828d9aa412bae724ee572db7fa3"
          }
        },
        "9c3cd2335a6f4c56a3ba138db538a5a0": {
          "model_module": "@jupyter-widgets/controls",
          "model_name": "ProgressStyleModel",
          "state": {
            "_view_name": "StyleView",
            "_model_name": "ProgressStyleModel",
            "description_width": "initial",
            "_view_module": "@jupyter-widgets/base",
            "_model_module_version": "1.5.0",
            "_view_count": null,
            "_view_module_version": "1.2.0",
            "bar_color": null,
            "_model_module": "@jupyter-widgets/controls"
          }
        },
        "8c7a9a9565e544a293d495714938c763": {
          "model_module": "@jupyter-widgets/base",
          "model_name": "LayoutModel",
          "state": {
            "_view_name": "LayoutView",
            "grid_template_rows": null,
            "right": null,
            "justify_content": null,
            "_view_module": "@jupyter-widgets/base",
            "overflow": null,
            "_model_module_version": "1.2.0",
            "_view_count": null,
            "flex_flow": null,
            "width": null,
            "min_width": null,
            "border": null,
            "align_items": null,
            "bottom": null,
            "_model_module": "@jupyter-widgets/base",
            "top": null,
            "grid_column": null,
            "overflow_y": null,
            "overflow_x": null,
            "grid_auto_flow": null,
            "grid_area": null,
            "grid_template_columns": null,
            "flex": null,
            "_model_name": "LayoutModel",
            "justify_items": null,
            "grid_row": null,
            "max_height": null,
            "align_content": null,
            "visibility": null,
            "align_self": null,
            "height": null,
            "min_height": null,
            "padding": null,
            "grid_auto_rows": null,
            "grid_gap": null,
            "max_width": null,
            "order": null,
            "_view_module_version": "1.2.0",
            "grid_template_areas": null,
            "object_position": null,
            "object_fit": null,
            "grid_auto_columns": null,
            "margin": null,
            "display": null,
            "left": null
          }
        },
        "0271d339b5494f009f57a4805b19d442": {
          "model_module": "@jupyter-widgets/controls",
          "model_name": "DescriptionStyleModel",
          "state": {
            "_view_name": "StyleView",
            "_model_name": "DescriptionStyleModel",
            "description_width": "",
            "_view_module": "@jupyter-widgets/base",
            "_model_module_version": "1.5.0",
            "_view_count": null,
            "_view_module_version": "1.2.0",
            "_model_module": "@jupyter-widgets/controls"
          }
        },
        "bc7c9828d9aa412bae724ee572db7fa3": {
          "model_module": "@jupyter-widgets/base",
          "model_name": "LayoutModel",
          "state": {
            "_view_name": "LayoutView",
            "grid_template_rows": null,
            "right": null,
            "justify_content": null,
            "_view_module": "@jupyter-widgets/base",
            "overflow": null,
            "_model_module_version": "1.2.0",
            "_view_count": null,
            "flex_flow": null,
            "width": null,
            "min_width": null,
            "border": null,
            "align_items": null,
            "bottom": null,
            "_model_module": "@jupyter-widgets/base",
            "top": null,
            "grid_column": null,
            "overflow_y": null,
            "overflow_x": null,
            "grid_auto_flow": null,
            "grid_area": null,
            "grid_template_columns": null,
            "flex": null,
            "_model_name": "LayoutModel",
            "justify_items": null,
            "grid_row": null,
            "max_height": null,
            "align_content": null,
            "visibility": null,
            "align_self": null,
            "height": null,
            "min_height": null,
            "padding": null,
            "grid_auto_rows": null,
            "grid_gap": null,
            "max_width": null,
            "order": null,
            "_view_module_version": "1.2.0",
            "grid_template_areas": null,
            "object_position": null,
            "object_fit": null,
            "grid_auto_columns": null,
            "margin": null,
            "display": null,
            "left": null
          }
        },
        "0feaab41dabe44b9a7da7765dcbbb842": {
          "model_module": "@jupyter-widgets/controls",
          "model_name": "HBoxModel",
          "state": {
            "_view_name": "HBoxView",
            "_dom_classes": [],
            "_model_name": "HBoxModel",
            "_view_module": "@jupyter-widgets/controls",
            "_model_module_version": "1.5.0",
            "_view_count": null,
            "_view_module_version": "1.5.0",
            "box_style": "",
            "layout": "IPY_MODEL_2439646756cd46f5bfbebca7dcd9eb53",
            "_model_module": "@jupyter-widgets/controls",
            "children": [
              "IPY_MODEL_0b6ca2ecd3ae427089e1c891f1a66cef",
              "IPY_MODEL_888c7a3b665f43358fdfc1b83dfa0c9d"
            ]
          }
        },
        "2439646756cd46f5bfbebca7dcd9eb53": {
          "model_module": "@jupyter-widgets/base",
          "model_name": "LayoutModel",
          "state": {
            "_view_name": "LayoutView",
            "grid_template_rows": null,
            "right": null,
            "justify_content": null,
            "_view_module": "@jupyter-widgets/base",
            "overflow": null,
            "_model_module_version": "1.2.0",
            "_view_count": null,
            "flex_flow": null,
            "width": null,
            "min_width": null,
            "border": null,
            "align_items": null,
            "bottom": null,
            "_model_module": "@jupyter-widgets/base",
            "top": null,
            "grid_column": null,
            "overflow_y": null,
            "overflow_x": null,
            "grid_auto_flow": null,
            "grid_area": null,
            "grid_template_columns": null,
            "flex": null,
            "_model_name": "LayoutModel",
            "justify_items": null,
            "grid_row": null,
            "max_height": null,
            "align_content": null,
            "visibility": null,
            "align_self": null,
            "height": null,
            "min_height": null,
            "padding": null,
            "grid_auto_rows": null,
            "grid_gap": null,
            "max_width": null,
            "order": null,
            "_view_module_version": "1.2.0",
            "grid_template_areas": null,
            "object_position": null,
            "object_fit": null,
            "grid_auto_columns": null,
            "margin": null,
            "display": null,
            "left": null
          }
        },
        "0b6ca2ecd3ae427089e1c891f1a66cef": {
          "model_module": "@jupyter-widgets/controls",
          "model_name": "FloatProgressModel",
          "state": {
            "_view_name": "ProgressView",
            "style": "IPY_MODEL_988f6193689b425cb8f0deb769c48686",
            "_dom_classes": [],
            "description": "100%",
            "_model_name": "FloatProgressModel",
            "bar_style": "success",
            "max": 3,
            "_view_module": "@jupyter-widgets/controls",
            "_model_module_version": "1.5.0",
            "value": 3,
            "_view_count": null,
            "_view_module_version": "1.5.0",
            "orientation": "horizontal",
            "min": 0,
            "description_tooltip": null,
            "_model_module": "@jupyter-widgets/controls",
            "layout": "IPY_MODEL_ca86906dd8454e85a88484d5a01c1749"
          }
        },
        "888c7a3b665f43358fdfc1b83dfa0c9d": {
          "model_module": "@jupyter-widgets/controls",
          "model_name": "HTMLModel",
          "state": {
            "_view_name": "HTMLView",
            "style": "IPY_MODEL_bf2a97aa3151475f95d02a937ecd54d3",
            "_dom_classes": [],
            "description": "",
            "_model_name": "HTMLModel",
            "placeholder": "​",
            "_view_module": "@jupyter-widgets/controls",
            "_model_module_version": "1.5.0",
            "value": " 3/3 [00:03&lt;00:00,  1.22s/it]",
            "_view_count": null,
            "_view_module_version": "1.5.0",
            "description_tooltip": null,
            "_model_module": "@jupyter-widgets/controls",
            "layout": "IPY_MODEL_c15cf2410e3d4fbaaba50eb30d974ad6"
          }
        },
        "988f6193689b425cb8f0deb769c48686": {
          "model_module": "@jupyter-widgets/controls",
          "model_name": "ProgressStyleModel",
          "state": {
            "_view_name": "StyleView",
            "_model_name": "ProgressStyleModel",
            "description_width": "initial",
            "_view_module": "@jupyter-widgets/base",
            "_model_module_version": "1.5.0",
            "_view_count": null,
            "_view_module_version": "1.2.0",
            "bar_color": null,
            "_model_module": "@jupyter-widgets/controls"
          }
        },
        "ca86906dd8454e85a88484d5a01c1749": {
          "model_module": "@jupyter-widgets/base",
          "model_name": "LayoutModel",
          "state": {
            "_view_name": "LayoutView",
            "grid_template_rows": null,
            "right": null,
            "justify_content": null,
            "_view_module": "@jupyter-widgets/base",
            "overflow": null,
            "_model_module_version": "1.2.0",
            "_view_count": null,
            "flex_flow": null,
            "width": null,
            "min_width": null,
            "border": null,
            "align_items": null,
            "bottom": null,
            "_model_module": "@jupyter-widgets/base",
            "top": null,
            "grid_column": null,
            "overflow_y": null,
            "overflow_x": null,
            "grid_auto_flow": null,
            "grid_area": null,
            "grid_template_columns": null,
            "flex": null,
            "_model_name": "LayoutModel",
            "justify_items": null,
            "grid_row": null,
            "max_height": null,
            "align_content": null,
            "visibility": null,
            "align_self": null,
            "height": null,
            "min_height": null,
            "padding": null,
            "grid_auto_rows": null,
            "grid_gap": null,
            "max_width": null,
            "order": null,
            "_view_module_version": "1.2.0",
            "grid_template_areas": null,
            "object_position": null,
            "object_fit": null,
            "grid_auto_columns": null,
            "margin": null,
            "display": null,
            "left": null
          }
        },
        "bf2a97aa3151475f95d02a937ecd54d3": {
          "model_module": "@jupyter-widgets/controls",
          "model_name": "DescriptionStyleModel",
          "state": {
            "_view_name": "StyleView",
            "_model_name": "DescriptionStyleModel",
            "description_width": "",
            "_view_module": "@jupyter-widgets/base",
            "_model_module_version": "1.5.0",
            "_view_count": null,
            "_view_module_version": "1.2.0",
            "_model_module": "@jupyter-widgets/controls"
          }
        },
        "c15cf2410e3d4fbaaba50eb30d974ad6": {
          "model_module": "@jupyter-widgets/base",
          "model_name": "LayoutModel",
          "state": {
            "_view_name": "LayoutView",
            "grid_template_rows": null,
            "right": null,
            "justify_content": null,
            "_view_module": "@jupyter-widgets/base",
            "overflow": null,
            "_model_module_version": "1.2.0",
            "_view_count": null,
            "flex_flow": null,
            "width": null,
            "min_width": null,
            "border": null,
            "align_items": null,
            "bottom": null,
            "_model_module": "@jupyter-widgets/base",
            "top": null,
            "grid_column": null,
            "overflow_y": null,
            "overflow_x": null,
            "grid_auto_flow": null,
            "grid_area": null,
            "grid_template_columns": null,
            "flex": null,
            "_model_name": "LayoutModel",
            "justify_items": null,
            "grid_row": null,
            "max_height": null,
            "align_content": null,
            "visibility": null,
            "align_self": null,
            "height": null,
            "min_height": null,
            "padding": null,
            "grid_auto_rows": null,
            "grid_gap": null,
            "max_width": null,
            "order": null,
            "_view_module_version": "1.2.0",
            "grid_template_areas": null,
            "object_position": null,
            "object_fit": null,
            "grid_auto_columns": null,
            "margin": null,
            "display": null,
            "left": null
          }
        }
      }
    },
    "accelerator": "GPU"
  },
  "cells": [
    {
      "cell_type": "markdown",
      "metadata": {
        "id": "yYi56HsL0Fff"
      },
      "source": [
        "# text2poem\n",
        "\n",
        "### Aim\n",
        "Given a textual description, generate a poem from it. \n",
        "\n",
        "### To-Do\n",
        "- [ ] Clean up the variable names, etc\n",
        "- [ ] Understand the T5 architecture and freeze the base layers if needed\n",
        "- [ ] Create the $(\\text{summary}, \\ \\text{poem})$ dataset using sites like [Poem Analysis](https://poemanalysis.com/). Ideally, smaller poems would be preffered. Might need to create manually, as scraping is not only difficult, but also lead to bad data. Stanza-by-Stanza is too detailed, and some summaries barely contain any information about the poem. Thus, data samples may need to be manually checked. Need to select famous poems that have good quality summaries available.\n",
        "    - Doesn't work properly when tested with training set of $9$ poems, will need to try with more data\n",
        "    - Another alternative, $(\\text{topic}, \\ \\text{poem})$ dataset. Given a set of keywords, generate a poem. Dataset creation would be simple using LDA topic modelling etc.\n",
        "        - [Topic Idenitification NLP 1](https://www.pluralsight.com/guides/topic-identification-nlp)\n",
        "        - [Topic Idenitification NLP 2](https://towardsdatascience.com/nlp-extracting-the-main-topics-from-your-dataset-using-lda-in-minutes-21486f5aa925)\n",
        "        - [Example](https://monkeylearn.com/keyword-extractor-online/)\n",
        "- [ ] Clean the dataset, remove very long poems, if possible select by prominent authors, remove poems with no rhyming scheme.\n",
        "- [ ] Change the RAKE algorithm\n",
        "    - Maybe try using POS tagging in some way\n",
        "- [ ] Check whether tokenizer preserves \"\\n\" else replace by some other token\n",
        "    - It's based on SentencePiece which doesn't preserve \"\\n\"\n",
        "- [ ] Calculate lengths of poems after data cleaning\n",
        "### Ideas\n",
        "- [ ] Rhyming scheme as T5 prefix\n",
        "\n",
        "### References\n",
        "- [Base code for this notebook](https://github.com/abhimishra91/transformers-tutorials/blob/master/transformers_summarization_wandb.ipynb) (This had quite a few bugs) \n",
        "- [T5 finetuning tips](https://discuss.huggingface.co/t/t5-finetuning-tips/684/2)\n",
        "- [T5 Docs](https://huggingface.co/transformers/model_doc/t5.html)\n",
        "- [Training T5](https://huggingface.co/transformers/model_doc/t5.html#training) (Not detailed enough)\n",
        "- [Finetuning T5](https://colab.research.google.com/github/patil-suraj/exploring-T5/blob/master/t5_fine_tuning.ipynb) (Probably the most extensive tutorial)\n",
        "- [Few Shot Learning with T5](https://towardsdatascience.com/poor-mans-gpt-3-few-shot-text-generation-with-t5-transformer-51f1b01f843e)\n",
        "- [Some Famous Poetry](https://medium.com/@EmEmbarty/31-of-the-best-and-most-famous-short-classic-poems-of-all-time-e445986e6df)\n",
        "- [Poetry Summaries](https://www.litcharts.com/poetry/)\n",
        "- [A great blog on how to generate text](https://huggingface.co/blog/how-to-generate)\n"
      ]
    },
    {
      "cell_type": "markdown",
      "metadata": {
        "id": "jMy7DpOtax_8"
      },
      "source": [
        "## Install Dependencies"
      ]
    },
    {
      "cell_type": "code",
      "metadata": {
        "colab": {
          "base_uri": "https://localhost:8080/"
        },
        "id": "8bXCqW6Y134M",
        "outputId": "f2a1a604-7b11-4fed-81c6-4211de0d8364"
      },
      "source": [
        "# Transformer changes very frequently, thus the version is important\n",
        "! pip install transformers==4.5.1\n",
        "! pip install sentencepiece==0.1.94 # Version is important as T5's tokenizer has this version as a dependency "
      ],
      "execution_count": 1,
      "outputs": [
        {
          "output_type": "stream",
          "text": [
            "Collecting transformers==4.5.1\n",
            "\u001b[?25l  Downloading https://files.pythonhosted.org/packages/d8/b2/57495b5309f09fa501866e225c84532d1fd89536ea62406b2181933fb418/transformers-4.5.1-py3-none-any.whl (2.1MB)\n",
            "\u001b[K     |████████████████████████████████| 2.1MB 9.0MB/s \n",
            "\u001b[?25hRequirement already satisfied: requests in /usr/local/lib/python3.7/dist-packages (from transformers==4.5.1) (2.23.0)\n",
            "Requirement already satisfied: packaging in /usr/local/lib/python3.7/dist-packages (from transformers==4.5.1) (20.9)\n",
            "Collecting tokenizers<0.11,>=0.10.1\n",
            "\u001b[?25l  Downloading https://files.pythonhosted.org/packages/ae/04/5b870f26a858552025a62f1649c20d29d2672c02ff3c3fb4c688ca46467a/tokenizers-0.10.2-cp37-cp37m-manylinux2010_x86_64.whl (3.3MB)\n",
            "\u001b[K     |████████████████████████████████| 3.3MB 41.0MB/s \n",
            "\u001b[?25hRequirement already satisfied: numpy>=1.17 in /usr/local/lib/python3.7/dist-packages (from transformers==4.5.1) (1.19.5)\n",
            "Requirement already satisfied: tqdm>=4.27 in /usr/local/lib/python3.7/dist-packages (from transformers==4.5.1) (4.41.1)\n",
            "Collecting sacremoses\n",
            "\u001b[?25l  Downloading https://files.pythonhosted.org/packages/75/ee/67241dc87f266093c533a2d4d3d69438e57d7a90abb216fa076e7d475d4a/sacremoses-0.0.45-py3-none-any.whl (895kB)\n",
            "\u001b[K     |████████████████████████████████| 901kB 39.7MB/s \n",
            "\u001b[?25hRequirement already satisfied: filelock in /usr/local/lib/python3.7/dist-packages (from transformers==4.5.1) (3.0.12)\n",
            "Requirement already satisfied: regex!=2019.12.17 in /usr/local/lib/python3.7/dist-packages (from transformers==4.5.1) (2019.12.20)\n",
            "Requirement already satisfied: importlib-metadata; python_version < \"3.8\" in /usr/local/lib/python3.7/dist-packages (from transformers==4.5.1) (3.10.1)\n",
            "Requirement already satisfied: idna<3,>=2.5 in /usr/local/lib/python3.7/dist-packages (from requests->transformers==4.5.1) (2.10)\n",
            "Requirement already satisfied: certifi>=2017.4.17 in /usr/local/lib/python3.7/dist-packages (from requests->transformers==4.5.1) (2020.12.5)\n",
            "Requirement already satisfied: urllib3!=1.25.0,!=1.25.1,<1.26,>=1.21.1 in /usr/local/lib/python3.7/dist-packages (from requests->transformers==4.5.1) (1.24.3)\n",
            "Requirement already satisfied: chardet<4,>=3.0.2 in /usr/local/lib/python3.7/dist-packages (from requests->transformers==4.5.1) (3.0.4)\n",
            "Requirement already satisfied: pyparsing>=2.0.2 in /usr/local/lib/python3.7/dist-packages (from packaging->transformers==4.5.1) (2.4.7)\n",
            "Requirement already satisfied: click in /usr/local/lib/python3.7/dist-packages (from sacremoses->transformers==4.5.1) (7.1.2)\n",
            "Requirement already satisfied: joblib in /usr/local/lib/python3.7/dist-packages (from sacremoses->transformers==4.5.1) (1.0.1)\n",
            "Requirement already satisfied: six in /usr/local/lib/python3.7/dist-packages (from sacremoses->transformers==4.5.1) (1.15.0)\n",
            "Requirement already satisfied: typing-extensions>=3.6.4; python_version < \"3.8\" in /usr/local/lib/python3.7/dist-packages (from importlib-metadata; python_version < \"3.8\"->transformers==4.5.1) (3.7.4.3)\n",
            "Requirement already satisfied: zipp>=0.5 in /usr/local/lib/python3.7/dist-packages (from importlib-metadata; python_version < \"3.8\"->transformers==4.5.1) (3.4.1)\n",
            "Installing collected packages: tokenizers, sacremoses, transformers\n",
            "Successfully installed sacremoses-0.0.45 tokenizers-0.10.2 transformers-4.5.1\n",
            "Collecting sentencepiece==0.1.94\n",
            "\u001b[?25l  Downloading https://files.pythonhosted.org/packages/6e/f0/7614029138ec9422f1a3ed3cd82c3bfc0821157e8032ca1828cee6b198bb/sentencepiece-0.1.94-cp37-cp37m-manylinux2014_x86_64.whl (1.1MB)\n",
            "\u001b[K     |████████████████████████████████| 1.1MB 10.7MB/s \n",
            "\u001b[?25hInstalling collected packages: sentencepiece\n",
            "Successfully installed sentencepiece-0.1.94\n"
          ],
          "name": "stdout"
        }
      ]
    },
    {
      "cell_type": "markdown",
      "metadata": {
        "id": "U9kTPMNaaawb"
      },
      "source": [
        "## Connect to GDrive"
      ]
    },
    {
      "cell_type": "code",
      "metadata": {
        "colab": {
          "base_uri": "https://localhost:8080/"
        },
        "id": "X_tqFFHIXgKU",
        "outputId": "1fb628a0-546b-49ba-8712-2dbc310f4101"
      },
      "source": [
        "from google.colab import drive\n",
        "drive.mount(\"/content/gdrive\")"
      ],
      "execution_count": 2,
      "outputs": [
        {
          "output_type": "stream",
          "text": [
            "Mounted at /content/gdrive\n"
          ],
          "name": "stdout"
        }
      ]
    },
    {
      "cell_type": "markdown",
      "metadata": {
        "id": "j4DgXBPfh8UX"
      },
      "source": [
        "## Start\n",
        "To reset the notebook, run from this point"
      ]
    },
    {
      "cell_type": "code",
      "metadata": {
        "id": "A9L1H5KRh1b3"
      },
      "source": [
        "%reset -f"
      ],
      "execution_count": 3,
      "outputs": []
    },
    {
      "cell_type": "markdown",
      "metadata": {
        "id": "hBESXajW16Wr"
      },
      "source": [
        "## Import Libraries"
      ]
    },
    {
      "cell_type": "code",
      "metadata": {
        "id": "PM0-5Wb17h5Z"
      },
      "source": [
        "# General libraries\n",
        "import numpy as np\n",
        "import pandas as pd\n",
        "from tqdm.notebook import tqdm\n",
        "from matplotlib import pyplot as plt\n",
        "from sklearn.model_selection import train_test_split as tts\n",
        "\n",
        "# The general framework used\n",
        "import torch\n",
        "from torch.utils.data import Dataset, DataLoader\n",
        "\n",
        "# The T5 specific libraries\n",
        "from transformers.optimization import Adafactor\n",
        "from transformers import T5Tokenizer, T5ForConditionalGeneration"
      ],
      "execution_count": 4,
      "outputs": []
    },
    {
      "cell_type": "markdown",
      "metadata": {
        "id": "E9VKz7VtakGc"
      },
      "source": [
        "## Connecting to the GPU"
      ]
    },
    {
      "cell_type": "code",
      "metadata": {
        "id": "aG1o2WAn7lDU",
        "colab": {
          "base_uri": "https://localhost:8080/"
        },
        "outputId": "c43e4da5-80b0-42df-a202-45bdf760b3bc"
      },
      "source": [
        "DEVICE = \"cuda\" if torch.cuda.is_available() else \"cpu\"\n",
        "# See which GPU has been allotted \n",
        "print(torch.cuda.get_device_name(torch.cuda.current_device()))"
      ],
      "execution_count": 5,
      "outputs": [
        {
          "output_type": "stream",
          "text": [
            "Tesla K80\n"
          ],
          "name": "stdout"
        }
      ]
    },
    {
      "cell_type": "markdown",
      "metadata": {
        "id": "47aBe_jBgron"
      },
      "source": [
        "## Constants"
      ]
    },
    {
      "cell_type": "code",
      "metadata": {
        "id": "w_JANVmEgrPK"
      },
      "source": [
        "PATH_DATA = \"/content/gdrive/MyDrive/text2poem/poem_topics_improved_bigrams_150.csv\"\n",
        "MODEL_NAME = \"t5-small\"\n",
        "\n",
        "SEED = 42\n",
        "\n",
        "# Specified in the number of tokens\n",
        "MAX_LEN = 256\n",
        "SUMMARY_LEN = 256\n",
        "\n",
        "TRAIN_BATCH_SIZE = 2\n",
        "VALID_BATCH_SIZE = 2\n",
        "\n",
        "N_EPOCHS = 5 # 5 is good enough for 5k samples in data\n",
        "LR = 3e-4"
      ],
      "execution_count": 6,
      "outputs": []
    },
    {
      "cell_type": "code",
      "metadata": {
        "id": "JHE1N438hG6s"
      },
      "source": [
        "# Set random seeds and make pytorch deterministic for reproducibility\n",
        "torch.manual_seed(SEED)\n",
        "np.random.seed(SEED)\n",
        "torch.backends.cudnn.deterministic = True"
      ],
      "execution_count": 7,
      "outputs": []
    },
    {
      "cell_type": "markdown",
      "metadata": {
        "id": "W0LdG06NjwTL"
      },
      "source": [
        "## Helper Functions"
      ]
    },
    {
      "cell_type": "code",
      "metadata": {
        "id": "TQV3fIt2jyC5"
      },
      "source": [
        "def countParameters(model):\n",
        "    \"\"\" Counts the total number of trainable and frozen parameters in the model \"\"\"\n",
        "    trainable = sum(p.numel() for p in model.parameters() if p.requires_grad)\n",
        "    frozen = sum(p.numel() for p in model.parameters() if not p.requires_grad)\n",
        "    return trainable, frozen"
      ],
      "execution_count": 8,
      "outputs": []
    },
    {
      "cell_type": "markdown",
      "metadata": {
        "id": "J6ZsKUfBgehV"
      },
      "source": [
        "## Data Handlers"
      ]
    },
    {
      "cell_type": "code",
      "metadata": {
        "id": "fBCrp1acHH8G"
      },
      "source": [
        "def replaceSep(text, sep = \" | \"):\n",
        "    if type(text) == float:\n",
        "        print(text)\n",
        "    return text.replace(\"\\n\", sep)"
      ],
      "execution_count": 9,
      "outputs": []
    },
    {
      "cell_type": "code",
      "metadata": {
        "id": "lY2yEu-uggQe"
      },
      "source": [
        "def loadDF(path, n_rows = None, split = 0.9,  prefix = \"summarize: \"):\n",
        "    \"\"\" Loads the CSV data and splits it into training and validation sets \"\"\"\n",
        "\n",
        "    # Read the CSV file\n",
        "    df = pd.read_csv(PATH_DATA, encoding = \"utf-8\")\n",
        "    df.dropna(inplace = True)\n",
        "    # Choose the approproate columns containing the text input and the text output\n",
        "    df = df[[\"Content\", \"Topics\"]]\n",
        "    # Rename the columns appropriately (dataset specific)\n",
        "    df.rename(columns={\"Content\" : \"output\", \"Topics\" : \"input\"}, inplace=True)\n",
        "    # Add a suitable prefix to the text input\n",
        "    df.input = prefix + df.input\n",
        "    # Truncate the dataset if required\n",
        "    if n_rows is not None:\n",
        "        df = df.sample(n = n_rows, random_state = SEED)\n",
        "\n",
        "    df[\"input\"] = df[\"input\"].apply(replaceSep)\n",
        "    df[\"output\"] = df[\"output\"].apply(replaceSep)\n",
        "\n",
        "    # Train-Test Split\n",
        "    df_train, df_val = tts(df, train_size = split, random_state = SEED, shuffle = True)\n",
        "    \n",
        "    if len(df_val) > 5:\n",
        "        df_val = df_val[:5]\n",
        "\n",
        "    # Reset indices\n",
        "    df_train.reset_index(drop = True, inplace = True)\n",
        "    df_val.reset_index(drop = True, inplace = True)\n",
        "\n",
        "    return df, df_train, df_val"
      ],
      "execution_count": 10,
      "outputs": []
    },
    {
      "cell_type": "code",
      "metadata": {
        "id": "C0SLaw-VgkcE"
      },
      "source": [
        "def getDataLoaders(df_train, df_val, tokenizer):\n",
        "    \"\"\" Returns the torch DataLoaders for the training and validation DFs \"\"\"\n",
        "\n",
        "    # Create Datasets\n",
        "    ds_train = CustomDataset(df_train, tokenizer, MAX_LEN, SUMMARY_LEN)\n",
        "    ds_val   = CustomDataset(df_val, tokenizer, MAX_LEN, SUMMARY_LEN)\n",
        "\n",
        "    # Create Dataloaders, shuffle = False since we already shuffled once while creating the train-test split\n",
        "    dl_train = DataLoader(ds_train, batch_size = TRAIN_BATCH_SIZE, shuffle = False, num_workers = 0)\n",
        "    dl_val   = DataLoader(ds_val, batch_size = TRAIN_BATCH_SIZE, shuffle = False, num_workers = 0)\n",
        "\n",
        "    return dl_train, dl_val"
      ],
      "execution_count": 11,
      "outputs": []
    },
    {
      "cell_type": "markdown",
      "metadata": {
        "id": "FEDFEI9vama_"
      },
      "source": [
        "## Custom Dataset"
      ]
    },
    {
      "cell_type": "code",
      "metadata": {
        "id": "EsnA1sL17o3v"
      },
      "source": [
        "class CustomDataset(Dataset):\n",
        "\n",
        "    def __init__(self, df, tokenizer, inp_len, out_len):\n",
        "\n",
        "        self.tokenizer = tokenizer\n",
        "        self.df = df\n",
        "\n",
        "        self.inp_len = inp_len\n",
        "        self.out_len = out_len\n",
        "\n",
        "        self.inp_txt = self.df.input\n",
        "        self.out_txt = self.df.output\n",
        "\n",
        "    def __len__(self):\n",
        "        return len(self.out_txt)\n",
        "\n",
        "    def __getitem__(self, index):\n",
        "\n",
        "        inp_txt = str(self.inp_txt[index])\n",
        "        out_txt = str(self.out_txt[index])\n",
        "\n",
        "        # Encode the input and output texts\n",
        "        source = self.tokenizer(\n",
        "            [inp_txt],\n",
        "            max_length = self.inp_len, \n",
        "            padding = \"max_length\", \n",
        "            truncation = True,\n",
        "            return_tensors = \"pt\"\n",
        "        )\n",
        "        target = self.tokenizer(\n",
        "            [out_txt],\n",
        "            max_length = self.out_len, \n",
        "            padding = \"max_length\", \n",
        "            truncation = True,\n",
        "            return_tensors = \"pt\"\n",
        "        )\n",
        "\n",
        "        # Input IDs and Masks\n",
        "        source_ids = source['input_ids'].squeeze()\n",
        "        source_mask = source['attention_mask'].squeeze()\n",
        "        target_ids = target['input_ids'].squeeze()\n",
        "        target_mask = target['attention_mask'].squeeze()\n",
        "\n",
        "        return {\n",
        "            'source_ids'  : source_ids.to(dtype = torch.long), \n",
        "            'source_mask' : source_mask.to(dtype = torch.long), \n",
        "            'target_ids'  : target_ids.to(dtype = torch.long),\n",
        "            'target_mask' : target_mask.to(dtype = torch.long)\n",
        "        }"
      ],
      "execution_count": 12,
      "outputs": []
    },
    {
      "cell_type": "code",
      "metadata": {
        "id": "1cT_8ofOMgZ0"
      },
      "source": [
        "# ds_train = CustomDataset(df_train, tokenizer, MAX_LEN, SUMMARY_LEN)\n",
        "# ds_train[0] # For quickly testing the data format"
      ],
      "execution_count": 13,
      "outputs": []
    },
    {
      "cell_type": "code",
      "metadata": {
        "id": "2ecxb0AI5ttI"
      },
      "source": [
        "# temp = tokenizer(\n",
        "#     [\"hello\\nmy friend* how| are|you today*haha\"],\n",
        "#     # max_length = self.inp_len, \n",
        "#     #padding = \"max_length\", \n",
        "#     #truncation = True,\n",
        "#     return_tensors = \"pt\"\n",
        "# ).input_ids\n",
        "# ok = [tokenizer.decode(g, skip_special_tokens = True, clean_up_tokenization_spaces = True) for g in temp]\n",
        "# print(ok)"
      ],
      "execution_count": 14,
      "outputs": []
    },
    {
      "cell_type": "markdown",
      "metadata": {
        "id": "LH0lVDRBarUJ"
      },
      "source": [
        "## Train and Validate Functions:"
      ]
    },
    {
      "cell_type": "code",
      "metadata": {
        "id": "KriqdJrh7-ST"
      },
      "source": [
        "def train(epoch, tokenizer, model, loader, optimizer):\n",
        "    \"\"\" A single epoch \"\"\"\n",
        "\n",
        "    model.train()\n",
        "\n",
        "    loss_batches = []\n",
        "\n",
        "    for iter, batch in enumerate(tqdm(loader)):\n",
        "\n",
        "        # Reset gradients\n",
        "        optimizer.zero_grad()\n",
        "\n",
        "        source_ids  = batch[\"source_ids\"].to(DEVICE, dtype = torch.long)\n",
        "        source_mask = batch[\"source_mask\"].to(DEVICE, dtype = torch.long)\n",
        "        target_mask = batch[\"target_mask\"].to(DEVICE, dtype = torch.long)\n",
        "\n",
        "        labels = batch[\"target_ids\"]\n",
        "        labels[labels[:, :] == tokenizer.pad_token_id] = -100\n",
        "        labels = labels.to(DEVICE)\n",
        "\n",
        "        outputs = model(\n",
        "            input_ids = source_ids, \n",
        "            attention_mask = source_mask, \n",
        "            labels = labels,\n",
        "            decoder_attention_mask = target_mask\n",
        "        ) # Of type Seq2SeqLMOutput\n",
        "\n",
        "        loss = outputs.loss\n",
        "                \n",
        "        loss_batches.append(loss.item())\n",
        "        \n",
        "        # Compute gradients\n",
        "        loss.backward()\n",
        "        # Update parameters\n",
        "        optimizer.step()\n",
        "\n",
        "    return loss_batches"
      ],
      "execution_count": 15,
      "outputs": []
    },
    {
      "cell_type": "code",
      "metadata": {
        "id": "vfI_aA8e8N2c"
      },
      "source": [
        "def validate(epoch, tokenizer, model, loader):\n",
        "\n",
        "    model.eval()\n",
        "\n",
        "    y_pred = []\n",
        "    y_true = []\n",
        "\n",
        "    with torch.no_grad():\n",
        "\n",
        "        for iter, data in enumerate(tqdm(loader)) :\n",
        "\n",
        "            source_ids  = data['source_ids'].to(DEVICE, dtype = torch.long)\n",
        "            source_mask = data['source_mask'].to(DEVICE, dtype = torch.long)\n",
        "\n",
        "            generated_ids = model.generate(\n",
        "                input_ids = source_ids,\n",
        "                attention_mask = source_mask,\n",
        "                max_length = SUMMARY_LEN,\n",
        "                num_beams = 1,\n",
        "                repetition_penalty = 2.5, \n",
        "                # early_stopping = True\n",
        "            )\n",
        "            predicted_output = [tokenizer.decode(g, skip_special_tokens = True, clean_up_tokenization_spaces = True) for g in generated_ids]\n",
        "\n",
        "            target_ids  = data['target_ids'].to(DEVICE, dtype = torch.long)\n",
        "            true_output = [tokenizer.decode(t, skip_special_tokens=True, clean_up_tokenization_spaces=True) for t in target_ids]\n",
        "\n",
        "            y_pred.extend(predicted_output)\n",
        "            y_true.extend(true_output)\n",
        "\n",
        "            if (iter > 5):\n",
        "                break\n",
        "\n",
        "    return y_pred, y_true"
      ],
      "execution_count": 16,
      "outputs": []
    },
    {
      "cell_type": "code",
      "metadata": {
        "id": "4l5PgRV87Xpd"
      },
      "source": [
        "def generate(topics):\n",
        "\n",
        "    input = \"poetify: \" + \" | \".join(topics)\n",
        "\n",
        "    input_ids = tokenizer(\n",
        "        input,\n",
        "        return_tensors = \"pt\"\n",
        "    ).input_ids.to(DEVICE)\n",
        "\n",
        "    generated_ids = model.generate(\n",
        "        input_ids = input_ids,\n",
        "        max_length = 1024,\n",
        "        num_beams = 1,\n",
        "        # early_stopping = True,\n",
        "        no_repeat_ngram_size = 2\n",
        "    )\n",
        "\n",
        "    gen = [tokenizer.decode(g, skip_special_tokens = True, clean_up_tokenization_spaces = True) for g in generated_ids][0]\n",
        "\n",
        "    sentences = gen.split(\"|\")\n",
        "    for s in sentences:\n",
        "        print(s.strip())\n",
        "\n",
        "    return gen"
      ],
      "execution_count": 17,
      "outputs": []
    },
    {
      "cell_type": "code",
      "metadata": {
        "id": "aBYwx88bBhig"
      },
      "source": [
        "def genSample(topics, min_length, max_length, rep_penalty):\n",
        "\n",
        "    input = \"poetify: \" + \" | \".join(topics)\n",
        "\n",
        "    input_ids = tokenizer(\n",
        "        input,\n",
        "        return_tensors = \"pt\"\n",
        "    ).input_ids.to(DEVICE)\n",
        "\n",
        "    generated_ids = model.generate(\n",
        "        input_ids = input_ids,\n",
        "        min_length = min_length,\n",
        "        max_length = max_length,\n",
        "        do_sample = True,\n",
        "        # top_p = 0.92,\n",
        "        # top_k = 50,\n",
        "        # temperature=0.7,\n",
        "        repetition_penalty = rep_penalty\n",
        "    )\n",
        "\n",
        "    gen = [tokenizer.decode(g, skip_special_tokens = True, clean_up_tokenization_spaces = True) for g in generated_ids][0]\n",
        "\n",
        "    sentences = gen.split(\"|\")\n",
        "    for s in sentences:\n",
        "        print(s.strip())\n",
        "\n",
        "    return gen"
      ],
      "execution_count": 36,
      "outputs": []
    },
    {
      "cell_type": "code",
      "metadata": {
        "id": "lzacqFdB8S4R"
      },
      "source": [
        "# gen = genSample([\"tree\", \"weeping\", \"rustling\", \"forest\", \"wind\", \"desolate\"])"
      ],
      "execution_count": 19,
      "outputs": []
    },
    {
      "cell_type": "markdown",
      "metadata": {
        "id": "HNuoht-9bVw0"
      },
      "source": [
        "## Main"
      ]
    },
    {
      "cell_type": "code",
      "metadata": {
        "id": "ZtECaqjG9K6R",
        "colab": {
          "base_uri": "https://localhost:8080/",
          "height": 114,
          "referenced_widgets": [
            "f256abef791049f49b1da8cb0b9c0418",
            "6a3a48ef13d04604bd0deb6b0b9ea2b4",
            "79309ee080824ac7a036084f9fb9b6c8",
            "834f6f5fac5b4f44b8df21476334899a",
            "0d598922707f47d3af3aaf0e148d2066",
            "3a304d8c0b9a4316803b1165fb7f2eb8",
            "da20122bdb7644f9a8026db213bb7169",
            "456bafda0f0c4f4d82af8b21edd5b63d",
            "040baf4abafe45de85db4961581faaf6",
            "64fa5752a12b416b81f4bf8a365ce57a",
            "eed426eab51a435c9d83f523d2448dc4",
            "56061ded34584c0083f60463de3c6c08",
            "17d695fce22c4b2da7b3f013c332b483",
            "39dabfb4497a4713843abf771e5d1358",
            "d5ce54a0e2954d7980883fbb9ea3071a",
            "64092125664b489794857bc65547ba55"
          ]
        },
        "outputId": "e8bcbe22-6fe3-41a5-bc33-f9bdbbf0e3c7"
      },
      "source": [
        "# T5's Tokenzier for encoding the text\n",
        "tokenizer = T5Tokenizer.from_pretrained(MODEL_NAME)"
      ],
      "execution_count": 20,
      "outputs": [
        {
          "output_type": "display_data",
          "data": {
            "application/vnd.jupyter.widget-view+json": {
              "model_id": "f256abef791049f49b1da8cb0b9c0418",
              "version_minor": 0,
              "version_major": 2
            },
            "text/plain": [
              "HBox(children=(FloatProgress(value=0.0, description='Downloading', max=791656.0, style=ProgressStyle(descripti…"
            ]
          },
          "metadata": {
            "tags": []
          }
        },
        {
          "output_type": "stream",
          "text": [
            "\n"
          ],
          "name": "stdout"
        },
        {
          "output_type": "display_data",
          "data": {
            "application/vnd.jupyter.widget-view+json": {
              "model_id": "040baf4abafe45de85db4961581faaf6",
              "version_minor": 0,
              "version_major": 2
            },
            "text/plain": [
              "HBox(children=(FloatProgress(value=0.0, description='Downloading', max=1389353.0, style=ProgressStyle(descript…"
            ]
          },
          "metadata": {
            "tags": []
          }
        },
        {
          "output_type": "stream",
          "text": [
            "\n"
          ],
          "name": "stdout"
        }
      ]
    },
    {
      "cell_type": "markdown",
      "metadata": {
        "id": "Ad5BHSxYhRYn"
      },
      "source": [
        "### Loading the Data"
      ]
    },
    {
      "cell_type": "code",
      "metadata": {
        "colab": {
          "base_uri": "https://localhost:8080/"
        },
        "id": "M0PVHWdkdb-t",
        "outputId": "750ad29c-5698-4818-d5cc-ad760e548814"
      },
      "source": [
        "df, df_train, df_val = loadDF(PATH_DATA, prefix = \"poemify: \")\n",
        "print(len(df), len(df_train), len(df_val))"
      ],
      "execution_count": 21,
      "outputs": [
        {
          "output_type": "stream",
          "text": [
            "7257 6531 5\n"
          ],
          "name": "stdout"
        }
      ]
    },
    {
      "cell_type": "code",
      "metadata": {
        "colab": {
          "base_uri": "https://localhost:8080/",
          "height": 402
        },
        "id": "8sWEt8WjwcG5",
        "outputId": "d74c1965-fccd-44cb-ad2c-671fb6bd88af"
      },
      "source": [
        "display(df)"
      ],
      "execution_count": 22,
      "outputs": [
        {
          "output_type": "display_data",
          "data": {
            "text/html": [
              "<div>\n",
              "<style scoped>\n",
              "    .dataframe tbody tr th:only-of-type {\n",
              "        vertical-align: middle;\n",
              "    }\n",
              "\n",
              "    .dataframe tbody tr th {\n",
              "        vertical-align: top;\n",
              "    }\n",
              "\n",
              "    .dataframe thead th {\n",
              "        text-align: right;\n",
              "    }\n",
              "</style>\n",
              "<table border=\"1\" class=\"dataframe\">\n",
              "  <thead>\n",
              "    <tr style=\"text-align: right;\">\n",
              "      <th></th>\n",
              "      <th>output</th>\n",
              "      <th>input</th>\n",
              "    </tr>\n",
              "  </thead>\n",
              "  <tbody>\n",
              "    <tr>\n",
              "      <th>0</th>\n",
              "      <td>A barefoot boy! I mark him at his play— | For ...</td>\n",
              "      <td>poemify: feverish stripes | dusty trousers | o...</td>\n",
              "    </tr>\n",
              "    <tr>\n",
              "      <th>1</th>\n",
              "      <td>The warping night air having brought the boom ...</td>\n",
              "      <td>poemify: s voice | odd question | forest bird ...</td>\n",
              "    </tr>\n",
              "    <tr>\n",
              "      <th>2</th>\n",
              "      <td>Habits accrue | in circular pattern | and livi...</td>\n",
              "      <td>poemify: circular pattern | chord progressions...</td>\n",
              "    </tr>\n",
              "    <tr>\n",
              "      <th>3</th>\n",
              "      <td>“A Billion Things in One” is an erasure of the...</td>\n",
              "      <td>poemify: erasure | Times | June | York | Berli...</td>\n",
              "    </tr>\n",
              "    <tr>\n",
              "      <th>4</th>\n",
              "      <td>A Bird, came down the Walk - | He did not know...</td>\n",
              "      <td>poemify: frightened Beads | softer Home | rapi...</td>\n",
              "    </tr>\n",
              "    <tr>\n",
              "      <th>...</th>\n",
              "      <td>...</td>\n",
              "      <td>...</td>\n",
              "    </tr>\n",
              "    <tr>\n",
              "      <th>7269</th>\n",
              "      <td>my father’s body is a map | a record of his jo...</td>\n",
              "      <td>poemify: left thigh | own opinions | nose fath...</td>\n",
              "    </tr>\n",
              "    <tr>\n",
              "      <th>7270</th>\n",
              "      <td>this morning | weaving Chi in the garden | inv...</td>\n",
              "      <td>poemify: solid bones | limber pine | * scent |...</td>\n",
              "    </tr>\n",
              "    <tr>\n",
              "      <th>7271</th>\n",
              "      <td>walking up John Street | thinking of you |  | ...</td>\n",
              "      <td>poemify: thinking | matter | John | Street | l...</td>\n",
              "    </tr>\n",
              "    <tr>\n",
              "      <th>7272</th>\n",
              "      <td>carnegie hall, october 19, 2014 | beauty elude...</td>\n",
              "      <td>poemify: dissonant root | flush vivid | i conj...</td>\n",
              "    </tr>\n",
              "    <tr>\n",
              "      <th>7273</th>\n",
              "      <td>instead of entrance | Goodbye means Avoir |  |...</td>\n",
              "      <td>poemify: flame-red tongue | worse Indigo | ali...</td>\n",
              "    </tr>\n",
              "  </tbody>\n",
              "</table>\n",
              "<p>7257 rows × 2 columns</p>\n",
              "</div>"
            ],
            "text/plain": [
              "                                                 output                                              input\n",
              "0     A barefoot boy! I mark him at his play— | For ...  poemify: feverish stripes | dusty trousers | o...\n",
              "1     The warping night air having brought the boom ...  poemify: s voice | odd question | forest bird ...\n",
              "2     Habits accrue | in circular pattern | and livi...  poemify: circular pattern | chord progressions...\n",
              "3     “A Billion Things in One” is an erasure of the...  poemify: erasure | Times | June | York | Berli...\n",
              "4     A Bird, came down the Walk - | He did not know...  poemify: frightened Beads | softer Home | rapi...\n",
              "...                                                 ...                                                ...\n",
              "7269  my father’s body is a map | a record of his jo...  poemify: left thigh | own opinions | nose fath...\n",
              "7270  this morning | weaving Chi in the garden | inv...  poemify: solid bones | limber pine | * scent |...\n",
              "7271  walking up John Street | thinking of you |  | ...  poemify: thinking | matter | John | Street | l...\n",
              "7272  carnegie hall, october 19, 2014 | beauty elude...  poemify: dissonant root | flush vivid | i conj...\n",
              "7273  instead of entrance | Goodbye means Avoir |  |...  poemify: flame-red tongue | worse Indigo | ali...\n",
              "\n",
              "[7257 rows x 2 columns]"
            ]
          },
          "metadata": {
            "tags": []
          }
        }
      ]
    },
    {
      "cell_type": "code",
      "metadata": {
        "id": "ib-Ry03k9d4K",
        "colab": {
          "base_uri": "https://localhost:8080/"
        },
        "outputId": "e69eec6d-79c9-43ca-ae2e-a6aea7b0068d"
      },
      "source": [
        "dl_train, dl_val = getDataLoaders(df_train, df_val, tokenizer)\n",
        "print(len(dl_train), len(dl_val))"
      ],
      "execution_count": 23,
      "outputs": [
        {
          "output_type": "stream",
          "text": [
            "3266 3\n"
          ],
          "name": "stdout"
        }
      ]
    },
    {
      "cell_type": "markdown",
      "metadata": {
        "id": "IJ_eZh1Pb6PX"
      },
      "source": [
        "### Loading the Model"
      ]
    },
    {
      "cell_type": "code",
      "metadata": {
        "id": "dzmQMOyK9loF",
        "colab": {
          "base_uri": "https://localhost:8080/",
          "height": 114,
          "referenced_widgets": [
            "9c983f0756574a3a90d6c3393e3b0a3a",
            "0ae74a1a094b4befbba59177d5b68218",
            "c3440d0eaffe4bf6b797cea3e9b61e95",
            "3b6f3561e65349fb90f2db8c3eeb847a",
            "517b062b627441a0aca592719e28dbd0",
            "816e066f107548dfa8f4b18ceb34785c",
            "f72315229c3c4e818b6e2d266ca97a2f",
            "4a56238d4dd140e8b1b6ea01c0212406",
            "32d217a7df9441efa6281295303ac4c6",
            "1d79784ed7eb45c48701e2543593e02b",
            "366cfb81b60849b582b52a9a8fc108d3",
            "1baf774254954f198804f536a2e8dee2",
            "099da5c667af4adda0a22c39a53b4e14",
            "6a02591a6ff2412295268c4c7d97f8e5",
            "5e80830864874daa90db2a48b7537e7d",
            "4a2b53b33f1f4fe3bbb25710d9517e13"
          ]
        },
        "outputId": "f898b848-e268-4d58-ca37-34456857bfaf"
      },
      "source": [
        "model = T5ForConditionalGeneration.from_pretrained(MODEL_NAME)\n",
        "model = model.to(DEVICE)"
      ],
      "execution_count": 24,
      "outputs": [
        {
          "output_type": "display_data",
          "data": {
            "application/vnd.jupyter.widget-view+json": {
              "model_id": "9c983f0756574a3a90d6c3393e3b0a3a",
              "version_minor": 0,
              "version_major": 2
            },
            "text/plain": [
              "HBox(children=(FloatProgress(value=0.0, description='Downloading', max=1197.0, style=ProgressStyle(description…"
            ]
          },
          "metadata": {
            "tags": []
          }
        },
        {
          "output_type": "stream",
          "text": [
            "\n"
          ],
          "name": "stdout"
        },
        {
          "output_type": "display_data",
          "data": {
            "application/vnd.jupyter.widget-view+json": {
              "model_id": "32d217a7df9441efa6281295303ac4c6",
              "version_minor": 0,
              "version_major": 2
            },
            "text/plain": [
              "HBox(children=(FloatProgress(value=0.0, description='Downloading', max=242065649.0, style=ProgressStyle(descri…"
            ]
          },
          "metadata": {
            "tags": []
          }
        },
        {
          "output_type": "stream",
          "text": [
            "\n"
          ],
          "name": "stdout"
        }
      ]
    },
    {
      "cell_type": "code",
      "metadata": {
        "colab": {
          "base_uri": "https://localhost:8080/"
        },
        "id": "AFVcPJ5pkLeS",
        "outputId": "2863dffc-185a-4c05-cbec-14001fd7b913"
      },
      "source": [
        "p_train, p_frozen = countParameters(model)\n",
        "print(f\"The model has {p_train:,} trainable and {p_frozen:,} frozen parameters\")"
      ],
      "execution_count": 25,
      "outputs": [
        {
          "output_type": "stream",
          "text": [
            "The model has 60,506,624 trainable and 0 frozen parameters\n"
          ],
          "name": "stdout"
        }
      ]
    },
    {
      "cell_type": "markdown",
      "metadata": {
        "id": "fCqxnQ53b88I"
      },
      "source": [
        "### Optimization"
      ]
    },
    {
      "cell_type": "code",
      "metadata": {
        "id": "JcjV5lqi9o47"
      },
      "source": [
        "optimizer = Adafactor(\n",
        "    params = model.parameters(), \n",
        "    lr = LR, \n",
        "    scale_parameter = False, \n",
        "    relative_step = False\n",
        ")"
      ],
      "execution_count": 26,
      "outputs": []
    },
    {
      "cell_type": "code",
      "metadata": {
        "colab": {
          "base_uri": "https://localhost:8080/",
          "height": 429,
          "referenced_widgets": [
            "d03d7365aef74d2f8a91935301efefa8",
            "e172539604fb4ecc81e39fb5b5c39609",
            "cdfd0ecab3ed42d8b5bce5badd10c2da",
            "5f2704cf30cf4582b2be6a5cc38923db",
            "803d1bb6c7874c8aab15c79a54cf0119",
            "70344488336d411aa890132ac40469ea",
            "0338c3852ba94d6388a3b35d69db5c94",
            "11451955c32b4eceac72992376f07a06",
            "10772da756b14d1793d88b880bac3aff",
            "1b3ae71fc9bf43a1a5098bcea630704d",
            "c61262d00696451cb3d77964f46785b1",
            "2026d9785d494974b64a50fc5a7fbd30",
            "3a4fcbd3df0a4243a21bfd95c9f35bd6",
            "d45c5318dcf341e1af8efcf9d4752b4e",
            "be3ae0e150004071868a47955d970e89",
            "74d80e850e10484a9b9e838c2acadd54",
            "69f2c6be71544740926b9750020f7296",
            "01ad6e4cbf05434db82799791b0e45c5",
            "9edfa97e6e6e478382e67557115e83b8",
            "0ebd4800811245738b1b0a97d74b37ea",
            "e62ba3e7c42f45c4bae454324056525a",
            "182ed860c8c34751ba9e947f5f5a0733",
            "79291a7ce68648d88ef9cb0d716096b0",
            "3078744a485d400782ff50ed69a4eec2",
            "f133b8370dad45bd9a8b102619664e22",
            "235d887546c740b49c1203e32c3a74c1",
            "707bcb1a7427437ab76a95f53a0cf8c4",
            "42a03ad25c3345d6adc4c41ca9952fa7",
            "0a092716466944dc9c288e650f55441b",
            "50a837bb7bcd45bd90f546b999d65c68",
            "60ccb7ccae494cbfa04837ca2fdfb63f",
            "9b9000788e9a4490b1cf817ecacd14be",
            "e16069f37a2342cabc1ec7c87bd101ca",
            "ca236afa01b84ae08f9fa87de09ed35e",
            "4b815bf339984995a6e3d69ef992ace8",
            "511f61d443984555a4b2456a5dde62c4",
            "9c3cd2335a6f4c56a3ba138db538a5a0",
            "8c7a9a9565e544a293d495714938c763",
            "0271d339b5494f009f57a4805b19d442",
            "bc7c9828d9aa412bae724ee572db7fa3"
          ]
        },
        "id": "kQZzlebv9te6",
        "outputId": "fc909d43-2867-4093-b4fb-87df2bd1875e"
      },
      "source": [
        "losses = []\n",
        "for e in range(N_EPOCHS):\n",
        "    print(f\"Epoch {e}\")\n",
        "    loss_batches = train(e, tokenizer, model, dl_train, optimizer)\n",
        "    losses += loss_batches"
      ],
      "execution_count": 27,
      "outputs": [
        {
          "output_type": "stream",
          "text": [
            "Epoch 0\n"
          ],
          "name": "stdout"
        },
        {
          "output_type": "display_data",
          "data": {
            "application/vnd.jupyter.widget-view+json": {
              "model_id": "d03d7365aef74d2f8a91935301efefa8",
              "version_minor": 0,
              "version_major": 2
            },
            "text/plain": [
              "HBox(children=(FloatProgress(value=0.0, max=3266.0), HTML(value='')))"
            ]
          },
          "metadata": {
            "tags": []
          }
        },
        {
          "output_type": "stream",
          "text": [
            "/usr/local/lib/python3.7/dist-packages/transformers/optimization.py:562: UserWarning: This overload of add_ is deprecated:\n",
            "\tadd_(Number alpha, Tensor other)\n",
            "Consider using one of the following signatures instead:\n",
            "\tadd_(Tensor other, *, Number alpha) (Triggered internally at  /pytorch/torch/csrc/utils/python_arg_parser.cpp:1005.)\n",
            "  exp_avg_sq_row.mul_(beta2t).add_(1.0 - beta2t, update.mean(dim=-1))\n"
          ],
          "name": "stderr"
        },
        {
          "output_type": "stream",
          "text": [
            "\n",
            "Epoch 1\n"
          ],
          "name": "stdout"
        },
        {
          "output_type": "display_data",
          "data": {
            "application/vnd.jupyter.widget-view+json": {
              "model_id": "10772da756b14d1793d88b880bac3aff",
              "version_minor": 0,
              "version_major": 2
            },
            "text/plain": [
              "HBox(children=(FloatProgress(value=0.0, max=3266.0), HTML(value='')))"
            ]
          },
          "metadata": {
            "tags": []
          }
        },
        {
          "output_type": "stream",
          "text": [
            "\n",
            "Epoch 2\n"
          ],
          "name": "stdout"
        },
        {
          "output_type": "display_data",
          "data": {
            "application/vnd.jupyter.widget-view+json": {
              "model_id": "69f2c6be71544740926b9750020f7296",
              "version_minor": 0,
              "version_major": 2
            },
            "text/plain": [
              "HBox(children=(FloatProgress(value=0.0, max=3266.0), HTML(value='')))"
            ]
          },
          "metadata": {
            "tags": []
          }
        },
        {
          "output_type": "stream",
          "text": [
            "\n",
            "Epoch 3\n"
          ],
          "name": "stdout"
        },
        {
          "output_type": "display_data",
          "data": {
            "application/vnd.jupyter.widget-view+json": {
              "model_id": "f133b8370dad45bd9a8b102619664e22",
              "version_minor": 0,
              "version_major": 2
            },
            "text/plain": [
              "HBox(children=(FloatProgress(value=0.0, max=3266.0), HTML(value='')))"
            ]
          },
          "metadata": {
            "tags": []
          }
        },
        {
          "output_type": "stream",
          "text": [
            "\n",
            "Epoch 4\n"
          ],
          "name": "stdout"
        },
        {
          "output_type": "display_data",
          "data": {
            "application/vnd.jupyter.widget-view+json": {
              "model_id": "e16069f37a2342cabc1ec7c87bd101ca",
              "version_minor": 0,
              "version_major": 2
            },
            "text/plain": [
              "HBox(children=(FloatProgress(value=0.0, max=3266.0), HTML(value='')))"
            ]
          },
          "metadata": {
            "tags": []
          }
        },
        {
          "output_type": "stream",
          "text": [
            "\n"
          ],
          "name": "stdout"
        }
      ]
    },
    {
      "cell_type": "code",
      "metadata": {
        "colab": {
          "base_uri": "https://localhost:8080/",
          "height": 265
        },
        "id": "EJ3NFbCoUcNZ",
        "outputId": "9a6b3737-1712-4e58-f288-4c132e9e47a3"
      },
      "source": [
        "plt.plot(range(len(losses)), losses)\n",
        "plt.show()"
      ],
      "execution_count": 28,
      "outputs": [
        {
          "output_type": "display_data",
          "data": {
            "image/png": "[encoded data removed]",
            "text/plain": [
              "<Figure size 432x288 with 1 Axes>"
            ]
          },
          "metadata": {
            "tags": [],
            "needs_background": "light"
          }
        }
      ]
    },
    {
      "cell_type": "code",
      "metadata": {
        "colab": {
          "base_uri": "https://localhost:8080/",
          "height": 66,
          "referenced_widgets": [
            "0feaab41dabe44b9a7da7765dcbbb842",
            "2439646756cd46f5bfbebca7dcd9eb53",
            "0b6ca2ecd3ae427089e1c891f1a66cef",
            "888c7a3b665f43358fdfc1b83dfa0c9d",
            "988f6193689b425cb8f0deb769c48686",
            "ca86906dd8454e85a88484d5a01c1749",
            "bf2a97aa3151475f95d02a937ecd54d3",
            "c15cf2410e3d4fbaaba50eb30d974ad6"
          ]
        },
        "id": "peMxy-iB9wOc",
        "outputId": "0d4a1588-6c26-48a1-ef77-0076a6e301f1"
      },
      "source": [
        "predictions, actuals = validate(0, tokenizer, model, dl_val)\n",
        "results = pd.DataFrame({'Generated Text' : predictions, 'Actual Text' : actuals})"
      ],
      "execution_count": 29,
      "outputs": [
        {
          "output_type": "display_data",
          "data": {
            "application/vnd.jupyter.widget-view+json": {
              "model_id": "0feaab41dabe44b9a7da7765dcbbb842",
              "version_minor": 0,
              "version_major": 2
            },
            "text/plain": [
              "HBox(children=(FloatProgress(value=0.0, max=3.0), HTML(value='')))"
            ]
          },
          "metadata": {
            "tags": []
          }
        },
        {
          "output_type": "stream",
          "text": [
            "\n"
          ],
          "name": "stdout"
        }
      ]
    },
    {
      "cell_type": "code",
      "metadata": {
        "colab": {
          "base_uri": "https://localhost:8080/",
          "height": 195
        },
        "id": "IbE4ox5iIv82",
        "outputId": "2397df6a-76bb-4ed0-a86d-4cfb2b6f6bcb"
      },
      "source": [
        "display(results)"
      ],
      "execution_count": 30,
      "outputs": [
        {
          "output_type": "display_data",
          "data": {
            "text/html": [
              "<div>\n",
              "<style scoped>\n",
              "    .dataframe tbody tr th:only-of-type {\n",
              "        vertical-align: middle;\n",
              "    }\n",
              "\n",
              "    .dataframe tbody tr th {\n",
              "        vertical-align: top;\n",
              "    }\n",
              "\n",
              "    .dataframe thead th {\n",
              "        text-align: right;\n",
              "    }\n",
              "</style>\n",
              "<table border=\"1\" class=\"dataframe\">\n",
              "  <thead>\n",
              "    <tr style=\"text-align: right;\">\n",
              "      <th></th>\n",
              "      <th>Generated Text</th>\n",
              "      <th>Actual Text</th>\n",
              "    </tr>\n",
              "  </thead>\n",
              "  <tbody>\n",
              "    <tr>\n",
              "      <th>0</th>\n",
              "      <td>I am the first animal | to be taken back. It i...</td>\n",
              "      <td>I put an animal on an animal | which I put ont...</td>\n",
              "    </tr>\n",
              "    <tr>\n",
              "      <th>1</th>\n",
              "      <td>The first fire is a new world, | the undevelop...</td>\n",
              "      <td>the unthinkable prospect | of a world in which...</td>\n",
              "    </tr>\n",
              "    <tr>\n",
              "      <th>2</th>\n",
              "      <td>I can’t remember the language | of embroidered...</td>\n",
              "      <td>The dryer, uniform and squat as a biscuit tin,...</td>\n",
              "    </tr>\n",
              "    <tr>\n",
              "      <th>3</th>\n",
              "      <td>The slumber of the moon, | and all other eyes....</td>\n",
              "      <td>When on the marge of evening the last blue lig...</td>\n",
              "    </tr>\n",
              "    <tr>\n",
              "      <th>4</th>\n",
              "      <td>Past is the central point of fact. | The pipe ...</td>\n",
              "      <td>Tune yr sandwich to the key of C | Make biscui...</td>\n",
              "    </tr>\n",
              "  </tbody>\n",
              "</table>\n",
              "</div>"
            ],
            "text/plain": [
              "                                      Generated Text                                        Actual Text\n",
              "0  I am the first animal | to be taken back. It i...  I put an animal on an animal | which I put ont...\n",
              "1  The first fire is a new world, | the undevelop...  the unthinkable prospect | of a world in which...\n",
              "2  I can’t remember the language | of embroidered...  The dryer, uniform and squat as a biscuit tin,...\n",
              "3  The slumber of the moon, | and all other eyes....  When on the marge of evening the last blue lig...\n",
              "4  Past is the central point of fact. | The pipe ...  Tune yr sandwich to the key of C | Make biscui..."
            ]
          },
          "metadata": {
            "tags": []
          }
        }
      ]
    },
    {
      "cell_type": "code",
      "metadata": {
        "colab": {
          "base_uri": "https://localhost:8080/"
        },
        "id": "sphdNhRdIxtp",
        "outputId": "ec1d19e0-bd40-497d-e011-73b7e00a0665"
      },
      "source": [
        "x = 4\n",
        "print(results.iloc[x][\"Generated Text\"], \"\\n\")\n",
        "print(results.iloc[x][\"Actual Text\"])"
      ],
      "execution_count": 33,
      "outputs": [
        {
          "output_type": "stream",
          "text": [
            "Past is the central point of fact. | The pipe gathers lead from a door to open, and it’ll be innocent! \n",
            "\n",
            "Tune yr sandwich to the key of C | Make biscuits in kitchen B | | Miss Scarlet with her lead pipe | Waits behind the cupboard door | | Clubs one from the other limp | Only to begin again innocent | | &amp; nothing to do but gather into | Legion gather into constellation | | Coming along then a spider its web | Holds the walls together holds the floor | | Up gathers toward a central point | Mean &amp; distribution derivation | | To insert a thumb &amp; see what sticks | Past the earth’s crust cirrus | | And acidic enough to spoon fork but | Chew &amp; eat &amp; swallow digesting the fact | | That nine wonders hope the clouds have | Answers hope the clouds have\n"
          ],
          "name": "stdout"
        }
      ]
    },
    {
      "cell_type": "code",
      "metadata": {
        "colab": {
          "base_uri": "https://localhost:8080/"
        },
        "id": "2LrqpBLCp91d",
        "outputId": "7a2d61db-7391-42ef-8489-2e3a025496d1"
      },
      "source": [
        "gen = genSample([\"tree\", \"weeping\", \"rustling\", \"forest\", \"wind\", \"desolate\"], 100, 500, 1.2)"
      ],
      "execution_count": 39,
      "outputs": [
        {
          "output_type": "stream",
          "text": [
            "The rustling forest is desolate to the wind.\n",
            "The tree is being weeping when winds enter us,\n",
            "and even though they are still doing well it’s so;\n",
            "Even as I have thought that there was no sun here,\n",
            "I am deplorable for the thing like this.\n",
            "By now I must be dehydrated into the river;\n",
            "And because of that I cannot die then I will speak.\n",
            "And my brother loves with the night!\n"
          ],
          "name": "stdout"
        }
      ]
    },
    {
      "cell_type": "code",
      "metadata": {
        "colab": {
          "base_uri": "https://localhost:8080/"
        },
        "id": "VIjsiJnLqxG7",
        "outputId": "7c968641-ac61-47b2-9c28-e8bfc0095e50"
      },
      "source": [
        "gen = genSample([\"happy\", \"elated smile\", \"good luck\", \"persian rugs\", \"beautiful eyes\"], 100, 500, 1.2)"
      ],
      "execution_count": 43,
      "outputs": [
        {
          "output_type": "stream",
          "text": [
            "A well is not even a way to be\n",
            "made of persian and rugs.\n",
            "It's not so pleasant in sight,\n",
            "but as I know it, no more;\n",
            "And once I love you\n",
            "I see your beauties!\n",
            "But there's good luck in me\n",
            "As this is the universe.\n",
            "You need an elated smile\n",
            "In the heart of happy eyes.\n",
            "There are two gorgeous eyes (and one looks like a moon)\n",
            "This is how they come.\n"
          ],
          "name": "stdout"
        }
      ]
    },
    {
      "cell_type": "code",
      "metadata": {
        "colab": {
          "base_uri": "https://localhost:8080/"
        },
        "id": "SIDLBRkMroIa",
        "outputId": "6788afbf-5f3a-4f12-a99e-30db160f6068"
      },
      "source": [
        "gen = genSample([\"syrupy sweet\", \"glowing sun\", \"happy faces\", \"dancing trees\", \"joyous\", \"elated smile\"], 100, 500, 1.2)"
      ],
      "execution_count": 45,
      "outputs": [
        {
          "output_type": "stream",
          "text": [
            "Is a joyous feeling for others\n",
            "How could it be, of this glowing sun?\n",
            "What is its syrupy sweet and our smile in the sky?\n",
            "The happy faces of dancing trees have grown so smooth.\n",
            "The moon grows thick with lightning. It stands like you'll see,\n",
            "And the stars grow out all at once,\n",
            "And the birds are flying as well.\n",
            "The poets pass past them through my heart to swell together,\n",
            "That I feel as if we had been waiting,\n",
            "Shivering from their brow—\n",
            "Only the happy faces of me know when they come.\n"
          ],
          "name": "stdout"
        }
      ]
    },
    {
      "cell_type": "code",
      "metadata": {
        "colab": {
          "base_uri": "https://localhost:8080/"
        },
        "id": "GWyem_eqr5kT",
        "outputId": "a4c1a5bb-4e2d-4f34-ef90-5eadfc5fa34b"
      },
      "source": [
        "gen = genSample([\"glowing sun\", \"happy faces\", \"dancing trees\", \"joyous\", \"elated smile\"], 100, 500, 1.1)"
      ],
      "execution_count": 53,
      "outputs": [
        {
          "output_type": "stream",
          "text": [
            "Let’s make no more joyful faces, though\n",
            "God will help it sing, even if God\n",
            "Or the elated smile of dancing trees.\n",
            "For when God loves the glowing sun,\n",
            "All the bright faces of the spirit’s curse\n",
            "O Lord, who will bless me?\n",
            "Where will you go, and where will you go?\n",
            "If I shall be your father or I might be,\n",
            "My son to thwart my self,\n",
            "My son to die in his death?\n",
            "\n",
            "He will speak again. And when the moon is gone,\n",
            "When the wind came too;\n",
            "Who could have found them\n",
            "Through what I call joyous as he’s on her feet!\n",
            "It’s the best for me like this,\n",
            "And I will speak but once was with him.\n"
          ],
          "name": "stdout"
        }
      ]
    },
    {
      "cell_type": "code",
      "metadata": {
        "colab": {
          "base_uri": "https://localhost:8080/",
          "height": 35
        },
        "id": "HQz2-iEQuC1f",
        "outputId": "84a61b9b-03e5-441f-827c-164ba3dabcdf"
      },
      "source": [
        "df_val[\"input\"][0]"
      ],
      "execution_count": 56,
      "outputs": [
        {
          "output_type": "execute_result",
          "data": {
            "application/vnd.google.colaboratory.intrinsic+json": {
              "type": "string"
            },
            "text/plain": [
              "'poemify: hoary sky | first animal | consistent light | long time | taking | silly | back | animals | tired'"
            ]
          },
          "metadata": {
            "tags": []
          },
          "execution_count": 56
        }
      ]
    },
    {
      "cell_type": "code",
      "metadata": {
        "colab": {
          "base_uri": "https://localhost:8080/"
        },
        "id": "ITasjhETt3QU",
        "outputId": "835a7a65-6530-404e-d52d-f4239ee95f34"
      },
      "source": [
        "gen = genSample([\"hoary sky\", \"first animal\", \"consistent light\", \"long time\", \"taking\", \"silly\" ,\"back\", \"animals\", \"tired\"], 100, 500, 1.2)"
      ],
      "execution_count": 66,
      "outputs": [
        {
          "output_type": "stream",
          "text": [
            "The first animal in the country\n",
            "takes a proper and consistent light.\n",
            "And it’s not even too tired to go back\n",
            "into the hoary sky.\n",
            "It’s a long time since we had seen\n",
            "animals in another town,\n",
            "that made us live.\n",
            "It doesn’t always happen here,\n",
            "but you have no name\n",
            "at all. So I know how silly it is—I am\n",
            "the only one who does this again.\n",
            "That’s like a child taking off-wheel\n",
            "on the side of the world.\n"
          ],
          "name": "stdout"
        }
      ]
    },
    {
      "cell_type": "markdown",
      "metadata": {
        "id": "yfaNKFrtQ7bs"
      },
      "source": [
        "## Dummy cells added by the script\n",
        "After setting the model on training, use inject the following JS code into the console to prevent losing connection after 90 mins. This code keeps adding new cells every 30 mins, so make sure to select the last cell before injection, after training, delete all these cells manually.\n",
        "```javascript\n",
        "var t_interval = 1800; // In seconds, 30 mins\n",
        "function AddCell(){\n",
        "    console.log(\"Added cell\"); \n",
        "    document.querySelector(\"#toolbar-add-code\").click() \n",
        "}\n",
        "setInterval(AddCell, t_interval*1000); // this is in ms, thus multiplied by 1000 \n",
        "```"
      ]
    },
    {
      "cell_type": "code",
      "metadata": {
        "id": "enRScr9Bg-L6"
      },
      "source": [
        ""
      ],
      "execution_count": 31,
      "outputs": []
    }
  ]
}