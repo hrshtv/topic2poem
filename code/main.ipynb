{
  "nbformat": 4,
  "nbformat_minor": 0,
  "metadata": {
    "colab": {
      "name": "topic2poem.ipynb",
      "provenance": [],
      "collapsed_sections": [
        "jMy7DpOtax_8",
        "hBESXajW16Wr",
        "W0LdG06NjwTL",
        "FEDFEI9vama_",
        "J6ZsKUfBgehV",
        "LH0lVDRBarUJ",
        "cRIsPv8FYK67",
        "Ad5BHSxYhRYn",
        "IJ_eZh1Pb6PX",
        "fCqxnQ53b88I"
      ],
      "toc_visible": true
    },
    "kernelspec": {
      "name": "python3",
      "display_name": "Python 3"
    },
    "language_info": {
      "name": "python"
    },
    "widgets": {
      "application/vnd.jupyter.widget-state+json": {
        "3fa8835607d7479bb8e4a03f2103b7ee": {
          "model_module": "@jupyter-widgets/controls",
          "model_name": "HBoxModel",
          "state": {
            "_view_name": "HBoxView",
            "_dom_classes": [],
            "_model_name": "HBoxModel",
            "_view_module": "@jupyter-widgets/controls",
            "_model_module_version": "1.5.0",
            "_view_count": null,
            "_view_module_version": "1.5.0",
            "box_style": "",
            "layout": "IPY_MODEL_97bb1f98699a406da0d3e59ecd68212e",
            "_model_module": "@jupyter-widgets/controls",
            "children": [
              "IPY_MODEL_cd4abbdda98943d4b1b022e171d8d4b2",
              "IPY_MODEL_6e92230734524debb8448913cfae0dad"
            ]
          }
        },
        "97bb1f98699a406da0d3e59ecd68212e": {
          "model_module": "@jupyter-widgets/base",
          "model_name": "LayoutModel",
          "state": {
            "_view_name": "LayoutView",
            "grid_template_rows": null,
            "right": null,
            "justify_content": null,
            "_view_module": "@jupyter-widgets/base",
            "overflow": null,
            "_model_module_version": "1.2.0",
            "_view_count": null,
            "flex_flow": null,
            "width": null,
            "min_width": null,
            "border": null,
            "align_items": null,
            "bottom": null,
            "_model_module": "@jupyter-widgets/base",
            "top": null,
            "grid_column": null,
            "overflow_y": null,
            "overflow_x": null,
            "grid_auto_flow": null,
            "grid_area": null,
            "grid_template_columns": null,
            "flex": null,
            "_model_name": "LayoutModel",
            "justify_items": null,
            "grid_row": null,
            "max_height": null,
            "align_content": null,
            "visibility": null,
            "align_self": null,
            "height": null,
            "min_height": null,
            "padding": null,
            "grid_auto_rows": null,
            "grid_gap": null,
            "max_width": null,
            "order": null,
            "_view_module_version": "1.2.0",
            "grid_template_areas": null,
            "object_position": null,
            "object_fit": null,
            "grid_auto_columns": null,
            "margin": null,
            "display": null,
            "left": null
          }
        },
        "cd4abbdda98943d4b1b022e171d8d4b2": {
          "model_module": "@jupyter-widgets/controls",
          "model_name": "FloatProgressModel",
          "state": {
            "_view_name": "ProgressView",
            "style": "IPY_MODEL_f3cf37e738bd439092ece9eb83d799ed",
            "_dom_classes": [],
            "description": "Downloading: 100%",
            "_model_name": "FloatProgressModel",
            "bar_style": "success",
            "max": 791656,
            "_view_module": "@jupyter-widgets/controls",
            "_model_module_version": "1.5.0",
            "value": 791656,
            "_view_count": null,
            "_view_module_version": "1.5.0",
            "orientation": "horizontal",
            "min": 0,
            "description_tooltip": null,
            "_model_module": "@jupyter-widgets/controls",
            "layout": "IPY_MODEL_49e1f0844993422ba7c9484d29027d3d"
          }
        },
        "6e92230734524debb8448913cfae0dad": {
          "model_module": "@jupyter-widgets/controls",
          "model_name": "HTMLModel",
          "state": {
            "_view_name": "HTMLView",
            "style": "IPY_MODEL_372269d383a94b9f94834e4ed42da08c",
            "_dom_classes": [],
            "description": "",
            "_model_name": "HTMLModel",
            "placeholder": "​",
            "_view_module": "@jupyter-widgets/controls",
            "_model_module_version": "1.5.0",
            "value": " 792k/792k [00:00&lt;00:00, 3.06MB/s]",
            "_view_count": null,
            "_view_module_version": "1.5.0",
            "description_tooltip": null,
            "_model_module": "@jupyter-widgets/controls",
            "layout": "IPY_MODEL_a714784b8f1b4654a1ea1e690ba91e5e"
          }
        },
        "f3cf37e738bd439092ece9eb83d799ed": {
          "model_module": "@jupyter-widgets/controls",
          "model_name": "ProgressStyleModel",
          "state": {
            "_view_name": "StyleView",
            "_model_name": "ProgressStyleModel",
            "description_width": "initial",
            "_view_module": "@jupyter-widgets/base",
            "_model_module_version": "1.5.0",
            "_view_count": null,
            "_view_module_version": "1.2.0",
            "bar_color": null,
            "_model_module": "@jupyter-widgets/controls"
          }
        },
        "49e1f0844993422ba7c9484d29027d3d": {
          "model_module": "@jupyter-widgets/base",
          "model_name": "LayoutModel",
          "state": {
            "_view_name": "LayoutView",
            "grid_template_rows": null,
            "right": null,
            "justify_content": null,
            "_view_module": "@jupyter-widgets/base",
            "overflow": null,
            "_model_module_version": "1.2.0",
            "_view_count": null,
            "flex_flow": null,
            "width": null,
            "min_width": null,
            "border": null,
            "align_items": null,
            "bottom": null,
            "_model_module": "@jupyter-widgets/base",
            "top": null,
            "grid_column": null,
            "overflow_y": null,
            "overflow_x": null,
            "grid_auto_flow": null,
            "grid_area": null,
            "grid_template_columns": null,
            "flex": null,
            "_model_name": "LayoutModel",
            "justify_items": null,
            "grid_row": null,
            "max_height": null,
            "align_content": null,
            "visibility": null,
            "align_self": null,
            "height": null,
            "min_height": null,
            "padding": null,
            "grid_auto_rows": null,
            "grid_gap": null,
            "max_width": null,
            "order": null,
            "_view_module_version": "1.2.0",
            "grid_template_areas": null,
            "object_position": null,
            "object_fit": null,
            "grid_auto_columns": null,
            "margin": null,
            "display": null,
            "left": null
          }
        },
        "372269d383a94b9f94834e4ed42da08c": {
          "model_module": "@jupyter-widgets/controls",
          "model_name": "DescriptionStyleModel",
          "state": {
            "_view_name": "StyleView",
            "_model_name": "DescriptionStyleModel",
            "description_width": "",
            "_view_module": "@jupyter-widgets/base",
            "_model_module_version": "1.5.0",
            "_view_count": null,
            "_view_module_version": "1.2.0",
            "_model_module": "@jupyter-widgets/controls"
          }
        },
        "a714784b8f1b4654a1ea1e690ba91e5e": {
          "model_module": "@jupyter-widgets/base",
          "model_name": "LayoutModel",
          "state": {
            "_view_name": "LayoutView",
            "grid_template_rows": null,
            "right": null,
            "justify_content": null,
            "_view_module": "@jupyter-widgets/base",
            "overflow": null,
            "_model_module_version": "1.2.0",
            "_view_count": null,
            "flex_flow": null,
            "width": null,
            "min_width": null,
            "border": null,
            "align_items": null,
            "bottom": null,
            "_model_module": "@jupyter-widgets/base",
            "top": null,
            "grid_column": null,
            "overflow_y": null,
            "overflow_x": null,
            "grid_auto_flow": null,
            "grid_area": null,
            "grid_template_columns": null,
            "flex": null,
            "_model_name": "LayoutModel",
            "justify_items": null,
            "grid_row": null,
            "max_height": null,
            "align_content": null,
            "visibility": null,
            "align_self": null,
            "height": null,
            "min_height": null,
            "padding": null,
            "grid_auto_rows": null,
            "grid_gap": null,
            "max_width": null,
            "order": null,
            "_view_module_version": "1.2.0",
            "grid_template_areas": null,
            "object_position": null,
            "object_fit": null,
            "grid_auto_columns": null,
            "margin": null,
            "display": null,
            "left": null
          }
        },
        "0c521e0e0abc4b349ef655574ed39fda": {
          "model_module": "@jupyter-widgets/controls",
          "model_name": "HBoxModel",
          "state": {
            "_view_name": "HBoxView",
            "_dom_classes": [],
            "_model_name": "HBoxModel",
            "_view_module": "@jupyter-widgets/controls",
            "_model_module_version": "1.5.0",
            "_view_count": null,
            "_view_module_version": "1.5.0",
            "box_style": "",
            "layout": "IPY_MODEL_5503b4bb8c8b4dd49ef2e0a76d10c6b4",
            "_model_module": "@jupyter-widgets/controls",
            "children": [
              "IPY_MODEL_734100c056cb4175a37cafd3d9f31e71",
              "IPY_MODEL_f5df0881875046d7a25f286bab3e59de"
            ]
          }
        },
        "5503b4bb8c8b4dd49ef2e0a76d10c6b4": {
          "model_module": "@jupyter-widgets/base",
          "model_name": "LayoutModel",
          "state": {
            "_view_name": "LayoutView",
            "grid_template_rows": null,
            "right": null,
            "justify_content": null,
            "_view_module": "@jupyter-widgets/base",
            "overflow": null,
            "_model_module_version": "1.2.0",
            "_view_count": null,
            "flex_flow": null,
            "width": null,
            "min_width": null,
            "border": null,
            "align_items": null,
            "bottom": null,
            "_model_module": "@jupyter-widgets/base",
            "top": null,
            "grid_column": null,
            "overflow_y": null,
            "overflow_x": null,
            "grid_auto_flow": null,
            "grid_area": null,
            "grid_template_columns": null,
            "flex": null,
            "_model_name": "LayoutModel",
            "justify_items": null,
            "grid_row": null,
            "max_height": null,
            "align_content": null,
            "visibility": null,
            "align_self": null,
            "height": null,
            "min_height": null,
            "padding": null,
            "grid_auto_rows": null,
            "grid_gap": null,
            "max_width": null,
            "order": null,
            "_view_module_version": "1.2.0",
            "grid_template_areas": null,
            "object_position": null,
            "object_fit": null,
            "grid_auto_columns": null,
            "margin": null,
            "display": null,
            "left": null
          }
        },
        "734100c056cb4175a37cafd3d9f31e71": {
          "model_module": "@jupyter-widgets/controls",
          "model_name": "FloatProgressModel",
          "state": {
            "_view_name": "ProgressView",
            "style": "IPY_MODEL_9b19266ad3084fa4883fffba9900a821",
            "_dom_classes": [],
            "description": "Downloading: 100%",
            "_model_name": "FloatProgressModel",
            "bar_style": "success",
            "max": 1389353,
            "_view_module": "@jupyter-widgets/controls",
            "_model_module_version": "1.5.0",
            "value": 1389353,
            "_view_count": null,
            "_view_module_version": "1.5.0",
            "orientation": "horizontal",
            "min": 0,
            "description_tooltip": null,
            "_model_module": "@jupyter-widgets/controls",
            "layout": "IPY_MODEL_ee88e5db9ecc4f608d240dd6e7f39e5d"
          }
        },
        "f5df0881875046d7a25f286bab3e59de": {
          "model_module": "@jupyter-widgets/controls",
          "model_name": "HTMLModel",
          "state": {
            "_view_name": "HTMLView",
            "style": "IPY_MODEL_84baf40637604d7c96cbcef911ef0d65",
            "_dom_classes": [],
            "description": "",
            "_model_name": "HTMLModel",
            "placeholder": "​",
            "_view_module": "@jupyter-widgets/controls",
            "_model_module_version": "1.5.0",
            "value": " 1.39M/1.39M [00:00&lt;00:00, 1.71MB/s]",
            "_view_count": null,
            "_view_module_version": "1.5.0",
            "description_tooltip": null,
            "_model_module": "@jupyter-widgets/controls",
            "layout": "IPY_MODEL_ae1e98e6ff95417887968f9464bfcd26"
          }
        },
        "9b19266ad3084fa4883fffba9900a821": {
          "model_module": "@jupyter-widgets/controls",
          "model_name": "ProgressStyleModel",
          "state": {
            "_view_name": "StyleView",
            "_model_name": "ProgressStyleModel",
            "description_width": "initial",
            "_view_module": "@jupyter-widgets/base",
            "_model_module_version": "1.5.0",
            "_view_count": null,
            "_view_module_version": "1.2.0",
            "bar_color": null,
            "_model_module": "@jupyter-widgets/controls"
          }
        },
        "ee88e5db9ecc4f608d240dd6e7f39e5d": {
          "model_module": "@jupyter-widgets/base",
          "model_name": "LayoutModel",
          "state": {
            "_view_name": "LayoutView",
            "grid_template_rows": null,
            "right": null,
            "justify_content": null,
            "_view_module": "@jupyter-widgets/base",
            "overflow": null,
            "_model_module_version": "1.2.0",
            "_view_count": null,
            "flex_flow": null,
            "width": null,
            "min_width": null,
            "border": null,
            "align_items": null,
            "bottom": null,
            "_model_module": "@jupyter-widgets/base",
            "top": null,
            "grid_column": null,
            "overflow_y": null,
            "overflow_x": null,
            "grid_auto_flow": null,
            "grid_area": null,
            "grid_template_columns": null,
            "flex": null,
            "_model_name": "LayoutModel",
            "justify_items": null,
            "grid_row": null,
            "max_height": null,
            "align_content": null,
            "visibility": null,
            "align_self": null,
            "height": null,
            "min_height": null,
            "padding": null,
            "grid_auto_rows": null,
            "grid_gap": null,
            "max_width": null,
            "order": null,
            "_view_module_version": "1.2.0",
            "grid_template_areas": null,
            "object_position": null,
            "object_fit": null,
            "grid_auto_columns": null,
            "margin": null,
            "display": null,
            "left": null
          }
        },
        "84baf40637604d7c96cbcef911ef0d65": {
          "model_module": "@jupyter-widgets/controls",
          "model_name": "DescriptionStyleModel",
          "state": {
            "_view_name": "StyleView",
            "_model_name": "DescriptionStyleModel",
            "description_width": "",
            "_view_module": "@jupyter-widgets/base",
            "_model_module_version": "1.5.0",
            "_view_count": null,
            "_view_module_version": "1.2.0",
            "_model_module": "@jupyter-widgets/controls"
          }
        },
        "ae1e98e6ff95417887968f9464bfcd26": {
          "model_module": "@jupyter-widgets/base",
          "model_name": "LayoutModel",
          "state": {
            "_view_name": "LayoutView",
            "grid_template_rows": null,
            "right": null,
            "justify_content": null,
            "_view_module": "@jupyter-widgets/base",
            "overflow": null,
            "_model_module_version": "1.2.0",
            "_view_count": null,
            "flex_flow": null,
            "width": null,
            "min_width": null,
            "border": null,
            "align_items": null,
            "bottom": null,
            "_model_module": "@jupyter-widgets/base",
            "top": null,
            "grid_column": null,
            "overflow_y": null,
            "overflow_x": null,
            "grid_auto_flow": null,
            "grid_area": null,
            "grid_template_columns": null,
            "flex": null,
            "_model_name": "LayoutModel",
            "justify_items": null,
            "grid_row": null,
            "max_height": null,
            "align_content": null,
            "visibility": null,
            "align_self": null,
            "height": null,
            "min_height": null,
            "padding": null,
            "grid_auto_rows": null,
            "grid_gap": null,
            "max_width": null,
            "order": null,
            "_view_module_version": "1.2.0",
            "grid_template_areas": null,
            "object_position": null,
            "object_fit": null,
            "grid_auto_columns": null,
            "margin": null,
            "display": null,
            "left": null
          }
        },
        "9f19c1472e1d425f878084e8df1b1975": {
          "model_module": "@jupyter-widgets/controls",
          "model_name": "HBoxModel",
          "state": {
            "_view_name": "HBoxView",
            "_dom_classes": [],
            "_model_name": "HBoxModel",
            "_view_module": "@jupyter-widgets/controls",
            "_model_module_version": "1.5.0",
            "_view_count": null,
            "_view_module_version": "1.5.0",
            "box_style": "",
            "layout": "IPY_MODEL_1eb2c663a05345a4a1ebd16c4dc1a63d",
            "_model_module": "@jupyter-widgets/controls",
            "children": [
              "IPY_MODEL_fd7eb56fc543467cbc63f24d2d83a7ee",
              "IPY_MODEL_d08813340e674f9899b5f088889abea6"
            ]
          }
        },
        "1eb2c663a05345a4a1ebd16c4dc1a63d": {
          "model_module": "@jupyter-widgets/base",
          "model_name": "LayoutModel",
          "state": {
            "_view_name": "LayoutView",
            "grid_template_rows": null,
            "right": null,
            "justify_content": null,
            "_view_module": "@jupyter-widgets/base",
            "overflow": null,
            "_model_module_version": "1.2.0",
            "_view_count": null,
            "flex_flow": null,
            "width": null,
            "min_width": null,
            "border": null,
            "align_items": null,
            "bottom": null,
            "_model_module": "@jupyter-widgets/base",
            "top": null,
            "grid_column": null,
            "overflow_y": null,
            "overflow_x": null,
            "grid_auto_flow": null,
            "grid_area": null,
            "grid_template_columns": null,
            "flex": null,
            "_model_name": "LayoutModel",
            "justify_items": null,
            "grid_row": null,
            "max_height": null,
            "align_content": null,
            "visibility": null,
            "align_self": null,
            "height": null,
            "min_height": null,
            "padding": null,
            "grid_auto_rows": null,
            "grid_gap": null,
            "max_width": null,
            "order": null,
            "_view_module_version": "1.2.0",
            "grid_template_areas": null,
            "object_position": null,
            "object_fit": null,
            "grid_auto_columns": null,
            "margin": null,
            "display": null,
            "left": null
          }
        },
        "fd7eb56fc543467cbc63f24d2d83a7ee": {
          "model_module": "@jupyter-widgets/controls",
          "model_name": "FloatProgressModel",
          "state": {
            "_view_name": "ProgressView",
            "style": "IPY_MODEL_52972982e76f41bb8d1fbc2d34bf6010",
            "_dom_classes": [],
            "description": "Downloading: 100%",
            "_model_name": "FloatProgressModel",
            "bar_style": "success",
            "max": 1199,
            "_view_module": "@jupyter-widgets/controls",
            "_model_module_version": "1.5.0",
            "value": 1199,
            "_view_count": null,
            "_view_module_version": "1.5.0",
            "orientation": "horizontal",
            "min": 0,
            "description_tooltip": null,
            "_model_module": "@jupyter-widgets/controls",
            "layout": "IPY_MODEL_8b26fc6262a346aab79c60ffaceb2517"
          }
        },
        "d08813340e674f9899b5f088889abea6": {
          "model_module": "@jupyter-widgets/controls",
          "model_name": "HTMLModel",
          "state": {
            "_view_name": "HTMLView",
            "style": "IPY_MODEL_278ad71c5c9c4719bebff6c8c3418607",
            "_dom_classes": [],
            "description": "",
            "_model_name": "HTMLModel",
            "placeholder": "​",
            "_view_module": "@jupyter-widgets/controls",
            "_model_module_version": "1.5.0",
            "value": " 1.20k/1.20k [00:00&lt;00:00, 6.00kB/s]",
            "_view_count": null,
            "_view_module_version": "1.5.0",
            "description_tooltip": null,
            "_model_module": "@jupyter-widgets/controls",
            "layout": "IPY_MODEL_da9c54fe71724f2caf3515656045b13f"
          }
        },
        "52972982e76f41bb8d1fbc2d34bf6010": {
          "model_module": "@jupyter-widgets/controls",
          "model_name": "ProgressStyleModel",
          "state": {
            "_view_name": "StyleView",
            "_model_name": "ProgressStyleModel",
            "description_width": "initial",
            "_view_module": "@jupyter-widgets/base",
            "_model_module_version": "1.5.0",
            "_view_count": null,
            "_view_module_version": "1.2.0",
            "bar_color": null,
            "_model_module": "@jupyter-widgets/controls"
          }
        },
        "8b26fc6262a346aab79c60ffaceb2517": {
          "model_module": "@jupyter-widgets/base",
          "model_name": "LayoutModel",
          "state": {
            "_view_name": "LayoutView",
            "grid_template_rows": null,
            "right": null,
            "justify_content": null,
            "_view_module": "@jupyter-widgets/base",
            "overflow": null,
            "_model_module_version": "1.2.0",
            "_view_count": null,
            "flex_flow": null,
            "width": null,
            "min_width": null,
            "border": null,
            "align_items": null,
            "bottom": null,
            "_model_module": "@jupyter-widgets/base",
            "top": null,
            "grid_column": null,
            "overflow_y": null,
            "overflow_x": null,
            "grid_auto_flow": null,
            "grid_area": null,
            "grid_template_columns": null,
            "flex": null,
            "_model_name": "LayoutModel",
            "justify_items": null,
            "grid_row": null,
            "max_height": null,
            "align_content": null,
            "visibility": null,
            "align_self": null,
            "height": null,
            "min_height": null,
            "padding": null,
            "grid_auto_rows": null,
            "grid_gap": null,
            "max_width": null,
            "order": null,
            "_view_module_version": "1.2.0",
            "grid_template_areas": null,
            "object_position": null,
            "object_fit": null,
            "grid_auto_columns": null,
            "margin": null,
            "display": null,
            "left": null
          }
        },
        "278ad71c5c9c4719bebff6c8c3418607": {
          "model_module": "@jupyter-widgets/controls",
          "model_name": "DescriptionStyleModel",
          "state": {
            "_view_name": "StyleView",
            "_model_name": "DescriptionStyleModel",
            "description_width": "",
            "_view_module": "@jupyter-widgets/base",
            "_model_module_version": "1.5.0",
            "_view_count": null,
            "_view_module_version": "1.2.0",
            "_model_module": "@jupyter-widgets/controls"
          }
        },
        "da9c54fe71724f2caf3515656045b13f": {
          "model_module": "@jupyter-widgets/base",
          "model_name": "LayoutModel",
          "state": {
            "_view_name": "LayoutView",
            "grid_template_rows": null,
            "right": null,
            "justify_content": null,
            "_view_module": "@jupyter-widgets/base",
            "overflow": null,
            "_model_module_version": "1.2.0",
            "_view_count": null,
            "flex_flow": null,
            "width": null,
            "min_width": null,
            "border": null,
            "align_items": null,
            "bottom": null,
            "_model_module": "@jupyter-widgets/base",
            "top": null,
            "grid_column": null,
            "overflow_y": null,
            "overflow_x": null,
            "grid_auto_flow": null,
            "grid_area": null,
            "grid_template_columns": null,
            "flex": null,
            "_model_name": "LayoutModel",
            "justify_items": null,
            "grid_row": null,
            "max_height": null,
            "align_content": null,
            "visibility": null,
            "align_self": null,
            "height": null,
            "min_height": null,
            "padding": null,
            "grid_auto_rows": null,
            "grid_gap": null,
            "max_width": null,
            "order": null,
            "_view_module_version": "1.2.0",
            "grid_template_areas": null,
            "object_position": null,
            "object_fit": null,
            "grid_auto_columns": null,
            "margin": null,
            "display": null,
            "left": null
          }
        },
        "1451fd83e19f4f698276a772ad82ec70": {
          "model_module": "@jupyter-widgets/controls",
          "model_name": "HBoxModel",
          "state": {
            "_view_name": "HBoxView",
            "_dom_classes": [],
            "_model_name": "HBoxModel",
            "_view_module": "@jupyter-widgets/controls",
            "_model_module_version": "1.5.0",
            "_view_count": null,
            "_view_module_version": "1.5.0",
            "box_style": "",
            "layout": "IPY_MODEL_9f76ea94e5eb42ed9867bbefe89b6c42",
            "_model_module": "@jupyter-widgets/controls",
            "children": [
              "IPY_MODEL_36753a225462478db53ea80870820398",
              "IPY_MODEL_2abc00cad9264d809c23a662ed882ebf"
            ]
          }
        },
        "9f76ea94e5eb42ed9867bbefe89b6c42": {
          "model_module": "@jupyter-widgets/base",
          "model_name": "LayoutModel",
          "state": {
            "_view_name": "LayoutView",
            "grid_template_rows": null,
            "right": null,
            "justify_content": null,
            "_view_module": "@jupyter-widgets/base",
            "overflow": null,
            "_model_module_version": "1.2.0",
            "_view_count": null,
            "flex_flow": null,
            "width": null,
            "min_width": null,
            "border": null,
            "align_items": null,
            "bottom": null,
            "_model_module": "@jupyter-widgets/base",
            "top": null,
            "grid_column": null,
            "overflow_y": null,
            "overflow_x": null,
            "grid_auto_flow": null,
            "grid_area": null,
            "grid_template_columns": null,
            "flex": null,
            "_model_name": "LayoutModel",
            "justify_items": null,
            "grid_row": null,
            "max_height": null,
            "align_content": null,
            "visibility": null,
            "align_self": null,
            "height": null,
            "min_height": null,
            "padding": null,
            "grid_auto_rows": null,
            "grid_gap": null,
            "max_width": null,
            "order": null,
            "_view_module_version": "1.2.0",
            "grid_template_areas": null,
            "object_position": null,
            "object_fit": null,
            "grid_auto_columns": null,
            "margin": null,
            "display": null,
            "left": null
          }
        },
        "36753a225462478db53ea80870820398": {
          "model_module": "@jupyter-widgets/controls",
          "model_name": "FloatProgressModel",
          "state": {
            "_view_name": "ProgressView",
            "style": "IPY_MODEL_127229a28968483a9378ff913134cf4b",
            "_dom_classes": [],
            "description": "Downloading: 100%",
            "_model_name": "FloatProgressModel",
            "bar_style": "success",
            "max": 891691430,
            "_view_module": "@jupyter-widgets/controls",
            "_model_module_version": "1.5.0",
            "value": 891691430,
            "_view_count": null,
            "_view_module_version": "1.5.0",
            "orientation": "horizontal",
            "min": 0,
            "description_tooltip": null,
            "_model_module": "@jupyter-widgets/controls",
            "layout": "IPY_MODEL_0a1df199f48644988a9f769f2ecf2768"
          }
        },
        "2abc00cad9264d809c23a662ed882ebf": {
          "model_module": "@jupyter-widgets/controls",
          "model_name": "HTMLModel",
          "state": {
            "_view_name": "HTMLView",
            "style": "IPY_MODEL_ab87636a869540f1ae5a8bbd8b7eb15c",
            "_dom_classes": [],
            "description": "",
            "_model_name": "HTMLModel",
            "placeholder": "​",
            "_view_module": "@jupyter-widgets/controls",
            "_model_module_version": "1.5.0",
            "value": " 892M/892M [00:19&lt;00:00, 45.4MB/s]",
            "_view_count": null,
            "_view_module_version": "1.5.0",
            "description_tooltip": null,
            "_model_module": "@jupyter-widgets/controls",
            "layout": "IPY_MODEL_ae9a4cc531e8400eb3aaf21543823626"
          }
        },
        "127229a28968483a9378ff913134cf4b": {
          "model_module": "@jupyter-widgets/controls",
          "model_name": "ProgressStyleModel",
          "state": {
            "_view_name": "StyleView",
            "_model_name": "ProgressStyleModel",
            "description_width": "initial",
            "_view_module": "@jupyter-widgets/base",
            "_model_module_version": "1.5.0",
            "_view_count": null,
            "_view_module_version": "1.2.0",
            "bar_color": null,
            "_model_module": "@jupyter-widgets/controls"
          }
        },
        "0a1df199f48644988a9f769f2ecf2768": {
          "model_module": "@jupyter-widgets/base",
          "model_name": "LayoutModel",
          "state": {
            "_view_name": "LayoutView",
            "grid_template_rows": null,
            "right": null,
            "justify_content": null,
            "_view_module": "@jupyter-widgets/base",
            "overflow": null,
            "_model_module_version": "1.2.0",
            "_view_count": null,
            "flex_flow": null,
            "width": null,
            "min_width": null,
            "border": null,
            "align_items": null,
            "bottom": null,
            "_model_module": "@jupyter-widgets/base",
            "top": null,
            "grid_column": null,
            "overflow_y": null,
            "overflow_x": null,
            "grid_auto_flow": null,
            "grid_area": null,
            "grid_template_columns": null,
            "flex": null,
            "_model_name": "LayoutModel",
            "justify_items": null,
            "grid_row": null,
            "max_height": null,
            "align_content": null,
            "visibility": null,
            "align_self": null,
            "height": null,
            "min_height": null,
            "padding": null,
            "grid_auto_rows": null,
            "grid_gap": null,
            "max_width": null,
            "order": null,
            "_view_module_version": "1.2.0",
            "grid_template_areas": null,
            "object_position": null,
            "object_fit": null,
            "grid_auto_columns": null,
            "margin": null,
            "display": null,
            "left": null
          }
        },
        "ab87636a869540f1ae5a8bbd8b7eb15c": {
          "model_module": "@jupyter-widgets/controls",
          "model_name": "DescriptionStyleModel",
          "state": {
            "_view_name": "StyleView",
            "_model_name": "DescriptionStyleModel",
            "description_width": "",
            "_view_module": "@jupyter-widgets/base",
            "_model_module_version": "1.5.0",
            "_view_count": null,
            "_view_module_version": "1.2.0",
            "_model_module": "@jupyter-widgets/controls"
          }
        },
        "ae9a4cc531e8400eb3aaf21543823626": {
          "model_module": "@jupyter-widgets/base",
          "model_name": "LayoutModel",
          "state": {
            "_view_name": "LayoutView",
            "grid_template_rows": null,
            "right": null,
            "justify_content": null,
            "_view_module": "@jupyter-widgets/base",
            "overflow": null,
            "_model_module_version": "1.2.0",
            "_view_count": null,
            "flex_flow": null,
            "width": null,
            "min_width": null,
            "border": null,
            "align_items": null,
            "bottom": null,
            "_model_module": "@jupyter-widgets/base",
            "top": null,
            "grid_column": null,
            "overflow_y": null,
            "overflow_x": null,
            "grid_auto_flow": null,
            "grid_area": null,
            "grid_template_columns": null,
            "flex": null,
            "_model_name": "LayoutModel",
            "justify_items": null,
            "grid_row": null,
            "max_height": null,
            "align_content": null,
            "visibility": null,
            "align_self": null,
            "height": null,
            "min_height": null,
            "padding": null,
            "grid_auto_rows": null,
            "grid_gap": null,
            "max_width": null,
            "order": null,
            "_view_module_version": "1.2.0",
            "grid_template_areas": null,
            "object_position": null,
            "object_fit": null,
            "grid_auto_columns": null,
            "margin": null,
            "display": null,
            "left": null
          }
        },
        "23b2c17f8d0a4d53abae06eab999195d": {
          "model_module": "@jupyter-widgets/controls",
          "model_name": "HBoxModel",
          "state": {
            "_view_name": "HBoxView",
            "_dom_classes": [],
            "_model_name": "HBoxModel",
            "_view_module": "@jupyter-widgets/controls",
            "_model_module_version": "1.5.0",
            "_view_count": null,
            "_view_module_version": "1.5.0",
            "box_style": "",
            "layout": "IPY_MODEL_d5b7434b44a44a00a9858519699a09cc",
            "_model_module": "@jupyter-widgets/controls",
            "children": [
              "IPY_MODEL_9253ad983c9e4c8b9de8dd8b700efbef",
              "IPY_MODEL_cd9239875c424cc4a41920dfbdb86339"
            ]
          }
        },
        "d5b7434b44a44a00a9858519699a09cc": {
          "model_module": "@jupyter-widgets/base",
          "model_name": "LayoutModel",
          "state": {
            "_view_name": "LayoutView",
            "grid_template_rows": null,
            "right": null,
            "justify_content": null,
            "_view_module": "@jupyter-widgets/base",
            "overflow": null,
            "_model_module_version": "1.2.0",
            "_view_count": null,
            "flex_flow": null,
            "width": null,
            "min_width": null,
            "border": null,
            "align_items": null,
            "bottom": null,
            "_model_module": "@jupyter-widgets/base",
            "top": null,
            "grid_column": null,
            "overflow_y": null,
            "overflow_x": null,
            "grid_auto_flow": null,
            "grid_area": null,
            "grid_template_columns": null,
            "flex": null,
            "_model_name": "LayoutModel",
            "justify_items": null,
            "grid_row": null,
            "max_height": null,
            "align_content": null,
            "visibility": null,
            "align_self": null,
            "height": null,
            "min_height": null,
            "padding": null,
            "grid_auto_rows": null,
            "grid_gap": null,
            "max_width": null,
            "order": null,
            "_view_module_version": "1.2.0",
            "grid_template_areas": null,
            "object_position": null,
            "object_fit": null,
            "grid_auto_columns": null,
            "margin": null,
            "display": null,
            "left": null
          }
        },
        "9253ad983c9e4c8b9de8dd8b700efbef": {
          "model_module": "@jupyter-widgets/controls",
          "model_name": "FloatProgressModel",
          "state": {
            "_view_name": "ProgressView",
            "style": "IPY_MODEL_80a13bf9cb5d4d60815951f6a954c252",
            "_dom_classes": [],
            "description": "100%",
            "_model_name": "FloatProgressModel",
            "bar_style": "success",
            "max": 141,
            "_view_module": "@jupyter-widgets/controls",
            "_model_module_version": "1.5.0",
            "value": 141,
            "_view_count": null,
            "_view_module_version": "1.5.0",
            "orientation": "horizontal",
            "min": 0,
            "description_tooltip": null,
            "_model_module": "@jupyter-widgets/controls",
            "layout": "IPY_MODEL_b36a9c0832044edb91186ca394c77a54"
          }
        },
        "cd9239875c424cc4a41920dfbdb86339": {
          "model_module": "@jupyter-widgets/controls",
          "model_name": "HTMLModel",
          "state": {
            "_view_name": "HTMLView",
            "style": "IPY_MODEL_169f53d06c1348ef9c5eb27ffa65ca9b",
            "_dom_classes": [],
            "description": "",
            "_model_name": "HTMLModel",
            "placeholder": "​",
            "_view_module": "@jupyter-widgets/controls",
            "_model_module_version": "1.5.0",
            "value": " 141/141 [08:13&lt;00:00,  3.50s/it]",
            "_view_count": null,
            "_view_module_version": "1.5.0",
            "description_tooltip": null,
            "_model_module": "@jupyter-widgets/controls",
            "layout": "IPY_MODEL_5c9d25d6c94849d8ae1ac30eeb06a716"
          }
        },
        "80a13bf9cb5d4d60815951f6a954c252": {
          "model_module": "@jupyter-widgets/controls",
          "model_name": "ProgressStyleModel",
          "state": {
            "_view_name": "StyleView",
            "_model_name": "ProgressStyleModel",
            "description_width": "initial",
            "_view_module": "@jupyter-widgets/base",
            "_model_module_version": "1.5.0",
            "_view_count": null,
            "_view_module_version": "1.2.0",
            "bar_color": null,
            "_model_module": "@jupyter-widgets/controls"
          }
        },
        "b36a9c0832044edb91186ca394c77a54": {
          "model_module": "@jupyter-widgets/base",
          "model_name": "LayoutModel",
          "state": {
            "_view_name": "LayoutView",
            "grid_template_rows": null,
            "right": null,
            "justify_content": null,
            "_view_module": "@jupyter-widgets/base",
            "overflow": null,
            "_model_module_version": "1.2.0",
            "_view_count": null,
            "flex_flow": null,
            "width": null,
            "min_width": null,
            "border": null,
            "align_items": null,
            "bottom": null,
            "_model_module": "@jupyter-widgets/base",
            "top": null,
            "grid_column": null,
            "overflow_y": null,
            "overflow_x": null,
            "grid_auto_flow": null,
            "grid_area": null,
            "grid_template_columns": null,
            "flex": null,
            "_model_name": "LayoutModel",
            "justify_items": null,
            "grid_row": null,
            "max_height": null,
            "align_content": null,
            "visibility": null,
            "align_self": null,
            "height": null,
            "min_height": null,
            "padding": null,
            "grid_auto_rows": null,
            "grid_gap": null,
            "max_width": null,
            "order": null,
            "_view_module_version": "1.2.0",
            "grid_template_areas": null,
            "object_position": null,
            "object_fit": null,
            "grid_auto_columns": null,
            "margin": null,
            "display": null,
            "left": null
          }
        },
        "169f53d06c1348ef9c5eb27ffa65ca9b": {
          "model_module": "@jupyter-widgets/controls",
          "model_name": "DescriptionStyleModel",
          "state": {
            "_view_name": "StyleView",
            "_model_name": "DescriptionStyleModel",
            "description_width": "",
            "_view_module": "@jupyter-widgets/base",
            "_model_module_version": "1.5.0",
            "_view_count": null,
            "_view_module_version": "1.2.0",
            "_model_module": "@jupyter-widgets/controls"
          }
        },
        "5c9d25d6c94849d8ae1ac30eeb06a716": {
          "model_module": "@jupyter-widgets/base",
          "model_name": "LayoutModel",
          "state": {
            "_view_name": "LayoutView",
            "grid_template_rows": null,
            "right": null,
            "justify_content": null,
            "_view_module": "@jupyter-widgets/base",
            "overflow": null,
            "_model_module_version": "1.2.0",
            "_view_count": null,
            "flex_flow": null,
            "width": null,
            "min_width": null,
            "border": null,
            "align_items": null,
            "bottom": null,
            "_model_module": "@jupyter-widgets/base",
            "top": null,
            "grid_column": null,
            "overflow_y": null,
            "overflow_x": null,
            "grid_auto_flow": null,
            "grid_area": null,
            "grid_template_columns": null,
            "flex": null,
            "_model_name": "LayoutModel",
            "justify_items": null,
            "grid_row": null,
            "max_height": null,
            "align_content": null,
            "visibility": null,
            "align_self": null,
            "height": null,
            "min_height": null,
            "padding": null,
            "grid_auto_rows": null,
            "grid_gap": null,
            "max_width": null,
            "order": null,
            "_view_module_version": "1.2.0",
            "grid_template_areas": null,
            "object_position": null,
            "object_fit": null,
            "grid_auto_columns": null,
            "margin": null,
            "display": null,
            "left": null
          }
        },
        "1290a7dca5624705b44572091835ba4e": {
          "model_module": "@jupyter-widgets/controls",
          "model_name": "HBoxModel",
          "state": {
            "_view_name": "HBoxView",
            "_dom_classes": [],
            "_model_name": "HBoxModel",
            "_view_module": "@jupyter-widgets/controls",
            "_model_module_version": "1.5.0",
            "_view_count": null,
            "_view_module_version": "1.5.0",
            "box_style": "",
            "layout": "IPY_MODEL_407837c5f0ca4c0690b7a230f982d356",
            "_model_module": "@jupyter-widgets/controls",
            "children": [
              "IPY_MODEL_5fff095c648b4927978c4fe3bcf711fd",
              "IPY_MODEL_0584559b32304f3fafc6d4d264986a44"
            ]
          }
        },
        "407837c5f0ca4c0690b7a230f982d356": {
          "model_module": "@jupyter-widgets/base",
          "model_name": "LayoutModel",
          "state": {
            "_view_name": "LayoutView",
            "grid_template_rows": null,
            "right": null,
            "justify_content": null,
            "_view_module": "@jupyter-widgets/base",
            "overflow": null,
            "_model_module_version": "1.2.0",
            "_view_count": null,
            "flex_flow": null,
            "width": null,
            "min_width": null,
            "border": null,
            "align_items": null,
            "bottom": null,
            "_model_module": "@jupyter-widgets/base",
            "top": null,
            "grid_column": null,
            "overflow_y": null,
            "overflow_x": null,
            "grid_auto_flow": null,
            "grid_area": null,
            "grid_template_columns": null,
            "flex": null,
            "_model_name": "LayoutModel",
            "justify_items": null,
            "grid_row": null,
            "max_height": null,
            "align_content": null,
            "visibility": null,
            "align_self": null,
            "height": null,
            "min_height": null,
            "padding": null,
            "grid_auto_rows": null,
            "grid_gap": null,
            "max_width": null,
            "order": null,
            "_view_module_version": "1.2.0",
            "grid_template_areas": null,
            "object_position": null,
            "object_fit": null,
            "grid_auto_columns": null,
            "margin": null,
            "display": null,
            "left": null
          }
        },
        "5fff095c648b4927978c4fe3bcf711fd": {
          "model_module": "@jupyter-widgets/controls",
          "model_name": "FloatProgressModel",
          "state": {
            "_view_name": "ProgressView",
            "style": "IPY_MODEL_5fd241f3f660413bb7b9b58b6972a5e0",
            "_dom_classes": [],
            "description": "100%",
            "_model_name": "FloatProgressModel",
            "bar_style": "success",
            "max": 141,
            "_view_module": "@jupyter-widgets/controls",
            "_model_module_version": "1.5.0",
            "value": 141,
            "_view_count": null,
            "_view_module_version": "1.5.0",
            "orientation": "horizontal",
            "min": 0,
            "description_tooltip": null,
            "_model_module": "@jupyter-widgets/controls",
            "layout": "IPY_MODEL_16dc72a86b964298800f8d9f65d1eac3"
          }
        },
        "0584559b32304f3fafc6d4d264986a44": {
          "model_module": "@jupyter-widgets/controls",
          "model_name": "HTMLModel",
          "state": {
            "_view_name": "HTMLView",
            "style": "IPY_MODEL_ff4d3d367386409e971ded2af4b62e79",
            "_dom_classes": [],
            "description": "",
            "_model_name": "HTMLModel",
            "placeholder": "​",
            "_view_module": "@jupyter-widgets/controls",
            "_model_module_version": "1.5.0",
            "value": " 141/141 [06:27&lt;00:00,  2.75s/it]",
            "_view_count": null,
            "_view_module_version": "1.5.0",
            "description_tooltip": null,
            "_model_module": "@jupyter-widgets/controls",
            "layout": "IPY_MODEL_d8e4ed2884004ddfb812991d5bffcec7"
          }
        },
        "5fd241f3f660413bb7b9b58b6972a5e0": {
          "model_module": "@jupyter-widgets/controls",
          "model_name": "ProgressStyleModel",
          "state": {
            "_view_name": "StyleView",
            "_model_name": "ProgressStyleModel",
            "description_width": "initial",
            "_view_module": "@jupyter-widgets/base",
            "_model_module_version": "1.5.0",
            "_view_count": null,
            "_view_module_version": "1.2.0",
            "bar_color": null,
            "_model_module": "@jupyter-widgets/controls"
          }
        },
        "16dc72a86b964298800f8d9f65d1eac3": {
          "model_module": "@jupyter-widgets/base",
          "model_name": "LayoutModel",
          "state": {
            "_view_name": "LayoutView",
            "grid_template_rows": null,
            "right": null,
            "justify_content": null,
            "_view_module": "@jupyter-widgets/base",
            "overflow": null,
            "_model_module_version": "1.2.0",
            "_view_count": null,
            "flex_flow": null,
            "width": null,
            "min_width": null,
            "border": null,
            "align_items": null,
            "bottom": null,
            "_model_module": "@jupyter-widgets/base",
            "top": null,
            "grid_column": null,
            "overflow_y": null,
            "overflow_x": null,
            "grid_auto_flow": null,
            "grid_area": null,
            "grid_template_columns": null,
            "flex": null,
            "_model_name": "LayoutModel",
            "justify_items": null,
            "grid_row": null,
            "max_height": null,
            "align_content": null,
            "visibility": null,
            "align_self": null,
            "height": null,
            "min_height": null,
            "padding": null,
            "grid_auto_rows": null,
            "grid_gap": null,
            "max_width": null,
            "order": null,
            "_view_module_version": "1.2.0",
            "grid_template_areas": null,
            "object_position": null,
            "object_fit": null,
            "grid_auto_columns": null,
            "margin": null,
            "display": null,
            "left": null
          }
        },
        "ff4d3d367386409e971ded2af4b62e79": {
          "model_module": "@jupyter-widgets/controls",
          "model_name": "DescriptionStyleModel",
          "state": {
            "_view_name": "StyleView",
            "_model_name": "DescriptionStyleModel",
            "description_width": "",
            "_view_module": "@jupyter-widgets/base",
            "_model_module_version": "1.5.0",
            "_view_count": null,
            "_view_module_version": "1.2.0",
            "_model_module": "@jupyter-widgets/controls"
          }
        },
        "d8e4ed2884004ddfb812991d5bffcec7": {
          "model_module": "@jupyter-widgets/base",
          "model_name": "LayoutModel",
          "state": {
            "_view_name": "LayoutView",
            "grid_template_rows": null,
            "right": null,
            "justify_content": null,
            "_view_module": "@jupyter-widgets/base",
            "overflow": null,
            "_model_module_version": "1.2.0",
            "_view_count": null,
            "flex_flow": null,
            "width": null,
            "min_width": null,
            "border": null,
            "align_items": null,
            "bottom": null,
            "_model_module": "@jupyter-widgets/base",
            "top": null,
            "grid_column": null,
            "overflow_y": null,
            "overflow_x": null,
            "grid_auto_flow": null,
            "grid_area": null,
            "grid_template_columns": null,
            "flex": null,
            "_model_name": "LayoutModel",
            "justify_items": null,
            "grid_row": null,
            "max_height": null,
            "align_content": null,
            "visibility": null,
            "align_self": null,
            "height": null,
            "min_height": null,
            "padding": null,
            "grid_auto_rows": null,
            "grid_gap": null,
            "max_width": null,
            "order": null,
            "_view_module_version": "1.2.0",
            "grid_template_areas": null,
            "object_position": null,
            "object_fit": null,
            "grid_auto_columns": null,
            "margin": null,
            "display": null,
            "left": null
          }
        },
        "f73a14fb33bd43b6a2634127ab15444e": {
          "model_module": "@jupyter-widgets/controls",
          "model_name": "HBoxModel",
          "state": {
            "_view_name": "HBoxView",
            "_dom_classes": [],
            "_model_name": "HBoxModel",
            "_view_module": "@jupyter-widgets/controls",
            "_model_module_version": "1.5.0",
            "_view_count": null,
            "_view_module_version": "1.5.0",
            "box_style": "",
            "layout": "IPY_MODEL_2f32f909ec314a8a8db1587e190e29e3",
            "_model_module": "@jupyter-widgets/controls",
            "children": [
              "IPY_MODEL_a3c3ea4c4e6341fda0a76bedec56927f",
              "IPY_MODEL_9ab15658d00b4509b53ce518f66438be"
            ]
          }
        },
        "2f32f909ec314a8a8db1587e190e29e3": {
          "model_module": "@jupyter-widgets/base",
          "model_name": "LayoutModel",
          "state": {
            "_view_name": "LayoutView",
            "grid_template_rows": null,
            "right": null,
            "justify_content": null,
            "_view_module": "@jupyter-widgets/base",
            "overflow": null,
            "_model_module_version": "1.2.0",
            "_view_count": null,
            "flex_flow": null,
            "width": null,
            "min_width": null,
            "border": null,
            "align_items": null,
            "bottom": null,
            "_model_module": "@jupyter-widgets/base",
            "top": null,
            "grid_column": null,
            "overflow_y": null,
            "overflow_x": null,
            "grid_auto_flow": null,
            "grid_area": null,
            "grid_template_columns": null,
            "flex": null,
            "_model_name": "LayoutModel",
            "justify_items": null,
            "grid_row": null,
            "max_height": null,
            "align_content": null,
            "visibility": null,
            "align_self": null,
            "height": null,
            "min_height": null,
            "padding": null,
            "grid_auto_rows": null,
            "grid_gap": null,
            "max_width": null,
            "order": null,
            "_view_module_version": "1.2.0",
            "grid_template_areas": null,
            "object_position": null,
            "object_fit": null,
            "grid_auto_columns": null,
            "margin": null,
            "display": null,
            "left": null
          }
        },
        "a3c3ea4c4e6341fda0a76bedec56927f": {
          "model_module": "@jupyter-widgets/controls",
          "model_name": "FloatProgressModel",
          "state": {
            "_view_name": "ProgressView",
            "style": "IPY_MODEL_83e6af240c9e419286098fb44af1e09f",
            "_dom_classes": [],
            "description": "100%",
            "_model_name": "FloatProgressModel",
            "bar_style": "success",
            "max": 141,
            "_view_module": "@jupyter-widgets/controls",
            "_model_module_version": "1.5.0",
            "value": 141,
            "_view_count": null,
            "_view_module_version": "1.5.0",
            "orientation": "horizontal",
            "min": 0,
            "description_tooltip": null,
            "_model_module": "@jupyter-widgets/controls",
            "layout": "IPY_MODEL_50e018d2d3c844389267c368bec0316f"
          }
        },
        "9ab15658d00b4509b53ce518f66438be": {
          "model_module": "@jupyter-widgets/controls",
          "model_name": "HTMLModel",
          "state": {
            "_view_name": "HTMLView",
            "style": "IPY_MODEL_411cc8b5a0e441b099a72f4147dded18",
            "_dom_classes": [],
            "description": "",
            "_model_name": "HTMLModel",
            "placeholder": "​",
            "_view_module": "@jupyter-widgets/controls",
            "_model_module_version": "1.5.0",
            "value": " 141/141 [04:38&lt;00:00,  1.97s/it]",
            "_view_count": null,
            "_view_module_version": "1.5.0",
            "description_tooltip": null,
            "_model_module": "@jupyter-widgets/controls",
            "layout": "IPY_MODEL_35931f1d79c940b7b87a453aad259bcc"
          }
        },
        "83e6af240c9e419286098fb44af1e09f": {
          "model_module": "@jupyter-widgets/controls",
          "model_name": "ProgressStyleModel",
          "state": {
            "_view_name": "StyleView",
            "_model_name": "ProgressStyleModel",
            "description_width": "initial",
            "_view_module": "@jupyter-widgets/base",
            "_model_module_version": "1.5.0",
            "_view_count": null,
            "_view_module_version": "1.2.0",
            "bar_color": null,
            "_model_module": "@jupyter-widgets/controls"
          }
        },
        "50e018d2d3c844389267c368bec0316f": {
          "model_module": "@jupyter-widgets/base",
          "model_name": "LayoutModel",
          "state": {
            "_view_name": "LayoutView",
            "grid_template_rows": null,
            "right": null,
            "justify_content": null,
            "_view_module": "@jupyter-widgets/base",
            "overflow": null,
            "_model_module_version": "1.2.0",
            "_view_count": null,
            "flex_flow": null,
            "width": null,
            "min_width": null,
            "border": null,
            "align_items": null,
            "bottom": null,
            "_model_module": "@jupyter-widgets/base",
            "top": null,
            "grid_column": null,
            "overflow_y": null,
            "overflow_x": null,
            "grid_auto_flow": null,
            "grid_area": null,
            "grid_template_columns": null,
            "flex": null,
            "_model_name": "LayoutModel",
            "justify_items": null,
            "grid_row": null,
            "max_height": null,
            "align_content": null,
            "visibility": null,
            "align_self": null,
            "height": null,
            "min_height": null,
            "padding": null,
            "grid_auto_rows": null,
            "grid_gap": null,
            "max_width": null,
            "order": null,
            "_view_module_version": "1.2.0",
            "grid_template_areas": null,
            "object_position": null,
            "object_fit": null,
            "grid_auto_columns": null,
            "margin": null,
            "display": null,
            "left": null
          }
        },
        "411cc8b5a0e441b099a72f4147dded18": {
          "model_module": "@jupyter-widgets/controls",
          "model_name": "DescriptionStyleModel",
          "state": {
            "_view_name": "StyleView",
            "_model_name": "DescriptionStyleModel",
            "description_width": "",
            "_view_module": "@jupyter-widgets/base",
            "_model_module_version": "1.5.0",
            "_view_count": null,
            "_view_module_version": "1.2.0",
            "_model_module": "@jupyter-widgets/controls"
          }
        },
        "35931f1d79c940b7b87a453aad259bcc": {
          "model_module": "@jupyter-widgets/base",
          "model_name": "LayoutModel",
          "state": {
            "_view_name": "LayoutView",
            "grid_template_rows": null,
            "right": null,
            "justify_content": null,
            "_view_module": "@jupyter-widgets/base",
            "overflow": null,
            "_model_module_version": "1.2.0",
            "_view_count": null,
            "flex_flow": null,
            "width": null,
            "min_width": null,
            "border": null,
            "align_items": null,
            "bottom": null,
            "_model_module": "@jupyter-widgets/base",
            "top": null,
            "grid_column": null,
            "overflow_y": null,
            "overflow_x": null,
            "grid_auto_flow": null,
            "grid_area": null,
            "grid_template_columns": null,
            "flex": null,
            "_model_name": "LayoutModel",
            "justify_items": null,
            "grid_row": null,
            "max_height": null,
            "align_content": null,
            "visibility": null,
            "align_self": null,
            "height": null,
            "min_height": null,
            "padding": null,
            "grid_auto_rows": null,
            "grid_gap": null,
            "max_width": null,
            "order": null,
            "_view_module_version": "1.2.0",
            "grid_template_areas": null,
            "object_position": null,
            "object_fit": null,
            "grid_auto_columns": null,
            "margin": null,
            "display": null,
            "left": null
          }
        },
        "1aca734e67754d13871b3ced4f8e9593": {
          "model_module": "@jupyter-widgets/controls",
          "model_name": "HBoxModel",
          "state": {
            "_view_name": "HBoxView",
            "_dom_classes": [],
            "_model_name": "HBoxModel",
            "_view_module": "@jupyter-widgets/controls",
            "_model_module_version": "1.5.0",
            "_view_count": null,
            "_view_module_version": "1.5.0",
            "box_style": "",
            "layout": "IPY_MODEL_12af7d30a7b546799c00641f411a6d01",
            "_model_module": "@jupyter-widgets/controls",
            "children": [
              "IPY_MODEL_73d1bd6fdbd5433aabc438f9666f5c71",
              "IPY_MODEL_a191473b148949ccb3e9de13aeeb10b1"
            ]
          }
        },
        "12af7d30a7b546799c00641f411a6d01": {
          "model_module": "@jupyter-widgets/base",
          "model_name": "LayoutModel",
          "state": {
            "_view_name": "LayoutView",
            "grid_template_rows": null,
            "right": null,
            "justify_content": null,
            "_view_module": "@jupyter-widgets/base",
            "overflow": null,
            "_model_module_version": "1.2.0",
            "_view_count": null,
            "flex_flow": null,
            "width": null,
            "min_width": null,
            "border": null,
            "align_items": null,
            "bottom": null,
            "_model_module": "@jupyter-widgets/base",
            "top": null,
            "grid_column": null,
            "overflow_y": null,
            "overflow_x": null,
            "grid_auto_flow": null,
            "grid_area": null,
            "grid_template_columns": null,
            "flex": null,
            "_model_name": "LayoutModel",
            "justify_items": null,
            "grid_row": null,
            "max_height": null,
            "align_content": null,
            "visibility": null,
            "align_self": null,
            "height": null,
            "min_height": null,
            "padding": null,
            "grid_auto_rows": null,
            "grid_gap": null,
            "max_width": null,
            "order": null,
            "_view_module_version": "1.2.0",
            "grid_template_areas": null,
            "object_position": null,
            "object_fit": null,
            "grid_auto_columns": null,
            "margin": null,
            "display": null,
            "left": null
          }
        },
        "73d1bd6fdbd5433aabc438f9666f5c71": {
          "model_module": "@jupyter-widgets/controls",
          "model_name": "FloatProgressModel",
          "state": {
            "_view_name": "ProgressView",
            "style": "IPY_MODEL_643e43730c3b483198be7e129e37af41",
            "_dom_classes": [],
            "description": "100%",
            "_model_name": "FloatProgressModel",
            "bar_style": "success",
            "max": 141,
            "_view_module": "@jupyter-widgets/controls",
            "_model_module_version": "1.5.0",
            "value": 141,
            "_view_count": null,
            "_view_module_version": "1.5.0",
            "orientation": "horizontal",
            "min": 0,
            "description_tooltip": null,
            "_model_module": "@jupyter-widgets/controls",
            "layout": "IPY_MODEL_bcab0cf0b30744a19120a033bacd1857"
          }
        },
        "a191473b148949ccb3e9de13aeeb10b1": {
          "model_module": "@jupyter-widgets/controls",
          "model_name": "HTMLModel",
          "state": {
            "_view_name": "HTMLView",
            "style": "IPY_MODEL_799dd9c019064e2da5cc15bd4d9f48ba",
            "_dom_classes": [],
            "description": "",
            "_model_name": "HTMLModel",
            "placeholder": "​",
            "_view_module": "@jupyter-widgets/controls",
            "_model_module_version": "1.5.0",
            "value": " 141/141 [02:47&lt;00:00,  1.19s/it]",
            "_view_count": null,
            "_view_module_version": "1.5.0",
            "description_tooltip": null,
            "_model_module": "@jupyter-widgets/controls",
            "layout": "IPY_MODEL_5dd4bdc45f0549d4bc76fd336948da8f"
          }
        },
        "643e43730c3b483198be7e129e37af41": {
          "model_module": "@jupyter-widgets/controls",
          "model_name": "ProgressStyleModel",
          "state": {
            "_view_name": "StyleView",
            "_model_name": "ProgressStyleModel",
            "description_width": "initial",
            "_view_module": "@jupyter-widgets/base",
            "_model_module_version": "1.5.0",
            "_view_count": null,
            "_view_module_version": "1.2.0",
            "bar_color": null,
            "_model_module": "@jupyter-widgets/controls"
          }
        },
        "bcab0cf0b30744a19120a033bacd1857": {
          "model_module": "@jupyter-widgets/base",
          "model_name": "LayoutModel",
          "state": {
            "_view_name": "LayoutView",
            "grid_template_rows": null,
            "right": null,
            "justify_content": null,
            "_view_module": "@jupyter-widgets/base",
            "overflow": null,
            "_model_module_version": "1.2.0",
            "_view_count": null,
            "flex_flow": null,
            "width": null,
            "min_width": null,
            "border": null,
            "align_items": null,
            "bottom": null,
            "_model_module": "@jupyter-widgets/base",
            "top": null,
            "grid_column": null,
            "overflow_y": null,
            "overflow_x": null,
            "grid_auto_flow": null,
            "grid_area": null,
            "grid_template_columns": null,
            "flex": null,
            "_model_name": "LayoutModel",
            "justify_items": null,
            "grid_row": null,
            "max_height": null,
            "align_content": null,
            "visibility": null,
            "align_self": null,
            "height": null,
            "min_height": null,
            "padding": null,
            "grid_auto_rows": null,
            "grid_gap": null,
            "max_width": null,
            "order": null,
            "_view_module_version": "1.2.0",
            "grid_template_areas": null,
            "object_position": null,
            "object_fit": null,
            "grid_auto_columns": null,
            "margin": null,
            "display": null,
            "left": null
          }
        },
        "799dd9c019064e2da5cc15bd4d9f48ba": {
          "model_module": "@jupyter-widgets/controls",
          "model_name": "DescriptionStyleModel",
          "state": {
            "_view_name": "StyleView",
            "_model_name": "DescriptionStyleModel",
            "description_width": "",
            "_view_module": "@jupyter-widgets/base",
            "_model_module_version": "1.5.0",
            "_view_count": null,
            "_view_module_version": "1.2.0",
            "_model_module": "@jupyter-widgets/controls"
          }
        },
        "5dd4bdc45f0549d4bc76fd336948da8f": {
          "model_module": "@jupyter-widgets/base",
          "model_name": "LayoutModel",
          "state": {
            "_view_name": "LayoutView",
            "grid_template_rows": null,
            "right": null,
            "justify_content": null,
            "_view_module": "@jupyter-widgets/base",
            "overflow": null,
            "_model_module_version": "1.2.0",
            "_view_count": null,
            "flex_flow": null,
            "width": null,
            "min_width": null,
            "border": null,
            "align_items": null,
            "bottom": null,
            "_model_module": "@jupyter-widgets/base",
            "top": null,
            "grid_column": null,
            "overflow_y": null,
            "overflow_x": null,
            "grid_auto_flow": null,
            "grid_area": null,
            "grid_template_columns": null,
            "flex": null,
            "_model_name": "LayoutModel",
            "justify_items": null,
            "grid_row": null,
            "max_height": null,
            "align_content": null,
            "visibility": null,
            "align_self": null,
            "height": null,
            "min_height": null,
            "padding": null,
            "grid_auto_rows": null,
            "grid_gap": null,
            "max_width": null,
            "order": null,
            "_view_module_version": "1.2.0",
            "grid_template_areas": null,
            "object_position": null,
            "object_fit": null,
            "grid_auto_columns": null,
            "margin": null,
            "display": null,
            "left": null
          }
        },
        "ad3cb9834ddd46548816f948e9541155": {
          "model_module": "@jupyter-widgets/controls",
          "model_name": "HBoxModel",
          "state": {
            "_view_name": "HBoxView",
            "_dom_classes": [],
            "_model_name": "HBoxModel",
            "_view_module": "@jupyter-widgets/controls",
            "_model_module_version": "1.5.0",
            "_view_count": null,
            "_view_module_version": "1.5.0",
            "box_style": "",
            "layout": "IPY_MODEL_d07a0f7362fa42f1ada36ddbec684d74",
            "_model_module": "@jupyter-widgets/controls",
            "children": [
              "IPY_MODEL_6404d2f0dd204107bc97e90f8451ef65",
              "IPY_MODEL_a28ce182f1d44b3e8c36a251a93a3604"
            ]
          }
        },
        "d07a0f7362fa42f1ada36ddbec684d74": {
          "model_module": "@jupyter-widgets/base",
          "model_name": "LayoutModel",
          "state": {
            "_view_name": "LayoutView",
            "grid_template_rows": null,
            "right": null,
            "justify_content": null,
            "_view_module": "@jupyter-widgets/base",
            "overflow": null,
            "_model_module_version": "1.2.0",
            "_view_count": null,
            "flex_flow": null,
            "width": null,
            "min_width": null,
            "border": null,
            "align_items": null,
            "bottom": null,
            "_model_module": "@jupyter-widgets/base",
            "top": null,
            "grid_column": null,
            "overflow_y": null,
            "overflow_x": null,
            "grid_auto_flow": null,
            "grid_area": null,
            "grid_template_columns": null,
            "flex": null,
            "_model_name": "LayoutModel",
            "justify_items": null,
            "grid_row": null,
            "max_height": null,
            "align_content": null,
            "visibility": null,
            "align_self": null,
            "height": null,
            "min_height": null,
            "padding": null,
            "grid_auto_rows": null,
            "grid_gap": null,
            "max_width": null,
            "order": null,
            "_view_module_version": "1.2.0",
            "grid_template_areas": null,
            "object_position": null,
            "object_fit": null,
            "grid_auto_columns": null,
            "margin": null,
            "display": null,
            "left": null
          }
        },
        "6404d2f0dd204107bc97e90f8451ef65": {
          "model_module": "@jupyter-widgets/controls",
          "model_name": "FloatProgressModel",
          "state": {
            "_view_name": "ProgressView",
            "style": "IPY_MODEL_72ed2504d526419c91d9bd22087dd365",
            "_dom_classes": [],
            "description": "100%",
            "_model_name": "FloatProgressModel",
            "bar_style": "success",
            "max": 141,
            "_view_module": "@jupyter-widgets/controls",
            "_model_module_version": "1.5.0",
            "value": 141,
            "_view_count": null,
            "_view_module_version": "1.5.0",
            "orientation": "horizontal",
            "min": 0,
            "description_tooltip": null,
            "_model_module": "@jupyter-widgets/controls",
            "layout": "IPY_MODEL_e551ed9926e940d08d6fd1c9ab12f598"
          }
        },
        "a28ce182f1d44b3e8c36a251a93a3604": {
          "model_module": "@jupyter-widgets/controls",
          "model_name": "HTMLModel",
          "state": {
            "_view_name": "HTMLView",
            "style": "IPY_MODEL_fa97dd020ba347f6a5a400c02a181bb6",
            "_dom_classes": [],
            "description": "",
            "_model_name": "HTMLModel",
            "placeholder": "​",
            "_view_module": "@jupyter-widgets/controls",
            "_model_module_version": "1.5.0",
            "value": " 141/141 [01:51&lt;00:00,  1.26it/s]",
            "_view_count": null,
            "_view_module_version": "1.5.0",
            "description_tooltip": null,
            "_model_module": "@jupyter-widgets/controls",
            "layout": "IPY_MODEL_49d4b4e1f8df4fa18515622d54d13730"
          }
        },
        "72ed2504d526419c91d9bd22087dd365": {
          "model_module": "@jupyter-widgets/controls",
          "model_name": "ProgressStyleModel",
          "state": {
            "_view_name": "StyleView",
            "_model_name": "ProgressStyleModel",
            "description_width": "initial",
            "_view_module": "@jupyter-widgets/base",
            "_model_module_version": "1.5.0",
            "_view_count": null,
            "_view_module_version": "1.2.0",
            "bar_color": null,
            "_model_module": "@jupyter-widgets/controls"
          }
        },
        "e551ed9926e940d08d6fd1c9ab12f598": {
          "model_module": "@jupyter-widgets/base",
          "model_name": "LayoutModel",
          "state": {
            "_view_name": "LayoutView",
            "grid_template_rows": null,
            "right": null,
            "justify_content": null,
            "_view_module": "@jupyter-widgets/base",
            "overflow": null,
            "_model_module_version": "1.2.0",
            "_view_count": null,
            "flex_flow": null,
            "width": null,
            "min_width": null,
            "border": null,
            "align_items": null,
            "bottom": null,
            "_model_module": "@jupyter-widgets/base",
            "top": null,
            "grid_column": null,
            "overflow_y": null,
            "overflow_x": null,
            "grid_auto_flow": null,
            "grid_area": null,
            "grid_template_columns": null,
            "flex": null,
            "_model_name": "LayoutModel",
            "justify_items": null,
            "grid_row": null,
            "max_height": null,
            "align_content": null,
            "visibility": null,
            "align_self": null,
            "height": null,
            "min_height": null,
            "padding": null,
            "grid_auto_rows": null,
            "grid_gap": null,
            "max_width": null,
            "order": null,
            "_view_module_version": "1.2.0",
            "grid_template_areas": null,
            "object_position": null,
            "object_fit": null,
            "grid_auto_columns": null,
            "margin": null,
            "display": null,
            "left": null
          }
        },
        "fa97dd020ba347f6a5a400c02a181bb6": {
          "model_module": "@jupyter-widgets/controls",
          "model_name": "DescriptionStyleModel",
          "state": {
            "_view_name": "StyleView",
            "_model_name": "DescriptionStyleModel",
            "description_width": "",
            "_view_module": "@jupyter-widgets/base",
            "_model_module_version": "1.5.0",
            "_view_count": null,
            "_view_module_version": "1.2.0",
            "_model_module": "@jupyter-widgets/controls"
          }
        },
        "49d4b4e1f8df4fa18515622d54d13730": {
          "model_module": "@jupyter-widgets/base",
          "model_name": "LayoutModel",
          "state": {
            "_view_name": "LayoutView",
            "grid_template_rows": null,
            "right": null,
            "justify_content": null,
            "_view_module": "@jupyter-widgets/base",
            "overflow": null,
            "_model_module_version": "1.2.0",
            "_view_count": null,
            "flex_flow": null,
            "width": null,
            "min_width": null,
            "border": null,
            "align_items": null,
            "bottom": null,
            "_model_module": "@jupyter-widgets/base",
            "top": null,
            "grid_column": null,
            "overflow_y": null,
            "overflow_x": null,
            "grid_auto_flow": null,
            "grid_area": null,
            "grid_template_columns": null,
            "flex": null,
            "_model_name": "LayoutModel",
            "justify_items": null,
            "grid_row": null,
            "max_height": null,
            "align_content": null,
            "visibility": null,
            "align_self": null,
            "height": null,
            "min_height": null,
            "padding": null,
            "grid_auto_rows": null,
            "grid_gap": null,
            "max_width": null,
            "order": null,
            "_view_module_version": "1.2.0",
            "grid_template_areas": null,
            "object_position": null,
            "object_fit": null,
            "grid_auto_columns": null,
            "margin": null,
            "display": null,
            "left": null
          }
        },
        "8d125c82b1e846549e85b992387bccbe": {
          "model_module": "@jupyter-widgets/controls",
          "model_name": "HBoxModel",
          "state": {
            "_view_name": "HBoxView",
            "_dom_classes": [],
            "_model_name": "HBoxModel",
            "_view_module": "@jupyter-widgets/controls",
            "_model_module_version": "1.5.0",
            "_view_count": null,
            "_view_module_version": "1.5.0",
            "box_style": "",
            "layout": "IPY_MODEL_bbfd1f950a7f4c7bbd71b542d633ae07",
            "_model_module": "@jupyter-widgets/controls",
            "children": [
              "IPY_MODEL_2512ba7b30514459804a6fa03abead09",
              "IPY_MODEL_d35d6376c7164f50857fd676d32a7544"
            ]
          }
        },
        "bbfd1f950a7f4c7bbd71b542d633ae07": {
          "model_module": "@jupyter-widgets/base",
          "model_name": "LayoutModel",
          "state": {
            "_view_name": "LayoutView",
            "grid_template_rows": null,
            "right": null,
            "justify_content": null,
            "_view_module": "@jupyter-widgets/base",
            "overflow": null,
            "_model_module_version": "1.2.0",
            "_view_count": null,
            "flex_flow": null,
            "width": null,
            "min_width": null,
            "border": null,
            "align_items": null,
            "bottom": null,
            "_model_module": "@jupyter-widgets/base",
            "top": null,
            "grid_column": null,
            "overflow_y": null,
            "overflow_x": null,
            "grid_auto_flow": null,
            "grid_area": null,
            "grid_template_columns": null,
            "flex": null,
            "_model_name": "LayoutModel",
            "justify_items": null,
            "grid_row": null,
            "max_height": null,
            "align_content": null,
            "visibility": null,
            "align_self": null,
            "height": null,
            "min_height": null,
            "padding": null,
            "grid_auto_rows": null,
            "grid_gap": null,
            "max_width": null,
            "order": null,
            "_view_module_version": "1.2.0",
            "grid_template_areas": null,
            "object_position": null,
            "object_fit": null,
            "grid_auto_columns": null,
            "margin": null,
            "display": null,
            "left": null
          }
        },
        "2512ba7b30514459804a6fa03abead09": {
          "model_module": "@jupyter-widgets/controls",
          "model_name": "FloatProgressModel",
          "state": {
            "_view_name": "ProgressView",
            "style": "IPY_MODEL_462d8b68e0f64516994439453d1df65b",
            "_dom_classes": [],
            "description": "100%",
            "_model_name": "FloatProgressModel",
            "bar_style": "success",
            "max": 141,
            "_view_module": "@jupyter-widgets/controls",
            "_model_module_version": "1.5.0",
            "value": 141,
            "_view_count": null,
            "_view_module_version": "1.5.0",
            "orientation": "horizontal",
            "min": 0,
            "description_tooltip": null,
            "_model_module": "@jupyter-widgets/controls",
            "layout": "IPY_MODEL_f1c717ecc1af4b07b9893849984b6de6"
          }
        },
        "d35d6376c7164f50857fd676d32a7544": {
          "model_module": "@jupyter-widgets/controls",
          "model_name": "HTMLModel",
          "state": {
            "_view_name": "HTMLView",
            "style": "IPY_MODEL_fa805ee4313740da9814ea9e7d37cf92",
            "_dom_classes": [],
            "description": "",
            "_model_name": "HTMLModel",
            "placeholder": "​",
            "_view_module": "@jupyter-widgets/controls",
            "_model_module_version": "1.5.0",
            "value": " 141/141 [09:17&lt;00:00,  3.95s/it]",
            "_view_count": null,
            "_view_module_version": "1.5.0",
            "description_tooltip": null,
            "_model_module": "@jupyter-widgets/controls",
            "layout": "IPY_MODEL_83b25e926ee845f2b300a49ac36438c9"
          }
        },
        "462d8b68e0f64516994439453d1df65b": {
          "model_module": "@jupyter-widgets/controls",
          "model_name": "ProgressStyleModel",
          "state": {
            "_view_name": "StyleView",
            "_model_name": "ProgressStyleModel",
            "description_width": "initial",
            "_view_module": "@jupyter-widgets/base",
            "_model_module_version": "1.5.0",
            "_view_count": null,
            "_view_module_version": "1.2.0",
            "bar_color": null,
            "_model_module": "@jupyter-widgets/controls"
          }
        },
        "f1c717ecc1af4b07b9893849984b6de6": {
          "model_module": "@jupyter-widgets/base",
          "model_name": "LayoutModel",
          "state": {
            "_view_name": "LayoutView",
            "grid_template_rows": null,
            "right": null,
            "justify_content": null,
            "_view_module": "@jupyter-widgets/base",
            "overflow": null,
            "_model_module_version": "1.2.0",
            "_view_count": null,
            "flex_flow": null,
            "width": null,
            "min_width": null,
            "border": null,
            "align_items": null,
            "bottom": null,
            "_model_module": "@jupyter-widgets/base",
            "top": null,
            "grid_column": null,
            "overflow_y": null,
            "overflow_x": null,
            "grid_auto_flow": null,
            "grid_area": null,
            "grid_template_columns": null,
            "flex": null,
            "_model_name": "LayoutModel",
            "justify_items": null,
            "grid_row": null,
            "max_height": null,
            "align_content": null,
            "visibility": null,
            "align_self": null,
            "height": null,
            "min_height": null,
            "padding": null,
            "grid_auto_rows": null,
            "grid_gap": null,
            "max_width": null,
            "order": null,
            "_view_module_version": "1.2.0",
            "grid_template_areas": null,
            "object_position": null,
            "object_fit": null,
            "grid_auto_columns": null,
            "margin": null,
            "display": null,
            "left": null
          }
        },
        "fa805ee4313740da9814ea9e7d37cf92": {
          "model_module": "@jupyter-widgets/controls",
          "model_name": "DescriptionStyleModel",
          "state": {
            "_view_name": "StyleView",
            "_model_name": "DescriptionStyleModel",
            "description_width": "",
            "_view_module": "@jupyter-widgets/base",
            "_model_module_version": "1.5.0",
            "_view_count": null,
            "_view_module_version": "1.2.0",
            "_model_module": "@jupyter-widgets/controls"
          }
        },
        "83b25e926ee845f2b300a49ac36438c9": {
          "model_module": "@jupyter-widgets/base",
          "model_name": "LayoutModel",
          "state": {
            "_view_name": "LayoutView",
            "grid_template_rows": null,
            "right": null,
            "justify_content": null,
            "_view_module": "@jupyter-widgets/base",
            "overflow": null,
            "_model_module_version": "1.2.0",
            "_view_count": null,
            "flex_flow": null,
            "width": null,
            "min_width": null,
            "border": null,
            "align_items": null,
            "bottom": null,
            "_model_module": "@jupyter-widgets/base",
            "top": null,
            "grid_column": null,
            "overflow_y": null,
            "overflow_x": null,
            "grid_auto_flow": null,
            "grid_area": null,
            "grid_template_columns": null,
            "flex": null,
            "_model_name": "LayoutModel",
            "justify_items": null,
            "grid_row": null,
            "max_height": null,
            "align_content": null,
            "visibility": null,
            "align_self": null,
            "height": null,
            "min_height": null,
            "padding": null,
            "grid_auto_rows": null,
            "grid_gap": null,
            "max_width": null,
            "order": null,
            "_view_module_version": "1.2.0",
            "grid_template_areas": null,
            "object_position": null,
            "object_fit": null,
            "grid_auto_columns": null,
            "margin": null,
            "display": null,
            "left": null
          }
        },
        "a9bc230dc8744d48aacc7a9db3956eae": {
          "model_module": "@jupyter-widgets/controls",
          "model_name": "HBoxModel",
          "state": {
            "_view_name": "HBoxView",
            "_dom_classes": [],
            "_model_name": "HBoxModel",
            "_view_module": "@jupyter-widgets/controls",
            "_model_module_version": "1.5.0",
            "_view_count": null,
            "_view_module_version": "1.5.0",
            "box_style": "",
            "layout": "IPY_MODEL_2dfba0ccfe60456badde37c1eebbb84e",
            "_model_module": "@jupyter-widgets/controls",
            "children": [
              "IPY_MODEL_3bb455fdc3774bcf8ff8136815e46322",
              "IPY_MODEL_deb88013a1d3496882e7bce43839f3cf"
            ]
          }
        },
        "2dfba0ccfe60456badde37c1eebbb84e": {
          "model_module": "@jupyter-widgets/base",
          "model_name": "LayoutModel",
          "state": {
            "_view_name": "LayoutView",
            "grid_template_rows": null,
            "right": null,
            "justify_content": null,
            "_view_module": "@jupyter-widgets/base",
            "overflow": null,
            "_model_module_version": "1.2.0",
            "_view_count": null,
            "flex_flow": null,
            "width": null,
            "min_width": null,
            "border": null,
            "align_items": null,
            "bottom": null,
            "_model_module": "@jupyter-widgets/base",
            "top": null,
            "grid_column": null,
            "overflow_y": null,
            "overflow_x": null,
            "grid_auto_flow": null,
            "grid_area": null,
            "grid_template_columns": null,
            "flex": null,
            "_model_name": "LayoutModel",
            "justify_items": null,
            "grid_row": null,
            "max_height": null,
            "align_content": null,
            "visibility": null,
            "align_self": null,
            "height": null,
            "min_height": null,
            "padding": null,
            "grid_auto_rows": null,
            "grid_gap": null,
            "max_width": null,
            "order": null,
            "_view_module_version": "1.2.0",
            "grid_template_areas": null,
            "object_position": null,
            "object_fit": null,
            "grid_auto_columns": null,
            "margin": null,
            "display": null,
            "left": null
          }
        },
        "3bb455fdc3774bcf8ff8136815e46322": {
          "model_module": "@jupyter-widgets/controls",
          "model_name": "FloatProgressModel",
          "state": {
            "_view_name": "ProgressView",
            "style": "IPY_MODEL_6eb5fa58072a43479fd8a8740e6a8a38",
            "_dom_classes": [],
            "description": "100%",
            "_model_name": "FloatProgressModel",
            "bar_style": "success",
            "max": 141,
            "_view_module": "@jupyter-widgets/controls",
            "_model_module_version": "1.5.0",
            "value": 141,
            "_view_count": null,
            "_view_module_version": "1.5.0",
            "orientation": "horizontal",
            "min": 0,
            "description_tooltip": null,
            "_model_module": "@jupyter-widgets/controls",
            "layout": "IPY_MODEL_1f1e6a8ea202480daff24c68eefb9c27"
          }
        },
        "deb88013a1d3496882e7bce43839f3cf": {
          "model_module": "@jupyter-widgets/controls",
          "model_name": "HTMLModel",
          "state": {
            "_view_name": "HTMLView",
            "style": "IPY_MODEL_3420bc02b0974e95bf87a7ebd3a1a16c",
            "_dom_classes": [],
            "description": "",
            "_model_name": "HTMLModel",
            "placeholder": "​",
            "_view_module": "@jupyter-widgets/controls",
            "_model_module_version": "1.5.0",
            "value": " 141/141 [07:26&lt;00:00,  3.17s/it]",
            "_view_count": null,
            "_view_module_version": "1.5.0",
            "description_tooltip": null,
            "_model_module": "@jupyter-widgets/controls",
            "layout": "IPY_MODEL_bc44af02e1ee494ab9b5b3564ffedf5a"
          }
        },
        "6eb5fa58072a43479fd8a8740e6a8a38": {
          "model_module": "@jupyter-widgets/controls",
          "model_name": "ProgressStyleModel",
          "state": {
            "_view_name": "StyleView",
            "_model_name": "ProgressStyleModel",
            "description_width": "initial",
            "_view_module": "@jupyter-widgets/base",
            "_model_module_version": "1.5.0",
            "_view_count": null,
            "_view_module_version": "1.2.0",
            "bar_color": null,
            "_model_module": "@jupyter-widgets/controls"
          }
        },
        "1f1e6a8ea202480daff24c68eefb9c27": {
          "model_module": "@jupyter-widgets/base",
          "model_name": "LayoutModel",
          "state": {
            "_view_name": "LayoutView",
            "grid_template_rows": null,
            "right": null,
            "justify_content": null,
            "_view_module": "@jupyter-widgets/base",
            "overflow": null,
            "_model_module_version": "1.2.0",
            "_view_count": null,
            "flex_flow": null,
            "width": null,
            "min_width": null,
            "border": null,
            "align_items": null,
            "bottom": null,
            "_model_module": "@jupyter-widgets/base",
            "top": null,
            "grid_column": null,
            "overflow_y": null,
            "overflow_x": null,
            "grid_auto_flow": null,
            "grid_area": null,
            "grid_template_columns": null,
            "flex": null,
            "_model_name": "LayoutModel",
            "justify_items": null,
            "grid_row": null,
            "max_height": null,
            "align_content": null,
            "visibility": null,
            "align_self": null,
            "height": null,
            "min_height": null,
            "padding": null,
            "grid_auto_rows": null,
            "grid_gap": null,
            "max_width": null,
            "order": null,
            "_view_module_version": "1.2.0",
            "grid_template_areas": null,
            "object_position": null,
            "object_fit": null,
            "grid_auto_columns": null,
            "margin": null,
            "display": null,
            "left": null
          }
        },
        "3420bc02b0974e95bf87a7ebd3a1a16c": {
          "model_module": "@jupyter-widgets/controls",
          "model_name": "DescriptionStyleModel",
          "state": {
            "_view_name": "StyleView",
            "_model_name": "DescriptionStyleModel",
            "description_width": "",
            "_view_module": "@jupyter-widgets/base",
            "_model_module_version": "1.5.0",
            "_view_count": null,
            "_view_module_version": "1.2.0",
            "_model_module": "@jupyter-widgets/controls"
          }
        },
        "bc44af02e1ee494ab9b5b3564ffedf5a": {
          "model_module": "@jupyter-widgets/base",
          "model_name": "LayoutModel",
          "state": {
            "_view_name": "LayoutView",
            "grid_template_rows": null,
            "right": null,
            "justify_content": null,
            "_view_module": "@jupyter-widgets/base",
            "overflow": null,
            "_model_module_version": "1.2.0",
            "_view_count": null,
            "flex_flow": null,
            "width": null,
            "min_width": null,
            "border": null,
            "align_items": null,
            "bottom": null,
            "_model_module": "@jupyter-widgets/base",
            "top": null,
            "grid_column": null,
            "overflow_y": null,
            "overflow_x": null,
            "grid_auto_flow": null,
            "grid_area": null,
            "grid_template_columns": null,
            "flex": null,
            "_model_name": "LayoutModel",
            "justify_items": null,
            "grid_row": null,
            "max_height": null,
            "align_content": null,
            "visibility": null,
            "align_self": null,
            "height": null,
            "min_height": null,
            "padding": null,
            "grid_auto_rows": null,
            "grid_gap": null,
            "max_width": null,
            "order": null,
            "_view_module_version": "1.2.0",
            "grid_template_areas": null,
            "object_position": null,
            "object_fit": null,
            "grid_auto_columns": null,
            "margin": null,
            "display": null,
            "left": null
          }
        },
        "16620487a40048bb8d22158427ffb0cd": {
          "model_module": "@jupyter-widgets/controls",
          "model_name": "HBoxModel",
          "state": {
            "_view_name": "HBoxView",
            "_dom_classes": [],
            "_model_name": "HBoxModel",
            "_view_module": "@jupyter-widgets/controls",
            "_model_module_version": "1.5.0",
            "_view_count": null,
            "_view_module_version": "1.5.0",
            "box_style": "",
            "layout": "IPY_MODEL_73146411e67241b7b7c8e1c0553efbe5",
            "_model_module": "@jupyter-widgets/controls",
            "children": [
              "IPY_MODEL_fa087c1bcfca4195be5cc18625eaa530",
              "IPY_MODEL_45f581f0678b4dd4bbaafbf5bc3addf6"
            ]
          }
        },
        "73146411e67241b7b7c8e1c0553efbe5": {
          "model_module": "@jupyter-widgets/base",
          "model_name": "LayoutModel",
          "state": {
            "_view_name": "LayoutView",
            "grid_template_rows": null,
            "right": null,
            "justify_content": null,
            "_view_module": "@jupyter-widgets/base",
            "overflow": null,
            "_model_module_version": "1.2.0",
            "_view_count": null,
            "flex_flow": null,
            "width": null,
            "min_width": null,
            "border": null,
            "align_items": null,
            "bottom": null,
            "_model_module": "@jupyter-widgets/base",
            "top": null,
            "grid_column": null,
            "overflow_y": null,
            "overflow_x": null,
            "grid_auto_flow": null,
            "grid_area": null,
            "grid_template_columns": null,
            "flex": null,
            "_model_name": "LayoutModel",
            "justify_items": null,
            "grid_row": null,
            "max_height": null,
            "align_content": null,
            "visibility": null,
            "align_self": null,
            "height": null,
            "min_height": null,
            "padding": null,
            "grid_auto_rows": null,
            "grid_gap": null,
            "max_width": null,
            "order": null,
            "_view_module_version": "1.2.0",
            "grid_template_areas": null,
            "object_position": null,
            "object_fit": null,
            "grid_auto_columns": null,
            "margin": null,
            "display": null,
            "left": null
          }
        },
        "fa087c1bcfca4195be5cc18625eaa530": {
          "model_module": "@jupyter-widgets/controls",
          "model_name": "FloatProgressModel",
          "state": {
            "_view_name": "ProgressView",
            "style": "IPY_MODEL_1b09d1bb78c34fe9ba566faf7bb7a265",
            "_dom_classes": [],
            "description": "100%",
            "_model_name": "FloatProgressModel",
            "bar_style": "success",
            "max": 141,
            "_view_module": "@jupyter-widgets/controls",
            "_model_module_version": "1.5.0",
            "value": 141,
            "_view_count": null,
            "_view_module_version": "1.5.0",
            "orientation": "horizontal",
            "min": 0,
            "description_tooltip": null,
            "_model_module": "@jupyter-widgets/controls",
            "layout": "IPY_MODEL_87411e2041a3481ea5fe68589d564603"
          }
        },
        "45f581f0678b4dd4bbaafbf5bc3addf6": {
          "model_module": "@jupyter-widgets/controls",
          "model_name": "HTMLModel",
          "state": {
            "_view_name": "HTMLView",
            "style": "IPY_MODEL_3d8e972f852a4d958d4857c7276a3c96",
            "_dom_classes": [],
            "description": "",
            "_model_name": "HTMLModel",
            "placeholder": "​",
            "_view_module": "@jupyter-widgets/controls",
            "_model_module_version": "1.5.0",
            "value": " 141/141 [05:36&lt;00:00,  2.39s/it]",
            "_view_count": null,
            "_view_module_version": "1.5.0",
            "description_tooltip": null,
            "_model_module": "@jupyter-widgets/controls",
            "layout": "IPY_MODEL_abc37497b6de41f3b9aafc297a254a68"
          }
        },
        "1b09d1bb78c34fe9ba566faf7bb7a265": {
          "model_module": "@jupyter-widgets/controls",
          "model_name": "ProgressStyleModel",
          "state": {
            "_view_name": "StyleView",
            "_model_name": "ProgressStyleModel",
            "description_width": "initial",
            "_view_module": "@jupyter-widgets/base",
            "_model_module_version": "1.5.0",
            "_view_count": null,
            "_view_module_version": "1.2.0",
            "bar_color": null,
            "_model_module": "@jupyter-widgets/controls"
          }
        },
        "87411e2041a3481ea5fe68589d564603": {
          "model_module": "@jupyter-widgets/base",
          "model_name": "LayoutModel",
          "state": {
            "_view_name": "LayoutView",
            "grid_template_rows": null,
            "right": null,
            "justify_content": null,
            "_view_module": "@jupyter-widgets/base",
            "overflow": null,
            "_model_module_version": "1.2.0",
            "_view_count": null,
            "flex_flow": null,
            "width": null,
            "min_width": null,
            "border": null,
            "align_items": null,
            "bottom": null,
            "_model_module": "@jupyter-widgets/base",
            "top": null,
            "grid_column": null,
            "overflow_y": null,
            "overflow_x": null,
            "grid_auto_flow": null,
            "grid_area": null,
            "grid_template_columns": null,
            "flex": null,
            "_model_name": "LayoutModel",
            "justify_items": null,
            "grid_row": null,
            "max_height": null,
            "align_content": null,
            "visibility": null,
            "align_self": null,
            "height": null,
            "min_height": null,
            "padding": null,
            "grid_auto_rows": null,
            "grid_gap": null,
            "max_width": null,
            "order": null,
            "_view_module_version": "1.2.0",
            "grid_template_areas": null,
            "object_position": null,
            "object_fit": null,
            "grid_auto_columns": null,
            "margin": null,
            "display": null,
            "left": null
          }
        },
        "3d8e972f852a4d958d4857c7276a3c96": {
          "model_module": "@jupyter-widgets/controls",
          "model_name": "DescriptionStyleModel",
          "state": {
            "_view_name": "StyleView",
            "_model_name": "DescriptionStyleModel",
            "description_width": "",
            "_view_module": "@jupyter-widgets/base",
            "_model_module_version": "1.5.0",
            "_view_count": null,
            "_view_module_version": "1.2.0",
            "_model_module": "@jupyter-widgets/controls"
          }
        },
        "abc37497b6de41f3b9aafc297a254a68": {
          "model_module": "@jupyter-widgets/base",
          "model_name": "LayoutModel",
          "state": {
            "_view_name": "LayoutView",
            "grid_template_rows": null,
            "right": null,
            "justify_content": null,
            "_view_module": "@jupyter-widgets/base",
            "overflow": null,
            "_model_module_version": "1.2.0",
            "_view_count": null,
            "flex_flow": null,
            "width": null,
            "min_width": null,
            "border": null,
            "align_items": null,
            "bottom": null,
            "_model_module": "@jupyter-widgets/base",
            "top": null,
            "grid_column": null,
            "overflow_y": null,
            "overflow_x": null,
            "grid_auto_flow": null,
            "grid_area": null,
            "grid_template_columns": null,
            "flex": null,
            "_model_name": "LayoutModel",
            "justify_items": null,
            "grid_row": null,
            "max_height": null,
            "align_content": null,
            "visibility": null,
            "align_self": null,
            "height": null,
            "min_height": null,
            "padding": null,
            "grid_auto_rows": null,
            "grid_gap": null,
            "max_width": null,
            "order": null,
            "_view_module_version": "1.2.0",
            "grid_template_areas": null,
            "object_position": null,
            "object_fit": null,
            "grid_auto_columns": null,
            "margin": null,
            "display": null,
            "left": null
          }
        },
        "85ae640b60694ad49b382218ab1efd36": {
          "model_module": "@jupyter-widgets/controls",
          "model_name": "HBoxModel",
          "state": {
            "_view_name": "HBoxView",
            "_dom_classes": [],
            "_model_name": "HBoxModel",
            "_view_module": "@jupyter-widgets/controls",
            "_model_module_version": "1.5.0",
            "_view_count": null,
            "_view_module_version": "1.5.0",
            "box_style": "",
            "layout": "IPY_MODEL_5391efa29bca4a32a95867d30eac9075",
            "_model_module": "@jupyter-widgets/controls",
            "children": [
              "IPY_MODEL_27132f6a692849e995b8b516530021f5",
              "IPY_MODEL_ad33016210494e7b80eee5201deb75a4"
            ]
          }
        },
        "5391efa29bca4a32a95867d30eac9075": {
          "model_module": "@jupyter-widgets/base",
          "model_name": "LayoutModel",
          "state": {
            "_view_name": "LayoutView",
            "grid_template_rows": null,
            "right": null,
            "justify_content": null,
            "_view_module": "@jupyter-widgets/base",
            "overflow": null,
            "_model_module_version": "1.2.0",
            "_view_count": null,
            "flex_flow": null,
            "width": null,
            "min_width": null,
            "border": null,
            "align_items": null,
            "bottom": null,
            "_model_module": "@jupyter-widgets/base",
            "top": null,
            "grid_column": null,
            "overflow_y": null,
            "overflow_x": null,
            "grid_auto_flow": null,
            "grid_area": null,
            "grid_template_columns": null,
            "flex": null,
            "_model_name": "LayoutModel",
            "justify_items": null,
            "grid_row": null,
            "max_height": null,
            "align_content": null,
            "visibility": null,
            "align_self": null,
            "height": null,
            "min_height": null,
            "padding": null,
            "grid_auto_rows": null,
            "grid_gap": null,
            "max_width": null,
            "order": null,
            "_view_module_version": "1.2.0",
            "grid_template_areas": null,
            "object_position": null,
            "object_fit": null,
            "grid_auto_columns": null,
            "margin": null,
            "display": null,
            "left": null
          }
        },
        "27132f6a692849e995b8b516530021f5": {
          "model_module": "@jupyter-widgets/controls",
          "model_name": "FloatProgressModel",
          "state": {
            "_view_name": "ProgressView",
            "style": "IPY_MODEL_0ec10d22fa5c49b89dd37018388043a5",
            "_dom_classes": [],
            "description": "100%",
            "_model_name": "FloatProgressModel",
            "bar_style": "success",
            "max": 141,
            "_view_module": "@jupyter-widgets/controls",
            "_model_module_version": "1.5.0",
            "value": 141,
            "_view_count": null,
            "_view_module_version": "1.5.0",
            "orientation": "horizontal",
            "min": 0,
            "description_tooltip": null,
            "_model_module": "@jupyter-widgets/controls",
            "layout": "IPY_MODEL_459bc995fc4d4a5d9940833908f8036a"
          }
        },
        "ad33016210494e7b80eee5201deb75a4": {
          "model_module": "@jupyter-widgets/controls",
          "model_name": "HTMLModel",
          "state": {
            "_view_name": "HTMLView",
            "style": "IPY_MODEL_75bd1f906bea4dfe89c5a8ac58a068f7",
            "_dom_classes": [],
            "description": "",
            "_model_name": "HTMLModel",
            "placeholder": "​",
            "_view_module": "@jupyter-widgets/controls",
            "_model_module_version": "1.5.0",
            "value": " 141/141 [03:45&lt;00:00,  1.60s/it]",
            "_view_count": null,
            "_view_module_version": "1.5.0",
            "description_tooltip": null,
            "_model_module": "@jupyter-widgets/controls",
            "layout": "IPY_MODEL_ccc3d2b958fe47c2b2529f88cab9471b"
          }
        },
        "0ec10d22fa5c49b89dd37018388043a5": {
          "model_module": "@jupyter-widgets/controls",
          "model_name": "ProgressStyleModel",
          "state": {
            "_view_name": "StyleView",
            "_model_name": "ProgressStyleModel",
            "description_width": "initial",
            "_view_module": "@jupyter-widgets/base",
            "_model_module_version": "1.5.0",
            "_view_count": null,
            "_view_module_version": "1.2.0",
            "bar_color": null,
            "_model_module": "@jupyter-widgets/controls"
          }
        },
        "459bc995fc4d4a5d9940833908f8036a": {
          "model_module": "@jupyter-widgets/base",
          "model_name": "LayoutModel",
          "state": {
            "_view_name": "LayoutView",
            "grid_template_rows": null,
            "right": null,
            "justify_content": null,
            "_view_module": "@jupyter-widgets/base",
            "overflow": null,
            "_model_module_version": "1.2.0",
            "_view_count": null,
            "flex_flow": null,
            "width": null,
            "min_width": null,
            "border": null,
            "align_items": null,
            "bottom": null,
            "_model_module": "@jupyter-widgets/base",
            "top": null,
            "grid_column": null,
            "overflow_y": null,
            "overflow_x": null,
            "grid_auto_flow": null,
            "grid_area": null,
            "grid_template_columns": null,
            "flex": null,
            "_model_name": "LayoutModel",
            "justify_items": null,
            "grid_row": null,
            "max_height": null,
            "align_content": null,
            "visibility": null,
            "align_self": null,
            "height": null,
            "min_height": null,
            "padding": null,
            "grid_auto_rows": null,
            "grid_gap": null,
            "max_width": null,
            "order": null,
            "_view_module_version": "1.2.0",
            "grid_template_areas": null,
            "object_position": null,
            "object_fit": null,
            "grid_auto_columns": null,
            "margin": null,
            "display": null,
            "left": null
          }
        },
        "75bd1f906bea4dfe89c5a8ac58a068f7": {
          "model_module": "@jupyter-widgets/controls",
          "model_name": "DescriptionStyleModel",
          "state": {
            "_view_name": "StyleView",
            "_model_name": "DescriptionStyleModel",
            "description_width": "",
            "_view_module": "@jupyter-widgets/base",
            "_model_module_version": "1.5.0",
            "_view_count": null,
            "_view_module_version": "1.2.0",
            "_model_module": "@jupyter-widgets/controls"
          }
        },
        "ccc3d2b958fe47c2b2529f88cab9471b": {
          "model_module": "@jupyter-widgets/base",
          "model_name": "LayoutModel",
          "state": {
            "_view_name": "LayoutView",
            "grid_template_rows": null,
            "right": null,
            "justify_content": null,
            "_view_module": "@jupyter-widgets/base",
            "overflow": null,
            "_model_module_version": "1.2.0",
            "_view_count": null,
            "flex_flow": null,
            "width": null,
            "min_width": null,
            "border": null,
            "align_items": null,
            "bottom": null,
            "_model_module": "@jupyter-widgets/base",
            "top": null,
            "grid_column": null,
            "overflow_y": null,
            "overflow_x": null,
            "grid_auto_flow": null,
            "grid_area": null,
            "grid_template_columns": null,
            "flex": null,
            "_model_name": "LayoutModel",
            "justify_items": null,
            "grid_row": null,
            "max_height": null,
            "align_content": null,
            "visibility": null,
            "align_self": null,
            "height": null,
            "min_height": null,
            "padding": null,
            "grid_auto_rows": null,
            "grid_gap": null,
            "max_width": null,
            "order": null,
            "_view_module_version": "1.2.0",
            "grid_template_areas": null,
            "object_position": null,
            "object_fit": null,
            "grid_auto_columns": null,
            "margin": null,
            "display": null,
            "left": null
          }
        },
        "6dd0bddf414440ac9887c0447e9f1bd3": {
          "model_module": "@jupyter-widgets/controls",
          "model_name": "HBoxModel",
          "state": {
            "_view_name": "HBoxView",
            "_dom_classes": [],
            "_model_name": "HBoxModel",
            "_view_module": "@jupyter-widgets/controls",
            "_model_module_version": "1.5.0",
            "_view_count": null,
            "_view_module_version": "1.5.0",
            "box_style": "",
            "layout": "IPY_MODEL_63739f3702784704b29f0e0ce73ada0b",
            "_model_module": "@jupyter-widgets/controls",
            "children": [
              "IPY_MODEL_60fd915f7ac248e5827e8f6e37c07b51",
              "IPY_MODEL_3fd855a1ec5246e9a9a9195223be3a8e"
            ]
          }
        },
        "63739f3702784704b29f0e0ce73ada0b": {
          "model_module": "@jupyter-widgets/base",
          "model_name": "LayoutModel",
          "state": {
            "_view_name": "LayoutView",
            "grid_template_rows": null,
            "right": null,
            "justify_content": null,
            "_view_module": "@jupyter-widgets/base",
            "overflow": null,
            "_model_module_version": "1.2.0",
            "_view_count": null,
            "flex_flow": null,
            "width": null,
            "min_width": null,
            "border": null,
            "align_items": null,
            "bottom": null,
            "_model_module": "@jupyter-widgets/base",
            "top": null,
            "grid_column": null,
            "overflow_y": null,
            "overflow_x": null,
            "grid_auto_flow": null,
            "grid_area": null,
            "grid_template_columns": null,
            "flex": null,
            "_model_name": "LayoutModel",
            "justify_items": null,
            "grid_row": null,
            "max_height": null,
            "align_content": null,
            "visibility": null,
            "align_self": null,
            "height": null,
            "min_height": null,
            "padding": null,
            "grid_auto_rows": null,
            "grid_gap": null,
            "max_width": null,
            "order": null,
            "_view_module_version": "1.2.0",
            "grid_template_areas": null,
            "object_position": null,
            "object_fit": null,
            "grid_auto_columns": null,
            "margin": null,
            "display": null,
            "left": null
          }
        },
        "60fd915f7ac248e5827e8f6e37c07b51": {
          "model_module": "@jupyter-widgets/controls",
          "model_name": "FloatProgressModel",
          "state": {
            "_view_name": "ProgressView",
            "style": "IPY_MODEL_0d7c736c655145929f17fca2f6f1e00f",
            "_dom_classes": [],
            "description": "100%",
            "_model_name": "FloatProgressModel",
            "bar_style": "success",
            "max": 141,
            "_view_module": "@jupyter-widgets/controls",
            "_model_module_version": "1.5.0",
            "value": 141,
            "_view_count": null,
            "_view_module_version": "1.5.0",
            "orientation": "horizontal",
            "min": 0,
            "description_tooltip": null,
            "_model_module": "@jupyter-widgets/controls",
            "layout": "IPY_MODEL_aaa46437c23847149fd0c4d9e301f7d4"
          }
        },
        "3fd855a1ec5246e9a9a9195223be3a8e": {
          "model_module": "@jupyter-widgets/controls",
          "model_name": "HTMLModel",
          "state": {
            "_view_name": "HTMLView",
            "style": "IPY_MODEL_15e9315c817944609fb4988d2b62d96d",
            "_dom_classes": [],
            "description": "",
            "_model_name": "HTMLModel",
            "placeholder": "​",
            "_view_module": "@jupyter-widgets/controls",
            "_model_module_version": "1.5.0",
            "value": " 141/141 [01:52&lt;00:00,  1.25it/s]",
            "_view_count": null,
            "_view_module_version": "1.5.0",
            "description_tooltip": null,
            "_model_module": "@jupyter-widgets/controls",
            "layout": "IPY_MODEL_64d316f3bb9b4b768e4bb363bdeedf94"
          }
        },
        "0d7c736c655145929f17fca2f6f1e00f": {
          "model_module": "@jupyter-widgets/controls",
          "model_name": "ProgressStyleModel",
          "state": {
            "_view_name": "StyleView",
            "_model_name": "ProgressStyleModel",
            "description_width": "initial",
            "_view_module": "@jupyter-widgets/base",
            "_model_module_version": "1.5.0",
            "_view_count": null,
            "_view_module_version": "1.2.0",
            "bar_color": null,
            "_model_module": "@jupyter-widgets/controls"
          }
        },
        "aaa46437c23847149fd0c4d9e301f7d4": {
          "model_module": "@jupyter-widgets/base",
          "model_name": "LayoutModel",
          "state": {
            "_view_name": "LayoutView",
            "grid_template_rows": null,
            "right": null,
            "justify_content": null,
            "_view_module": "@jupyter-widgets/base",
            "overflow": null,
            "_model_module_version": "1.2.0",
            "_view_count": null,
            "flex_flow": null,
            "width": null,
            "min_width": null,
            "border": null,
            "align_items": null,
            "bottom": null,
            "_model_module": "@jupyter-widgets/base",
            "top": null,
            "grid_column": null,
            "overflow_y": null,
            "overflow_x": null,
            "grid_auto_flow": null,
            "grid_area": null,
            "grid_template_columns": null,
            "flex": null,
            "_model_name": "LayoutModel",
            "justify_items": null,
            "grid_row": null,
            "max_height": null,
            "align_content": null,
            "visibility": null,
            "align_self": null,
            "height": null,
            "min_height": null,
            "padding": null,
            "grid_auto_rows": null,
            "grid_gap": null,
            "max_width": null,
            "order": null,
            "_view_module_version": "1.2.0",
            "grid_template_areas": null,
            "object_position": null,
            "object_fit": null,
            "grid_auto_columns": null,
            "margin": null,
            "display": null,
            "left": null
          }
        },
        "15e9315c817944609fb4988d2b62d96d": {
          "model_module": "@jupyter-widgets/controls",
          "model_name": "DescriptionStyleModel",
          "state": {
            "_view_name": "StyleView",
            "_model_name": "DescriptionStyleModel",
            "description_width": "",
            "_view_module": "@jupyter-widgets/base",
            "_model_module_version": "1.5.0",
            "_view_count": null,
            "_view_module_version": "1.2.0",
            "_model_module": "@jupyter-widgets/controls"
          }
        },
        "64d316f3bb9b4b768e4bb363bdeedf94": {
          "model_module": "@jupyter-widgets/base",
          "model_name": "LayoutModel",
          "state": {
            "_view_name": "LayoutView",
            "grid_template_rows": null,
            "right": null,
            "justify_content": null,
            "_view_module": "@jupyter-widgets/base",
            "overflow": null,
            "_model_module_version": "1.2.0",
            "_view_count": null,
            "flex_flow": null,
            "width": null,
            "min_width": null,
            "border": null,
            "align_items": null,
            "bottom": null,
            "_model_module": "@jupyter-widgets/base",
            "top": null,
            "grid_column": null,
            "overflow_y": null,
            "overflow_x": null,
            "grid_auto_flow": null,
            "grid_area": null,
            "grid_template_columns": null,
            "flex": null,
            "_model_name": "LayoutModel",
            "justify_items": null,
            "grid_row": null,
            "max_height": null,
            "align_content": null,
            "visibility": null,
            "align_self": null,
            "height": null,
            "min_height": null,
            "padding": null,
            "grid_auto_rows": null,
            "grid_gap": null,
            "max_width": null,
            "order": null,
            "_view_module_version": "1.2.0",
            "grid_template_areas": null,
            "object_position": null,
            "object_fit": null,
            "grid_auto_columns": null,
            "margin": null,
            "display": null,
            "left": null
          }
        }
      }
    },
    "accelerator": "GPU"
  },
  "cells": [
    {
      "cell_type": "markdown",
      "metadata": {
        "id": "yYi56HsL0Fff"
      },
      "source": [
        "# topic2poem\n",
        "End-to-End Poetry Generation from a list of topics using [T5: Text-To-Text Transfer Transformer](https://arxiv.org/abs/1910.10683)  \n",
        "Author: [Harshit Varma](https://github.com/hrshtv)\n",
        "\n"
      ]
    },
    {
      "cell_type": "markdown",
      "metadata": {
        "id": "jMy7DpOtax_8"
      },
      "source": [
        "## Install Dependencies"
      ]
    },
    {
      "cell_type": "code",
      "metadata": {
        "colab": {
          "base_uri": "https://localhost:8080/"
        },
        "id": "8bXCqW6Y134M",
        "outputId": "f77becbf-7c07-4d46-a864-c1a1c4c85398"
      },
      "source": [
        "! pip install transformers==4.5.1\n",
        "! pip install sentencepiece==0.1.94 # Version is important as T5's tokenizer has this version as a dependency "
      ],
      "execution_count": 1,
      "outputs": [
        {
          "output_type": "stream",
          "text": [
            "Collecting transformers==4.5.1\n",
            "\u001b[?25l  Downloading https://files.pythonhosted.org/packages/d8/b2/57495b5309f09fa501866e225c84532d1fd89536ea62406b2181933fb418/transformers-4.5.1-py3-none-any.whl (2.1MB)\n",
            "\r\u001b[K     |▏                               | 10kB 15.6MB/s eta 0:00:01\r\u001b[K     |▎                               | 20kB 22.2MB/s eta 0:00:01\r\u001b[K     |▌                               | 30kB 25.9MB/s eta 0:00:01\r\u001b[K     |▋                               | 40kB 28.1MB/s eta 0:00:01\r\u001b[K     |▉                               | 51kB 29.0MB/s eta 0:00:01\r\u001b[K     |█                               | 61kB 31.0MB/s eta 0:00:01\r\u001b[K     |█▏                              | 71kB 26.6MB/s eta 0:00:01\r\u001b[K     |█▎                              | 81kB 28.0MB/s eta 0:00:01\r\u001b[K     |█▍                              | 92kB 26.6MB/s eta 0:00:01\r\u001b[K     |█▋                              | 102kB 28.1MB/s eta 0:00:01\r\u001b[K     |█▊                              | 112kB 28.1MB/s eta 0:00:01\r\u001b[K     |██                              | 122kB 28.1MB/s eta 0:00:01\r\u001b[K     |██                              | 133kB 28.1MB/s eta 0:00:01\r\u001b[K     |██▎                             | 143kB 28.1MB/s eta 0:00:01\r\u001b[K     |██▍                             | 153kB 28.1MB/s eta 0:00:01\r\u001b[K     |██▌                             | 163kB 28.1MB/s eta 0:00:01\r\u001b[K     |██▊                             | 174kB 28.1MB/s eta 0:00:01\r\u001b[K     |██▉                             | 184kB 28.1MB/s eta 0:00:01\r\u001b[K     |███                             | 194kB 28.1MB/s eta 0:00:01\r\u001b[K     |███▏                            | 204kB 28.1MB/s eta 0:00:01\r\u001b[K     |███▍                            | 215kB 28.1MB/s eta 0:00:01\r\u001b[K     |███▌                            | 225kB 28.1MB/s eta 0:00:01\r\u001b[K     |███▋                            | 235kB 28.1MB/s eta 0:00:01\r\u001b[K     |███▉                            | 245kB 28.1MB/s eta 0:00:01\r\u001b[K     |████                            | 256kB 28.1MB/s eta 0:00:01\r\u001b[K     |████▏                           | 266kB 28.1MB/s eta 0:00:01\r\u001b[K     |████▎                           | 276kB 28.1MB/s eta 0:00:01\r\u001b[K     |████▌                           | 286kB 28.1MB/s eta 0:00:01\r\u001b[K     |████▋                           | 296kB 28.1MB/s eta 0:00:01\r\u001b[K     |████▊                           | 307kB 28.1MB/s eta 0:00:01\r\u001b[K     |█████                           | 317kB 28.1MB/s eta 0:00:01\r\u001b[K     |█████                           | 327kB 28.1MB/s eta 0:00:01\r\u001b[K     |█████▎                          | 337kB 28.1MB/s eta 0:00:01\r\u001b[K     |█████▍                          | 348kB 28.1MB/s eta 0:00:01\r\u001b[K     |█████▋                          | 358kB 28.1MB/s eta 0:00:01\r\u001b[K     |█████▊                          | 368kB 28.1MB/s eta 0:00:01\r\u001b[K     |█████▉                          | 378kB 28.1MB/s eta 0:00:01\r\u001b[K     |██████                          | 389kB 28.1MB/s eta 0:00:01\r\u001b[K     |██████▏                         | 399kB 28.1MB/s eta 0:00:01\r\u001b[K     |██████▍                         | 409kB 28.1MB/s eta 0:00:01\r\u001b[K     |██████▌                         | 419kB 28.1MB/s eta 0:00:01\r\u001b[K     |██████▊                         | 430kB 28.1MB/s eta 0:00:01\r\u001b[K     |██████▉                         | 440kB 28.1MB/s eta 0:00:01\r\u001b[K     |███████                         | 450kB 28.1MB/s eta 0:00:01\r\u001b[K     |███████▏                        | 460kB 28.1MB/s eta 0:00:01\r\u001b[K     |███████▎                        | 471kB 28.1MB/s eta 0:00:01\r\u001b[K     |███████▌                        | 481kB 28.1MB/s eta 0:00:01\r\u001b[K     |███████▋                        | 491kB 28.1MB/s eta 0:00:01\r\u001b[K     |███████▉                        | 501kB 28.1MB/s eta 0:00:01\r\u001b[K     |████████                        | 512kB 28.1MB/s eta 0:00:01\r\u001b[K     |████████                        | 522kB 28.1MB/s eta 0:00:01\r\u001b[K     |████████▎                       | 532kB 28.1MB/s eta 0:00:01\r\u001b[K     |████████▍                       | 542kB 28.1MB/s eta 0:00:01\r\u001b[K     |████████▋                       | 552kB 28.1MB/s eta 0:00:01\r\u001b[K     |████████▊                       | 563kB 28.1MB/s eta 0:00:01\r\u001b[K     |█████████                       | 573kB 28.1MB/s eta 0:00:01\r\u001b[K     |█████████                       | 583kB 28.1MB/s eta 0:00:01\r\u001b[K     |█████████▎                      | 593kB 28.1MB/s eta 0:00:01\r\u001b[K     |█████████▍                      | 604kB 28.1MB/s eta 0:00:01\r\u001b[K     |█████████▌                      | 614kB 28.1MB/s eta 0:00:01\r\u001b[K     |█████████▊                      | 624kB 28.1MB/s eta 0:00:01\r\u001b[K     |█████████▉                      | 634kB 28.1MB/s eta 0:00:01\r\u001b[K     |██████████                      | 645kB 28.1MB/s eta 0:00:01\r\u001b[K     |██████████▏                     | 655kB 28.1MB/s eta 0:00:01\r\u001b[K     |██████████▍                     | 665kB 28.1MB/s eta 0:00:01\r\u001b[K     |██████████▌                     | 675kB 28.1MB/s eta 0:00:01\r\u001b[K     |██████████▋                     | 686kB 28.1MB/s eta 0:00:01\r\u001b[K     |██████████▉                     | 696kB 28.1MB/s eta 0:00:01\r\u001b[K     |███████████                     | 706kB 28.1MB/s eta 0:00:01\r\u001b[K     |███████████▏                    | 716kB 28.1MB/s eta 0:00:01\r\u001b[K     |███████████▎                    | 727kB 28.1MB/s eta 0:00:01\r\u001b[K     |███████████▌                    | 737kB 28.1MB/s eta 0:00:01\r\u001b[K     |███████████▋                    | 747kB 28.1MB/s eta 0:00:01\r\u001b[K     |███████████▊                    | 757kB 28.1MB/s eta 0:00:01\r\u001b[K     |████████████                    | 768kB 28.1MB/s eta 0:00:01\r\u001b[K     |████████████                    | 778kB 28.1MB/s eta 0:00:01\r\u001b[K     |████████████▎                   | 788kB 28.1MB/s eta 0:00:01\r\u001b[K     |████████████▍                   | 798kB 28.1MB/s eta 0:00:01\r\u001b[K     |████████████▋                   | 808kB 28.1MB/s eta 0:00:01\r\u001b[K     |████████████▊                   | 819kB 28.1MB/s eta 0:00:01\r\u001b[K     |████████████▉                   | 829kB 28.1MB/s eta 0:00:01\r\u001b[K     |█████████████                   | 839kB 28.1MB/s eta 0:00:01\r\u001b[K     |█████████████▏                  | 849kB 28.1MB/s eta 0:00:01\r\u001b[K     |█████████████▍                  | 860kB 28.1MB/s eta 0:00:01\r\u001b[K     |█████████████▌                  | 870kB 28.1MB/s eta 0:00:01\r\u001b[K     |█████████████▊                  | 880kB 28.1MB/s eta 0:00:01\r\u001b[K     |█████████████▉                  | 890kB 28.1MB/s eta 0:00:01\r\u001b[K     |██████████████                  | 901kB 28.1MB/s eta 0:00:01\r\u001b[K     |██████████████▏                 | 911kB 28.1MB/s eta 0:00:01\r\u001b[K     |██████████████▎                 | 921kB 28.1MB/s eta 0:00:01\r\u001b[K     |██████████████▌                 | 931kB 28.1MB/s eta 0:00:01\r\u001b[K     |██████████████▋                 | 942kB 28.1MB/s eta 0:00:01\r\u001b[K     |██████████████▉                 | 952kB 28.1MB/s eta 0:00:01\r\u001b[K     |███████████████                 | 962kB 28.1MB/s eta 0:00:01\r\u001b[K     |███████████████                 | 972kB 28.1MB/s eta 0:00:01\r\u001b[K     |███████████████▎                | 983kB 28.1MB/s eta 0:00:01\r\u001b[K     |███████████████▍                | 993kB 28.1MB/s eta 0:00:01\r\u001b[K     |███████████████▋                | 1.0MB 28.1MB/s eta 0:00:01\r\u001b[K     |███████████████▊                | 1.0MB 28.1MB/s eta 0:00:01\r\u001b[K     |████████████████                | 1.0MB 28.1MB/s eta 0:00:01\r\u001b[K     |████████████████                | 1.0MB 28.1MB/s eta 0:00:01\r\u001b[K     |████████████████▏               | 1.0MB 28.1MB/s eta 0:00:01\r\u001b[K     |████████████████▍               | 1.1MB 28.1MB/s eta 0:00:01\r\u001b[K     |████████████████▌               | 1.1MB 28.1MB/s eta 0:00:01\r\u001b[K     |████████████████▊               | 1.1MB 28.1MB/s eta 0:00:01\r\u001b[K     |████████████████▉               | 1.1MB 28.1MB/s eta 0:00:01\r\u001b[K     |█████████████████               | 1.1MB 28.1MB/s eta 0:00:01\r\u001b[K     |█████████████████▏              | 1.1MB 28.1MB/s eta 0:00:01\r\u001b[K     |█████████████████▍              | 1.1MB 28.1MB/s eta 0:00:01\r\u001b[K     |█████████████████▌              | 1.1MB 28.1MB/s eta 0:00:01\r\u001b[K     |█████████████████▋              | 1.1MB 28.1MB/s eta 0:00:01\r\u001b[K     |█████████████████▉              | 1.1MB 28.1MB/s eta 0:00:01\r\u001b[K     |██████████████████              | 1.2MB 28.1MB/s eta 0:00:01\r\u001b[K     |██████████████████▏             | 1.2MB 28.1MB/s eta 0:00:01\r\u001b[K     |██████████████████▎             | 1.2MB 28.1MB/s eta 0:00:01\r\u001b[K     |██████████████████▌             | 1.2MB 28.1MB/s eta 0:00:01\r\u001b[K     |██████████████████▋             | 1.2MB 28.1MB/s eta 0:00:01\r\u001b[K     |██████████████████▊             | 1.2MB 28.1MB/s eta 0:00:01\r\u001b[K     |███████████████████             | 1.2MB 28.1MB/s eta 0:00:01\r\u001b[K     |███████████████████             | 1.2MB 28.1MB/s eta 0:00:01\r\u001b[K     |███████████████████▎            | 1.2MB 28.1MB/s eta 0:00:01\r\u001b[K     |███████████████████▍            | 1.2MB 28.1MB/s eta 0:00:01\r\u001b[K     |███████████████████▋            | 1.3MB 28.1MB/s eta 0:00:01\r\u001b[K     |███████████████████▊            | 1.3MB 28.1MB/s eta 0:00:01\r\u001b[K     |███████████████████▉            | 1.3MB 28.1MB/s eta 0:00:01\r\u001b[K     |████████████████████            | 1.3MB 28.1MB/s eta 0:00:01\r\u001b[K     |████████████████████▏           | 1.3MB 28.1MB/s eta 0:00:01\r\u001b[K     |████████████████████▍           | 1.3MB 28.1MB/s eta 0:00:01\r\u001b[K     |████████████████████▌           | 1.3MB 28.1MB/s eta 0:00:01\r\u001b[K     |████████████████████▊           | 1.3MB 28.1MB/s eta 0:00:01\r\u001b[K     |████████████████████▉           | 1.3MB 28.1MB/s eta 0:00:01\r\u001b[K     |█████████████████████           | 1.4MB 28.1MB/s eta 0:00:01\r\u001b[K     |█████████████████████▏          | 1.4MB 28.1MB/s eta 0:00:01\r\u001b[K     |█████████████████████▎          | 1.4MB 28.1MB/s eta 0:00:01\r\u001b[K     |█████████████████████▌          | 1.4MB 28.1MB/s eta 0:00:01\r\u001b[K     |█████████████████████▋          | 1.4MB 28.1MB/s eta 0:00:01\r\u001b[K     |█████████████████████▉          | 1.4MB 28.1MB/s eta 0:00:01\r\u001b[K     |██████████████████████          | 1.4MB 28.1MB/s eta 0:00:01\r\u001b[K     |██████████████████████          | 1.4MB 28.1MB/s eta 0:00:01\r\u001b[K     |██████████████████████▎         | 1.4MB 28.1MB/s eta 0:00:01\r\u001b[K     |██████████████████████▍         | 1.4MB 28.1MB/s eta 0:00:01\r\u001b[K     |██████████████████████▋         | 1.5MB 28.1MB/s eta 0:00:01\r\u001b[K     |██████████████████████▊         | 1.5MB 28.1MB/s eta 0:00:01\r\u001b[K     |███████████████████████         | 1.5MB 28.1MB/s eta 0:00:01\r\u001b[K     |███████████████████████         | 1.5MB 28.1MB/s eta 0:00:01\r\u001b[K     |███████████████████████▏        | 1.5MB 28.1MB/s eta 0:00:01\r\u001b[K     |███████████████████████▍        | 1.5MB 28.1MB/s eta 0:00:01\r\u001b[K     |███████████████████████▌        | 1.5MB 28.1MB/s eta 0:00:01\r\u001b[K     |███████████████████████▊        | 1.5MB 28.1MB/s eta 0:00:01\r\u001b[K     |███████████████████████▉        | 1.5MB 28.1MB/s eta 0:00:01\r\u001b[K     |████████████████████████        | 1.5MB 28.1MB/s eta 0:00:01\r\u001b[K     |████████████████████████▏       | 1.6MB 28.1MB/s eta 0:00:01\r\u001b[K     |████████████████████████▎       | 1.6MB 28.1MB/s eta 0:00:01\r\u001b[K     |████████████████████████▌       | 1.6MB 28.1MB/s eta 0:00:01\r\u001b[K     |████████████████████████▋       | 1.6MB 28.1MB/s eta 0:00:01\r\u001b[K     |████████████████████████▉       | 1.6MB 28.1MB/s eta 0:00:01\r\u001b[K     |█████████████████████████       | 1.6MB 28.1MB/s eta 0:00:01\r\u001b[K     |█████████████████████████▏      | 1.6MB 28.1MB/s eta 0:00:01\r\u001b[K     |█████████████████████████▎      | 1.6MB 28.1MB/s eta 0:00:01\r\u001b[K     |█████████████████████████▍      | 1.6MB 28.1MB/s eta 0:00:01\r\u001b[K     |█████████████████████████▋      | 1.6MB 28.1MB/s eta 0:00:01\r\u001b[K     |█████████████████████████▊      | 1.7MB 28.1MB/s eta 0:00:01\r\u001b[K     |██████████████████████████      | 1.7MB 28.1MB/s eta 0:00:01\r\u001b[K     |██████████████████████████      | 1.7MB 28.1MB/s eta 0:00:01\r\u001b[K     |██████████████████████████▎     | 1.7MB 28.1MB/s eta 0:00:01\r\u001b[K     |██████████████████████████▍     | 1.7MB 28.1MB/s eta 0:00:01\r\u001b[K     |██████████████████████████▋     | 1.7MB 28.1MB/s eta 0:00:01\r\u001b[K     |██████████████████████████▊     | 1.7MB 28.1MB/s eta 0:00:01\r\u001b[K     |██████████████████████████▉     | 1.7MB 28.1MB/s eta 0:00:01\r\u001b[K     |███████████████████████████     | 1.7MB 28.1MB/s eta 0:00:01\r\u001b[K     |███████████████████████████▏    | 1.8MB 28.1MB/s eta 0:00:01\r\u001b[K     |███████████████████████████▍    | 1.8MB 28.1MB/s eta 0:00:01\r\u001b[K     |███████████████████████████▌    | 1.8MB 28.1MB/s eta 0:00:01\r\u001b[K     |███████████████████████████▊    | 1.8MB 28.1MB/s eta 0:00:01\r\u001b[K     |███████████████████████████▉    | 1.8MB 28.1MB/s eta 0:00:01\r\u001b[K     |████████████████████████████    | 1.8MB 28.1MB/s eta 0:00:01\r\u001b[K     |████████████████████████████▏   | 1.8MB 28.1MB/s eta 0:00:01\r\u001b[K     |████████████████████████████▎   | 1.8MB 28.1MB/s eta 0:00:01\r\u001b[K     |████████████████████████████▌   | 1.8MB 28.1MB/s eta 0:00:01\r\u001b[K     |████████████████████████████▋   | 1.8MB 28.1MB/s eta 0:00:01\r\u001b[K     |████████████████████████████▉   | 1.9MB 28.1MB/s eta 0:00:01\r\u001b[K     |█████████████████████████████   | 1.9MB 28.1MB/s eta 0:00:01\r\u001b[K     |█████████████████████████████   | 1.9MB 28.1MB/s eta 0:00:01\r\u001b[K     |█████████████████████████████▎  | 1.9MB 28.1MB/s eta 0:00:01\r\u001b[K     |█████████████████████████████▍  | 1.9MB 28.1MB/s eta 0:00:01\r\u001b[K     |█████████████████████████████▋  | 1.9MB 28.1MB/s eta 0:00:01\r\u001b[K     |█████████████████████████████▊  | 1.9MB 28.1MB/s eta 0:00:01\r\u001b[K     |██████████████████████████████  | 1.9MB 28.1MB/s eta 0:00:01\r\u001b[K     |██████████████████████████████  | 1.9MB 28.1MB/s eta 0:00:01\r\u001b[K     |██████████████████████████████▏ | 1.9MB 28.1MB/s eta 0:00:01\r\u001b[K     |██████████████████████████████▍ | 2.0MB 28.1MB/s eta 0:00:01\r\u001b[K     |██████████████████████████████▌ | 2.0MB 28.1MB/s eta 0:00:01\r\u001b[K     |██████████████████████████████▊ | 2.0MB 28.1MB/s eta 0:00:01\r\u001b[K     |██████████████████████████████▉ | 2.0MB 28.1MB/s eta 0:00:01\r\u001b[K     |███████████████████████████████ | 2.0MB 28.1MB/s eta 0:00:01\r\u001b[K     |███████████████████████████████▏| 2.0MB 28.1MB/s eta 0:00:01\r\u001b[K     |███████████████████████████████▎| 2.0MB 28.1MB/s eta 0:00:01\r\u001b[K     |███████████████████████████████▌| 2.0MB 28.1MB/s eta 0:00:01\r\u001b[K     |███████████████████████████████▋| 2.0MB 28.1MB/s eta 0:00:01\r\u001b[K     |███████████████████████████████▉| 2.0MB 28.1MB/s eta 0:00:01\r\u001b[K     |████████████████████████████████| 2.1MB 28.1MB/s eta 0:00:01\r\u001b[K     |████████████████████████████████| 2.1MB 28.1MB/s \n",
            "\u001b[?25hRequirement already satisfied: numpy>=1.17 in /usr/local/lib/python3.7/dist-packages (from transformers==4.5.1) (1.19.5)\n",
            "Requirement already satisfied: requests in /usr/local/lib/python3.7/dist-packages (from transformers==4.5.1) (2.23.0)\n",
            "Requirement already satisfied: filelock in /usr/local/lib/python3.7/dist-packages (from transformers==4.5.1) (3.0.12)\n",
            "Collecting tokenizers<0.11,>=0.10.1\n",
            "\u001b[?25l  Downloading https://files.pythonhosted.org/packages/ae/04/5b870f26a858552025a62f1649c20d29d2672c02ff3c3fb4c688ca46467a/tokenizers-0.10.2-cp37-cp37m-manylinux2010_x86_64.whl (3.3MB)\n",
            "\u001b[K     |████████████████████████████████| 3.3MB 44.6MB/s \n",
            "\u001b[?25hRequirement already satisfied: packaging in /usr/local/lib/python3.7/dist-packages (from transformers==4.5.1) (20.9)\n",
            "Collecting sacremoses\n",
            "\u001b[?25l  Downloading https://files.pythonhosted.org/packages/75/ee/67241dc87f266093c533a2d4d3d69438e57d7a90abb216fa076e7d475d4a/sacremoses-0.0.45-py3-none-any.whl (895kB)\n",
            "\u001b[K     |████████████████████████████████| 901kB 43.8MB/s \n",
            "\u001b[?25hRequirement already satisfied: importlib-metadata; python_version < \"3.8\" in /usr/local/lib/python3.7/dist-packages (from transformers==4.5.1) (4.0.1)\n",
            "Requirement already satisfied: regex!=2019.12.17 in /usr/local/lib/python3.7/dist-packages (from transformers==4.5.1) (2019.12.20)\n",
            "Requirement already satisfied: tqdm>=4.27 in /usr/local/lib/python3.7/dist-packages (from transformers==4.5.1) (4.41.1)\n",
            "Requirement already satisfied: idna<3,>=2.5 in /usr/local/lib/python3.7/dist-packages (from requests->transformers==4.5.1) (2.10)\n",
            "Requirement already satisfied: certifi>=2017.4.17 in /usr/local/lib/python3.7/dist-packages (from requests->transformers==4.5.1) (2020.12.5)\n",
            "Requirement already satisfied: chardet<4,>=3.0.2 in /usr/local/lib/python3.7/dist-packages (from requests->transformers==4.5.1) (3.0.4)\n",
            "Requirement already satisfied: urllib3!=1.25.0,!=1.25.1,<1.26,>=1.21.1 in /usr/local/lib/python3.7/dist-packages (from requests->transformers==4.5.1) (1.24.3)\n",
            "Requirement already satisfied: pyparsing>=2.0.2 in /usr/local/lib/python3.7/dist-packages (from packaging->transformers==4.5.1) (2.4.7)\n",
            "Requirement already satisfied: six in /usr/local/lib/python3.7/dist-packages (from sacremoses->transformers==4.5.1) (1.15.0)\n",
            "Requirement already satisfied: click in /usr/local/lib/python3.7/dist-packages (from sacremoses->transformers==4.5.1) (7.1.2)\n",
            "Requirement already satisfied: joblib in /usr/local/lib/python3.7/dist-packages (from sacremoses->transformers==4.5.1) (1.0.1)\n",
            "Requirement already satisfied: zipp>=0.5 in /usr/local/lib/python3.7/dist-packages (from importlib-metadata; python_version < \"3.8\"->transformers==4.5.1) (3.4.1)\n",
            "Requirement already satisfied: typing-extensions>=3.6.4; python_version < \"3.8\" in /usr/local/lib/python3.7/dist-packages (from importlib-metadata; python_version < \"3.8\"->transformers==4.5.1) (3.7.4.3)\n",
            "Installing collected packages: tokenizers, sacremoses, transformers\n",
            "Successfully installed sacremoses-0.0.45 tokenizers-0.10.2 transformers-4.5.1\n",
            "Collecting sentencepiece==0.1.94\n",
            "\u001b[?25l  Downloading https://files.pythonhosted.org/packages/6e/f0/7614029138ec9422f1a3ed3cd82c3bfc0821157e8032ca1828cee6b198bb/sentencepiece-0.1.94-cp37-cp37m-manylinux2014_x86_64.whl (1.1MB)\n",
            "\u001b[K     |████████████████████████████████| 1.1MB 26.2MB/s \n",
            "\u001b[?25hInstalling collected packages: sentencepiece\n",
            "Successfully installed sentencepiece-0.1.94\n"
          ],
          "name": "stdout"
        }
      ]
    },
    {
      "cell_type": "markdown",
      "metadata": {
        "id": "U9kTPMNaaawb"
      },
      "source": [
        "## Connect to GDrive"
      ]
    },
    {
      "cell_type": "code",
      "metadata": {
        "colab": {
          "base_uri": "https://localhost:8080/"
        },
        "id": "X_tqFFHIXgKU",
        "outputId": "7c69528c-6a3a-42ea-ce34-fb0a4f8fdbf9"
      },
      "source": [
        "from google.colab import drive\n",
        "drive.mount(\"/content/gdrive\")"
      ],
      "execution_count": 2,
      "outputs": [
        {
          "output_type": "stream",
          "text": [
            "Mounted at /content/gdrive\n"
          ],
          "name": "stdout"
        }
      ]
    },
    {
      "cell_type": "markdown",
      "metadata": {
        "id": "j4DgXBPfh8UX"
      },
      "source": [
        "## Start\n",
        "To reset the notebook, run from this point"
      ]
    },
    {
      "cell_type": "code",
      "metadata": {
        "id": "A9L1H5KRh1b3"
      },
      "source": [
        "%reset -f"
      ],
      "execution_count": 3,
      "outputs": []
    },
    {
      "cell_type": "markdown",
      "metadata": {
        "id": "hBESXajW16Wr"
      },
      "source": [
        "## Import Libraries"
      ]
    },
    {
      "cell_type": "code",
      "metadata": {
        "id": "PM0-5Wb17h5Z"
      },
      "source": [
        "# General libraries\n",
        "import random\n",
        "import numpy as np\n",
        "import pandas as pd\n",
        "from tqdm.notebook import tqdm\n",
        "from matplotlib import pyplot as plt\n",
        "from sklearn.model_selection import train_test_split as tts\n",
        "\n",
        "# The general framework used\n",
        "import torch\n",
        "from torch.utils.data import Dataset, DataLoader\n",
        "\n",
        "# T5 specific libraries\n",
        "from transformers.optimization import Adafactor\n",
        "from transformers import T5Tokenizer, T5ForConditionalGeneration"
      ],
      "execution_count": 4,
      "outputs": []
    },
    {
      "cell_type": "markdown",
      "metadata": {
        "id": "E9VKz7VtakGc"
      },
      "source": [
        "## Connecting to the GPU"
      ]
    },
    {
      "cell_type": "code",
      "metadata": {
        "id": "j8d_29QofyiT"
      },
      "source": [
        "torch.cuda.empty_cache()"
      ],
      "execution_count": 5,
      "outputs": []
    },
    {
      "cell_type": "code",
      "metadata": {
        "id": "aG1o2WAn7lDU",
        "colab": {
          "base_uri": "https://localhost:8080/"
        },
        "outputId": "6c64ee8c-2e4e-4ce5-cd42-addfd941c969"
      },
      "source": [
        "DEVICE = \"cuda\" if torch.cuda.is_available() else \"cpu\"\n",
        "# See which GPU has been allotted \n",
        "print(torch.cuda.get_device_name(torch.cuda.current_device()))"
      ],
      "execution_count": 6,
      "outputs": [
        {
          "output_type": "stream",
          "text": [
            "Tesla T4\n"
          ],
          "name": "stdout"
        }
      ]
    },
    {
      "cell_type": "markdown",
      "metadata": {
        "id": "47aBe_jBgron"
      },
      "source": [
        "## Constants"
      ]
    },
    {
      "cell_type": "code",
      "metadata": {
        "id": "w_JANVmEgrPK"
      },
      "source": [
        "PATH_DATA = \"/content/gdrive/MyDrive/topic2poem/dataset.csv\"\n",
        "MODEL_NAME = \"t5-base\"\n",
        "\n",
        "SEED = 1\n",
        "\n",
        "# Specified in the number of tokens\n",
        "INP_MAX_LEN = 128\n",
        "OUT_MAX_LEN = 512\n",
        "\n",
        "TRAIN_BATCH_SIZE = 4\n",
        "\n",
        "N_EPOCHS = 10\n",
        "LR = 1e-3\n",
        "\n",
        "PREFIX = \"poemify: \" # The T5 prefix to append to the inputs\n",
        "SENT_SEP = \"|\" # All newlines/multi-newlines are replaced by a single '|' as T5Tokenizer replaces \"\\n\" by a space\n",
        "TOPIC_SEP = \", \" # Delimiter used for separating the topics in the input"
      ],
      "execution_count": 7,
      "outputs": []
    },
    {
      "cell_type": "code",
      "metadata": {
        "id": "JHE1N438hG6s"
      },
      "source": [
        "# Set random seeds and make pytorch deterministic for reproducibility\n",
        "# Reference: https://github.com/NVIDIA/framework-determinism/blob/master/pytorch.md\n",
        "def setSeed():\n",
        "    random.seed(SEED)\n",
        "    np.random.seed(SEED)\n",
        "    torch.manual_seed(SEED)\n",
        "    torch.cuda.manual_seed_all(SEED)\n",
        "    torch.backends.cudnn.deterministic = True\n",
        "    torch.backends.cudnn.benchmark = False\n",
        "setSeed()"
      ],
      "execution_count": 8,
      "outputs": []
    },
    {
      "cell_type": "markdown",
      "metadata": {
        "id": "W0LdG06NjwTL"
      },
      "source": [
        "## Helper Functions"
      ]
    },
    {
      "cell_type": "code",
      "metadata": {
        "id": "TQV3fIt2jyC5"
      },
      "source": [
        "def countParameters(model):\n",
        "    \"\"\" Counts the total number of trainable and frozen/non-trainable parameters in the model \"\"\"\n",
        "    trainable = sum(p.numel() for p in model.parameters() if p.requires_grad)\n",
        "    frozen = sum(p.numel() for p in model.parameters() if not p.requires_grad)\n",
        "    return trainable, frozen"
      ],
      "execution_count": 9,
      "outputs": []
    },
    {
      "cell_type": "markdown",
      "metadata": {
        "id": "FEDFEI9vama_"
      },
      "source": [
        "## Custom Dataset"
      ]
    },
    {
      "cell_type": "code",
      "metadata": {
        "id": "EsnA1sL17o3v"
      },
      "source": [
        "class CustomDataset(Dataset):\n",
        "\n",
        "    def __init__(self, df, tokenizer, inp_len, out_len):\n",
        "\n",
        "        self.tokenizer = tokenizer\n",
        "        self.df = df\n",
        "\n",
        "        self.inp_len = inp_len # All input sequences would be padded to this length\n",
        "        self.out_len = out_len # All output sequences would be padded to this length\n",
        "\n",
        "        self.inp_txt = self.df.input\n",
        "        self.out_txt = self.df.output\n",
        "\n",
        "\n",
        "    def __len__(self):\n",
        "        return len(self.out_txt)\n",
        "\n",
        "\n",
        "    def __getitem__(self, index):\n",
        "\n",
        "        inp_txt = str(self.inp_txt[index])\n",
        "        out_txt = str(self.out_txt[index])\n",
        "\n",
        "        # Encode the input and output texts\n",
        "        source = self.tokenizer(\n",
        "            [inp_txt],\n",
        "            max_length = self.inp_len, \n",
        "            padding = \"max_length\", \n",
        "            truncation = True,\n",
        "            return_tensors = \"pt\"\n",
        "        )\n",
        "\n",
        "        target = self.tokenizer(\n",
        "            [out_txt],\n",
        "            max_length = self.out_len, \n",
        "            padding = \"max_length\", \n",
        "            truncation = True,\n",
        "            return_tensors = \"pt\"\n",
        "        )\n",
        "\n",
        "        # Input IDs and Masks\n",
        "        source_ids = source[\"input_ids\"].squeeze() # squeeze() to remove the additional dimension\n",
        "        source_mask = source[\"attention_mask\"].squeeze()\n",
        "        target_ids = target[\"input_ids\"].squeeze()\n",
        "        target_mask = target[\"attention_mask\"].squeeze()\n",
        "\n",
        "        # Don't shift the inputs/outputs to GPU now, do it while loading the batches, and then shift the entire batch at once\n",
        "\n",
        "        return {\n",
        "            \"source_ids\"  : source_ids, \n",
        "            \"source_mask\" : source_mask, \n",
        "            \"target_ids\"  : target_ids,\n",
        "            \"target_mask\" : target_mask\n",
        "        }"
      ],
      "execution_count": 10,
      "outputs": []
    },
    {
      "cell_type": "markdown",
      "metadata": {
        "id": "J6ZsKUfBgehV"
      },
      "source": [
        "## Data Handlers"
      ]
    },
    {
      "cell_type": "code",
      "metadata": {
        "id": "fBCrp1acHH8G"
      },
      "source": [
        "def replaceSep(text, sep = SENT_SEP):\n",
        "    \"\"\" Replaces all signle/multi-linebreaks by a single 'sep' everywhere, as T5Tokenizer just replaces '\\n' by a blank space \"\"\"\n",
        "    corrupted_sentences = text.split(\"\\n\")\n",
        "    sentences = [s.strip() for s in corrupted_sentences if len(s.strip()) > 1] # Only keep sentences of length > 1\n",
        "    text = sep.join(sentences)\n",
        "    return text"
      ],
      "execution_count": 11,
      "outputs": []
    },
    {
      "cell_type": "code",
      "metadata": {
        "id": "lY2yEu-uggQe"
      },
      "source": [
        "def loadDF(path, n_rows = None, prefix = PREFIX):\n",
        "    \"\"\" Loads the CSV data, converts it to the specified format, and splits it into training and validation sets \"\"\"\n",
        "\n",
        "    # Read the CSV file\n",
        "    df = pd.read_csv(PATH_DATA, encoding = \"utf-8\")\n",
        "\n",
        "    # Drop the NaN rows (if any)\n",
        "    df.dropna(inplace = True)\n",
        "\n",
        "    # Choose the approproate columns containing the text input and the text output\n",
        "    df = df[[\"Content\", \"Topics\"]]\n",
        "\n",
        "    # Rename the columns appropriately (dataset specific)\n",
        "    df.rename(columns={\"Content\" : \"output\", \"Topics\" : \"input\"}, inplace=True)\n",
        "\n",
        "    # Add a suitable prefix to the text input\n",
        "    df[\"input\"] = prefix + df[\"input\"]\n",
        "\n",
        "    # Truncate the dataset if specified\n",
        "    if n_rows is not None:\n",
        "        df = df.sample(n = n_rows, random_state = SEED)\n",
        "\n",
        "    # Replace newlines in the poem\n",
        "    df[\"output\"] = df[\"output\"].apply(replaceSep)\n",
        "\n",
        "    # Train-Test Split\n",
        "    df_train, df_val = tts(df, test_size = 5, random_state = SEED, shuffle = True)\n",
        "    \n",
        "    # Reset indices\n",
        "    df_train.reset_index(drop = True, inplace = True)\n",
        "    df_val.reset_index(drop = True, inplace = True)\n",
        "\n",
        "    return df, df_train, df_val"
      ],
      "execution_count": 12,
      "outputs": []
    },
    {
      "cell_type": "code",
      "metadata": {
        "id": "C0SLaw-VgkcE"
      },
      "source": [
        "def getDataLoaders(df_train, df_val, tokenizer):\n",
        "    \"\"\" Returns the torch DataLoaders for the training and validation DFs \"\"\"\n",
        "\n",
        "    # Create Datasets\n",
        "    ds_train = CustomDataset(df_train, tokenizer, INP_MAX_LEN, OUT_MAX_LEN)\n",
        "    ds_val   = CustomDataset(df_val, tokenizer, INP_MAX_LEN, OUT_MAX_LEN)\n",
        "\n",
        "    # Create Dataloaders\n",
        "    dl_train = DataLoader(ds_train, batch_size = TRAIN_BATCH_SIZE, shuffle = True, num_workers = 0)\n",
        "    dl_val   = DataLoader(ds_val, batch_size = TRAIN_BATCH_SIZE, shuffle = True, num_workers = 0)\n",
        "\n",
        "    return dl_train, dl_val"
      ],
      "execution_count": 13,
      "outputs": []
    },
    {
      "cell_type": "markdown",
      "metadata": {
        "id": "LH0lVDRBarUJ"
      },
      "source": [
        "## Train and Validate Functions"
      ]
    },
    {
      "cell_type": "code",
      "metadata": {
        "id": "KriqdJrh7-ST"
      },
      "source": [
        "def train(tokenizer, model, loader, optimizer):\n",
        "    \"\"\" A single epoch \"\"\"\n",
        "\n",
        "    model.train()\n",
        "\n",
        "    loss_batches = []\n",
        "\n",
        "    for iter, batch in enumerate(tqdm(loader)):\n",
        "\n",
        "        # Reset gradients\n",
        "        optimizer.zero_grad()\n",
        "\n",
        "        source_ids  = batch[\"source_ids\"].to(DEVICE)\n",
        "        source_mask = batch[\"source_mask\"].to(DEVICE)\n",
        "        target_mask = batch[\"target_mask\"].to(DEVICE)\n",
        "\n",
        "        labels = batch[\"target_ids\"]\n",
        "        labels[labels[:, :] == tokenizer.pad_token_id] = -100\n",
        "        labels = labels.to(DEVICE)\n",
        "\n",
        "        outputs = model(\n",
        "            input_ids = source_ids, \n",
        "            attention_mask = source_mask, \n",
        "            labels = labels,\n",
        "            decoder_attention_mask = target_mask\n",
        "        ) # Of type Seq2SeqLMOutput\n",
        "\n",
        "        loss = outputs.loss\n",
        "        \n",
        "        loss_batches.append(loss.item())\n",
        "\n",
        "        # Compute gradients\n",
        "        loss.backward()\n",
        "        \n",
        "        # Update parameters\n",
        "        optimizer.step()\n",
        "\n",
        "    # Average epoch loss:\n",
        "    avg_epoch_loss = sum(loss_batches) / len(loss_batches)\n",
        "\n",
        "    return avg_epoch_loss"
      ],
      "execution_count": 14,
      "outputs": []
    },
    {
      "cell_type": "markdown",
      "metadata": {
        "id": "90xxEL5UUkc_"
      },
      "source": [
        "## Generation"
      ]
    },
    {
      "cell_type": "markdown",
      "metadata": {
        "id": "wLiAhVsadIrD"
      },
      "source": [
        "### Sampling"
      ]
    },
    {
      "cell_type": "code",
      "metadata": {
        "id": "aBYwx88bBhig"
      },
      "source": [
        "def genSample(topics, min_length, max_length, rep_penalty = 1, temp = 1, top_k = 50, top_p = 1.0, no_repeat_ngram_size = 3, num_return_sequences = 2, already_formatted = False):\n",
        "\n",
        "    setSeed() # Required to ensure reproducibility\n",
        "\n",
        "    if not already_formatted:\n",
        "        input = PREFIX + TOPIC_SEP.join(topics)\n",
        "    else:\n",
        "        input = topics\n",
        "\n",
        "    input_ids = tokenizer(\n",
        "        input,\n",
        "        return_tensors = \"pt\"\n",
        "    ).input_ids.to(DEVICE)\n",
        "\n",
        "    model.eval()\n",
        "    with torch.no_grad():\n",
        "        output = model.generate(\n",
        "            do_sample = True,\n",
        "            input_ids = input_ids,\n",
        "            min_length = min_length,\n",
        "            max_length = max_length,\n",
        "            top_p = top_p,\n",
        "            top_k = top_k,\n",
        "            temperature = temp,\n",
        "            repetition_penalty = rep_penalty,\n",
        "            no_repeat_ngram_size = no_repeat_ngram_size, # Don't repeat any n-grams of this size\n",
        "            num_return_sequences = num_return_sequences\n",
        "        )\n",
        "\n",
        "    for i, generated_ids in enumerate(output):\n",
        "        gen = tokenizer.decode(generated_ids, skip_special_tokens = True, clean_up_tokenization_spaces = True)\n",
        "        sentences = gen.split(SENT_SEP)\n",
        "        for s in sentences:\n",
        "            print(s.strip())\n",
        "        print(\"\\n\")\n",
        "\n",
        "    return gen"
      ],
      "execution_count": 56,
      "outputs": []
    },
    {
      "cell_type": "markdown",
      "metadata": {
        "id": "_vmiLxiudK0W"
      },
      "source": [
        "### Beam Search"
      ]
    },
    {
      "cell_type": "code",
      "metadata": {
        "id": "4l5PgRV87Xpd"
      },
      "source": [
        "def genBeam(topics, min_length, max_length, rep_penalty = 1, n_beams = 2, no_repeat_ngram_size = 3, num_return_sequences = 2, already_formatted = False):\n",
        "\n",
        "    setSeed() # Required to ensure reproducibility\n",
        "\n",
        "    if not already_formatted:   \n",
        "        input = PREFIX + TOPIC_SEP.join(topics)\n",
        "    else:\n",
        "        input = topics\n",
        "\n",
        "    input_ids = tokenizer(\n",
        "        input,\n",
        "        return_tensors = \"pt\"\n",
        "    ).input_ids.to(DEVICE)\n",
        "\n",
        "    model.eval()\n",
        "    with torch.no_grad():\n",
        "        output = model.generate(\n",
        "            input_ids = input_ids,\n",
        "            min_length = min_length,\n",
        "            max_length = max_length,\n",
        "            num_beams = n_beams,\n",
        "            no_repeat_ngram_size = no_repeat_ngram_size, # Don't repeat any n-grams of this size\n",
        "            repetition_penalty = rep_penalty,\n",
        "            num_return_sequences = num_return_sequences\n",
        "        )\n",
        "\n",
        "    for generated_ids in output:\n",
        "        gen = tokenizer.decode(generated_ids, skip_special_tokens = True, clean_up_tokenization_spaces = True)\n",
        "        sentences = gen.split(SENT_SEP)\n",
        "        for s in sentences:\n",
        "            print(s.strip())\n",
        "        print(\"\\n\")\n",
        "\n",
        "    return gen"
      ],
      "execution_count": 67,
      "outputs": []
    },
    {
      "cell_type": "markdown",
      "metadata": {
        "id": "HNuoht-9bVw0"
      },
      "source": [
        "## Main"
      ]
    },
    {
      "cell_type": "markdown",
      "metadata": {
        "id": "cRIsPv8FYK67"
      },
      "source": [
        "### Tokenizer"
      ]
    },
    {
      "cell_type": "code",
      "metadata": {
        "id": "ZtECaqjG9K6R",
        "colab": {
          "base_uri": "https://localhost:8080/",
          "height": 0,
          "referenced_widgets": [
            "3fa8835607d7479bb8e4a03f2103b7ee",
            "97bb1f98699a406da0d3e59ecd68212e",
            "cd4abbdda98943d4b1b022e171d8d4b2",
            "6e92230734524debb8448913cfae0dad",
            "f3cf37e738bd439092ece9eb83d799ed",
            "49e1f0844993422ba7c9484d29027d3d",
            "372269d383a94b9f94834e4ed42da08c",
            "a714784b8f1b4654a1ea1e690ba91e5e",
            "0c521e0e0abc4b349ef655574ed39fda",
            "5503b4bb8c8b4dd49ef2e0a76d10c6b4",
            "734100c056cb4175a37cafd3d9f31e71",
            "f5df0881875046d7a25f286bab3e59de",
            "9b19266ad3084fa4883fffba9900a821",
            "ee88e5db9ecc4f608d240dd6e7f39e5d",
            "84baf40637604d7c96cbcef911ef0d65",
            "ae1e98e6ff95417887968f9464bfcd26"
          ]
        },
        "outputId": "9e31af21-c6f5-4e63-f804-fcf5c45a6c61"
      },
      "source": [
        "# T5's Tokenzier for encoding the text\n",
        "tokenizer = T5Tokenizer.from_pretrained(MODEL_NAME)"
      ],
      "execution_count": 17,
      "outputs": [
        {
          "output_type": "display_data",
          "data": {
            "application/vnd.jupyter.widget-view+json": {
              "model_id": "3fa8835607d7479bb8e4a03f2103b7ee",
              "version_minor": 0,
              "version_major": 2
            },
            "text/plain": [
              "HBox(children=(FloatProgress(value=0.0, description='Downloading', max=791656.0, style=ProgressStyle(descripti…"
            ]
          },
          "metadata": {
            "tags": []
          }
        },
        {
          "output_type": "stream",
          "text": [
            "\n"
          ],
          "name": "stdout"
        },
        {
          "output_type": "display_data",
          "data": {
            "application/vnd.jupyter.widget-view+json": {
              "model_id": "0c521e0e0abc4b349ef655574ed39fda",
              "version_minor": 0,
              "version_major": 2
            },
            "text/plain": [
              "HBox(children=(FloatProgress(value=0.0, description='Downloading', max=1389353.0, style=ProgressStyle(descript…"
            ]
          },
          "metadata": {
            "tags": []
          }
        },
        {
          "output_type": "stream",
          "text": [
            "\n"
          ],
          "name": "stdout"
        }
      ]
    },
    {
      "cell_type": "code",
      "metadata": {
        "colab": {
          "base_uri": "https://localhost:8080/"
        },
        "id": "J23F64UIYMyG",
        "outputId": "a90180f7-5fe4-4740-ff41-622a4f4e1dfa"
      },
      "source": [
        "example_text = \"Far far away, behind the word mountains, far from the countries Vokalia and Consonantia, there live the blind texts.\\nFar far away, behind the word mountains, far from the countries Vokalia and Consonantia, there live the blind texts\"\n",
        "example_input_ids = tokenizer(\n",
        "    example_text,\n",
        "    return_tensors = \"pt\"\n",
        ").input_ids[0]\n",
        "print(len(example_input_ids))\n",
        "example_decoded = [tokenizer.decode(i, skip_special_tokens = True, clean_up_tokenization_spaces = True) for i in example_input_ids]\n",
        "print(example_decoded)"
      ],
      "execution_count": 18,
      "outputs": [
        {
          "output_type": "stream",
          "text": [
            "56\n",
            "['Far', 'far', 'away', ',', 'behind', 'the', 'word', 'mountains', ',', 'far', 'from', 'the', 'countries', 'Vo', 'k', 'alia', 'and', 'Cons', 'on', 'anti', 'a', ',', 'there', 'live', 'the', 'blind', 'texts', '.', 'Far', 'far', 'away', ',', 'behind', 'the', 'word', 'mountains', ',', 'far', 'from', 'the', 'countries', 'Vo', 'k', 'alia', 'and', 'Cons', 'on', 'anti', 'a', ',', 'there', 'live', 'the', 'blind', 'texts', '</s>']\n"
          ],
          "name": "stdout"
        }
      ]
    },
    {
      "cell_type": "markdown",
      "metadata": {
        "id": "Ad5BHSxYhRYn"
      },
      "source": [
        "### Loading the Data"
      ]
    },
    {
      "cell_type": "code",
      "metadata": {
        "colab": {
          "base_uri": "https://localhost:8080/"
        },
        "id": "M0PVHWdkdb-t",
        "outputId": "86b7975d-21d8-4117-e6a0-da7d0ff94f65"
      },
      "source": [
        "df, df_train, df_val = loadDF(PATH_DATA, prefix = PREFIX)\n",
        "print(len(df), len(df_train), len(df_val))"
      ],
      "execution_count": 19,
      "outputs": [
        {
          "output_type": "stream",
          "text": [
            "566 561 5\n"
          ],
          "name": "stdout"
        }
      ]
    },
    {
      "cell_type": "code",
      "metadata": {
        "colab": {
          "base_uri": "https://localhost:8080/",
          "height": 402
        },
        "id": "8sWEt8WjwcG5",
        "outputId": "c6f75880-d302-4309-a9ae-f6bb8103c3ce"
      },
      "source": [
        "display(df)"
      ],
      "execution_count": 20,
      "outputs": [
        {
          "output_type": "display_data",
          "data": {
            "text/html": [
              "<div>\n",
              "<style scoped>\n",
              "    .dataframe tbody tr th:only-of-type {\n",
              "        vertical-align: middle;\n",
              "    }\n",
              "\n",
              "    .dataframe tbody tr th {\n",
              "        vertical-align: top;\n",
              "    }\n",
              "\n",
              "    .dataframe thead th {\n",
              "        text-align: right;\n",
              "    }\n",
              "</style>\n",
              "<table border=\"1\" class=\"dataframe\">\n",
              "  <thead>\n",
              "    <tr style=\"text-align: right;\">\n",
              "      <th></th>\n",
              "      <th>output</th>\n",
              "      <th>input</th>\n",
              "    </tr>\n",
              "  </thead>\n",
              "  <tbody>\n",
              "    <tr>\n",
              "      <th>0</th>\n",
              "      <td>Deep on the convent-roof the snows|Are sparkli...</td>\n",
              "      <td>poemify: heaven bursts, earthly spark, spirit ...</td>\n",
              "    </tr>\n",
              "    <tr>\n",
              "      <th>1</th>\n",
              "      <td>Where Claribel low-lieth|The breezes pause and...</td>\n",
              "      <td>poemify: thicket lone, wave outwelleth, throst...</td>\n",
              "    </tr>\n",
              "    <tr>\n",
              "      <th>2</th>\n",
              "      <td>You ask me, why, tho' ill at ease,|Within this...</td>\n",
              "      <td>poemify: sober-suited freedom, individual free...</td>\n",
              "    </tr>\n",
              "    <tr>\n",
              "      <th>3</th>\n",
              "      <td>Break, break, break,|On thy cold gray stones, ...</td>\n",
              "      <td>poemify: vanished hand, stately ships, sailor ...</td>\n",
              "    </tr>\n",
              "    <tr>\n",
              "      <th>4</th>\n",
              "      <td>Light, so low upon earth,|You send a flash to ...</td>\n",
              "      <td>poemify: kind, world, wooing, woods, wood, val...</td>\n",
              "    </tr>\n",
              "    <tr>\n",
              "      <th>...</th>\n",
              "      <td>...</td>\n",
              "      <td>...</td>\n",
              "    </tr>\n",
              "    <tr>\n",
              "      <th>561</th>\n",
              "      <td>A poet!|-He hath put his heart to school,|Nor ...</td>\n",
              "      <td>poemify: divine vitality, hand-must laugh, sta...</td>\n",
              "    </tr>\n",
              "    <tr>\n",
              "      <th>562</th>\n",
              "      <td>At the corner of Wood Street, when daylight ap...</td>\n",
              "      <td>poemify: wood street, small cottage, mountain ...</td>\n",
              "    </tr>\n",
              "    <tr>\n",
              "      <th>563</th>\n",
              "      <td>Once did She hold the gorgeous east in fee;|An...</td>\n",
              "      <td>poemify: gorgeous east, strength decay, maiden...</td>\n",
              "    </tr>\n",
              "    <tr>\n",
              "      <th>564</th>\n",
              "      <td>Surprised by joy-impatient as the Wind|I turne...</td>\n",
              "      <td>poemify: grievous loss, worst pang, face resto...</td>\n",
              "    </tr>\n",
              "    <tr>\n",
              "      <th>565</th>\n",
              "      <td>Most sweet it is with unuplifted eyes|To pace ...</td>\n",
              "      <td>poemify: happy tone, ideal scene, internal hea...</td>\n",
              "    </tr>\n",
              "  </tbody>\n",
              "</table>\n",
              "<p>566 rows × 2 columns</p>\n",
              "</div>"
            ],
            "text/plain": [
              "                                                output                                              input\n",
              "0    Deep on the convent-roof the snows|Are sparkli...  poemify: heaven bursts, earthly spark, spirit ...\n",
              "1    Where Claribel low-lieth|The breezes pause and...  poemify: thicket lone, wave outwelleth, throst...\n",
              "2    You ask me, why, tho' ill at ease,|Within this...  poemify: sober-suited freedom, individual free...\n",
              "3    Break, break, break,|On thy cold gray stones, ...  poemify: vanished hand, stately ships, sailor ...\n",
              "4    Light, so low upon earth,|You send a flash to ...  poemify: kind, world, wooing, woods, wood, val...\n",
              "..                                                 ...                                                ...\n",
              "561  A poet!|-He hath put his heart to school,|Nor ...  poemify: divine vitality, hand-must laugh, sta...\n",
              "562  At the corner of Wood Street, when daylight ap...  poemify: wood street, small cottage, mountain ...\n",
              "563  Once did She hold the gorgeous east in fee;|An...  poemify: gorgeous east, strength decay, maiden...\n",
              "564  Surprised by joy-impatient as the Wind|I turne...  poemify: grievous loss, worst pang, face resto...\n",
              "565  Most sweet it is with unuplifted eyes|To pace ...  poemify: happy tone, ideal scene, internal hea...\n",
              "\n",
              "[566 rows x 2 columns]"
            ]
          },
          "metadata": {
            "tags": []
          }
        }
      ]
    },
    {
      "cell_type": "code",
      "metadata": {
        "id": "ib-Ry03k9d4K",
        "colab": {
          "base_uri": "https://localhost:8080/"
        },
        "outputId": "8144b9ed-ee9b-467c-914b-eea85959abb3"
      },
      "source": [
        "dl_train, dl_val = getDataLoaders(df_train, df_val, tokenizer)\n",
        "print(len(dl_train), len(dl_val))"
      ],
      "execution_count": 21,
      "outputs": [
        {
          "output_type": "stream",
          "text": [
            "141 2\n"
          ],
          "name": "stdout"
        }
      ]
    },
    {
      "cell_type": "code",
      "metadata": {
        "id": "R4xpJDvqPCad"
      },
      "source": [
        "def countTokens(text):\n",
        "    input_ids = tokenizer(\n",
        "        text,\n",
        "        return_tensors = \"pt\"\n",
        "    ).input_ids[0]\n",
        "    return len(input_ids)"
      ],
      "execution_count": 22,
      "outputs": []
    },
    {
      "cell_type": "code",
      "metadata": {
        "id": "dPRVLM6vPS5u"
      },
      "source": [
        "df[\"input_length\"] = df[\"input\"].apply(countTokens)\n",
        "df[\"output_length\"] = df[\"output\"].apply(countTokens)"
      ],
      "execution_count": 23,
      "outputs": []
    },
    {
      "cell_type": "code",
      "metadata": {
        "colab": {
          "base_uri": "https://localhost:8080/"
        },
        "id": "vn_0K7T6Phah",
        "outputId": "222bc418-948d-433d-9a8d-6ad0d4ce563e"
      },
      "source": [
        "# Use this to select INP_MAX_LEN and OUT_MAX_LEN\n",
        "print(\"Input Length (in tokens) Statistics\")\n",
        "print(df[\"input_length\"].describe())\n",
        "print()\n",
        "print(\"Output Length (in tokens) Statistics\")\n",
        "print(df[\"output_length\"].describe())"
      ],
      "execution_count": 24,
      "outputs": [
        {
          "output_type": "stream",
          "text": [
            "Input Length (in tokens) Statistics\n",
            "count    566.000000\n",
            "mean      39.888693\n",
            "std       11.653097\n",
            "min       13.000000\n",
            "25%       32.000000\n",
            "50%       38.000000\n",
            "75%       47.000000\n",
            "max       99.000000\n",
            "Name: input_length, dtype: float64\n",
            "\n",
            "Output Length (in tokens) Statistics\n",
            "count    566.000000\n",
            "mean     227.335689\n",
            "std       91.572808\n",
            "min       73.000000\n",
            "25%      166.000000\n",
            "50%      201.000000\n",
            "75%      287.000000\n",
            "max      497.000000\n",
            "Name: output_length, dtype: float64\n"
          ],
          "name": "stdout"
        }
      ]
    },
    {
      "cell_type": "markdown",
      "metadata": {
        "id": "IJ_eZh1Pb6PX"
      },
      "source": [
        "### Loading the Model"
      ]
    },
    {
      "cell_type": "code",
      "metadata": {
        "id": "dzmQMOyK9loF",
        "colab": {
          "base_uri": "https://localhost:8080/",
          "height": 0,
          "referenced_widgets": [
            "9f19c1472e1d425f878084e8df1b1975",
            "1eb2c663a05345a4a1ebd16c4dc1a63d",
            "fd7eb56fc543467cbc63f24d2d83a7ee",
            "d08813340e674f9899b5f088889abea6",
            "52972982e76f41bb8d1fbc2d34bf6010",
            "8b26fc6262a346aab79c60ffaceb2517",
            "278ad71c5c9c4719bebff6c8c3418607",
            "da9c54fe71724f2caf3515656045b13f",
            "1451fd83e19f4f698276a772ad82ec70",
            "9f76ea94e5eb42ed9867bbefe89b6c42",
            "36753a225462478db53ea80870820398",
            "2abc00cad9264d809c23a662ed882ebf",
            "127229a28968483a9378ff913134cf4b",
            "0a1df199f48644988a9f769f2ecf2768",
            "ab87636a869540f1ae5a8bbd8b7eb15c",
            "ae9a4cc531e8400eb3aaf21543823626"
          ]
        },
        "outputId": "76d2a0f3-4605-4e21-e516-af9fee21c1e4"
      },
      "source": [
        "model = T5ForConditionalGeneration.from_pretrained(MODEL_NAME)\n",
        "model = model.to(DEVICE)"
      ],
      "execution_count": 25,
      "outputs": [
        {
          "output_type": "display_data",
          "data": {
            "application/vnd.jupyter.widget-view+json": {
              "model_id": "9f19c1472e1d425f878084e8df1b1975",
              "version_minor": 0,
              "version_major": 2
            },
            "text/plain": [
              "HBox(children=(FloatProgress(value=0.0, description='Downloading', max=1199.0, style=ProgressStyle(description…"
            ]
          },
          "metadata": {
            "tags": []
          }
        },
        {
          "output_type": "stream",
          "text": [
            "\n"
          ],
          "name": "stdout"
        },
        {
          "output_type": "display_data",
          "data": {
            "application/vnd.jupyter.widget-view+json": {
              "model_id": "1451fd83e19f4f698276a772ad82ec70",
              "version_minor": 0,
              "version_major": 2
            },
            "text/plain": [
              "HBox(children=(FloatProgress(value=0.0, description='Downloading', max=891691430.0, style=ProgressStyle(descri…"
            ]
          },
          "metadata": {
            "tags": []
          }
        },
        {
          "output_type": "stream",
          "text": [
            "\n"
          ],
          "name": "stdout"
        }
      ]
    },
    {
      "cell_type": "code",
      "metadata": {
        "colab": {
          "base_uri": "https://localhost:8080/"
        },
        "id": "AFVcPJ5pkLeS",
        "outputId": "2b7cf5ff-0909-400e-c37b-0220e18944ef"
      },
      "source": [
        "p_train, p_frozen = countParameters(model)\n",
        "print(f\"The model has {p_train:,} trainable and {p_frozen:,} frozen parameters\")"
      ],
      "execution_count": 26,
      "outputs": [
        {
          "output_type": "stream",
          "text": [
            "The model has 222,903,552 trainable and 0 frozen parameters\n"
          ],
          "name": "stdout"
        }
      ]
    },
    {
      "cell_type": "markdown",
      "metadata": {
        "id": "fCqxnQ53b88I"
      },
      "source": [
        "### Optimization"
      ]
    },
    {
      "cell_type": "code",
      "metadata": {
        "id": "JcjV5lqi9o47"
      },
      "source": [
        "optimizer = Adafactor(\n",
        "    params = model.parameters(),\n",
        "    lr = LR,\n",
        "    scale_parameter = False,\n",
        "    relative_step = False\n",
        ")"
      ],
      "execution_count": 27,
      "outputs": []
    },
    {
      "cell_type": "code",
      "metadata": {
        "colab": {
          "base_uri": "https://localhost:8080/",
          "height": 757,
          "referenced_widgets": [
            "23b2c17f8d0a4d53abae06eab999195d",
            "d5b7434b44a44a00a9858519699a09cc",
            "9253ad983c9e4c8b9de8dd8b700efbef",
            "cd9239875c424cc4a41920dfbdb86339",
            "80a13bf9cb5d4d60815951f6a954c252",
            "b36a9c0832044edb91186ca394c77a54",
            "169f53d06c1348ef9c5eb27ffa65ca9b",
            "5c9d25d6c94849d8ae1ac30eeb06a716",
            "1290a7dca5624705b44572091835ba4e",
            "407837c5f0ca4c0690b7a230f982d356",
            "5fff095c648b4927978c4fe3bcf711fd",
            "0584559b32304f3fafc6d4d264986a44",
            "5fd241f3f660413bb7b9b58b6972a5e0",
            "16dc72a86b964298800f8d9f65d1eac3",
            "ff4d3d367386409e971ded2af4b62e79",
            "d8e4ed2884004ddfb812991d5bffcec7",
            "f73a14fb33bd43b6a2634127ab15444e",
            "2f32f909ec314a8a8db1587e190e29e3",
            "a3c3ea4c4e6341fda0a76bedec56927f",
            "9ab15658d00b4509b53ce518f66438be",
            "83e6af240c9e419286098fb44af1e09f",
            "50e018d2d3c844389267c368bec0316f",
            "411cc8b5a0e441b099a72f4147dded18",
            "35931f1d79c940b7b87a453aad259bcc",
            "1aca734e67754d13871b3ced4f8e9593",
            "12af7d30a7b546799c00641f411a6d01",
            "73d1bd6fdbd5433aabc438f9666f5c71",
            "a191473b148949ccb3e9de13aeeb10b1",
            "643e43730c3b483198be7e129e37af41",
            "bcab0cf0b30744a19120a033bacd1857",
            "799dd9c019064e2da5cc15bd4d9f48ba",
            "5dd4bdc45f0549d4bc76fd336948da8f",
            "ad3cb9834ddd46548816f948e9541155",
            "d07a0f7362fa42f1ada36ddbec684d74",
            "6404d2f0dd204107bc97e90f8451ef65",
            "a28ce182f1d44b3e8c36a251a93a3604",
            "72ed2504d526419c91d9bd22087dd365",
            "e551ed9926e940d08d6fd1c9ab12f598",
            "fa97dd020ba347f6a5a400c02a181bb6",
            "49d4b4e1f8df4fa18515622d54d13730",
            "8d125c82b1e846549e85b992387bccbe",
            "bbfd1f950a7f4c7bbd71b542d633ae07",
            "2512ba7b30514459804a6fa03abead09",
            "d35d6376c7164f50857fd676d32a7544",
            "462d8b68e0f64516994439453d1df65b",
            "f1c717ecc1af4b07b9893849984b6de6",
            "fa805ee4313740da9814ea9e7d37cf92",
            "83b25e926ee845f2b300a49ac36438c9",
            "a9bc230dc8744d48aacc7a9db3956eae",
            "2dfba0ccfe60456badde37c1eebbb84e",
            "3bb455fdc3774bcf8ff8136815e46322",
            "deb88013a1d3496882e7bce43839f3cf",
            "6eb5fa58072a43479fd8a8740e6a8a38",
            "1f1e6a8ea202480daff24c68eefb9c27",
            "3420bc02b0974e95bf87a7ebd3a1a16c",
            "bc44af02e1ee494ab9b5b3564ffedf5a",
            "16620487a40048bb8d22158427ffb0cd",
            "73146411e67241b7b7c8e1c0553efbe5",
            "fa087c1bcfca4195be5cc18625eaa530",
            "45f581f0678b4dd4bbaafbf5bc3addf6",
            "1b09d1bb78c34fe9ba566faf7bb7a265",
            "87411e2041a3481ea5fe68589d564603",
            "3d8e972f852a4d958d4857c7276a3c96",
            "abc37497b6de41f3b9aafc297a254a68",
            "85ae640b60694ad49b382218ab1efd36",
            "5391efa29bca4a32a95867d30eac9075",
            "27132f6a692849e995b8b516530021f5",
            "ad33016210494e7b80eee5201deb75a4",
            "0ec10d22fa5c49b89dd37018388043a5",
            "459bc995fc4d4a5d9940833908f8036a",
            "75bd1f906bea4dfe89c5a8ac58a068f7",
            "ccc3d2b958fe47c2b2529f88cab9471b",
            "6dd0bddf414440ac9887c0447e9f1bd3",
            "63739f3702784704b29f0e0ce73ada0b",
            "60fd915f7ac248e5827e8f6e37c07b51",
            "3fd855a1ec5246e9a9a9195223be3a8e",
            "0d7c736c655145929f17fca2f6f1e00f",
            "aaa46437c23847149fd0c4d9e301f7d4",
            "15e9315c817944609fb4988d2b62d96d",
            "64d316f3bb9b4b768e4bb363bdeedf94"
          ]
        },
        "id": "kQZzlebv9te6",
        "outputId": "7b8289d7-6c65-4607-8c16-8ce12adc867c"
      },
      "source": [
        "losses = []\n",
        "for e in range(N_EPOCHS):\n",
        "    print(f\"Epoch {e+1}/{N_EPOCHS}\")\n",
        "    loss_epoch = train(tokenizer, model, dl_train, optimizer)\n",
        "    losses.append(loss_epoch)"
      ],
      "execution_count": 28,
      "outputs": [
        {
          "output_type": "stream",
          "text": [
            "Epoch 1/10\n"
          ],
          "name": "stdout"
        },
        {
          "output_type": "display_data",
          "data": {
            "application/vnd.jupyter.widget-view+json": {
              "model_id": "23b2c17f8d0a4d53abae06eab999195d",
              "version_minor": 0,
              "version_major": 2
            },
            "text/plain": [
              "HBox(children=(FloatProgress(value=0.0, max=141.0), HTML(value='')))"
            ]
          },
          "metadata": {
            "tags": []
          }
        },
        {
          "output_type": "stream",
          "text": [
            "/usr/local/lib/python3.7/dist-packages/transformers/optimization.py:562: UserWarning: This overload of add_ is deprecated:\n",
            "\tadd_(Number alpha, Tensor other)\n",
            "Consider using one of the following signatures instead:\n",
            "\tadd_(Tensor other, *, Number alpha) (Triggered internally at  /pytorch/torch/csrc/utils/python_arg_parser.cpp:1005.)\n",
            "  exp_avg_sq_row.mul_(beta2t).add_(1.0 - beta2t, update.mean(dim=-1))\n"
          ],
          "name": "stderr"
        },
        {
          "output_type": "stream",
          "text": [
            "\n",
            "Epoch 2/10\n"
          ],
          "name": "stdout"
        },
        {
          "output_type": "display_data",
          "data": {
            "application/vnd.jupyter.widget-view+json": {
              "model_id": "1290a7dca5624705b44572091835ba4e",
              "version_minor": 0,
              "version_major": 2
            },
            "text/plain": [
              "HBox(children=(FloatProgress(value=0.0, max=141.0), HTML(value='')))"
            ]
          },
          "metadata": {
            "tags": []
          }
        },
        {
          "output_type": "stream",
          "text": [
            "\n",
            "Epoch 3/10\n"
          ],
          "name": "stdout"
        },
        {
          "output_type": "display_data",
          "data": {
            "application/vnd.jupyter.widget-view+json": {
              "model_id": "f73a14fb33bd43b6a2634127ab15444e",
              "version_minor": 0,
              "version_major": 2
            },
            "text/plain": [
              "HBox(children=(FloatProgress(value=0.0, max=141.0), HTML(value='')))"
            ]
          },
          "metadata": {
            "tags": []
          }
        },
        {
          "output_type": "stream",
          "text": [
            "\n",
            "Epoch 4/10\n"
          ],
          "name": "stdout"
        },
        {
          "output_type": "display_data",
          "data": {
            "application/vnd.jupyter.widget-view+json": {
              "model_id": "1aca734e67754d13871b3ced4f8e9593",
              "version_minor": 0,
              "version_major": 2
            },
            "text/plain": [
              "HBox(children=(FloatProgress(value=0.0, max=141.0), HTML(value='')))"
            ]
          },
          "metadata": {
            "tags": []
          }
        },
        {
          "output_type": "stream",
          "text": [
            "\n",
            "Epoch 5/10\n"
          ],
          "name": "stdout"
        },
        {
          "output_type": "display_data",
          "data": {
            "application/vnd.jupyter.widget-view+json": {
              "model_id": "ad3cb9834ddd46548816f948e9541155",
              "version_minor": 0,
              "version_major": 2
            },
            "text/plain": [
              "HBox(children=(FloatProgress(value=0.0, max=141.0), HTML(value='')))"
            ]
          },
          "metadata": {
            "tags": []
          }
        },
        {
          "output_type": "stream",
          "text": [
            "\n",
            "Epoch 6/10\n"
          ],
          "name": "stdout"
        },
        {
          "output_type": "display_data",
          "data": {
            "application/vnd.jupyter.widget-view+json": {
              "model_id": "8d125c82b1e846549e85b992387bccbe",
              "version_minor": 0,
              "version_major": 2
            },
            "text/plain": [
              "HBox(children=(FloatProgress(value=0.0, max=141.0), HTML(value='')))"
            ]
          },
          "metadata": {
            "tags": []
          }
        },
        {
          "output_type": "stream",
          "text": [
            "\n",
            "Epoch 7/10\n"
          ],
          "name": "stdout"
        },
        {
          "output_type": "display_data",
          "data": {
            "application/vnd.jupyter.widget-view+json": {
              "model_id": "a9bc230dc8744d48aacc7a9db3956eae",
              "version_minor": 0,
              "version_major": 2
            },
            "text/plain": [
              "HBox(children=(FloatProgress(value=0.0, max=141.0), HTML(value='')))"
            ]
          },
          "metadata": {
            "tags": []
          }
        },
        {
          "output_type": "stream",
          "text": [
            "\n",
            "Epoch 8/10\n"
          ],
          "name": "stdout"
        },
        {
          "output_type": "display_data",
          "data": {
            "application/vnd.jupyter.widget-view+json": {
              "model_id": "16620487a40048bb8d22158427ffb0cd",
              "version_minor": 0,
              "version_major": 2
            },
            "text/plain": [
              "HBox(children=(FloatProgress(value=0.0, max=141.0), HTML(value='')))"
            ]
          },
          "metadata": {
            "tags": []
          }
        },
        {
          "output_type": "stream",
          "text": [
            "\n",
            "Epoch 9/10\n"
          ],
          "name": "stdout"
        },
        {
          "output_type": "display_data",
          "data": {
            "application/vnd.jupyter.widget-view+json": {
              "model_id": "85ae640b60694ad49b382218ab1efd36",
              "version_minor": 0,
              "version_major": 2
            },
            "text/plain": [
              "HBox(children=(FloatProgress(value=0.0, max=141.0), HTML(value='')))"
            ]
          },
          "metadata": {
            "tags": []
          }
        },
        {
          "output_type": "stream",
          "text": [
            "\n",
            "Epoch 10/10\n"
          ],
          "name": "stdout"
        },
        {
          "output_type": "display_data",
          "data": {
            "application/vnd.jupyter.widget-view+json": {
              "model_id": "6dd0bddf414440ac9887c0447e9f1bd3",
              "version_minor": 0,
              "version_major": 2
            },
            "text/plain": [
              "HBox(children=(FloatProgress(value=0.0, max=141.0), HTML(value='')))"
            ]
          },
          "metadata": {
            "tags": []
          }
        },
        {
          "output_type": "stream",
          "text": [
            "\n"
          ],
          "name": "stdout"
        }
      ]
    },
    {
      "cell_type": "code",
      "metadata": {
        "colab": {
          "base_uri": "https://localhost:8080/",
          "height": 265
        },
        "id": "EJ3NFbCoUcNZ",
        "outputId": "0a72352f-b2c1-4426-8171-8f4d10799172"
      },
      "source": [
        "plt.plot(range(len(losses)), losses)\n",
        "plt.show()"
      ],
      "execution_count": 29,
      "outputs": [
        {
          "output_type": "display_data",
          "data": {
            "image/png": "[encoded data removed]",
            "text/plain": [
              "<Figure size 432x288 with 1 Axes>"
            ]
          },
          "metadata": {
            "tags": [],
            "needs_background": "light"
          }
        }
      ]
    },
    {
      "cell_type": "markdown",
      "metadata": {
        "id": "fZc6moatsfz7"
      },
      "source": [
        "### Generation"
      ]
    },
    {
      "cell_type": "code",
      "metadata": {
        "colab": {
          "base_uri": "https://localhost:8080/"
        },
        "id": "HoC9xpwTaHtU",
        "outputId": "ec5f8d41-5c7e-4230-c8b9-a708afa7993d"
      },
      "source": [
        "val_list = df_val[\"input\"].tolist()\n",
        "for inp in val_list:\n",
        "    print(f\"Input: {inp}\")\n",
        "    genSample(\n",
        "        topics = inp, \n",
        "        min_length = 0, \n",
        "        max_length = 500, \n",
        "        rep_penalty = 1.3, \n",
        "        temp = 0.9, \n",
        "        top_k = 50,\n",
        "        top_p = 0.95,\n",
        "        no_repeat_ngram_size = 3,\n",
        "        num_return_sequences = 1,\n",
        "        already_formatted = True\n",
        "    )\n",
        "    print(\"\\n\\n\")"
      ],
      "execution_count": 78,
      "outputs": [
        {
          "output_type": "stream",
          "text": [
            "Input: poemify: heroic wealth, cheerful godliness, selfish men, lowliest duties, naked heavens, stagnant waters, english dower\n",
            "The God of love, who made thee\n",
            "Of himself a little selfish men, created\n",
            "In that first meeting of heaven and earth;\n",
            "And now these fallen trees in England dower.\n",
            "These trees which lack vitality have not grown long,\n",
            "And stagnant waters bring us pain:\n",
            "This land of immortality does suffer but decay;\n",
            "The manhood gives rise to bear,\n",
            "The angels complain,\n",
            "\"But still we must strive for higher things.\"\n",
            "Everyone will agree,\n",
            "One answer shall speak English dower;\n",
            "What will the youth take or should be?\n",
            "Or is it that all human need be;\n",
            "Who are they therefore to bear\n",
            "For such heroic wealth so scarcely,\n",
            "Nor ever with patience keep pace with stagnant water;\n",
            "They shall make naked heavens again,\n",
            "Red Roofs and roofs from ceilings!\n",
            "If they were not themselves, then they would die\n",
            "\n",
            "\n",
            "\n",
            "\n",
            "\n",
            "Input: poemify: watered shoot, thickset fruit, singing bird, silver grapes, silver fleurs-de-lys, purple dyes, halcyon sea, vair, silk, rainbow, pomegranates, peacocks, paddles, nest, life\n",
            "O sweet and low of the halcyon sea,\n",
            "Golden grapes with purple dyes on each leaf;\n",
            "And sweeter than all the other flowers!\n",
            "Drip out the nest, open the doors,\n",
            "Or split the shells in half-a-half.\n",
            "The silver blossoms-de-lys\n",
            "Each one for the little flower;\n",
            "An angel's pear and blue blood:\n",
            "A singing bird, an angel'll feed.\n",
            "Chocolate spring and fall\n",
            "On the golden apples on the leaves;\n",
            "Silver blossoms are yellow in the autumn breezes;\n",
            "The purple dyed orange seeds\n",
            "\n",
            "\n",
            "\n",
            "\n",
            "\n",
            "Input: poemify: grief lay, wild sparkles, sepulchral urn, heavy heart, hair beneath, ashen greyness, solemnly, scorn\n",
            "The hunter came down in yonder wood,\n",
            "And the heavy heart was found beneath it;\n",
            "But love and life and caroling were everywhere;\n",
            "And love and hate and sin were everywhere.\n",
            "Let there be beauty and commerce,\n",
            "Lest it invade our earth?\n",
            "Sepulchral urn is found near;\n",
            "Lightly glides to the light;\n",
            "Not solaceless ashen greyness, nor wild sparkles:\n",
            "There shall the needful decay come before!\n",
            "Lo, all must grieve lay beneath it.\n",
            "Look! Wherefore I see no gravemorrow\n",
            "The land of despair lay undefiled,\n",
            "Fetter-fires that are not solemnly.\n",
            "Men under such circumstances doth leave\n",
            "Their own grief lay\n",
            "\n",
            "\n",
            "\n",
            "\n",
            "\n",
            "Input: poemify: kindly, death, visible, tippet, swelling, shorter, setting, school, scarcely, roof, ring\n",
            "The sun was blue, and the moon was white;\n",
            "The stars were green, but not brown,\n",
            "Not visible from the tippet,\n",
            "Nor measles were curled up in blood,\n",
            "But all seemed to be spitting away\n",
            "And so much of an interest in school.\n",
            "'Maybe it some day there\n",
            "Someday I'll go back with that which I loved\n",
            "(If Death had shown any interest)\n",
            "Always shorter than his peers!\n",
            "Yesternight this roof was seen,\n",
            "perhaps because I couldn't see it shined out-\n",
            "Or is shorter than the leaves too long ago:\n",
            "By the bell was set low,\n",
            "And therefore my love would look on me more,\n",
            "Their name might have been cut short\n",
            "\n",
            "\n",
            "\n",
            "\n",
            "\n",
            "Input: poemify: violent ways, tightened bow, peaceful, natural, misery, kind, fire, beauty\n",
            "There is a peace in the night,\n",
            "And of course, there is peace in nature.\n",
            "When we are kind and fair,\n",
            "We must be careful not with fire:\n",
            "If in our country there is none misery\n",
            "Therefore we can find peace in Nature's bush;\n",
            "If by some peaceful means we shall be freed from violence\n",
            "\n",
            "\n",
            "\n",
            "\n",
            "\n"
          ],
          "name": "stdout"
        }
      ]
    },
    {
      "cell_type": "code",
      "metadata": {
        "colab": {
          "base_uri": "https://localhost:8080/"
        },
        "id": "78USUcgzwhMJ",
        "outputId": "b75e240f-52be-4547-b15e-fa12d0f757b7"
      },
      "source": [
        "# Generate using Beam Search (usually very repetetive)\n",
        "for inp in val_list:\n",
        "    print(f\"Input: {inp}\")\n",
        "    genBeam(\n",
        "        topics = inp,\n",
        "        min_length = 0,\n",
        "        max_length = 500,\n",
        "        rep_penalty = 1.5, \n",
        "        n_beams = 2,\n",
        "        no_repeat_ngram_size = 3, \n",
        "        num_return_sequences = 1,\n",
        "        already_formatted = True\n",
        "    )\n",
        "    print(\"\\n\\n\")"
      ],
      "execution_count": 58,
      "outputs": [
        {
          "output_type": "stream",
          "text": [
            "Input: poemify: heroic wealth, cheerful godliness, selfish men, lowliest duties, naked heavens, stagnant waters, english dower\n",
            "English dowers, proud men of high and lowliest duties,\n",
            "Self-gathered in heroic wealth and cheerful godliness,\n",
            "And naked heavens filled with stagnant waters;\n",
            "The selfish men of England dower and lilies,\n",
            "The cynical men of God, who make the most of themselves\n",
            "In their own right hands. They know not well how to cast their money away;\n",
            "But they know that they have not the highest duty to show\n",
            "That they have the highest regard for highliest duties:\n",
            "They understand not well the needful men,\n",
            "Nor dare to cast his money away.\n",
            "Then they shall be freed from their own blood,\n",
            "Their own selfish men, their own waste of breath,\n",
            "Men who make their living on earth,\n",
            "Hath taken the highest part of mankind\n",
            "\n",
            "\n",
            "\n",
            "Input: poemify: watered shoot, thickset fruit, singing bird, silver grapes, silver fleurs-de-lys, purple dyes, halcyon sea, vair, silk, rainbow, pomegranates, peacocks, paddles, nest, life\n",
            "O pomegranates, I'm all alone in this vair,\n",
            "And there's a singing bird in my life,\n",
            "Who makes the silver grapes look golden in the purple dyes\n",
            "Of the halcyon sea, and the peacocks in the silk.\n",
            "I've had them both before and have been\n",
            "By the silver fleurs-de-lys, and by the summer moonbeams.\n",
            "And I've loved them all my life;\n",
            "And now I'll look for them all the year.\n",
            "Ain't been aint not one, but two\n",
            "\n",
            "\n",
            "\n",
            "Input: poemify: grief lay, wild sparkles, sepulchral urn, heavy heart, hair beneath, ashen greyness, solemnly, scorn\n",
            "I heard a Sepulchral Urn\n",
            "Where wild sparkles and glitters gleaming\n",
            "On a Cloud\n",
            "That in solemnly shone like a star.\n",
            "I saw it in the dark\n",
            "Ashen greyness lay;\n",
            "And it paled to resemble a dove's hair beneath.\n",
            "This was the sophistry of the dawn,\n",
            "And thereupon it flowed out of the heavy heart\n",
            "And on the dark hair beneath it.\n",
            "Then it faded, and now it fades.\n",
            "Now it's darkening dawn\n",
            "That sings in the hearts of men\n",
            "\n",
            "\n",
            "\n",
            "Input: poemify: kindly, death, visible, tippet, swelling, shorter, setting, school, scarcely, roof, ring\n",
            "I scarcely knew my father,\n",
            "Who died so soon after her death,\n",
            "And her hair was cut to the brim with tippet of the roof.\n",
            "It was summer, but it was summer.\n",
            "The sun was blue, and the sky was blue;\n",
            "Ied seen it in the school\n",
            "Without notice of death; it was colder than the sea,\n",
            "But the wind was blowing in the wind:\n",
            "And the length of the day was shorter than the sun:\n",
            "Not long, but short, as the sun did.\n",
            "But kindly arranged for a circle around the ring,\n",
            "As it passed me by, and I could not see it gleam\n",
            "\n",
            "\n",
            "\n",
            "Input: poemify: violent ways, tightened bow, peaceful, natural, misery, kind, fire, beauty\n",
            "There is a beauty in the air,\n",
            "A kind of misery in the fire,\n",
            "And a tightened bow that wraps round the body\n",
            "In its peaceful, peaceful way.\n",
            "It is but a kind of misty thing,\n",
            "That all the misery and the fire\n",
            "As if it were a natural thing\n",
            "\n",
            "\n",
            "\n"
          ],
          "name": "stdout"
        }
      ]
    },
    {
      "cell_type": "code",
      "metadata": {
        "id": "-crvb9uLzDlD"
      },
      "source": [
        "sample_topics = [\"dark woods\", \"river\", \"mountains\", \"valleys\", \"trees\", \"silent\", \"peaceful\", \"stars\"]"
      ],
      "execution_count": 59,
      "outputs": []
    },
    {
      "cell_type": "code",
      "metadata": {
        "colab": {
          "base_uri": "https://localhost:8080/"
        },
        "id": "H5Q0wzeC6ALx",
        "outputId": "2b664be8-37c2-49a8-f966-d4a4ae1d2e1e"
      },
      "source": [
        "gen = genSample(\n",
        "    topics = sample_topics,\n",
        "    min_length = 0, \n",
        "    max_length = 500, \n",
        "    rep_penalty = 1.3,\n",
        "    temp = 0.9, \n",
        "    top_k = 50, \n",
        "    top_p = 0.9,\n",
        "    no_repeat_ngram_size = 3,\n",
        "    num_return_sequences = 3,\n",
        "    already_formatted = False\n",
        ")"
      ],
      "execution_count": 76,
      "outputs": [
        {
          "output_type": "stream",
          "text": [
            "O stars are silent in the dark woods,\n",
            "On rivers and mountains;\n",
            "All through them I come down peacefully.\n",
            "I walk among the dead trees,\n",
            "To sleep peaceful in the evening.\n",
            "And I look up from my chair and lie upon her side\n",
            "And gaze upon her sleeping.\n",
            "Beside me she sits peaceful in her chair.\n",
            "The river is silent in her position:\n",
            "She stands alone in silence beside the star.\n",
            "Outside me lieth quiet as a dove's nestle.\n",
            "Nor will I rise again to see\n",
            "The valleys of the river, that I love\n",
            "\n",
            "\n",
            "What are the hills like, and where the rivers flow?\n",
            "In the dark woods of the river, through the fields and valleys,\n",
            "Where the trees grow silently.\n",
            "The forest is green; but the leaves are still:\n",
            "The oak is in the shade, and the red ash is white.\n",
            "And all the trees are purple, and they are golden.\n",
            "Only the stars are cast down, and their shadows disappear.\n",
            "While the mountains are green, and peaceful,\n",
            "The forests that we love are quiet,\n",
            "When I watch the streams calm, and light\n",
            "Through them stream, and make my dreams true.\n",
            "What do I miss those hills look for me?\n",
            "At nightingale is peaceful as well\n",
            "\n",
            "\n",
            "A River, is a Bird,\n",
            "In the dark woods of the river;\n",
            "And all the trees are white;\n",
            "All the leaves are in their autumn beauty;\n",
            "Till they grow silent in the morning,\n",
            "And those that fall still to sleep:\n",
            "The peaceful end of days for birds and flowers.\n",
            "They love me because they seem asleep:\n",
            "But I am old and young:\n",
            "And when I am gone from country to country,\n",
            "I cease to follow the river as peacefully possible\n",
            "\n",
            "\n"
          ],
          "name": "stdout"
        }
      ]
    },
    {
      "cell_type": "code",
      "metadata": {
        "colab": {
          "base_uri": "https://localhost:8080/"
        },
        "id": "MMkm1bzEwkHP",
        "outputId": "150b26f1-6097-4040-dbb9-3c80de77869a"
      },
      "source": [
        "gen = genBeam(\n",
        "    topics = sample_topics,\n",
        "    min_length = 0,\n",
        "    max_length = 500,\n",
        "    rep_penalty = 1.5, \n",
        "    n_beams = 2, \n",
        "    no_repeat_ngram_size = 3, \n",
        "    num_return_sequences = 2,\n",
        "    already_formatted = False\n",
        ")"
      ],
      "execution_count": 72,
      "outputs": [
        {
          "output_type": "stream",
          "text": [
            "I walk in the dark woods,\n",
            "And look down upon the hills and valleys\n",
            "Where the birds are found.\n",
            "In the midst of the night I hear the river run\n",
            "Across the mountains, and I hear them say:\n",
            "\"All the trees are beautiful,\n",
            "All the flowers are white,\n",
            "The leaves are green, the grass is green;\n",
            "And the trees themselves are white.\n",
            "My heart is in the trees,\n",
            "But I am silent.\n",
            "I watch the forests decline,\n",
            "While the stars are dark and peaceful.\n",
            "Let me take my baths as the river:\n",
            "Letting me drink the same,\n",
            "Silent and peaceful in the deep\n",
            "\n",
            "\n",
            "I walk in the dark woods,\n",
            "And look down upon the hills and valleys\n",
            "Where the birds are found.\n",
            "In the midst of the night I hear the river run\n",
            "Across the mountains, and I hear them say:\n",
            "\"All the trees are beautiful,\n",
            "All the flowers are white,\n",
            "The leaves are green, the grass is green;\n",
            "And the trees themselves are white.\n",
            "My heart is in the trees,\n",
            "But I am silent.\n",
            "I watch the forests decline,\n",
            "While the stars are dark and peaceful.\n",
            "Let me take my baths as the river:\n",
            "Letting me drink the same,\n",
            "Silent and peaceful in the deep woods\n",
            "\n",
            "\n"
          ],
          "name": "stdout"
        }
      ]
    },
    {
      "cell_type": "markdown",
      "metadata": {
        "id": "8l5OwAT4QmIE"
      },
      "source": [
        "### Save the finetuned model"
      ]
    },
    {
      "cell_type": "code",
      "metadata": {
        "id": "vlvrGTRmQlUK"
      },
      "source": [
        "torch.save(model, f\"/content/gdrive/MyDrive/topic2poem/model_{N_EPOCHS}epochs.h5\")"
      ],
      "execution_count": 35,
      "outputs": []
    },
    {
      "cell_type": "code",
      "metadata": {
        "id": "XZ-MxdHpbt61"
      },
      "source": [
        ""
      ],
      "execution_count": null,
      "outputs": []
    }
  ]
}