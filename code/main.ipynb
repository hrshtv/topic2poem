{
  "nbformat": 4,
  "nbformat_minor": 0,
  "metadata": {
    "colab": {
      "name": "text2poem.ipynb",
      "provenance": [],
      "collapsed_sections": [
        "jMy7DpOtax_8",
        "j4DgXBPfh8UX",
        "hBESXajW16Wr",
        "W0LdG06NjwTL",
        "FEDFEI9vama_",
        "J6ZsKUfBgehV",
        "LH0lVDRBarUJ",
        "cRIsPv8FYK67",
        "Ad5BHSxYhRYn",
        "IJ_eZh1Pb6PX"
      ],
      "toc_visible": true
    },
    "kernelspec": {
      "name": "python3",
      "display_name": "Python 3"
    },
    "language_info": {
      "name": "python"
    },
    "widgets": {
      "application/vnd.jupyter.widget-state+json": {
        "775ea642b77947d8adf98cbc8557bee7": {
          "model_module": "@jupyter-widgets/controls",
          "model_name": "HBoxModel",
          "state": {
            "_view_name": "HBoxView",
            "_dom_classes": [],
            "_model_name": "HBoxModel",
            "_view_module": "@jupyter-widgets/controls",
            "_model_module_version": "1.5.0",
            "_view_count": null,
            "_view_module_version": "1.5.0",
            "box_style": "",
            "layout": "IPY_MODEL_a574547ece704e508c867695aaa6406c",
            "_model_module": "@jupyter-widgets/controls",
            "children": [
              "IPY_MODEL_2ed635e9a1be47ec92adccbfb208676f",
              "IPY_MODEL_c6d7a1144f844db2ad4b7e9ba9235c2b"
            ]
          }
        },
        "a574547ece704e508c867695aaa6406c": {
          "model_module": "@jupyter-widgets/base",
          "model_name": "LayoutModel",
          "state": {
            "_view_name": "LayoutView",
            "grid_template_rows": null,
            "right": null,
            "justify_content": null,
            "_view_module": "@jupyter-widgets/base",
            "overflow": null,
            "_model_module_version": "1.2.0",
            "_view_count": null,
            "flex_flow": null,
            "width": null,
            "min_width": null,
            "border": null,
            "align_items": null,
            "bottom": null,
            "_model_module": "@jupyter-widgets/base",
            "top": null,
            "grid_column": null,
            "overflow_y": null,
            "overflow_x": null,
            "grid_auto_flow": null,
            "grid_area": null,
            "grid_template_columns": null,
            "flex": null,
            "_model_name": "LayoutModel",
            "justify_items": null,
            "grid_row": null,
            "max_height": null,
            "align_content": null,
            "visibility": null,
            "align_self": null,
            "height": null,
            "min_height": null,
            "padding": null,
            "grid_auto_rows": null,
            "grid_gap": null,
            "max_width": null,
            "order": null,
            "_view_module_version": "1.2.0",
            "grid_template_areas": null,
            "object_position": null,
            "object_fit": null,
            "grid_auto_columns": null,
            "margin": null,
            "display": null,
            "left": null
          }
        },
        "2ed635e9a1be47ec92adccbfb208676f": {
          "model_module": "@jupyter-widgets/controls",
          "model_name": "FloatProgressModel",
          "state": {
            "_view_name": "ProgressView",
            "style": "IPY_MODEL_4681ce5844594ec596d9330ab9d10a93",
            "_dom_classes": [],
            "description": "100%",
            "_model_name": "FloatProgressModel",
            "bar_style": "success",
            "max": 141,
            "_view_module": "@jupyter-widgets/controls",
            "_model_module_version": "1.5.0",
            "value": 141,
            "_view_count": null,
            "_view_module_version": "1.5.0",
            "orientation": "horizontal",
            "min": 0,
            "description_tooltip": null,
            "_model_module": "@jupyter-widgets/controls",
            "layout": "IPY_MODEL_f27f823663fc47b9850a2d06c2801185"
          }
        },
        "c6d7a1144f844db2ad4b7e9ba9235c2b": {
          "model_module": "@jupyter-widgets/controls",
          "model_name": "HTMLModel",
          "state": {
            "_view_name": "HTMLView",
            "style": "IPY_MODEL_a0a74866555148a1926fbf531b395f6a",
            "_dom_classes": [],
            "description": "",
            "_model_name": "HTMLModel",
            "placeholder": "​",
            "_view_module": "@jupyter-widgets/controls",
            "_model_module_version": "1.5.0",
            "value": " 141/141 [09:06&lt;00:00,  3.88s/it]",
            "_view_count": null,
            "_view_module_version": "1.5.0",
            "description_tooltip": null,
            "_model_module": "@jupyter-widgets/controls",
            "layout": "IPY_MODEL_a166474e14f140628b8d93448069f087"
          }
        },
        "4681ce5844594ec596d9330ab9d10a93": {
          "model_module": "@jupyter-widgets/controls",
          "model_name": "ProgressStyleModel",
          "state": {
            "_view_name": "StyleView",
            "_model_name": "ProgressStyleModel",
            "description_width": "initial",
            "_view_module": "@jupyter-widgets/base",
            "_model_module_version": "1.5.0",
            "_view_count": null,
            "_view_module_version": "1.2.0",
            "bar_color": null,
            "_model_module": "@jupyter-widgets/controls"
          }
        },
        "f27f823663fc47b9850a2d06c2801185": {
          "model_module": "@jupyter-widgets/base",
          "model_name": "LayoutModel",
          "state": {
            "_view_name": "LayoutView",
            "grid_template_rows": null,
            "right": null,
            "justify_content": null,
            "_view_module": "@jupyter-widgets/base",
            "overflow": null,
            "_model_module_version": "1.2.0",
            "_view_count": null,
            "flex_flow": null,
            "width": null,
            "min_width": null,
            "border": null,
            "align_items": null,
            "bottom": null,
            "_model_module": "@jupyter-widgets/base",
            "top": null,
            "grid_column": null,
            "overflow_y": null,
            "overflow_x": null,
            "grid_auto_flow": null,
            "grid_area": null,
            "grid_template_columns": null,
            "flex": null,
            "_model_name": "LayoutModel",
            "justify_items": null,
            "grid_row": null,
            "max_height": null,
            "align_content": null,
            "visibility": null,
            "align_self": null,
            "height": null,
            "min_height": null,
            "padding": null,
            "grid_auto_rows": null,
            "grid_gap": null,
            "max_width": null,
            "order": null,
            "_view_module_version": "1.2.0",
            "grid_template_areas": null,
            "object_position": null,
            "object_fit": null,
            "grid_auto_columns": null,
            "margin": null,
            "display": null,
            "left": null
          }
        },
        "a0a74866555148a1926fbf531b395f6a": {
          "model_module": "@jupyter-widgets/controls",
          "model_name": "DescriptionStyleModel",
          "state": {
            "_view_name": "StyleView",
            "_model_name": "DescriptionStyleModel",
            "description_width": "",
            "_view_module": "@jupyter-widgets/base",
            "_model_module_version": "1.5.0",
            "_view_count": null,
            "_view_module_version": "1.2.0",
            "_model_module": "@jupyter-widgets/controls"
          }
        },
        "a166474e14f140628b8d93448069f087": {
          "model_module": "@jupyter-widgets/base",
          "model_name": "LayoutModel",
          "state": {
            "_view_name": "LayoutView",
            "grid_template_rows": null,
            "right": null,
            "justify_content": null,
            "_view_module": "@jupyter-widgets/base",
            "overflow": null,
            "_model_module_version": "1.2.0",
            "_view_count": null,
            "flex_flow": null,
            "width": null,
            "min_width": null,
            "border": null,
            "align_items": null,
            "bottom": null,
            "_model_module": "@jupyter-widgets/base",
            "top": null,
            "grid_column": null,
            "overflow_y": null,
            "overflow_x": null,
            "grid_auto_flow": null,
            "grid_area": null,
            "grid_template_columns": null,
            "flex": null,
            "_model_name": "LayoutModel",
            "justify_items": null,
            "grid_row": null,
            "max_height": null,
            "align_content": null,
            "visibility": null,
            "align_self": null,
            "height": null,
            "min_height": null,
            "padding": null,
            "grid_auto_rows": null,
            "grid_gap": null,
            "max_width": null,
            "order": null,
            "_view_module_version": "1.2.0",
            "grid_template_areas": null,
            "object_position": null,
            "object_fit": null,
            "grid_auto_columns": null,
            "margin": null,
            "display": null,
            "left": null
          }
        },
        "3f0930595831484aa205019474975848": {
          "model_module": "@jupyter-widgets/controls",
          "model_name": "HBoxModel",
          "state": {
            "_view_name": "HBoxView",
            "_dom_classes": [],
            "_model_name": "HBoxModel",
            "_view_module": "@jupyter-widgets/controls",
            "_model_module_version": "1.5.0",
            "_view_count": null,
            "_view_module_version": "1.5.0",
            "box_style": "",
            "layout": "IPY_MODEL_66670d6517154b1980c2293e6c638df4",
            "_model_module": "@jupyter-widgets/controls",
            "children": [
              "IPY_MODEL_110ab801f8784302b25c9815432931a8",
              "IPY_MODEL_999dba27816c4a9c9dc6c0c23149bb73"
            ]
          }
        },
        "66670d6517154b1980c2293e6c638df4": {
          "model_module": "@jupyter-widgets/base",
          "model_name": "LayoutModel",
          "state": {
            "_view_name": "LayoutView",
            "grid_template_rows": null,
            "right": null,
            "justify_content": null,
            "_view_module": "@jupyter-widgets/base",
            "overflow": null,
            "_model_module_version": "1.2.0",
            "_view_count": null,
            "flex_flow": null,
            "width": null,
            "min_width": null,
            "border": null,
            "align_items": null,
            "bottom": null,
            "_model_module": "@jupyter-widgets/base",
            "top": null,
            "grid_column": null,
            "overflow_y": null,
            "overflow_x": null,
            "grid_auto_flow": null,
            "grid_area": null,
            "grid_template_columns": null,
            "flex": null,
            "_model_name": "LayoutModel",
            "justify_items": null,
            "grid_row": null,
            "max_height": null,
            "align_content": null,
            "visibility": null,
            "align_self": null,
            "height": null,
            "min_height": null,
            "padding": null,
            "grid_auto_rows": null,
            "grid_gap": null,
            "max_width": null,
            "order": null,
            "_view_module_version": "1.2.0",
            "grid_template_areas": null,
            "object_position": null,
            "object_fit": null,
            "grid_auto_columns": null,
            "margin": null,
            "display": null,
            "left": null
          }
        },
        "110ab801f8784302b25c9815432931a8": {
          "model_module": "@jupyter-widgets/controls",
          "model_name": "FloatProgressModel",
          "state": {
            "_view_name": "ProgressView",
            "style": "IPY_MODEL_3a9a3d5902e44d979abba867e7142df7",
            "_dom_classes": [],
            "description": "100%",
            "_model_name": "FloatProgressModel",
            "bar_style": "success",
            "max": 141,
            "_view_module": "@jupyter-widgets/controls",
            "_model_module_version": "1.5.0",
            "value": 141,
            "_view_count": null,
            "_view_module_version": "1.5.0",
            "orientation": "horizontal",
            "min": 0,
            "description_tooltip": null,
            "_model_module": "@jupyter-widgets/controls",
            "layout": "IPY_MODEL_f5ddea415def4cb08afb347c0f23cdbd"
          }
        },
        "999dba27816c4a9c9dc6c0c23149bb73": {
          "model_module": "@jupyter-widgets/controls",
          "model_name": "HTMLModel",
          "state": {
            "_view_name": "HTMLView",
            "style": "IPY_MODEL_7578ee687bf34d6da66feba4b9bdc226",
            "_dom_classes": [],
            "description": "",
            "_model_name": "HTMLModel",
            "placeholder": "​",
            "_view_module": "@jupyter-widgets/controls",
            "_model_module_version": "1.5.0",
            "value": " 141/141 [07:19&lt;00:00,  3.12s/it]",
            "_view_count": null,
            "_view_module_version": "1.5.0",
            "description_tooltip": null,
            "_model_module": "@jupyter-widgets/controls",
            "layout": "IPY_MODEL_b4dfa132dc2f4b6798d12b0cbb23c303"
          }
        },
        "3a9a3d5902e44d979abba867e7142df7": {
          "model_module": "@jupyter-widgets/controls",
          "model_name": "ProgressStyleModel",
          "state": {
            "_view_name": "StyleView",
            "_model_name": "ProgressStyleModel",
            "description_width": "initial",
            "_view_module": "@jupyter-widgets/base",
            "_model_module_version": "1.5.0",
            "_view_count": null,
            "_view_module_version": "1.2.0",
            "bar_color": null,
            "_model_module": "@jupyter-widgets/controls"
          }
        },
        "f5ddea415def4cb08afb347c0f23cdbd": {
          "model_module": "@jupyter-widgets/base",
          "model_name": "LayoutModel",
          "state": {
            "_view_name": "LayoutView",
            "grid_template_rows": null,
            "right": null,
            "justify_content": null,
            "_view_module": "@jupyter-widgets/base",
            "overflow": null,
            "_model_module_version": "1.2.0",
            "_view_count": null,
            "flex_flow": null,
            "width": null,
            "min_width": null,
            "border": null,
            "align_items": null,
            "bottom": null,
            "_model_module": "@jupyter-widgets/base",
            "top": null,
            "grid_column": null,
            "overflow_y": null,
            "overflow_x": null,
            "grid_auto_flow": null,
            "grid_area": null,
            "grid_template_columns": null,
            "flex": null,
            "_model_name": "LayoutModel",
            "justify_items": null,
            "grid_row": null,
            "max_height": null,
            "align_content": null,
            "visibility": null,
            "align_self": null,
            "height": null,
            "min_height": null,
            "padding": null,
            "grid_auto_rows": null,
            "grid_gap": null,
            "max_width": null,
            "order": null,
            "_view_module_version": "1.2.0",
            "grid_template_areas": null,
            "object_position": null,
            "object_fit": null,
            "grid_auto_columns": null,
            "margin": null,
            "display": null,
            "left": null
          }
        },
        "7578ee687bf34d6da66feba4b9bdc226": {
          "model_module": "@jupyter-widgets/controls",
          "model_name": "DescriptionStyleModel",
          "state": {
            "_view_name": "StyleView",
            "_model_name": "DescriptionStyleModel",
            "description_width": "",
            "_view_module": "@jupyter-widgets/base",
            "_model_module_version": "1.5.0",
            "_view_count": null,
            "_view_module_version": "1.2.0",
            "_model_module": "@jupyter-widgets/controls"
          }
        },
        "b4dfa132dc2f4b6798d12b0cbb23c303": {
          "model_module": "@jupyter-widgets/base",
          "model_name": "LayoutModel",
          "state": {
            "_view_name": "LayoutView",
            "grid_template_rows": null,
            "right": null,
            "justify_content": null,
            "_view_module": "@jupyter-widgets/base",
            "overflow": null,
            "_model_module_version": "1.2.0",
            "_view_count": null,
            "flex_flow": null,
            "width": null,
            "min_width": null,
            "border": null,
            "align_items": null,
            "bottom": null,
            "_model_module": "@jupyter-widgets/base",
            "top": null,
            "grid_column": null,
            "overflow_y": null,
            "overflow_x": null,
            "grid_auto_flow": null,
            "grid_area": null,
            "grid_template_columns": null,
            "flex": null,
            "_model_name": "LayoutModel",
            "justify_items": null,
            "grid_row": null,
            "max_height": null,
            "align_content": null,
            "visibility": null,
            "align_self": null,
            "height": null,
            "min_height": null,
            "padding": null,
            "grid_auto_rows": null,
            "grid_gap": null,
            "max_width": null,
            "order": null,
            "_view_module_version": "1.2.0",
            "grid_template_areas": null,
            "object_position": null,
            "object_fit": null,
            "grid_auto_columns": null,
            "margin": null,
            "display": null,
            "left": null
          }
        },
        "2da8452ac9d8493ebfa5eec709362c9b": {
          "model_module": "@jupyter-widgets/controls",
          "model_name": "HBoxModel",
          "state": {
            "_view_name": "HBoxView",
            "_dom_classes": [],
            "_model_name": "HBoxModel",
            "_view_module": "@jupyter-widgets/controls",
            "_model_module_version": "1.5.0",
            "_view_count": null,
            "_view_module_version": "1.5.0",
            "box_style": "",
            "layout": "IPY_MODEL_3eed515360c8402ea30e3d67a9adbdc5",
            "_model_module": "@jupyter-widgets/controls",
            "children": [
              "IPY_MODEL_803e6d5c349540659d68c5a25c55807f",
              "IPY_MODEL_fa6b9ac05ab443eb913d436b3c8a9c85"
            ]
          }
        },
        "3eed515360c8402ea30e3d67a9adbdc5": {
          "model_module": "@jupyter-widgets/base",
          "model_name": "LayoutModel",
          "state": {
            "_view_name": "LayoutView",
            "grid_template_rows": null,
            "right": null,
            "justify_content": null,
            "_view_module": "@jupyter-widgets/base",
            "overflow": null,
            "_model_module_version": "1.2.0",
            "_view_count": null,
            "flex_flow": null,
            "width": null,
            "min_width": null,
            "border": null,
            "align_items": null,
            "bottom": null,
            "_model_module": "@jupyter-widgets/base",
            "top": null,
            "grid_column": null,
            "overflow_y": null,
            "overflow_x": null,
            "grid_auto_flow": null,
            "grid_area": null,
            "grid_template_columns": null,
            "flex": null,
            "_model_name": "LayoutModel",
            "justify_items": null,
            "grid_row": null,
            "max_height": null,
            "align_content": null,
            "visibility": null,
            "align_self": null,
            "height": null,
            "min_height": null,
            "padding": null,
            "grid_auto_rows": null,
            "grid_gap": null,
            "max_width": null,
            "order": null,
            "_view_module_version": "1.2.0",
            "grid_template_areas": null,
            "object_position": null,
            "object_fit": null,
            "grid_auto_columns": null,
            "margin": null,
            "display": null,
            "left": null
          }
        },
        "803e6d5c349540659d68c5a25c55807f": {
          "model_module": "@jupyter-widgets/controls",
          "model_name": "FloatProgressModel",
          "state": {
            "_view_name": "ProgressView",
            "style": "IPY_MODEL_c3b215fd04e3497d94f98459a600cebb",
            "_dom_classes": [],
            "description": "100%",
            "_model_name": "FloatProgressModel",
            "bar_style": "success",
            "max": 141,
            "_view_module": "@jupyter-widgets/controls",
            "_model_module_version": "1.5.0",
            "value": 141,
            "_view_count": null,
            "_view_module_version": "1.5.0",
            "orientation": "horizontal",
            "min": 0,
            "description_tooltip": null,
            "_model_module": "@jupyter-widgets/controls",
            "layout": "IPY_MODEL_44cd1bb82b004c2488c530aaaff3c261"
          }
        },
        "fa6b9ac05ab443eb913d436b3c8a9c85": {
          "model_module": "@jupyter-widgets/controls",
          "model_name": "HTMLModel",
          "state": {
            "_view_name": "HTMLView",
            "style": "IPY_MODEL_1244e8cd4a1f4564b1a8cf5928aa58a8",
            "_dom_classes": [],
            "description": "",
            "_model_name": "HTMLModel",
            "placeholder": "​",
            "_view_module": "@jupyter-widgets/controls",
            "_model_module_version": "1.5.0",
            "value": " 141/141 [05:27&lt;00:00,  2.32s/it]",
            "_view_count": null,
            "_view_module_version": "1.5.0",
            "description_tooltip": null,
            "_model_module": "@jupyter-widgets/controls",
            "layout": "IPY_MODEL_23abfb0e7ac949f89d8cb5b0aff30395"
          }
        },
        "c3b215fd04e3497d94f98459a600cebb": {
          "model_module": "@jupyter-widgets/controls",
          "model_name": "ProgressStyleModel",
          "state": {
            "_view_name": "StyleView",
            "_model_name": "ProgressStyleModel",
            "description_width": "initial",
            "_view_module": "@jupyter-widgets/base",
            "_model_module_version": "1.5.0",
            "_view_count": null,
            "_view_module_version": "1.2.0",
            "bar_color": null,
            "_model_module": "@jupyter-widgets/controls"
          }
        },
        "44cd1bb82b004c2488c530aaaff3c261": {
          "model_module": "@jupyter-widgets/base",
          "model_name": "LayoutModel",
          "state": {
            "_view_name": "LayoutView",
            "grid_template_rows": null,
            "right": null,
            "justify_content": null,
            "_view_module": "@jupyter-widgets/base",
            "overflow": null,
            "_model_module_version": "1.2.0",
            "_view_count": null,
            "flex_flow": null,
            "width": null,
            "min_width": null,
            "border": null,
            "align_items": null,
            "bottom": null,
            "_model_module": "@jupyter-widgets/base",
            "top": null,
            "grid_column": null,
            "overflow_y": null,
            "overflow_x": null,
            "grid_auto_flow": null,
            "grid_area": null,
            "grid_template_columns": null,
            "flex": null,
            "_model_name": "LayoutModel",
            "justify_items": null,
            "grid_row": null,
            "max_height": null,
            "align_content": null,
            "visibility": null,
            "align_self": null,
            "height": null,
            "min_height": null,
            "padding": null,
            "grid_auto_rows": null,
            "grid_gap": null,
            "max_width": null,
            "order": null,
            "_view_module_version": "1.2.0",
            "grid_template_areas": null,
            "object_position": null,
            "object_fit": null,
            "grid_auto_columns": null,
            "margin": null,
            "display": null,
            "left": null
          }
        },
        "1244e8cd4a1f4564b1a8cf5928aa58a8": {
          "model_module": "@jupyter-widgets/controls",
          "model_name": "DescriptionStyleModel",
          "state": {
            "_view_name": "StyleView",
            "_model_name": "DescriptionStyleModel",
            "description_width": "",
            "_view_module": "@jupyter-widgets/base",
            "_model_module_version": "1.5.0",
            "_view_count": null,
            "_view_module_version": "1.2.0",
            "_model_module": "@jupyter-widgets/controls"
          }
        },
        "23abfb0e7ac949f89d8cb5b0aff30395": {
          "model_module": "@jupyter-widgets/base",
          "model_name": "LayoutModel",
          "state": {
            "_view_name": "LayoutView",
            "grid_template_rows": null,
            "right": null,
            "justify_content": null,
            "_view_module": "@jupyter-widgets/base",
            "overflow": null,
            "_model_module_version": "1.2.0",
            "_view_count": null,
            "flex_flow": null,
            "width": null,
            "min_width": null,
            "border": null,
            "align_items": null,
            "bottom": null,
            "_model_module": "@jupyter-widgets/base",
            "top": null,
            "grid_column": null,
            "overflow_y": null,
            "overflow_x": null,
            "grid_auto_flow": null,
            "grid_area": null,
            "grid_template_columns": null,
            "flex": null,
            "_model_name": "LayoutModel",
            "justify_items": null,
            "grid_row": null,
            "max_height": null,
            "align_content": null,
            "visibility": null,
            "align_self": null,
            "height": null,
            "min_height": null,
            "padding": null,
            "grid_auto_rows": null,
            "grid_gap": null,
            "max_width": null,
            "order": null,
            "_view_module_version": "1.2.0",
            "grid_template_areas": null,
            "object_position": null,
            "object_fit": null,
            "grid_auto_columns": null,
            "margin": null,
            "display": null,
            "left": null
          }
        },
        "7786e793b8784f11aa5c54fb2175da66": {
          "model_module": "@jupyter-widgets/controls",
          "model_name": "HBoxModel",
          "state": {
            "_view_name": "HBoxView",
            "_dom_classes": [],
            "_model_name": "HBoxModel",
            "_view_module": "@jupyter-widgets/controls",
            "_model_module_version": "1.5.0",
            "_view_count": null,
            "_view_module_version": "1.5.0",
            "box_style": "",
            "layout": "IPY_MODEL_83cefb093cda4c7eb1f6438df04ec30b",
            "_model_module": "@jupyter-widgets/controls",
            "children": [
              "IPY_MODEL_727fabb039aa43f1b7449a7f08014a30",
              "IPY_MODEL_4184ffb7952d437085fd5b8e50e086e4"
            ]
          }
        },
        "83cefb093cda4c7eb1f6438df04ec30b": {
          "model_module": "@jupyter-widgets/base",
          "model_name": "LayoutModel",
          "state": {
            "_view_name": "LayoutView",
            "grid_template_rows": null,
            "right": null,
            "justify_content": null,
            "_view_module": "@jupyter-widgets/base",
            "overflow": null,
            "_model_module_version": "1.2.0",
            "_view_count": null,
            "flex_flow": null,
            "width": null,
            "min_width": null,
            "border": null,
            "align_items": null,
            "bottom": null,
            "_model_module": "@jupyter-widgets/base",
            "top": null,
            "grid_column": null,
            "overflow_y": null,
            "overflow_x": null,
            "grid_auto_flow": null,
            "grid_area": null,
            "grid_template_columns": null,
            "flex": null,
            "_model_name": "LayoutModel",
            "justify_items": null,
            "grid_row": null,
            "max_height": null,
            "align_content": null,
            "visibility": null,
            "align_self": null,
            "height": null,
            "min_height": null,
            "padding": null,
            "grid_auto_rows": null,
            "grid_gap": null,
            "max_width": null,
            "order": null,
            "_view_module_version": "1.2.0",
            "grid_template_areas": null,
            "object_position": null,
            "object_fit": null,
            "grid_auto_columns": null,
            "margin": null,
            "display": null,
            "left": null
          }
        },
        "727fabb039aa43f1b7449a7f08014a30": {
          "model_module": "@jupyter-widgets/controls",
          "model_name": "FloatProgressModel",
          "state": {
            "_view_name": "ProgressView",
            "style": "IPY_MODEL_bb714985629644e392f633543c9b9002",
            "_dom_classes": [],
            "description": "100%",
            "_model_name": "FloatProgressModel",
            "bar_style": "success",
            "max": 141,
            "_view_module": "@jupyter-widgets/controls",
            "_model_module_version": "1.5.0",
            "value": 141,
            "_view_count": null,
            "_view_module_version": "1.5.0",
            "orientation": "horizontal",
            "min": 0,
            "description_tooltip": null,
            "_model_module": "@jupyter-widgets/controls",
            "layout": "IPY_MODEL_12fc07225c4346459a40fc6a490538a9"
          }
        },
        "4184ffb7952d437085fd5b8e50e086e4": {
          "model_module": "@jupyter-widgets/controls",
          "model_name": "HTMLModel",
          "state": {
            "_view_name": "HTMLView",
            "style": "IPY_MODEL_4f36ab0eb8c9410da445935abe79dc37",
            "_dom_classes": [],
            "description": "",
            "_model_name": "HTMLModel",
            "placeholder": "​",
            "_view_module": "@jupyter-widgets/controls",
            "_model_module_version": "1.5.0",
            "value": " 141/141 [03:34&lt;00:00,  1.52s/it]",
            "_view_count": null,
            "_view_module_version": "1.5.0",
            "description_tooltip": null,
            "_model_module": "@jupyter-widgets/controls",
            "layout": "IPY_MODEL_331f29a2c0f74da19d5a0ac324cf5bfa"
          }
        },
        "bb714985629644e392f633543c9b9002": {
          "model_module": "@jupyter-widgets/controls",
          "model_name": "ProgressStyleModel",
          "state": {
            "_view_name": "StyleView",
            "_model_name": "ProgressStyleModel",
            "description_width": "initial",
            "_view_module": "@jupyter-widgets/base",
            "_model_module_version": "1.5.0",
            "_view_count": null,
            "_view_module_version": "1.2.0",
            "bar_color": null,
            "_model_module": "@jupyter-widgets/controls"
          }
        },
        "12fc07225c4346459a40fc6a490538a9": {
          "model_module": "@jupyter-widgets/base",
          "model_name": "LayoutModel",
          "state": {
            "_view_name": "LayoutView",
            "grid_template_rows": null,
            "right": null,
            "justify_content": null,
            "_view_module": "@jupyter-widgets/base",
            "overflow": null,
            "_model_module_version": "1.2.0",
            "_view_count": null,
            "flex_flow": null,
            "width": null,
            "min_width": null,
            "border": null,
            "align_items": null,
            "bottom": null,
            "_model_module": "@jupyter-widgets/base",
            "top": null,
            "grid_column": null,
            "overflow_y": null,
            "overflow_x": null,
            "grid_auto_flow": null,
            "grid_area": null,
            "grid_template_columns": null,
            "flex": null,
            "_model_name": "LayoutModel",
            "justify_items": null,
            "grid_row": null,
            "max_height": null,
            "align_content": null,
            "visibility": null,
            "align_self": null,
            "height": null,
            "min_height": null,
            "padding": null,
            "grid_auto_rows": null,
            "grid_gap": null,
            "max_width": null,
            "order": null,
            "_view_module_version": "1.2.0",
            "grid_template_areas": null,
            "object_position": null,
            "object_fit": null,
            "grid_auto_columns": null,
            "margin": null,
            "display": null,
            "left": null
          }
        },
        "4f36ab0eb8c9410da445935abe79dc37": {
          "model_module": "@jupyter-widgets/controls",
          "model_name": "DescriptionStyleModel",
          "state": {
            "_view_name": "StyleView",
            "_model_name": "DescriptionStyleModel",
            "description_width": "",
            "_view_module": "@jupyter-widgets/base",
            "_model_module_version": "1.5.0",
            "_view_count": null,
            "_view_module_version": "1.2.0",
            "_model_module": "@jupyter-widgets/controls"
          }
        },
        "331f29a2c0f74da19d5a0ac324cf5bfa": {
          "model_module": "@jupyter-widgets/base",
          "model_name": "LayoutModel",
          "state": {
            "_view_name": "LayoutView",
            "grid_template_rows": null,
            "right": null,
            "justify_content": null,
            "_view_module": "@jupyter-widgets/base",
            "overflow": null,
            "_model_module_version": "1.2.0",
            "_view_count": null,
            "flex_flow": null,
            "width": null,
            "min_width": null,
            "border": null,
            "align_items": null,
            "bottom": null,
            "_model_module": "@jupyter-widgets/base",
            "top": null,
            "grid_column": null,
            "overflow_y": null,
            "overflow_x": null,
            "grid_auto_flow": null,
            "grid_area": null,
            "grid_template_columns": null,
            "flex": null,
            "_model_name": "LayoutModel",
            "justify_items": null,
            "grid_row": null,
            "max_height": null,
            "align_content": null,
            "visibility": null,
            "align_self": null,
            "height": null,
            "min_height": null,
            "padding": null,
            "grid_auto_rows": null,
            "grid_gap": null,
            "max_width": null,
            "order": null,
            "_view_module_version": "1.2.0",
            "grid_template_areas": null,
            "object_position": null,
            "object_fit": null,
            "grid_auto_columns": null,
            "margin": null,
            "display": null,
            "left": null
          }
        },
        "efe5377ab7b5430488cef0de036fb26e": {
          "model_module": "@jupyter-widgets/controls",
          "model_name": "HBoxModel",
          "state": {
            "_view_name": "HBoxView",
            "_dom_classes": [],
            "_model_name": "HBoxModel",
            "_view_module": "@jupyter-widgets/controls",
            "_model_module_version": "1.5.0",
            "_view_count": null,
            "_view_module_version": "1.5.0",
            "box_style": "",
            "layout": "IPY_MODEL_3743f5e54ad949af84b96c7c89abcc1c",
            "_model_module": "@jupyter-widgets/controls",
            "children": [
              "IPY_MODEL_5f7868963012429e83afa6daee3157b6",
              "IPY_MODEL_9007c8c880e2451d99d1956c0ad35607"
            ]
          }
        },
        "3743f5e54ad949af84b96c7c89abcc1c": {
          "model_module": "@jupyter-widgets/base",
          "model_name": "LayoutModel",
          "state": {
            "_view_name": "LayoutView",
            "grid_template_rows": null,
            "right": null,
            "justify_content": null,
            "_view_module": "@jupyter-widgets/base",
            "overflow": null,
            "_model_module_version": "1.2.0",
            "_view_count": null,
            "flex_flow": null,
            "width": null,
            "min_width": null,
            "border": null,
            "align_items": null,
            "bottom": null,
            "_model_module": "@jupyter-widgets/base",
            "top": null,
            "grid_column": null,
            "overflow_y": null,
            "overflow_x": null,
            "grid_auto_flow": null,
            "grid_area": null,
            "grid_template_columns": null,
            "flex": null,
            "_model_name": "LayoutModel",
            "justify_items": null,
            "grid_row": null,
            "max_height": null,
            "align_content": null,
            "visibility": null,
            "align_self": null,
            "height": null,
            "min_height": null,
            "padding": null,
            "grid_auto_rows": null,
            "grid_gap": null,
            "max_width": null,
            "order": null,
            "_view_module_version": "1.2.0",
            "grid_template_areas": null,
            "object_position": null,
            "object_fit": null,
            "grid_auto_columns": null,
            "margin": null,
            "display": null,
            "left": null
          }
        },
        "5f7868963012429e83afa6daee3157b6": {
          "model_module": "@jupyter-widgets/controls",
          "model_name": "FloatProgressModel",
          "state": {
            "_view_name": "ProgressView",
            "style": "IPY_MODEL_ba969ba449f445a7b33a9b4fb42fa23f",
            "_dom_classes": [],
            "description": "100%",
            "_model_name": "FloatProgressModel",
            "bar_style": "success",
            "max": 141,
            "_view_module": "@jupyter-widgets/controls",
            "_model_module_version": "1.5.0",
            "value": 141,
            "_view_count": null,
            "_view_module_version": "1.5.0",
            "orientation": "horizontal",
            "min": 0,
            "description_tooltip": null,
            "_model_module": "@jupyter-widgets/controls",
            "layout": "IPY_MODEL_ecbf6beaa2904eb2bddbded42de31c7e"
          }
        },
        "9007c8c880e2451d99d1956c0ad35607": {
          "model_module": "@jupyter-widgets/controls",
          "model_name": "HTMLModel",
          "state": {
            "_view_name": "HTMLView",
            "style": "IPY_MODEL_6b6a491598bc481c9c1fbf1ae049ccea",
            "_dom_classes": [],
            "description": "",
            "_model_name": "HTMLModel",
            "placeholder": "​",
            "_view_module": "@jupyter-widgets/controls",
            "_model_module_version": "1.5.0",
            "value": " 141/141 [01:53&lt;00:00,  1.25it/s]",
            "_view_count": null,
            "_view_module_version": "1.5.0",
            "description_tooltip": null,
            "_model_module": "@jupyter-widgets/controls",
            "layout": "IPY_MODEL_acb40e5a498f431a8d8abb1644fab6fa"
          }
        },
        "ba969ba449f445a7b33a9b4fb42fa23f": {
          "model_module": "@jupyter-widgets/controls",
          "model_name": "ProgressStyleModel",
          "state": {
            "_view_name": "StyleView",
            "_model_name": "ProgressStyleModel",
            "description_width": "initial",
            "_view_module": "@jupyter-widgets/base",
            "_model_module_version": "1.5.0",
            "_view_count": null,
            "_view_module_version": "1.2.0",
            "bar_color": null,
            "_model_module": "@jupyter-widgets/controls"
          }
        },
        "ecbf6beaa2904eb2bddbded42de31c7e": {
          "model_module": "@jupyter-widgets/base",
          "model_name": "LayoutModel",
          "state": {
            "_view_name": "LayoutView",
            "grid_template_rows": null,
            "right": null,
            "justify_content": null,
            "_view_module": "@jupyter-widgets/base",
            "overflow": null,
            "_model_module_version": "1.2.0",
            "_view_count": null,
            "flex_flow": null,
            "width": null,
            "min_width": null,
            "border": null,
            "align_items": null,
            "bottom": null,
            "_model_module": "@jupyter-widgets/base",
            "top": null,
            "grid_column": null,
            "overflow_y": null,
            "overflow_x": null,
            "grid_auto_flow": null,
            "grid_area": null,
            "grid_template_columns": null,
            "flex": null,
            "_model_name": "LayoutModel",
            "justify_items": null,
            "grid_row": null,
            "max_height": null,
            "align_content": null,
            "visibility": null,
            "align_self": null,
            "height": null,
            "min_height": null,
            "padding": null,
            "grid_auto_rows": null,
            "grid_gap": null,
            "max_width": null,
            "order": null,
            "_view_module_version": "1.2.0",
            "grid_template_areas": null,
            "object_position": null,
            "object_fit": null,
            "grid_auto_columns": null,
            "margin": null,
            "display": null,
            "left": null
          }
        },
        "6b6a491598bc481c9c1fbf1ae049ccea": {
          "model_module": "@jupyter-widgets/controls",
          "model_name": "DescriptionStyleModel",
          "state": {
            "_view_name": "StyleView",
            "_model_name": "DescriptionStyleModel",
            "description_width": "",
            "_view_module": "@jupyter-widgets/base",
            "_model_module_version": "1.5.0",
            "_view_count": null,
            "_view_module_version": "1.2.0",
            "_model_module": "@jupyter-widgets/controls"
          }
        },
        "acb40e5a498f431a8d8abb1644fab6fa": {
          "model_module": "@jupyter-widgets/base",
          "model_name": "LayoutModel",
          "state": {
            "_view_name": "LayoutView",
            "grid_template_rows": null,
            "right": null,
            "justify_content": null,
            "_view_module": "@jupyter-widgets/base",
            "overflow": null,
            "_model_module_version": "1.2.0",
            "_view_count": null,
            "flex_flow": null,
            "width": null,
            "min_width": null,
            "border": null,
            "align_items": null,
            "bottom": null,
            "_model_module": "@jupyter-widgets/base",
            "top": null,
            "grid_column": null,
            "overflow_y": null,
            "overflow_x": null,
            "grid_auto_flow": null,
            "grid_area": null,
            "grid_template_columns": null,
            "flex": null,
            "_model_name": "LayoutModel",
            "justify_items": null,
            "grid_row": null,
            "max_height": null,
            "align_content": null,
            "visibility": null,
            "align_self": null,
            "height": null,
            "min_height": null,
            "padding": null,
            "grid_auto_rows": null,
            "grid_gap": null,
            "max_width": null,
            "order": null,
            "_view_module_version": "1.2.0",
            "grid_template_areas": null,
            "object_position": null,
            "object_fit": null,
            "grid_auto_columns": null,
            "margin": null,
            "display": null,
            "left": null
          }
        },
        "bd1791e598104e9b9b7eb502fce9a845": {
          "model_module": "@jupyter-widgets/controls",
          "model_name": "HBoxModel",
          "state": {
            "_view_name": "HBoxView",
            "_dom_classes": [],
            "_model_name": "HBoxModel",
            "_view_module": "@jupyter-widgets/controls",
            "_model_module_version": "1.5.0",
            "_view_count": null,
            "_view_module_version": "1.5.0",
            "box_style": "",
            "layout": "IPY_MODEL_e0fd0185049b4a92bca97f4ff59ecf05",
            "_model_module": "@jupyter-widgets/controls",
            "children": [
              "IPY_MODEL_65eac86fb44c4643be2a2e50d118acd1",
              "IPY_MODEL_16ba5c97fb0a45c8a75e13b62c187b84"
            ]
          }
        },
        "e0fd0185049b4a92bca97f4ff59ecf05": {
          "model_module": "@jupyter-widgets/base",
          "model_name": "LayoutModel",
          "state": {
            "_view_name": "LayoutView",
            "grid_template_rows": null,
            "right": null,
            "justify_content": null,
            "_view_module": "@jupyter-widgets/base",
            "overflow": null,
            "_model_module_version": "1.2.0",
            "_view_count": null,
            "flex_flow": null,
            "width": null,
            "min_width": null,
            "border": null,
            "align_items": null,
            "bottom": null,
            "_model_module": "@jupyter-widgets/base",
            "top": null,
            "grid_column": null,
            "overflow_y": null,
            "overflow_x": null,
            "grid_auto_flow": null,
            "grid_area": null,
            "grid_template_columns": null,
            "flex": null,
            "_model_name": "LayoutModel",
            "justify_items": null,
            "grid_row": null,
            "max_height": null,
            "align_content": null,
            "visibility": null,
            "align_self": null,
            "height": null,
            "min_height": null,
            "padding": null,
            "grid_auto_rows": null,
            "grid_gap": null,
            "max_width": null,
            "order": null,
            "_view_module_version": "1.2.0",
            "grid_template_areas": null,
            "object_position": null,
            "object_fit": null,
            "grid_auto_columns": null,
            "margin": null,
            "display": null,
            "left": null
          }
        },
        "65eac86fb44c4643be2a2e50d118acd1": {
          "model_module": "@jupyter-widgets/controls",
          "model_name": "FloatProgressModel",
          "state": {
            "_view_name": "ProgressView",
            "style": "IPY_MODEL_b5ace29ff5364ad0ba08bacc984194dc",
            "_dom_classes": [],
            "description": "100%",
            "_model_name": "FloatProgressModel",
            "bar_style": "success",
            "max": 141,
            "_view_module": "@jupyter-widgets/controls",
            "_model_module_version": "1.5.0",
            "value": 141,
            "_view_count": null,
            "_view_module_version": "1.5.0",
            "orientation": "horizontal",
            "min": 0,
            "description_tooltip": null,
            "_model_module": "@jupyter-widgets/controls",
            "layout": "IPY_MODEL_58d90c40f3d8450b8052e6a482ee1c05"
          }
        },
        "16ba5c97fb0a45c8a75e13b62c187b84": {
          "model_module": "@jupyter-widgets/controls",
          "model_name": "HTMLModel",
          "state": {
            "_view_name": "HTMLView",
            "style": "IPY_MODEL_eb8ff1cd2e284073b240d697bebe6790",
            "_dom_classes": [],
            "description": "",
            "_model_name": "HTMLModel",
            "placeholder": "​",
            "_view_module": "@jupyter-widgets/controls",
            "_model_module_version": "1.5.0",
            "value": " 141/141 [09:26&lt;00:00,  4.02s/it]",
            "_view_count": null,
            "_view_module_version": "1.5.0",
            "description_tooltip": null,
            "_model_module": "@jupyter-widgets/controls",
            "layout": "IPY_MODEL_7f97ed462e984588be82bf80137e372a"
          }
        },
        "b5ace29ff5364ad0ba08bacc984194dc": {
          "model_module": "@jupyter-widgets/controls",
          "model_name": "ProgressStyleModel",
          "state": {
            "_view_name": "StyleView",
            "_model_name": "ProgressStyleModel",
            "description_width": "initial",
            "_view_module": "@jupyter-widgets/base",
            "_model_module_version": "1.5.0",
            "_view_count": null,
            "_view_module_version": "1.2.0",
            "bar_color": null,
            "_model_module": "@jupyter-widgets/controls"
          }
        },
        "58d90c40f3d8450b8052e6a482ee1c05": {
          "model_module": "@jupyter-widgets/base",
          "model_name": "LayoutModel",
          "state": {
            "_view_name": "LayoutView",
            "grid_template_rows": null,
            "right": null,
            "justify_content": null,
            "_view_module": "@jupyter-widgets/base",
            "overflow": null,
            "_model_module_version": "1.2.0",
            "_view_count": null,
            "flex_flow": null,
            "width": null,
            "min_width": null,
            "border": null,
            "align_items": null,
            "bottom": null,
            "_model_module": "@jupyter-widgets/base",
            "top": null,
            "grid_column": null,
            "overflow_y": null,
            "overflow_x": null,
            "grid_auto_flow": null,
            "grid_area": null,
            "grid_template_columns": null,
            "flex": null,
            "_model_name": "LayoutModel",
            "justify_items": null,
            "grid_row": null,
            "max_height": null,
            "align_content": null,
            "visibility": null,
            "align_self": null,
            "height": null,
            "min_height": null,
            "padding": null,
            "grid_auto_rows": null,
            "grid_gap": null,
            "max_width": null,
            "order": null,
            "_view_module_version": "1.2.0",
            "grid_template_areas": null,
            "object_position": null,
            "object_fit": null,
            "grid_auto_columns": null,
            "margin": null,
            "display": null,
            "left": null
          }
        },
        "eb8ff1cd2e284073b240d697bebe6790": {
          "model_module": "@jupyter-widgets/controls",
          "model_name": "DescriptionStyleModel",
          "state": {
            "_view_name": "StyleView",
            "_model_name": "DescriptionStyleModel",
            "description_width": "",
            "_view_module": "@jupyter-widgets/base",
            "_model_module_version": "1.5.0",
            "_view_count": null,
            "_view_module_version": "1.2.0",
            "_model_module": "@jupyter-widgets/controls"
          }
        },
        "7f97ed462e984588be82bf80137e372a": {
          "model_module": "@jupyter-widgets/base",
          "model_name": "LayoutModel",
          "state": {
            "_view_name": "LayoutView",
            "grid_template_rows": null,
            "right": null,
            "justify_content": null,
            "_view_module": "@jupyter-widgets/base",
            "overflow": null,
            "_model_module_version": "1.2.0",
            "_view_count": null,
            "flex_flow": null,
            "width": null,
            "min_width": null,
            "border": null,
            "align_items": null,
            "bottom": null,
            "_model_module": "@jupyter-widgets/base",
            "top": null,
            "grid_column": null,
            "overflow_y": null,
            "overflow_x": null,
            "grid_auto_flow": null,
            "grid_area": null,
            "grid_template_columns": null,
            "flex": null,
            "_model_name": "LayoutModel",
            "justify_items": null,
            "grid_row": null,
            "max_height": null,
            "align_content": null,
            "visibility": null,
            "align_self": null,
            "height": null,
            "min_height": null,
            "padding": null,
            "grid_auto_rows": null,
            "grid_gap": null,
            "max_width": null,
            "order": null,
            "_view_module_version": "1.2.0",
            "grid_template_areas": null,
            "object_position": null,
            "object_fit": null,
            "grid_auto_columns": null,
            "margin": null,
            "display": null,
            "left": null
          }
        },
        "f805a3da84034d0bba62e7aed1f510ba": {
          "model_module": "@jupyter-widgets/controls",
          "model_name": "HBoxModel",
          "state": {
            "_view_name": "HBoxView",
            "_dom_classes": [],
            "_model_name": "HBoxModel",
            "_view_module": "@jupyter-widgets/controls",
            "_model_module_version": "1.5.0",
            "_view_count": null,
            "_view_module_version": "1.5.0",
            "box_style": "",
            "layout": "IPY_MODEL_5d9395a859274011afee72ecefad2e3e",
            "_model_module": "@jupyter-widgets/controls",
            "children": [
              "IPY_MODEL_79dce6077b264dfbabc9974fc7ba94cb",
              "IPY_MODEL_fd13a96fa9164893a2ea60f00638a7b3"
            ]
          }
        },
        "5d9395a859274011afee72ecefad2e3e": {
          "model_module": "@jupyter-widgets/base",
          "model_name": "LayoutModel",
          "state": {
            "_view_name": "LayoutView",
            "grid_template_rows": null,
            "right": null,
            "justify_content": null,
            "_view_module": "@jupyter-widgets/base",
            "overflow": null,
            "_model_module_version": "1.2.0",
            "_view_count": null,
            "flex_flow": null,
            "width": null,
            "min_width": null,
            "border": null,
            "align_items": null,
            "bottom": null,
            "_model_module": "@jupyter-widgets/base",
            "top": null,
            "grid_column": null,
            "overflow_y": null,
            "overflow_x": null,
            "grid_auto_flow": null,
            "grid_area": null,
            "grid_template_columns": null,
            "flex": null,
            "_model_name": "LayoutModel",
            "justify_items": null,
            "grid_row": null,
            "max_height": null,
            "align_content": null,
            "visibility": null,
            "align_self": null,
            "height": null,
            "min_height": null,
            "padding": null,
            "grid_auto_rows": null,
            "grid_gap": null,
            "max_width": null,
            "order": null,
            "_view_module_version": "1.2.0",
            "grid_template_areas": null,
            "object_position": null,
            "object_fit": null,
            "grid_auto_columns": null,
            "margin": null,
            "display": null,
            "left": null
          }
        },
        "79dce6077b264dfbabc9974fc7ba94cb": {
          "model_module": "@jupyter-widgets/controls",
          "model_name": "FloatProgressModel",
          "state": {
            "_view_name": "ProgressView",
            "style": "IPY_MODEL_e1344ac0ed33433fa6853924c3830f1c",
            "_dom_classes": [],
            "description": "100%",
            "_model_name": "FloatProgressModel",
            "bar_style": "success",
            "max": 141,
            "_view_module": "@jupyter-widgets/controls",
            "_model_module_version": "1.5.0",
            "value": 141,
            "_view_count": null,
            "_view_module_version": "1.5.0",
            "orientation": "horizontal",
            "min": 0,
            "description_tooltip": null,
            "_model_module": "@jupyter-widgets/controls",
            "layout": "IPY_MODEL_f0e3b5799de447df916042c32375870c"
          }
        },
        "fd13a96fa9164893a2ea60f00638a7b3": {
          "model_module": "@jupyter-widgets/controls",
          "model_name": "HTMLModel",
          "state": {
            "_view_name": "HTMLView",
            "style": "IPY_MODEL_71c851026d0f42df935ee8c31ac5e0d3",
            "_dom_classes": [],
            "description": "",
            "_model_name": "HTMLModel",
            "placeholder": "​",
            "_view_module": "@jupyter-widgets/controls",
            "_model_module_version": "1.5.0",
            "value": " 141/141 [07:33&lt;00:00,  3.21s/it]",
            "_view_count": null,
            "_view_module_version": "1.5.0",
            "description_tooltip": null,
            "_model_module": "@jupyter-widgets/controls",
            "layout": "IPY_MODEL_4368fe4af40447c19a9884d57ece97ef"
          }
        },
        "e1344ac0ed33433fa6853924c3830f1c": {
          "model_module": "@jupyter-widgets/controls",
          "model_name": "ProgressStyleModel",
          "state": {
            "_view_name": "StyleView",
            "_model_name": "ProgressStyleModel",
            "description_width": "initial",
            "_view_module": "@jupyter-widgets/base",
            "_model_module_version": "1.5.0",
            "_view_count": null,
            "_view_module_version": "1.2.0",
            "bar_color": null,
            "_model_module": "@jupyter-widgets/controls"
          }
        },
        "f0e3b5799de447df916042c32375870c": {
          "model_module": "@jupyter-widgets/base",
          "model_name": "LayoutModel",
          "state": {
            "_view_name": "LayoutView",
            "grid_template_rows": null,
            "right": null,
            "justify_content": null,
            "_view_module": "@jupyter-widgets/base",
            "overflow": null,
            "_model_module_version": "1.2.0",
            "_view_count": null,
            "flex_flow": null,
            "width": null,
            "min_width": null,
            "border": null,
            "align_items": null,
            "bottom": null,
            "_model_module": "@jupyter-widgets/base",
            "top": null,
            "grid_column": null,
            "overflow_y": null,
            "overflow_x": null,
            "grid_auto_flow": null,
            "grid_area": null,
            "grid_template_columns": null,
            "flex": null,
            "_model_name": "LayoutModel",
            "justify_items": null,
            "grid_row": null,
            "max_height": null,
            "align_content": null,
            "visibility": null,
            "align_self": null,
            "height": null,
            "min_height": null,
            "padding": null,
            "grid_auto_rows": null,
            "grid_gap": null,
            "max_width": null,
            "order": null,
            "_view_module_version": "1.2.0",
            "grid_template_areas": null,
            "object_position": null,
            "object_fit": null,
            "grid_auto_columns": null,
            "margin": null,
            "display": null,
            "left": null
          }
        },
        "71c851026d0f42df935ee8c31ac5e0d3": {
          "model_module": "@jupyter-widgets/controls",
          "model_name": "DescriptionStyleModel",
          "state": {
            "_view_name": "StyleView",
            "_model_name": "DescriptionStyleModel",
            "description_width": "",
            "_view_module": "@jupyter-widgets/base",
            "_model_module_version": "1.5.0",
            "_view_count": null,
            "_view_module_version": "1.2.0",
            "_model_module": "@jupyter-widgets/controls"
          }
        },
        "4368fe4af40447c19a9884d57ece97ef": {
          "model_module": "@jupyter-widgets/base",
          "model_name": "LayoutModel",
          "state": {
            "_view_name": "LayoutView",
            "grid_template_rows": null,
            "right": null,
            "justify_content": null,
            "_view_module": "@jupyter-widgets/base",
            "overflow": null,
            "_model_module_version": "1.2.0",
            "_view_count": null,
            "flex_flow": null,
            "width": null,
            "min_width": null,
            "border": null,
            "align_items": null,
            "bottom": null,
            "_model_module": "@jupyter-widgets/base",
            "top": null,
            "grid_column": null,
            "overflow_y": null,
            "overflow_x": null,
            "grid_auto_flow": null,
            "grid_area": null,
            "grid_template_columns": null,
            "flex": null,
            "_model_name": "LayoutModel",
            "justify_items": null,
            "grid_row": null,
            "max_height": null,
            "align_content": null,
            "visibility": null,
            "align_self": null,
            "height": null,
            "min_height": null,
            "padding": null,
            "grid_auto_rows": null,
            "grid_gap": null,
            "max_width": null,
            "order": null,
            "_view_module_version": "1.2.0",
            "grid_template_areas": null,
            "object_position": null,
            "object_fit": null,
            "grid_auto_columns": null,
            "margin": null,
            "display": null,
            "left": null
          }
        },
        "efbd8844788d41f6882a0c9ccb71f13f": {
          "model_module": "@jupyter-widgets/controls",
          "model_name": "HBoxModel",
          "state": {
            "_view_name": "HBoxView",
            "_dom_classes": [],
            "_model_name": "HBoxModel",
            "_view_module": "@jupyter-widgets/controls",
            "_model_module_version": "1.5.0",
            "_view_count": null,
            "_view_module_version": "1.5.0",
            "box_style": "",
            "layout": "IPY_MODEL_97899b1173d44b9088f2156490f02d52",
            "_model_module": "@jupyter-widgets/controls",
            "children": [
              "IPY_MODEL_331a014c13b0468da6c066f26f1c7fc5",
              "IPY_MODEL_1b3300c6abae48d6b2ecd46888a40629"
            ]
          }
        },
        "97899b1173d44b9088f2156490f02d52": {
          "model_module": "@jupyter-widgets/base",
          "model_name": "LayoutModel",
          "state": {
            "_view_name": "LayoutView",
            "grid_template_rows": null,
            "right": null,
            "justify_content": null,
            "_view_module": "@jupyter-widgets/base",
            "overflow": null,
            "_model_module_version": "1.2.0",
            "_view_count": null,
            "flex_flow": null,
            "width": null,
            "min_width": null,
            "border": null,
            "align_items": null,
            "bottom": null,
            "_model_module": "@jupyter-widgets/base",
            "top": null,
            "grid_column": null,
            "overflow_y": null,
            "overflow_x": null,
            "grid_auto_flow": null,
            "grid_area": null,
            "grid_template_columns": null,
            "flex": null,
            "_model_name": "LayoutModel",
            "justify_items": null,
            "grid_row": null,
            "max_height": null,
            "align_content": null,
            "visibility": null,
            "align_self": null,
            "height": null,
            "min_height": null,
            "padding": null,
            "grid_auto_rows": null,
            "grid_gap": null,
            "max_width": null,
            "order": null,
            "_view_module_version": "1.2.0",
            "grid_template_areas": null,
            "object_position": null,
            "object_fit": null,
            "grid_auto_columns": null,
            "margin": null,
            "display": null,
            "left": null
          }
        },
        "331a014c13b0468da6c066f26f1c7fc5": {
          "model_module": "@jupyter-widgets/controls",
          "model_name": "FloatProgressModel",
          "state": {
            "_view_name": "ProgressView",
            "style": "IPY_MODEL_6f3ceb6cf79c4a1e8968c03ca0c70e2d",
            "_dom_classes": [],
            "description": "100%",
            "_model_name": "FloatProgressModel",
            "bar_style": "success",
            "max": 141,
            "_view_module": "@jupyter-widgets/controls",
            "_model_module_version": "1.5.0",
            "value": 141,
            "_view_count": null,
            "_view_module_version": "1.5.0",
            "orientation": "horizontal",
            "min": 0,
            "description_tooltip": null,
            "_model_module": "@jupyter-widgets/controls",
            "layout": "IPY_MODEL_5c12ecb9ab8340a2bda914ef61601513"
          }
        },
        "1b3300c6abae48d6b2ecd46888a40629": {
          "model_module": "@jupyter-widgets/controls",
          "model_name": "HTMLModel",
          "state": {
            "_view_name": "HTMLView",
            "style": "IPY_MODEL_94f5eb631d04425498a49b181fd4a415",
            "_dom_classes": [],
            "description": "",
            "_model_name": "HTMLModel",
            "placeholder": "​",
            "_view_module": "@jupyter-widgets/controls",
            "_model_module_version": "1.5.0",
            "value": " 141/141 [05:39&lt;00:00,  2.41s/it]",
            "_view_count": null,
            "_view_module_version": "1.5.0",
            "description_tooltip": null,
            "_model_module": "@jupyter-widgets/controls",
            "layout": "IPY_MODEL_448bea01dbc74e429f3a03a42def4f21"
          }
        },
        "6f3ceb6cf79c4a1e8968c03ca0c70e2d": {
          "model_module": "@jupyter-widgets/controls",
          "model_name": "ProgressStyleModel",
          "state": {
            "_view_name": "StyleView",
            "_model_name": "ProgressStyleModel",
            "description_width": "initial",
            "_view_module": "@jupyter-widgets/base",
            "_model_module_version": "1.5.0",
            "_view_count": null,
            "_view_module_version": "1.2.0",
            "bar_color": null,
            "_model_module": "@jupyter-widgets/controls"
          }
        },
        "5c12ecb9ab8340a2bda914ef61601513": {
          "model_module": "@jupyter-widgets/base",
          "model_name": "LayoutModel",
          "state": {
            "_view_name": "LayoutView",
            "grid_template_rows": null,
            "right": null,
            "justify_content": null,
            "_view_module": "@jupyter-widgets/base",
            "overflow": null,
            "_model_module_version": "1.2.0",
            "_view_count": null,
            "flex_flow": null,
            "width": null,
            "min_width": null,
            "border": null,
            "align_items": null,
            "bottom": null,
            "_model_module": "@jupyter-widgets/base",
            "top": null,
            "grid_column": null,
            "overflow_y": null,
            "overflow_x": null,
            "grid_auto_flow": null,
            "grid_area": null,
            "grid_template_columns": null,
            "flex": null,
            "_model_name": "LayoutModel",
            "justify_items": null,
            "grid_row": null,
            "max_height": null,
            "align_content": null,
            "visibility": null,
            "align_self": null,
            "height": null,
            "min_height": null,
            "padding": null,
            "grid_auto_rows": null,
            "grid_gap": null,
            "max_width": null,
            "order": null,
            "_view_module_version": "1.2.0",
            "grid_template_areas": null,
            "object_position": null,
            "object_fit": null,
            "grid_auto_columns": null,
            "margin": null,
            "display": null,
            "left": null
          }
        },
        "94f5eb631d04425498a49b181fd4a415": {
          "model_module": "@jupyter-widgets/controls",
          "model_name": "DescriptionStyleModel",
          "state": {
            "_view_name": "StyleView",
            "_model_name": "DescriptionStyleModel",
            "description_width": "",
            "_view_module": "@jupyter-widgets/base",
            "_model_module_version": "1.5.0",
            "_view_count": null,
            "_view_module_version": "1.2.0",
            "_model_module": "@jupyter-widgets/controls"
          }
        },
        "448bea01dbc74e429f3a03a42def4f21": {
          "model_module": "@jupyter-widgets/base",
          "model_name": "LayoutModel",
          "state": {
            "_view_name": "LayoutView",
            "grid_template_rows": null,
            "right": null,
            "justify_content": null,
            "_view_module": "@jupyter-widgets/base",
            "overflow": null,
            "_model_module_version": "1.2.0",
            "_view_count": null,
            "flex_flow": null,
            "width": null,
            "min_width": null,
            "border": null,
            "align_items": null,
            "bottom": null,
            "_model_module": "@jupyter-widgets/base",
            "top": null,
            "grid_column": null,
            "overflow_y": null,
            "overflow_x": null,
            "grid_auto_flow": null,
            "grid_area": null,
            "grid_template_columns": null,
            "flex": null,
            "_model_name": "LayoutModel",
            "justify_items": null,
            "grid_row": null,
            "max_height": null,
            "align_content": null,
            "visibility": null,
            "align_self": null,
            "height": null,
            "min_height": null,
            "padding": null,
            "grid_auto_rows": null,
            "grid_gap": null,
            "max_width": null,
            "order": null,
            "_view_module_version": "1.2.0",
            "grid_template_areas": null,
            "object_position": null,
            "object_fit": null,
            "grid_auto_columns": null,
            "margin": null,
            "display": null,
            "left": null
          }
        },
        "488b257073d94b548eec8baae11d2d13": {
          "model_module": "@jupyter-widgets/controls",
          "model_name": "HBoxModel",
          "state": {
            "_view_name": "HBoxView",
            "_dom_classes": [],
            "_model_name": "HBoxModel",
            "_view_module": "@jupyter-widgets/controls",
            "_model_module_version": "1.5.0",
            "_view_count": null,
            "_view_module_version": "1.5.0",
            "box_style": "",
            "layout": "IPY_MODEL_188e214e6b6144dd89d8d95cbbb25d7a",
            "_model_module": "@jupyter-widgets/controls",
            "children": [
              "IPY_MODEL_d588f60df5be48b28030ef5cea3114c8",
              "IPY_MODEL_9d5251f119d548148546779683ed8abb"
            ]
          }
        },
        "188e214e6b6144dd89d8d95cbbb25d7a": {
          "model_module": "@jupyter-widgets/base",
          "model_name": "LayoutModel",
          "state": {
            "_view_name": "LayoutView",
            "grid_template_rows": null,
            "right": null,
            "justify_content": null,
            "_view_module": "@jupyter-widgets/base",
            "overflow": null,
            "_model_module_version": "1.2.0",
            "_view_count": null,
            "flex_flow": null,
            "width": null,
            "min_width": null,
            "border": null,
            "align_items": null,
            "bottom": null,
            "_model_module": "@jupyter-widgets/base",
            "top": null,
            "grid_column": null,
            "overflow_y": null,
            "overflow_x": null,
            "grid_auto_flow": null,
            "grid_area": null,
            "grid_template_columns": null,
            "flex": null,
            "_model_name": "LayoutModel",
            "justify_items": null,
            "grid_row": null,
            "max_height": null,
            "align_content": null,
            "visibility": null,
            "align_self": null,
            "height": null,
            "min_height": null,
            "padding": null,
            "grid_auto_rows": null,
            "grid_gap": null,
            "max_width": null,
            "order": null,
            "_view_module_version": "1.2.0",
            "grid_template_areas": null,
            "object_position": null,
            "object_fit": null,
            "grid_auto_columns": null,
            "margin": null,
            "display": null,
            "left": null
          }
        },
        "d588f60df5be48b28030ef5cea3114c8": {
          "model_module": "@jupyter-widgets/controls",
          "model_name": "FloatProgressModel",
          "state": {
            "_view_name": "ProgressView",
            "style": "IPY_MODEL_344de9e8d67c4280a02605297a0d0c6d",
            "_dom_classes": [],
            "description": "100%",
            "_model_name": "FloatProgressModel",
            "bar_style": "success",
            "max": 141,
            "_view_module": "@jupyter-widgets/controls",
            "_model_module_version": "1.5.0",
            "value": 141,
            "_view_count": null,
            "_view_module_version": "1.5.0",
            "orientation": "horizontal",
            "min": 0,
            "description_tooltip": null,
            "_model_module": "@jupyter-widgets/controls",
            "layout": "IPY_MODEL_3dcd51d2db3a47dea77f42b5978c3df9"
          }
        },
        "9d5251f119d548148546779683ed8abb": {
          "model_module": "@jupyter-widgets/controls",
          "model_name": "HTMLModel",
          "state": {
            "_view_name": "HTMLView",
            "style": "IPY_MODEL_c96f7c0113a14bc4b0602b26c04942df",
            "_dom_classes": [],
            "description": "",
            "_model_name": "HTMLModel",
            "placeholder": "​",
            "_view_module": "@jupyter-widgets/controls",
            "_model_module_version": "1.5.0",
            "value": " 141/141 [03:46&lt;00:00,  1.61s/it]",
            "_view_count": null,
            "_view_module_version": "1.5.0",
            "description_tooltip": null,
            "_model_module": "@jupyter-widgets/controls",
            "layout": "IPY_MODEL_e792427344894c8c88924c21c7c9ede5"
          }
        },
        "344de9e8d67c4280a02605297a0d0c6d": {
          "model_module": "@jupyter-widgets/controls",
          "model_name": "ProgressStyleModel",
          "state": {
            "_view_name": "StyleView",
            "_model_name": "ProgressStyleModel",
            "description_width": "initial",
            "_view_module": "@jupyter-widgets/base",
            "_model_module_version": "1.5.0",
            "_view_count": null,
            "_view_module_version": "1.2.0",
            "bar_color": null,
            "_model_module": "@jupyter-widgets/controls"
          }
        },
        "3dcd51d2db3a47dea77f42b5978c3df9": {
          "model_module": "@jupyter-widgets/base",
          "model_name": "LayoutModel",
          "state": {
            "_view_name": "LayoutView",
            "grid_template_rows": null,
            "right": null,
            "justify_content": null,
            "_view_module": "@jupyter-widgets/base",
            "overflow": null,
            "_model_module_version": "1.2.0",
            "_view_count": null,
            "flex_flow": null,
            "width": null,
            "min_width": null,
            "border": null,
            "align_items": null,
            "bottom": null,
            "_model_module": "@jupyter-widgets/base",
            "top": null,
            "grid_column": null,
            "overflow_y": null,
            "overflow_x": null,
            "grid_auto_flow": null,
            "grid_area": null,
            "grid_template_columns": null,
            "flex": null,
            "_model_name": "LayoutModel",
            "justify_items": null,
            "grid_row": null,
            "max_height": null,
            "align_content": null,
            "visibility": null,
            "align_self": null,
            "height": null,
            "min_height": null,
            "padding": null,
            "grid_auto_rows": null,
            "grid_gap": null,
            "max_width": null,
            "order": null,
            "_view_module_version": "1.2.0",
            "grid_template_areas": null,
            "object_position": null,
            "object_fit": null,
            "grid_auto_columns": null,
            "margin": null,
            "display": null,
            "left": null
          }
        },
        "c96f7c0113a14bc4b0602b26c04942df": {
          "model_module": "@jupyter-widgets/controls",
          "model_name": "DescriptionStyleModel",
          "state": {
            "_view_name": "StyleView",
            "_model_name": "DescriptionStyleModel",
            "description_width": "",
            "_view_module": "@jupyter-widgets/base",
            "_model_module_version": "1.5.0",
            "_view_count": null,
            "_view_module_version": "1.2.0",
            "_model_module": "@jupyter-widgets/controls"
          }
        },
        "e792427344894c8c88924c21c7c9ede5": {
          "model_module": "@jupyter-widgets/base",
          "model_name": "LayoutModel",
          "state": {
            "_view_name": "LayoutView",
            "grid_template_rows": null,
            "right": null,
            "justify_content": null,
            "_view_module": "@jupyter-widgets/base",
            "overflow": null,
            "_model_module_version": "1.2.0",
            "_view_count": null,
            "flex_flow": null,
            "width": null,
            "min_width": null,
            "border": null,
            "align_items": null,
            "bottom": null,
            "_model_module": "@jupyter-widgets/base",
            "top": null,
            "grid_column": null,
            "overflow_y": null,
            "overflow_x": null,
            "grid_auto_flow": null,
            "grid_area": null,
            "grid_template_columns": null,
            "flex": null,
            "_model_name": "LayoutModel",
            "justify_items": null,
            "grid_row": null,
            "max_height": null,
            "align_content": null,
            "visibility": null,
            "align_self": null,
            "height": null,
            "min_height": null,
            "padding": null,
            "grid_auto_rows": null,
            "grid_gap": null,
            "max_width": null,
            "order": null,
            "_view_module_version": "1.2.0",
            "grid_template_areas": null,
            "object_position": null,
            "object_fit": null,
            "grid_auto_columns": null,
            "margin": null,
            "display": null,
            "left": null
          }
        },
        "75cd192f98cb457f81816439f22a100c": {
          "model_module": "@jupyter-widgets/controls",
          "model_name": "HBoxModel",
          "state": {
            "_view_name": "HBoxView",
            "_dom_classes": [],
            "_model_name": "HBoxModel",
            "_view_module": "@jupyter-widgets/controls",
            "_model_module_version": "1.5.0",
            "_view_count": null,
            "_view_module_version": "1.5.0",
            "box_style": "",
            "layout": "IPY_MODEL_ae955e22c3c440b6ac42a5815878fef2",
            "_model_module": "@jupyter-widgets/controls",
            "children": [
              "IPY_MODEL_b95e8f15a6d04aa891c4668272105853",
              "IPY_MODEL_8d9d770b68d84de9b21b4f75a64dded7"
            ]
          }
        },
        "ae955e22c3c440b6ac42a5815878fef2": {
          "model_module": "@jupyter-widgets/base",
          "model_name": "LayoutModel",
          "state": {
            "_view_name": "LayoutView",
            "grid_template_rows": null,
            "right": null,
            "justify_content": null,
            "_view_module": "@jupyter-widgets/base",
            "overflow": null,
            "_model_module_version": "1.2.0",
            "_view_count": null,
            "flex_flow": null,
            "width": null,
            "min_width": null,
            "border": null,
            "align_items": null,
            "bottom": null,
            "_model_module": "@jupyter-widgets/base",
            "top": null,
            "grid_column": null,
            "overflow_y": null,
            "overflow_x": null,
            "grid_auto_flow": null,
            "grid_area": null,
            "grid_template_columns": null,
            "flex": null,
            "_model_name": "LayoutModel",
            "justify_items": null,
            "grid_row": null,
            "max_height": null,
            "align_content": null,
            "visibility": null,
            "align_self": null,
            "height": null,
            "min_height": null,
            "padding": null,
            "grid_auto_rows": null,
            "grid_gap": null,
            "max_width": null,
            "order": null,
            "_view_module_version": "1.2.0",
            "grid_template_areas": null,
            "object_position": null,
            "object_fit": null,
            "grid_auto_columns": null,
            "margin": null,
            "display": null,
            "left": null
          }
        },
        "b95e8f15a6d04aa891c4668272105853": {
          "model_module": "@jupyter-widgets/controls",
          "model_name": "FloatProgressModel",
          "state": {
            "_view_name": "ProgressView",
            "style": "IPY_MODEL_e8769fc28466402aa9f1604c8529c874",
            "_dom_classes": [],
            "description": "100%",
            "_model_name": "FloatProgressModel",
            "bar_style": "success",
            "max": 141,
            "_view_module": "@jupyter-widgets/controls",
            "_model_module_version": "1.5.0",
            "value": 141,
            "_view_count": null,
            "_view_module_version": "1.5.0",
            "orientation": "horizontal",
            "min": 0,
            "description_tooltip": null,
            "_model_module": "@jupyter-widgets/controls",
            "layout": "IPY_MODEL_ddb1e2f0732a42a385619571009e487c"
          }
        },
        "8d9d770b68d84de9b21b4f75a64dded7": {
          "model_module": "@jupyter-widgets/controls",
          "model_name": "HTMLModel",
          "state": {
            "_view_name": "HTMLView",
            "style": "IPY_MODEL_b37309182a8847e0942e7fe59715168b",
            "_dom_classes": [],
            "description": "",
            "_model_name": "HTMLModel",
            "placeholder": "​",
            "_view_module": "@jupyter-widgets/controls",
            "_model_module_version": "1.5.0",
            "value": " 141/141 [01:53&lt;00:00,  1.25it/s]",
            "_view_count": null,
            "_view_module_version": "1.5.0",
            "description_tooltip": null,
            "_model_module": "@jupyter-widgets/controls",
            "layout": "IPY_MODEL_872942a8724541d4af233b048a4d9b80"
          }
        },
        "e8769fc28466402aa9f1604c8529c874": {
          "model_module": "@jupyter-widgets/controls",
          "model_name": "ProgressStyleModel",
          "state": {
            "_view_name": "StyleView",
            "_model_name": "ProgressStyleModel",
            "description_width": "initial",
            "_view_module": "@jupyter-widgets/base",
            "_model_module_version": "1.5.0",
            "_view_count": null,
            "_view_module_version": "1.2.0",
            "bar_color": null,
            "_model_module": "@jupyter-widgets/controls"
          }
        },
        "ddb1e2f0732a42a385619571009e487c": {
          "model_module": "@jupyter-widgets/base",
          "model_name": "LayoutModel",
          "state": {
            "_view_name": "LayoutView",
            "grid_template_rows": null,
            "right": null,
            "justify_content": null,
            "_view_module": "@jupyter-widgets/base",
            "overflow": null,
            "_model_module_version": "1.2.0",
            "_view_count": null,
            "flex_flow": null,
            "width": null,
            "min_width": null,
            "border": null,
            "align_items": null,
            "bottom": null,
            "_model_module": "@jupyter-widgets/base",
            "top": null,
            "grid_column": null,
            "overflow_y": null,
            "overflow_x": null,
            "grid_auto_flow": null,
            "grid_area": null,
            "grid_template_columns": null,
            "flex": null,
            "_model_name": "LayoutModel",
            "justify_items": null,
            "grid_row": null,
            "max_height": null,
            "align_content": null,
            "visibility": null,
            "align_self": null,
            "height": null,
            "min_height": null,
            "padding": null,
            "grid_auto_rows": null,
            "grid_gap": null,
            "max_width": null,
            "order": null,
            "_view_module_version": "1.2.0",
            "grid_template_areas": null,
            "object_position": null,
            "object_fit": null,
            "grid_auto_columns": null,
            "margin": null,
            "display": null,
            "left": null
          }
        },
        "b37309182a8847e0942e7fe59715168b": {
          "model_module": "@jupyter-widgets/controls",
          "model_name": "DescriptionStyleModel",
          "state": {
            "_view_name": "StyleView",
            "_model_name": "DescriptionStyleModel",
            "description_width": "",
            "_view_module": "@jupyter-widgets/base",
            "_model_module_version": "1.5.0",
            "_view_count": null,
            "_view_module_version": "1.2.0",
            "_model_module": "@jupyter-widgets/controls"
          }
        },
        "872942a8724541d4af233b048a4d9b80": {
          "model_module": "@jupyter-widgets/base",
          "model_name": "LayoutModel",
          "state": {
            "_view_name": "LayoutView",
            "grid_template_rows": null,
            "right": null,
            "justify_content": null,
            "_view_module": "@jupyter-widgets/base",
            "overflow": null,
            "_model_module_version": "1.2.0",
            "_view_count": null,
            "flex_flow": null,
            "width": null,
            "min_width": null,
            "border": null,
            "align_items": null,
            "bottom": null,
            "_model_module": "@jupyter-widgets/base",
            "top": null,
            "grid_column": null,
            "overflow_y": null,
            "overflow_x": null,
            "grid_auto_flow": null,
            "grid_area": null,
            "grid_template_columns": null,
            "flex": null,
            "_model_name": "LayoutModel",
            "justify_items": null,
            "grid_row": null,
            "max_height": null,
            "align_content": null,
            "visibility": null,
            "align_self": null,
            "height": null,
            "min_height": null,
            "padding": null,
            "grid_auto_rows": null,
            "grid_gap": null,
            "max_width": null,
            "order": null,
            "_view_module_version": "1.2.0",
            "grid_template_areas": null,
            "object_position": null,
            "object_fit": null,
            "grid_auto_columns": null,
            "margin": null,
            "display": null,
            "left": null
          }
        }
      }
    },
    "accelerator": "GPU"
  },
  "cells": [
    {
      "cell_type": "markdown",
      "metadata": {
        "id": "yYi56HsL0Fff"
      },
      "source": [
        "# text2poem\n",
        "End-to-End Poetry Generation from a list of topics using [T5: Text-To-Text Transfer Transformer](https://arxiv.org/abs/1910.10683)  \n",
        "Author: [Harshit Varma](https://github.com/hrshtv)\n",
        "\n"
      ]
    },
    {
      "cell_type": "markdown",
      "metadata": {
        "id": "jMy7DpOtax_8"
      },
      "source": [
        "## Install Dependencies"
      ]
    },
    {
      "cell_type": "code",
      "metadata": {
        "colab": {
          "base_uri": "https://localhost:8080/"
        },
        "id": "8bXCqW6Y134M",
        "outputId": "6bc60656-a6ef-4c42-981f-4fd075e97db4"
      },
      "source": [
        "! pip install transformers==4.5.1\n",
        "! pip install sentencepiece==0.1.94 # Version is important as T5's tokenizer has this version as a dependency "
      ],
      "execution_count": 1,
      "outputs": [
        {
          "output_type": "stream",
          "text": [
            "Collecting transformers==4.5.1\n",
            "\u001b[?25l  Downloading https://files.pythonhosted.org/packages/d8/b2/57495b5309f09fa501866e225c84532d1fd89536ea62406b2181933fb418/transformers-4.5.1-py3-none-any.whl (2.1MB)\n",
            "\u001b[K     |████████████████████████████████| 2.1MB 29.1MB/s \n",
            "\u001b[?25hCollecting sacremoses\n",
            "\u001b[?25l  Downloading https://files.pythonhosted.org/packages/75/ee/67241dc87f266093c533a2d4d3d69438e57d7a90abb216fa076e7d475d4a/sacremoses-0.0.45-py3-none-any.whl (895kB)\n",
            "\u001b[K     |████████████████████████████████| 901kB 37.6MB/s \n",
            "\u001b[?25hCollecting tokenizers<0.11,>=0.10.1\n",
            "\u001b[?25l  Downloading https://files.pythonhosted.org/packages/ae/04/5b870f26a858552025a62f1649c20d29d2672c02ff3c3fb4c688ca46467a/tokenizers-0.10.2-cp37-cp37m-manylinux2010_x86_64.whl (3.3MB)\n",
            "\u001b[K     |████████████████████████████████| 3.3MB 41.7MB/s \n",
            "\u001b[?25hRequirement already satisfied: numpy>=1.17 in /usr/local/lib/python3.7/dist-packages (from transformers==4.5.1) (1.19.5)\n",
            "Requirement already satisfied: regex!=2019.12.17 in /usr/local/lib/python3.7/dist-packages (from transformers==4.5.1) (2019.12.20)\n",
            "Requirement already satisfied: tqdm>=4.27 in /usr/local/lib/python3.7/dist-packages (from transformers==4.5.1) (4.41.1)\n",
            "Requirement already satisfied: importlib-metadata; python_version < \"3.8\" in /usr/local/lib/python3.7/dist-packages (from transformers==4.5.1) (4.0.1)\n",
            "Requirement already satisfied: requests in /usr/local/lib/python3.7/dist-packages (from transformers==4.5.1) (2.23.0)\n",
            "Requirement already satisfied: filelock in /usr/local/lib/python3.7/dist-packages (from transformers==4.5.1) (3.0.12)\n",
            "Requirement already satisfied: packaging in /usr/local/lib/python3.7/dist-packages (from transformers==4.5.1) (20.9)\n",
            "Requirement already satisfied: six in /usr/local/lib/python3.7/dist-packages (from sacremoses->transformers==4.5.1) (1.15.0)\n",
            "Requirement already satisfied: joblib in /usr/local/lib/python3.7/dist-packages (from sacremoses->transformers==4.5.1) (1.0.1)\n",
            "Requirement already satisfied: click in /usr/local/lib/python3.7/dist-packages (from sacremoses->transformers==4.5.1) (7.1.2)\n",
            "Requirement already satisfied: zipp>=0.5 in /usr/local/lib/python3.7/dist-packages (from importlib-metadata; python_version < \"3.8\"->transformers==4.5.1) (3.4.1)\n",
            "Requirement already satisfied: typing-extensions>=3.6.4; python_version < \"3.8\" in /usr/local/lib/python3.7/dist-packages (from importlib-metadata; python_version < \"3.8\"->transformers==4.5.1) (3.7.4.3)\n",
            "Requirement already satisfied: chardet<4,>=3.0.2 in /usr/local/lib/python3.7/dist-packages (from requests->transformers==4.5.1) (3.0.4)\n",
            "Requirement already satisfied: certifi>=2017.4.17 in /usr/local/lib/python3.7/dist-packages (from requests->transformers==4.5.1) (2020.12.5)\n",
            "Requirement already satisfied: idna<3,>=2.5 in /usr/local/lib/python3.7/dist-packages (from requests->transformers==4.5.1) (2.10)\n",
            "Requirement already satisfied: urllib3!=1.25.0,!=1.25.1,<1.26,>=1.21.1 in /usr/local/lib/python3.7/dist-packages (from requests->transformers==4.5.1) (1.24.3)\n",
            "Requirement already satisfied: pyparsing>=2.0.2 in /usr/local/lib/python3.7/dist-packages (from packaging->transformers==4.5.1) (2.4.7)\n",
            "Installing collected packages: sacremoses, tokenizers, transformers\n",
            "Successfully installed sacremoses-0.0.45 tokenizers-0.10.2 transformers-4.5.1\n",
            "Collecting sentencepiece==0.1.94\n",
            "\u001b[?25l  Downloading https://files.pythonhosted.org/packages/6e/f0/7614029138ec9422f1a3ed3cd82c3bfc0821157e8032ca1828cee6b198bb/sentencepiece-0.1.94-cp37-cp37m-manylinux2014_x86_64.whl (1.1MB)\n",
            "\u001b[K     |████████████████████████████████| 1.1MB 35.2MB/s \n",
            "\u001b[?25hInstalling collected packages: sentencepiece\n",
            "Successfully installed sentencepiece-0.1.94\n"
          ],
          "name": "stdout"
        }
      ]
    },
    {
      "cell_type": "markdown",
      "metadata": {
        "id": "U9kTPMNaaawb"
      },
      "source": [
        "## Connect to GDrive"
      ]
    },
    {
      "cell_type": "code",
      "metadata": {
        "colab": {
          "base_uri": "https://localhost:8080/"
        },
        "id": "X_tqFFHIXgKU",
        "outputId": "333e7923-681f-4f2c-c487-1cf06f4882c9"
      },
      "source": [
        "from google.colab import drive\n",
        "drive.mount(\"/content/gdrive\")"
      ],
      "execution_count": 2,
      "outputs": [
        {
          "output_type": "stream",
          "text": [
            "Mounted at /content/gdrive\n"
          ],
          "name": "stdout"
        }
      ]
    },
    {
      "cell_type": "markdown",
      "metadata": {
        "id": "j4DgXBPfh8UX"
      },
      "source": [
        "## Start\n",
        "To reset the notebook, run from this point"
      ]
    },
    {
      "cell_type": "code",
      "metadata": {
        "id": "A9L1H5KRh1b3"
      },
      "source": [
        "%reset -f"
      ],
      "execution_count": 166,
      "outputs": []
    },
    {
      "cell_type": "markdown",
      "metadata": {
        "id": "hBESXajW16Wr"
      },
      "source": [
        "## Import Libraries"
      ]
    },
    {
      "cell_type": "code",
      "metadata": {
        "id": "PM0-5Wb17h5Z"
      },
      "source": [
        "# General libraries\n",
        "import random\n",
        "import numpy as np\n",
        "import pandas as pd\n",
        "from tqdm.notebook import tqdm\n",
        "from matplotlib import pyplot as plt\n",
        "from sklearn.model_selection import train_test_split as tts\n",
        "\n",
        "# The general framework used\n",
        "import torch\n",
        "from torch.utils.data import Dataset, DataLoader\n",
        "\n",
        "# T5 specific libraries\n",
        "from transformers.optimization import Adafactor\n",
        "from transformers import T5Tokenizer, T5ForConditionalGeneration"
      ],
      "execution_count": 167,
      "outputs": []
    },
    {
      "cell_type": "markdown",
      "metadata": {
        "id": "E9VKz7VtakGc"
      },
      "source": [
        "## Connecting to the GPU"
      ]
    },
    {
      "cell_type": "code",
      "metadata": {
        "id": "j8d_29QofyiT"
      },
      "source": [
        "torch.cuda.empty_cache()"
      ],
      "execution_count": 168,
      "outputs": []
    },
    {
      "cell_type": "code",
      "metadata": {
        "id": "aG1o2WAn7lDU",
        "colab": {
          "base_uri": "https://localhost:8080/"
        },
        "outputId": "5ddecd07-6083-4d98-d192-591ae2229d6f"
      },
      "source": [
        "DEVICE = \"cuda\" if torch.cuda.is_available() else \"cpu\"\n",
        "# See which GPU has been allotted \n",
        "print(torch.cuda.get_device_name(torch.cuda.current_device()))"
      ],
      "execution_count": 169,
      "outputs": [
        {
          "output_type": "stream",
          "text": [
            "Tesla T4\n"
          ],
          "name": "stdout"
        }
      ]
    },
    {
      "cell_type": "markdown",
      "metadata": {
        "id": "47aBe_jBgron"
      },
      "source": [
        "## Constants"
      ]
    },
    {
      "cell_type": "code",
      "metadata": {
        "id": "w_JANVmEgrPK"
      },
      "source": [
        "PATH_DATA = \"/content/gdrive/MyDrive/text2poem/topics_250_top_authors.csv\"\n",
        "MODEL_NAME = \"t5-base\"\n",
        "\n",
        "SEED = 0\n",
        "\n",
        "# Specified in the number of tokens\n",
        "INP_MAX_LEN = 128\n",
        "OUT_MAX_LEN = 512\n",
        "\n",
        "TRAIN_BATCH_SIZE = 4\n",
        "\n",
        "N_EPOCHS = 10\n",
        "LR = 1e-4\n",
        "\n",
        "PREFIX = \"poemify: \" # The T5 prefix to append to the inputs\n",
        "SENT_SEP = \"|\" # All newlines/multi-newlines are replaced by a single '|' as T5Tokenizer replaces \"\\n\" by a space\n",
        "TOPIC_SEP = \", \" # Delimiter used for separating the topics in the input"
      ],
      "execution_count": 170,
      "outputs": []
    },
    {
      "cell_type": "code",
      "metadata": {
        "id": "JHE1N438hG6s"
      },
      "source": [
        "# Set random seeds and make pytorch deterministic for reproducibility\n",
        "# Reference: https://github.com/NVIDIA/framework-determinism/blob/master/pytorch.md\n",
        "def setSeed():\n",
        "    random.seed(SEED)\n",
        "    np.random.seed(SEED)\n",
        "    torch.manual_seed(SEED)\n",
        "    torch.cuda.manual_seed_all(SEED)\n",
        "    torch.backends.cudnn.deterministic = True\n",
        "    torch.backends.cudnn.benchmark = False\n",
        "setSeed()"
      ],
      "execution_count": 171,
      "outputs": []
    },
    {
      "cell_type": "markdown",
      "metadata": {
        "id": "W0LdG06NjwTL"
      },
      "source": [
        "## Helper Functions"
      ]
    },
    {
      "cell_type": "code",
      "metadata": {
        "id": "TQV3fIt2jyC5"
      },
      "source": [
        "def countParameters(model):\n",
        "    \"\"\" Counts the total number of trainable and frozen/non-trainable parameters in the model \"\"\"\n",
        "    trainable = sum(p.numel() for p in model.parameters() if p.requires_grad)\n",
        "    frozen = sum(p.numel() for p in model.parameters() if not p.requires_grad)\n",
        "    return trainable, frozen"
      ],
      "execution_count": 172,
      "outputs": []
    },
    {
      "cell_type": "markdown",
      "metadata": {
        "id": "FEDFEI9vama_"
      },
      "source": [
        "## Custom Dataset"
      ]
    },
    {
      "cell_type": "code",
      "metadata": {
        "id": "EsnA1sL17o3v"
      },
      "source": [
        "class CustomDataset(Dataset):\n",
        "\n",
        "    def __init__(self, df, tokenizer, inp_len, out_len):\n",
        "\n",
        "        self.tokenizer = tokenizer\n",
        "        self.df = df\n",
        "\n",
        "        self.inp_len = inp_len # All input sequences would be padded to this length\n",
        "        self.out_len = out_len # All output sequences would be padded to this length\n",
        "\n",
        "        self.inp_txt = self.df.input\n",
        "        self.out_txt = self.df.output\n",
        "\n",
        "\n",
        "    def __len__(self):\n",
        "        return len(self.out_txt)\n",
        "\n",
        "\n",
        "    def __getitem__(self, index):\n",
        "\n",
        "        inp_txt = str(self.inp_txt[index])\n",
        "        out_txt = str(self.out_txt[index])\n",
        "\n",
        "        # Encode the input and output texts\n",
        "        source = self.tokenizer(\n",
        "            [inp_txt],\n",
        "            max_length = self.inp_len, \n",
        "            padding = \"max_length\", \n",
        "            truncation = True,\n",
        "            return_tensors = \"pt\"\n",
        "        )\n",
        "\n",
        "        target = self.tokenizer(\n",
        "            [out_txt],\n",
        "            max_length = self.out_len, \n",
        "            padding = \"max_length\", \n",
        "            truncation = True,\n",
        "            return_tensors = \"pt\"\n",
        "        )\n",
        "\n",
        "        # Input IDs and Masks\n",
        "        source_ids = source[\"input_ids\"].squeeze() # squeeze() to remove the additional dimension\n",
        "        source_mask = source[\"attention_mask\"].squeeze()\n",
        "        target_ids = target[\"input_ids\"].squeeze()\n",
        "        target_mask = target[\"attention_mask\"].squeeze()\n",
        "\n",
        "        # Don't shift the inputs/outputs to GPU now, do it while loading the batches, and then shift the entire batch at once\n",
        "\n",
        "        return {\n",
        "            \"source_ids\"  : source_ids, \n",
        "            \"source_mask\" : source_mask, \n",
        "            \"target_ids\"  : target_ids,\n",
        "            \"target_mask\" : target_mask\n",
        "        }"
      ],
      "execution_count": 173,
      "outputs": []
    },
    {
      "cell_type": "markdown",
      "metadata": {
        "id": "J6ZsKUfBgehV"
      },
      "source": [
        "## Data Handlers"
      ]
    },
    {
      "cell_type": "code",
      "metadata": {
        "id": "fBCrp1acHH8G"
      },
      "source": [
        "def replaceSep(text, sep = SENT_SEP):\n",
        "    \"\"\" Replaces all signle/multi-linebreaks by a single 'sep' everywhere, as T5Tokenizer just replaces '\\n' by a blank space \"\"\"\n",
        "    corrupted_sentences = text.split(\"\\n\")\n",
        "    sentences = [s.strip() for s in corrupted_sentences if len(s.strip()) > 1] # Only keep sentences of length > 1\n",
        "    text = sep.join(sentences)\n",
        "    return text"
      ],
      "execution_count": 174,
      "outputs": []
    },
    {
      "cell_type": "code",
      "metadata": {
        "id": "lY2yEu-uggQe"
      },
      "source": [
        "def loadDF(path, n_rows = None, prefix = PREFIX):\n",
        "    \"\"\" Loads the CSV data, converts it to the specified format, and splits it into training and validation sets \"\"\"\n",
        "\n",
        "    # Read the CSV file\n",
        "    df = pd.read_csv(PATH_DATA, encoding = \"utf-8\")\n",
        "\n",
        "    # Drop the NaN rows (if any)\n",
        "    df.dropna(inplace = True)\n",
        "\n",
        "    # Choose the approproate columns containing the text input and the text output\n",
        "    df = df[[\"Content\", \"Topics\"]]\n",
        "\n",
        "    # Rename the columns appropriately (dataset specific)\n",
        "    df.rename(columns={\"Content\" : \"output\", \"Topics\" : \"input\"}, inplace=True)\n",
        "\n",
        "    # Add a suitable prefix to the text input\n",
        "    df[\"input\"] = prefix + df[\"input\"]\n",
        "\n",
        "    # Truncate the dataset if specified\n",
        "    if n_rows is not None:\n",
        "        df = df.sample(n = n_rows, random_state = SEED)\n",
        "\n",
        "    # Replace newlines in the poem\n",
        "    df[\"output\"] = df[\"output\"].apply(replaceSep)\n",
        "\n",
        "    # Train-Test Split\n",
        "    df_train, df_val = tts(df, test_size = 5, random_state = SEED, shuffle = True)\n",
        "    \n",
        "    # Reset indices\n",
        "    df_train.reset_index(drop = True, inplace = True)\n",
        "    df_val.reset_index(drop = True, inplace = True)\n",
        "\n",
        "    return df, df_train, df_val"
      ],
      "execution_count": 175,
      "outputs": []
    },
    {
      "cell_type": "code",
      "metadata": {
        "id": "C0SLaw-VgkcE"
      },
      "source": [
        "def getDataLoaders(df_train, df_val, tokenizer):\n",
        "    \"\"\" Returns the torch DataLoaders for the training and validation DFs \"\"\"\n",
        "\n",
        "    # Create Datasets\n",
        "    ds_train = CustomDataset(df_train, tokenizer, INP_MAX_LEN, OUT_MAX_LEN)\n",
        "    ds_val   = CustomDataset(df_val, tokenizer, INP_MAX_LEN, OUT_MAX_LEN)\n",
        "\n",
        "    # Create Dataloaders\n",
        "    dl_train = DataLoader(ds_train, batch_size = TRAIN_BATCH_SIZE, shuffle = True, num_workers = 0)\n",
        "    dl_val   = DataLoader(ds_val, batch_size = TRAIN_BATCH_SIZE, shuffle = True, num_workers = 0)\n",
        "\n",
        "    return dl_train, dl_val"
      ],
      "execution_count": 176,
      "outputs": []
    },
    {
      "cell_type": "markdown",
      "metadata": {
        "id": "LH0lVDRBarUJ"
      },
      "source": [
        "## Train and Validate Functions"
      ]
    },
    {
      "cell_type": "code",
      "metadata": {
        "id": "KriqdJrh7-ST"
      },
      "source": [
        "def train(tokenizer, model, loader, optimizer):\n",
        "    \"\"\" A single epoch \"\"\"\n",
        "\n",
        "    model.train()\n",
        "\n",
        "    loss_batches = []\n",
        "\n",
        "    for iter, batch in enumerate(tqdm(loader)):\n",
        "\n",
        "        # Reset gradients\n",
        "        optimizer.zero_grad()\n",
        "\n",
        "        source_ids  = batch[\"source_ids\"].to(DEVICE)\n",
        "        source_mask = batch[\"source_mask\"].to(DEVICE)\n",
        "        target_mask = batch[\"target_mask\"].to(DEVICE)\n",
        "\n",
        "        labels = batch[\"target_ids\"]\n",
        "        labels[labels[:, :] == tokenizer.pad_token_id] = -100\n",
        "        labels = labels.to(DEVICE)\n",
        "\n",
        "        outputs = model(\n",
        "            input_ids = source_ids, \n",
        "            attention_mask = source_mask, \n",
        "            labels = labels,\n",
        "            decoder_attention_mask = target_mask\n",
        "        ) # Of type Seq2SeqLMOutput\n",
        "\n",
        "        loss = outputs.loss\n",
        "        \n",
        "        loss_batches.append(loss.item())\n",
        "\n",
        "        # Compute gradients\n",
        "        loss.backward()\n",
        "        \n",
        "        # Update parameters\n",
        "        optimizer.step()\n",
        "\n",
        "    # Average epoch loss:\n",
        "    avg_epoch_loss = sum(loss_batches) / len(loss_batches)\n",
        "\n",
        "    return avg_epoch_loss"
      ],
      "execution_count": 177,
      "outputs": []
    },
    {
      "cell_type": "markdown",
      "metadata": {
        "id": "90xxEL5UUkc_"
      },
      "source": [
        "## Generation"
      ]
    },
    {
      "cell_type": "code",
      "metadata": {
        "id": "aBYwx88bBhig"
      },
      "source": [
        "def genSample(topics, min_length, max_length, rep_penalty = 1, temp = 1, top_k = 50, top_p = 1.0, already_formatted = False):\n",
        "\n",
        "    setSeed() # Required to ensure reproducibility\n",
        "\n",
        "    if not already_formatted:\n",
        "        input = PREFIX + TOPIC_SEP.join(topics)\n",
        "    else:\n",
        "        input = topics\n",
        "\n",
        "    input_ids = tokenizer(\n",
        "        input,\n",
        "        return_tensors = \"pt\"\n",
        "    ).input_ids.to(DEVICE)\n",
        "\n",
        "    model.eval()\n",
        "    with torch.no_grad():\n",
        "        generated_ids = model.generate(\n",
        "            do_sample = True,\n",
        "            input_ids = input_ids,\n",
        "            min_length = min_length,\n",
        "            max_length = max_length,\n",
        "            top_p = top_p,\n",
        "            top_k = top_k,\n",
        "            temperature = temp,\n",
        "            repetition_penalty = rep_penalty\n",
        "        )\n",
        "\n",
        "    gen = [tokenizer.decode(g, skip_special_tokens = True, clean_up_tokenization_spaces = True) for g in generated_ids][0]\n",
        "\n",
        "    sentences = gen.split(SENT_SEP)\n",
        "    for s in sentences:\n",
        "        print(s.strip())\n",
        "\n",
        "    return gen"
      ],
      "execution_count": 178,
      "outputs": []
    },
    {
      "cell_type": "code",
      "metadata": {
        "id": "4l5PgRV87Xpd"
      },
      "source": [
        "def genBeam(topics, min_length, max_length, rep_penalty = 1, n_beams = 2, no_repeat_ngram_size = 3, already_formatted = False):\n",
        "\n",
        "    setSeed() # Required to ensure reproducibility\n",
        "\n",
        "    if not already_formatted:   \n",
        "        input = PREFIX + TOPIC_SEP.join(topics)\n",
        "    else:\n",
        "        input = topics\n",
        "\n",
        "    input_ids = tokenizer(\n",
        "        input,\n",
        "        return_tensors = \"pt\"\n",
        "    ).input_ids.to(DEVICE)\n",
        "\n",
        "    model.eval()\n",
        "    with torch.no_grad():\n",
        "        generated_ids = model.generate(\n",
        "            input_ids = input_ids,\n",
        "            min_length = min_length,\n",
        "            max_length = max_length,\n",
        "            num_beams = n_beams,\n",
        "            no_repeat_ngram_size = no_repeat_ngram_size, # Don't repeat any n-grams of this size\n",
        "            repetition_penalty = rep_penalty\n",
        "        )\n",
        "\n",
        "    gen = [tokenizer.decode(g, skip_special_tokens = True, clean_up_tokenization_spaces = True) for g in generated_ids][0]\n",
        "\n",
        "    sentences = gen.split(SENT_SEP)\n",
        "    for s in sentences:\n",
        "        print(s.strip())\n",
        "\n",
        "    return gen"
      ],
      "execution_count": 179,
      "outputs": []
    },
    {
      "cell_type": "markdown",
      "metadata": {
        "id": "HNuoht-9bVw0"
      },
      "source": [
        "## Main"
      ]
    },
    {
      "cell_type": "markdown",
      "metadata": {
        "id": "cRIsPv8FYK67"
      },
      "source": [
        "### Tokenizer"
      ]
    },
    {
      "cell_type": "code",
      "metadata": {
        "id": "ZtECaqjG9K6R"
      },
      "source": [
        "# T5's Tokenzier for encoding the text\n",
        "tokenizer = T5Tokenizer.from_pretrained(MODEL_NAME)"
      ],
      "execution_count": 180,
      "outputs": []
    },
    {
      "cell_type": "code",
      "metadata": {
        "colab": {
          "base_uri": "https://localhost:8080/"
        },
        "id": "J23F64UIYMyG",
        "outputId": "6e4017a6-9e53-4745-b409-222e580223c0"
      },
      "source": [
        "example_text = \"Far far away, behind the word mountains, far from the countries Vokalia and Consonantia, there live the blind texts.\\nFar far away, behind the word mountains, far from the countries Vokalia and Consonantia, there live the blind texts\"\n",
        "example_input_ids = tokenizer(\n",
        "    example_text,\n",
        "    return_tensors = \"pt\"\n",
        ").input_ids[0]\n",
        "print(len(example_input_ids))\n",
        "example_decoded = [tokenizer.decode(i, skip_special_tokens = True, clean_up_tokenization_spaces = True) for i in example_input_ids]\n",
        "print(example_decoded)"
      ],
      "execution_count": 181,
      "outputs": [
        {
          "output_type": "stream",
          "text": [
            "56\n",
            "['Far', 'far', 'away', ',', 'behind', 'the', 'word', 'mountains', ',', 'far', 'from', 'the', 'countries', 'Vo', 'k', 'alia', 'and', 'Cons', 'on', 'anti', 'a', ',', 'there', 'live', 'the', 'blind', 'texts', '.', 'Far', 'far', 'away', ',', 'behind', 'the', 'word', 'mountains', ',', 'far', 'from', 'the', 'countries', 'Vo', 'k', 'alia', 'and', 'Cons', 'on', 'anti', 'a', ',', 'there', 'live', 'the', 'blind', 'texts', '</s>']\n"
          ],
          "name": "stdout"
        }
      ]
    },
    {
      "cell_type": "markdown",
      "metadata": {
        "id": "Ad5BHSxYhRYn"
      },
      "source": [
        "### Loading the Data"
      ]
    },
    {
      "cell_type": "code",
      "metadata": {
        "colab": {
          "base_uri": "https://localhost:8080/"
        },
        "id": "M0PVHWdkdb-t",
        "outputId": "54e05482-8b26-4408-c526-b9b703ac26d7"
      },
      "source": [
        "df, df_train, df_val = loadDF(PATH_DATA, prefix = PREFIX)\n",
        "print(len(df), len(df_train), len(df_val))"
      ],
      "execution_count": 182,
      "outputs": [
        {
          "output_type": "stream",
          "text": [
            "566 561 5\n"
          ],
          "name": "stdout"
        }
      ]
    },
    {
      "cell_type": "code",
      "metadata": {
        "colab": {
          "base_uri": "https://localhost:8080/",
          "height": 0
        },
        "id": "8sWEt8WjwcG5",
        "outputId": "e3524b8d-7b07-4cbf-adf9-894c5e7d4d9f"
      },
      "source": [
        "display(df)"
      ],
      "execution_count": 183,
      "outputs": [
        {
          "output_type": "display_data",
          "data": {
            "text/html": [
              "<div>\n",
              "<style scoped>\n",
              "    .dataframe tbody tr th:only-of-type {\n",
              "        vertical-align: middle;\n",
              "    }\n",
              "\n",
              "    .dataframe tbody tr th {\n",
              "        vertical-align: top;\n",
              "    }\n",
              "\n",
              "    .dataframe thead th {\n",
              "        text-align: right;\n",
              "    }\n",
              "</style>\n",
              "<table border=\"1\" class=\"dataframe\">\n",
              "  <thead>\n",
              "    <tr style=\"text-align: right;\">\n",
              "      <th></th>\n",
              "      <th>output</th>\n",
              "      <th>input</th>\n",
              "    </tr>\n",
              "  </thead>\n",
              "  <tbody>\n",
              "    <tr>\n",
              "      <th>0</th>\n",
              "      <td>Of old sat Freedom on the heights,|The thunder...</td>\n",
              "      <td>poemify: fair form, triple forks, starry light...</td>\n",
              "    </tr>\n",
              "    <tr>\n",
              "      <th>1</th>\n",
              "      <td>Contemplate all this work of Time,|The giant l...</td>\n",
              "      <td>poemify: tiger die, central gloom, solid earth...</td>\n",
              "    </tr>\n",
              "    <tr>\n",
              "      <th>2</th>\n",
              "      <td>Is it, then, regret for buried time|That keenl...</td>\n",
              "      <td>poemify: happy commune, sorrow lives, strong b...</td>\n",
              "    </tr>\n",
              "    <tr>\n",
              "      <th>3</th>\n",
              "      <td>Calm is the morn without a sound,|Calm as to s...</td>\n",
              "      <td>poemify: deep peace, dead calm, calmer grief, ...</td>\n",
              "    </tr>\n",
              "    <tr>\n",
              "      <th>4</th>\n",
              "      <td>Ring out, wild bells, to the wild sky,|The fly...</td>\n",
              "      <td>poemify: happy bells, kindlier hand, party str...</td>\n",
              "    </tr>\n",
              "    <tr>\n",
              "      <th>...</th>\n",
              "      <td>...</td>\n",
              "      <td>...</td>\n",
              "    </tr>\n",
              "    <tr>\n",
              "      <th>561</th>\n",
              "      <td>Milton! thou shouldst be living at this hour:|...</td>\n",
              "      <td>poemify: heroic wealth, cheerful godliness, se...</td>\n",
              "    </tr>\n",
              "    <tr>\n",
              "      <th>562</th>\n",
              "      <td>Earth has not anything to show more fair:|Dull...</td>\n",
              "      <td>poemify: dear god, smokeless air, river glidet...</td>\n",
              "    </tr>\n",
              "    <tr>\n",
              "      <th>563</th>\n",
              "      <td>The power of Armies is a visible thing,|Formal...</td>\n",
              "      <td>poemify: fatal place, brave people, strong win...</td>\n",
              "    </tr>\n",
              "    <tr>\n",
              "      <th>564</th>\n",
              "      <td>I heard a thousand blended notes,|While in a g...</td>\n",
              "      <td>poemify: pleasant thoughts, sweet mood, fair w...</td>\n",
              "    </tr>\n",
              "    <tr>\n",
              "      <th>565</th>\n",
              "      <td>From low to high doth dissolution climb,|And s...</td>\n",
              "      <td>poemify: over-anxious care, awful notes, melan...</td>\n",
              "    </tr>\n",
              "  </tbody>\n",
              "</table>\n",
              "<p>566 rows × 2 columns</p>\n",
              "</div>"
            ],
            "text/plain": [
              "                                                output                                              input\n",
              "0    Of old sat Freedom on the heights,|The thunder...  poemify: fair form, triple forks, starry light...\n",
              "1    Contemplate all this work of Time,|The giant l...  poemify: tiger die, central gloom, solid earth...\n",
              "2    Is it, then, regret for buried time|That keenl...  poemify: happy commune, sorrow lives, strong b...\n",
              "3    Calm is the morn without a sound,|Calm as to s...  poemify: deep peace, dead calm, calmer grief, ...\n",
              "4    Ring out, wild bells, to the wild sky,|The fly...  poemify: happy bells, kindlier hand, party str...\n",
              "..                                                 ...                                                ...\n",
              "561  Milton! thou shouldst be living at this hour:|...  poemify: heroic wealth, cheerful godliness, se...\n",
              "562  Earth has not anything to show more fair:|Dull...  poemify: dear god, smokeless air, river glidet...\n",
              "563  The power of Armies is a visible thing,|Formal...  poemify: fatal place, brave people, strong win...\n",
              "564  I heard a thousand blended notes,|While in a g...  poemify: pleasant thoughts, sweet mood, fair w...\n",
              "565  From low to high doth dissolution climb,|And s...  poemify: over-anxious care, awful notes, melan...\n",
              "\n",
              "[566 rows x 2 columns]"
            ]
          },
          "metadata": {
            "tags": []
          }
        }
      ]
    },
    {
      "cell_type": "code",
      "metadata": {
        "id": "ib-Ry03k9d4K",
        "colab": {
          "base_uri": "https://localhost:8080/"
        },
        "outputId": "5e78f5aa-1c0c-45d4-c557-d3dad3930958"
      },
      "source": [
        "dl_train, dl_val = getDataLoaders(df_train, df_val, tokenizer)\n",
        "print(len(dl_train), len(dl_val))"
      ],
      "execution_count": 184,
      "outputs": [
        {
          "output_type": "stream",
          "text": [
            "141 2\n"
          ],
          "name": "stdout"
        }
      ]
    },
    {
      "cell_type": "code",
      "metadata": {
        "id": "R4xpJDvqPCad"
      },
      "source": [
        "def countTokens(text):\n",
        "    input_ids = tokenizer(\n",
        "        text,\n",
        "        return_tensors = \"pt\"\n",
        "    ).input_ids[0]\n",
        "    return len(input_ids)"
      ],
      "execution_count": 185,
      "outputs": []
    },
    {
      "cell_type": "code",
      "metadata": {
        "id": "dPRVLM6vPS5u"
      },
      "source": [
        "df[\"input_length\"] = df[\"input\"].apply(countTokens)\n",
        "df[\"output_length\"] = df[\"output\"].apply(countTokens)"
      ],
      "execution_count": 186,
      "outputs": []
    },
    {
      "cell_type": "code",
      "metadata": {
        "colab": {
          "base_uri": "https://localhost:8080/"
        },
        "id": "vn_0K7T6Phah",
        "outputId": "5a768ae3-7978-4358-b47c-79e97aa10b96"
      },
      "source": [
        "# Use this to select INP_MAX_LEN and OUT_MAX_LEN\n",
        "print(\"Input Length (in tokens) Statistics\")\n",
        "print(df[\"input_length\"].describe())\n",
        "print()\n",
        "print(\"Output Length (in tokens) Statistics\")\n",
        "print(df[\"output_length\"].describe())"
      ],
      "execution_count": 187,
      "outputs": [
        {
          "output_type": "stream",
          "text": [
            "Input Length (in tokens) Statistics\n",
            "count    566.000000\n",
            "mean      44.510601\n",
            "std       11.159300\n",
            "min       13.000000\n",
            "25%       36.000000\n",
            "50%       43.000000\n",
            "75%       51.000000\n",
            "max      107.000000\n",
            "Name: input_length, dtype: float64\n",
            "\n",
            "Output Length (in tokens) Statistics\n",
            "count    566.000000\n",
            "mean     227.250883\n",
            "std       91.590512\n",
            "min       73.000000\n",
            "25%      166.000000\n",
            "50%      201.000000\n",
            "75%      287.000000\n",
            "max      497.000000\n",
            "Name: output_length, dtype: float64\n"
          ],
          "name": "stdout"
        }
      ]
    },
    {
      "cell_type": "markdown",
      "metadata": {
        "id": "IJ_eZh1Pb6PX"
      },
      "source": [
        "### Loading the Model"
      ]
    },
    {
      "cell_type": "code",
      "metadata": {
        "id": "dzmQMOyK9loF"
      },
      "source": [
        "model = T5ForConditionalGeneration.from_pretrained(MODEL_NAME)\n",
        "model = model.to(DEVICE)"
      ],
      "execution_count": 188,
      "outputs": []
    },
    {
      "cell_type": "code",
      "metadata": {
        "colab": {
          "base_uri": "https://localhost:8080/"
        },
        "id": "AFVcPJ5pkLeS",
        "outputId": "08278e6f-a4f9-4c16-ed15-6959b47baa1d"
      },
      "source": [
        "p_train, p_frozen = countParameters(model)\n",
        "print(f\"The model has {p_train:,} trainable and {p_frozen:,} frozen parameters\")"
      ],
      "execution_count": 189,
      "outputs": [
        {
          "output_type": "stream",
          "text": [
            "The model has 222,903,552 trainable and 0 frozen parameters\n"
          ],
          "name": "stdout"
        }
      ]
    },
    {
      "cell_type": "markdown",
      "metadata": {
        "id": "fCqxnQ53b88I"
      },
      "source": [
        "### Optimization"
      ]
    },
    {
      "cell_type": "code",
      "metadata": {
        "id": "JcjV5lqi9o47"
      },
      "source": [
        "optimizer = Adafactor(\n",
        "    params = model.parameters(),\n",
        "    lr = LR,\n",
        "    scale_parameter = False,\n",
        "    relative_step = False\n",
        ")"
      ],
      "execution_count": 190,
      "outputs": []
    },
    {
      "cell_type": "code",
      "metadata": {
        "colab": {
          "base_uri": "https://localhost:8080/",
          "height": 673,
          "referenced_widgets": [
            "775ea642b77947d8adf98cbc8557bee7",
            "a574547ece704e508c867695aaa6406c",
            "2ed635e9a1be47ec92adccbfb208676f",
            "c6d7a1144f844db2ad4b7e9ba9235c2b",
            "4681ce5844594ec596d9330ab9d10a93",
            "f27f823663fc47b9850a2d06c2801185",
            "a0a74866555148a1926fbf531b395f6a",
            "a166474e14f140628b8d93448069f087",
            "3f0930595831484aa205019474975848",
            "66670d6517154b1980c2293e6c638df4",
            "110ab801f8784302b25c9815432931a8",
            "999dba27816c4a9c9dc6c0c23149bb73",
            "3a9a3d5902e44d979abba867e7142df7",
            "f5ddea415def4cb08afb347c0f23cdbd",
            "7578ee687bf34d6da66feba4b9bdc226",
            "b4dfa132dc2f4b6798d12b0cbb23c303",
            "2da8452ac9d8493ebfa5eec709362c9b",
            "3eed515360c8402ea30e3d67a9adbdc5",
            "803e6d5c349540659d68c5a25c55807f",
            "fa6b9ac05ab443eb913d436b3c8a9c85",
            "c3b215fd04e3497d94f98459a600cebb",
            "44cd1bb82b004c2488c530aaaff3c261",
            "1244e8cd4a1f4564b1a8cf5928aa58a8",
            "23abfb0e7ac949f89d8cb5b0aff30395",
            "7786e793b8784f11aa5c54fb2175da66",
            "83cefb093cda4c7eb1f6438df04ec30b",
            "727fabb039aa43f1b7449a7f08014a30",
            "4184ffb7952d437085fd5b8e50e086e4",
            "bb714985629644e392f633543c9b9002",
            "12fc07225c4346459a40fc6a490538a9",
            "4f36ab0eb8c9410da445935abe79dc37",
            "331f29a2c0f74da19d5a0ac324cf5bfa",
            "efe5377ab7b5430488cef0de036fb26e",
            "3743f5e54ad949af84b96c7c89abcc1c",
            "5f7868963012429e83afa6daee3157b6",
            "9007c8c880e2451d99d1956c0ad35607",
            "ba969ba449f445a7b33a9b4fb42fa23f",
            "ecbf6beaa2904eb2bddbded42de31c7e",
            "6b6a491598bc481c9c1fbf1ae049ccea",
            "acb40e5a498f431a8d8abb1644fab6fa",
            "bd1791e598104e9b9b7eb502fce9a845",
            "e0fd0185049b4a92bca97f4ff59ecf05",
            "65eac86fb44c4643be2a2e50d118acd1",
            "16ba5c97fb0a45c8a75e13b62c187b84",
            "b5ace29ff5364ad0ba08bacc984194dc",
            "58d90c40f3d8450b8052e6a482ee1c05",
            "eb8ff1cd2e284073b240d697bebe6790",
            "7f97ed462e984588be82bf80137e372a",
            "f805a3da84034d0bba62e7aed1f510ba",
            "5d9395a859274011afee72ecefad2e3e",
            "79dce6077b264dfbabc9974fc7ba94cb",
            "fd13a96fa9164893a2ea60f00638a7b3",
            "e1344ac0ed33433fa6853924c3830f1c",
            "f0e3b5799de447df916042c32375870c",
            "71c851026d0f42df935ee8c31ac5e0d3",
            "4368fe4af40447c19a9884d57ece97ef",
            "efbd8844788d41f6882a0c9ccb71f13f",
            "97899b1173d44b9088f2156490f02d52",
            "331a014c13b0468da6c066f26f1c7fc5",
            "1b3300c6abae48d6b2ecd46888a40629",
            "6f3ceb6cf79c4a1e8968c03ca0c70e2d",
            "5c12ecb9ab8340a2bda914ef61601513",
            "94f5eb631d04425498a49b181fd4a415",
            "448bea01dbc74e429f3a03a42def4f21",
            "488b257073d94b548eec8baae11d2d13",
            "188e214e6b6144dd89d8d95cbbb25d7a",
            "d588f60df5be48b28030ef5cea3114c8",
            "9d5251f119d548148546779683ed8abb",
            "344de9e8d67c4280a02605297a0d0c6d",
            "3dcd51d2db3a47dea77f42b5978c3df9",
            "c96f7c0113a14bc4b0602b26c04942df",
            "e792427344894c8c88924c21c7c9ede5",
            "75cd192f98cb457f81816439f22a100c",
            "ae955e22c3c440b6ac42a5815878fef2",
            "b95e8f15a6d04aa891c4668272105853",
            "8d9d770b68d84de9b21b4f75a64dded7",
            "e8769fc28466402aa9f1604c8529c874",
            "ddb1e2f0732a42a385619571009e487c",
            "b37309182a8847e0942e7fe59715168b",
            "872942a8724541d4af233b048a4d9b80"
          ]
        },
        "id": "kQZzlebv9te6",
        "outputId": "3923ee99-0050-450b-f312-a96a8e2f4939"
      },
      "source": [
        "losses = []\n",
        "for e in range(N_EPOCHS):\n",
        "    print(f\"Epoch {e+1}/{N_EPOCHS}\")\n",
        "    loss_epoch = train(tokenizer, model, dl_train, optimizer)\n",
        "    losses.append(loss_epoch)"
      ],
      "execution_count": 191,
      "outputs": [
        {
          "output_type": "stream",
          "text": [
            "Epoch 1/10\n"
          ],
          "name": "stdout"
        },
        {
          "output_type": "display_data",
          "data": {
            "application/vnd.jupyter.widget-view+json": {
              "model_id": "775ea642b77947d8adf98cbc8557bee7",
              "version_minor": 0,
              "version_major": 2
            },
            "text/plain": [
              "HBox(children=(FloatProgress(value=0.0, max=141.0), HTML(value='')))"
            ]
          },
          "metadata": {
            "tags": []
          }
        },
        {
          "output_type": "stream",
          "text": [
            "\n",
            "Epoch 2/10\n"
          ],
          "name": "stdout"
        },
        {
          "output_type": "display_data",
          "data": {
            "application/vnd.jupyter.widget-view+json": {
              "model_id": "3f0930595831484aa205019474975848",
              "version_minor": 0,
              "version_major": 2
            },
            "text/plain": [
              "HBox(children=(FloatProgress(value=0.0, max=141.0), HTML(value='')))"
            ]
          },
          "metadata": {
            "tags": []
          }
        },
        {
          "output_type": "stream",
          "text": [
            "\n",
            "Epoch 3/10\n"
          ],
          "name": "stdout"
        },
        {
          "output_type": "display_data",
          "data": {
            "application/vnd.jupyter.widget-view+json": {
              "model_id": "2da8452ac9d8493ebfa5eec709362c9b",
              "version_minor": 0,
              "version_major": 2
            },
            "text/plain": [
              "HBox(children=(FloatProgress(value=0.0, max=141.0), HTML(value='')))"
            ]
          },
          "metadata": {
            "tags": []
          }
        },
        {
          "output_type": "stream",
          "text": [
            "\n",
            "Epoch 4/10\n"
          ],
          "name": "stdout"
        },
        {
          "output_type": "display_data",
          "data": {
            "application/vnd.jupyter.widget-view+json": {
              "model_id": "7786e793b8784f11aa5c54fb2175da66",
              "version_minor": 0,
              "version_major": 2
            },
            "text/plain": [
              "HBox(children=(FloatProgress(value=0.0, max=141.0), HTML(value='')))"
            ]
          },
          "metadata": {
            "tags": []
          }
        },
        {
          "output_type": "stream",
          "text": [
            "\n",
            "Epoch 5/10\n"
          ],
          "name": "stdout"
        },
        {
          "output_type": "display_data",
          "data": {
            "application/vnd.jupyter.widget-view+json": {
              "model_id": "efe5377ab7b5430488cef0de036fb26e",
              "version_minor": 0,
              "version_major": 2
            },
            "text/plain": [
              "HBox(children=(FloatProgress(value=0.0, max=141.0), HTML(value='')))"
            ]
          },
          "metadata": {
            "tags": []
          }
        },
        {
          "output_type": "stream",
          "text": [
            "\n",
            "Epoch 6/10\n"
          ],
          "name": "stdout"
        },
        {
          "output_type": "display_data",
          "data": {
            "application/vnd.jupyter.widget-view+json": {
              "model_id": "bd1791e598104e9b9b7eb502fce9a845",
              "version_minor": 0,
              "version_major": 2
            },
            "text/plain": [
              "HBox(children=(FloatProgress(value=0.0, max=141.0), HTML(value='')))"
            ]
          },
          "metadata": {
            "tags": []
          }
        },
        {
          "output_type": "stream",
          "text": [
            "\n",
            "Epoch 7/10\n"
          ],
          "name": "stdout"
        },
        {
          "output_type": "display_data",
          "data": {
            "application/vnd.jupyter.widget-view+json": {
              "model_id": "f805a3da84034d0bba62e7aed1f510ba",
              "version_minor": 0,
              "version_major": 2
            },
            "text/plain": [
              "HBox(children=(FloatProgress(value=0.0, max=141.0), HTML(value='')))"
            ]
          },
          "metadata": {
            "tags": []
          }
        },
        {
          "output_type": "stream",
          "text": [
            "\n",
            "Epoch 8/10\n"
          ],
          "name": "stdout"
        },
        {
          "output_type": "display_data",
          "data": {
            "application/vnd.jupyter.widget-view+json": {
              "model_id": "efbd8844788d41f6882a0c9ccb71f13f",
              "version_minor": 0,
              "version_major": 2
            },
            "text/plain": [
              "HBox(children=(FloatProgress(value=0.0, max=141.0), HTML(value='')))"
            ]
          },
          "metadata": {
            "tags": []
          }
        },
        {
          "output_type": "stream",
          "text": [
            "\n",
            "Epoch 9/10\n"
          ],
          "name": "stdout"
        },
        {
          "output_type": "display_data",
          "data": {
            "application/vnd.jupyter.widget-view+json": {
              "model_id": "488b257073d94b548eec8baae11d2d13",
              "version_minor": 0,
              "version_major": 2
            },
            "text/plain": [
              "HBox(children=(FloatProgress(value=0.0, max=141.0), HTML(value='')))"
            ]
          },
          "metadata": {
            "tags": []
          }
        },
        {
          "output_type": "stream",
          "text": [
            "\n",
            "Epoch 10/10\n"
          ],
          "name": "stdout"
        },
        {
          "output_type": "display_data",
          "data": {
            "application/vnd.jupyter.widget-view+json": {
              "model_id": "75cd192f98cb457f81816439f22a100c",
              "version_minor": 0,
              "version_major": 2
            },
            "text/plain": [
              "HBox(children=(FloatProgress(value=0.0, max=141.0), HTML(value='')))"
            ]
          },
          "metadata": {
            "tags": []
          }
        },
        {
          "output_type": "stream",
          "text": [
            "\n"
          ],
          "name": "stdout"
        }
      ]
    },
    {
      "cell_type": "code",
      "metadata": {
        "colab": {
          "base_uri": "https://localhost:8080/",
          "height": 265
        },
        "id": "EJ3NFbCoUcNZ",
        "outputId": "b32dbdce-14fd-4d9d-d2cf-429158924a34"
      },
      "source": [
        "plt.plot(range(len(losses)), losses)\n",
        "plt.show()"
      ],
      "execution_count": 192,
      "outputs": [
        {
          "output_type": "display_data",
          "data": {
            "image/png": "[encoded data removed]",
            "text/plain": [
              "<Figure size 432x288 with 1 Axes>"
            ]
          },
          "metadata": {
            "tags": [],
            "needs_background": "light"
          }
        }
      ]
    },
    {
      "cell_type": "markdown",
      "metadata": {
        "id": "fZc6moatsfz7"
      },
      "source": [
        "### Generation"
      ]
    },
    {
      "cell_type": "code",
      "metadata": {
        "colab": {
          "base_uri": "https://localhost:8080/"
        },
        "id": "HoC9xpwTaHtU",
        "outputId": "0b50b911-481b-4ca9-97c3-352a22863252"
      },
      "source": [
        "val_list = df_val[\"input\"].tolist()\n",
        "for inp in val_list:\n",
        "    print(f\"Input: {inp}\")\n",
        "    genSample(\n",
        "        topics = inp, \n",
        "        min_length = 50, \n",
        "        max_length = 500, \n",
        "        rep_penalty = 1.5, \n",
        "        temp = 0.9, \n",
        "        top_k = 50,\n",
        "        top_p = 1.0, \n",
        "        already_formatted = True\n",
        "    )\n",
        "    print(\"\\n\\n\")"
      ],
      "execution_count": 199,
      "outputs": [
        {
          "output_type": "stream",
          "text": [
            "Input: poemify: devil curse, pity peace, reapd grain, mown hay, heavy rain, poor, miseries, heavens, happy, worlds, springing, singing\n",
            "The rains are coming;\n",
            "And heavens have long been happy:\n",
            "Whose world was ruined by the devil curse,\n",
            "Too heavy in rain and snow.\n",
            "Nobody had springing to sing!\n",
            "No one shall sing more of their miseries.\n",
            "No man who singth is so happy as to kiss.\n",
            "He will not leave with a devil curse\n",
            "\n",
            "\n",
            "\n",
            "Input: poemify: cheerful homage, frighted sheep, standing pools, sov'reign pow, journey lay, ev'ry mountain, deep divides, deep divide, tremble, hand, fright, adore, word, tyrant, tribes\n",
            "The day comes to her;\n",
            "And she has heard the words,\n",
            "And hath heard the tyrant say:\n",
            "They have learned the word,\n",
            "The way of thee not.\n",
            "Then had she come and said, \"No more!\"\n",
            "\"You were a tyrant.\"\n",
            "\"No more shall we go?\"\n",
            "\"Be at hand, be by me!\"\n",
            "\"Beatle on the deep divides,\n",
            "Sov'reign pow!\"\n",
            "\"No more shall we go?\n",
            "To cross the river,-\n",
            "No more will we reach.\n",
            "\"But all our journey lie;\n",
            "We must dare to cross the river\n",
            "\n",
            "\n",
            "\n",
            "Input: poemify: vanishing eyes, trailing purple, sweeter music, silent grow, shining fronts, visions, splendours, satisfaction, free, dreams\n",
            "The day is free;\n",
            "O dream that has vanished -\n",
            "And the day is sweeter music -\n",
            "Who hath kept his eyes alight,\n",
            "And dreams of long gone splendours -\n",
            "And the night is less silent grow.\n",
            "Or fading blue lips, and dark pale glistening rays,\n",
            "Who walk with vanishing eyes -\n",
            "They pass not so often in sight from behind\n",
            "So soon they fade to trailing purple\n",
            "At the end of the night\n",
            "To be full of wonders no more\n",
            "Forever still we are free -\n",
            "Through shining fronts that sing their words backward,\n",
            "They wake all for joy by delight:\n",
            "Feels like a whisper as if they ever did cry\n",
            "\n",
            "\n",
            "\n",
            "Input: poemify: warm wind, sunless hours, russian snows, nipping day, expansive time, drowsy birds, biting day, warmth, truth, curious\n",
            "The day is chilly, the rain is soft and long;\n",
            "Though the day is warm, the warmth of the bush is good.\n",
            "Sons are curious about the winter's snows:\n",
            "The biting day is hot and cold;\n",
            "But the drowsy birds do not follow.\n",
            "Thou understandest not that this is the best time to hear\n",
            "The warm wind from the hills...\n",
            "And the sunless hours that we have spent there?\n",
            "The hive of the night is far out of town,\n",
            "In the mountains no more than seven days still like snow\n",
            "\n",
            "\n",
            "\n",
            "Input: poemify: slow dark, dark hours, weak, friend, darkness, comfort, wayfarers, up-hill, travel-sore, standing\n",
            "The day is slow dark, for you and I have gone -\n",
            "And yet you are weak -\n",
            "For you and I have driven - the journey's so much -\n",
            "And you know how to go -\n",
            "You are not alone - and you are no friend.\n",
            "Will you please me when something new shows up -\n",
            "For you my friend? be patient or weak & find them -\n",
            "Slow dark hours in the darkness,\n",
            "When wayfarers rush on down-hill\n",
            "I am no friend of yours\n",
            "\n",
            "\n",
            "\n"
          ],
          "name": "stdout"
        }
      ]
    },
    {
      "cell_type": "code",
      "metadata": {
        "colab": {
          "base_uri": "https://localhost:8080/"
        },
        "id": "8EN1d2xYg0Fu",
        "outputId": "c3fe6dd7-701d-4d4a-cd6a-72dd5239eeae"
      },
      "source": [
        "for inp in val_list:\n",
        "    print(f\"Input: {inp}\")\n",
        "    genBeam(\n",
        "        topics = inp,\n",
        "        min_length = 50,\n",
        "        max_length = 500,\n",
        "        rep_penalty = 1.5, \n",
        "        n_beams = 8, \n",
        "        no_repeat_ngram_size = 3, \n",
        "        already_formatted = True\n",
        "    )\n",
        "    print(\"\\n\\n\")"
      ],
      "execution_count": 198,
      "outputs": [
        {
          "output_type": "stream",
          "text": [
            "Input: poemify: devil curse, pity peace, reapd grain, mown hay, heavy rain, poor, miseries, heavens, happy, worlds, springing, singing\n",
            "There is a devil curse on earth,\n",
            "And heavens are happy with springing rain.\n",
            "There is no heavy rain on earth;\n",
            "But pity peace in heavens.\n",
            "It is the devil's curse,\n",
            "The reapd grain, the mown hay,\n",
            "All the miseries of the worlds;\n",
            "And there is no devil to curse.\n",
            "No devil can curse thee,\n",
            "Nor doth he curse me\n",
            "\n",
            "\n",
            "\n",
            "Input: poemify: cheerful homage, frighted sheep, standing pools, sov'reign pow, journey lay, ev'ry mountain, deep divides, deep divide, tremble, hand, fright, adore, word, tyrant, tribes\n",
            "O tyrant of the tribes!\n",
            "O lord of the nations!\n",
            "Which wilt thou adore?\n",
            "Have you not heard thee?\n",
            "Would you not hear thee speak?\n",
            "Are you not listening to me?\n",
            "Did you know what I am saying?\n",
            "Yet did you not know that I am speaking?\n",
            "It was a joyful homage,\n",
            "And a sov'reign pow!\n",
            "Then came the journey lay in the deep divides,\n",
            "Where the frighted sheep are standing pools\n",
            "\n",
            "\n",
            "\n",
            "Input: poemify: vanishing eyes, trailing purple, sweeter music, silent grow, shining fronts, visions, splendours, satisfaction, free, dreams\n",
            "O sweeter music, O vanishing eyes,\n",
            "O shining fronts of splendours.\n",
            "O sweeter visions, O silent grow!\n",
            "O dreamers, O dreams! O dreamers!\n",
            "It's like a trailing purple;\n",
            "And it's as if it were a ghost\n",
            "Of a thousand years ago.\n",
            "Oh, what a sweeter song!\n",
            "That's all I can say to thee:\n",
            "As if I were an angel\n",
            "\n",
            "\n",
            "\n",
            "Input: poemify: warm wind, sunless hours, russian snows, nipping day, expansive time, drowsy birds, biting day, warmth, truth, curious\n",
            "The nipping day is over,\n",
            "And the drowsy birds are biting day.\n",
            "The warm wind is blowing,\n",
            "The sunless hours are short,\n",
            "But the truth is that I am curious.\n",
            "It is a chilly day,\n",
            "In expansive time and in warmth.\n",
            "Are you curious about the truth?\n",
            "You may be curious about it.\n",
            "You might be curious to know\n",
            "What it is like to be swept away,\n",
            "By a warm wind or by a cold winter's snows\n",
            "\n",
            "\n",
            "\n",
            "Input: poemify: slow dark, dark hours, weak, friend, darkness, comfort, wayfarers, up-hill, travel-sore, standing\n",
            "There is a slow dark hour in the air,\n",
            "And I am weak in my friend's arms.\n",
            "I stand alone in the slow dark hours,\n",
            "Slow dark hours in the dark hours;\n",
            "There is no travel-sore of comfort for me,\n",
            "But I am strong in my heart.\n",
            "The wayfarers are gone, and I am gone\n",
            "\n",
            "\n",
            "\n"
          ],
          "name": "stdout"
        }
      ]
    },
    {
      "cell_type": "code",
      "metadata": {
        "colab": {
          "base_uri": "https://localhost:8080/"
        },
        "id": "YdCgGv4aw5gp",
        "outputId": "4a69e0b3-38ff-41e8-c380-28953fda2560"
      },
      "source": [
        "gen = genSample(\n",
        "    topics = [\"frosty white\", \"candy cane\", \"jolly carols\", \"celebration\", \"gingerbread\", \"mistletoe\", \"snowflakes\"], \n",
        "    min_length = 50, \n",
        "    max_length = 500, \n",
        "    rep_penalty = 1.5,\n",
        "    temp = 0.9,\n",
        "    top_k = 50,\n",
        "    top_p = 1, \n",
        "    already_formatted = False\n",
        ")"
      ],
      "execution_count": 195,
      "outputs": [
        {
          "output_type": "stream",
          "text": [
            "The day is a frosty white!\n",
            "What if the snowflakes had fallen on the tree?\n",
            "Who cares but to look at the Christmas celebration?\n",
            "None could help but wonder,\n",
            "That was the day of the jolly carols.\n",
            "And twigs in the mistletoe were flying off.\n",
            "It seemed to me that I was wearing it:\n",
            "And then all my jolly carols were falling;\n",
            "And now I sing with joy\n",
            "When I heard the gingerbread man and gingerbread-\n",
            "No sugar canon...No candy Cane\n"
          ],
          "name": "stdout"
        }
      ]
    },
    {
      "cell_type": "code",
      "metadata": {
        "colab": {
          "base_uri": "https://localhost:8080/"
        },
        "id": "H5Q0wzeC6ALx",
        "outputId": "6d2a23c5-18a5-4a33-805a-9296adaa6f94"
      },
      "source": [
        "gen = genSample(\n",
        "    topics = [\"dark woods\", \"weeping river\", \"full moon\", \"freezing air\", \"vengeance\"],\n",
        "    min_length = 50, \n",
        "    max_length = 500, \n",
        "    rep_penalty = 1.5, \n",
        "    temp = 0.9, \n",
        "    top_k = 50, \n",
        "    top_p = 1, \n",
        "    already_formatted = False\n",
        ")"
      ],
      "execution_count": 197,
      "outputs": [
        {
          "output_type": "stream",
          "text": [
            "The day is coming;\n",
            "O you, the poet!\n",
            "Sweet and warm in the dark woods of the Alps.\n",
            "Are you going with me? I'll be gone to bed:\n",
            "I'll fly away to a full moon.\n",
            "O you, Lord! my days are over.\n",
            "O king! your days are long since done.\n",
            "And yet I hope to return here.\n",
            "Or may one day that for us would be gone forever.\n",
            "When we turn from dark wood or night into vengeance,\n",
            "When the full moon comes out like a snow-blue mountain,\n",
            "Weeping river before the full moon\n"
          ],
          "name": "stdout"
        }
      ]
    },
    {
      "cell_type": "markdown",
      "metadata": {
        "id": "yfaNKFrtQ7bs"
      },
      "source": [
        "## Prevent Colab Timeout\n",
        "After setting the model on training, use inject the following JS code into the console to prevent losing connection after 90 mins. This code keeps adding new cells every 30 mins, so make sure to select the last cell before injection, after training, delete all these cells manually.\n",
        "```javascript\n",
        "var t_interval = 1800; // In seconds, 30 mins\n",
        "function AddCell(){\n",
        "    console.log(\"Added cell\"); \n",
        "    document.querySelector(\"#toolbar-add-code\").click() \n",
        "}\n",
        "setInterval(AddCell, t_interval*1000); // this is in ms, thus multiplied by 1000 \n",
        "```"
      ]
    },
    {
      "cell_type": "code",
      "metadata": {
        "id": "ZVUcIxhlrXSM"
      },
      "source": [
        ""
      ],
      "execution_count": 196,
      "outputs": []
    }
  ]
}